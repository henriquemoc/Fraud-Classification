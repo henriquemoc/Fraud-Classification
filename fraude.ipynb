{
  "nbformat": 4,
  "nbformat_minor": 5,
  "metadata": {
    "kernelspec": {
      "display_name": "Python 3",
      "language": "python",
      "name": "python3"
    },
    "language_info": {
      "codemirror_mode": {
        "name": "ipython",
        "version": 3
      },
      "file_extension": ".py",
      "mimetype": "text/x-python",
      "name": "python",
      "nbconvert_exporter": "python",
      "pygments_lexer": "ipython3",
      "version": "3.9.5"
    },
    "colab": {
      "name": "fraude.ipynb",
      "provenance": [],
      "collapsed_sections": []
    }
  },
  "cells": [
    {
      "cell_type": "code",
      "metadata": {
        "id": "17ad1d4b-8225-4112-a077-af6ed4ef588c"
      },
      "source": [
        "import os\n",
        "import pandas as pd\n",
        "import numpy as np\n",
        "import matplotlib.pyplot as plt\n",
        "import seaborn as sns\n",
        "\n",
        "%matplotlib inline"
      ],
      "id": "17ad1d4b-8225-4112-a077-af6ed4ef588c",
      "execution_count": 178,
      "outputs": []
    },
    {
      "cell_type": "code",
      "metadata": {
        "id": "0kSVznlOo4iS"
      },
      "source": [
        "plt.rcParams[\"figure.figsize\"] = (16,10)"
      ],
      "id": "0kSVznlOo4iS",
      "execution_count": 179,
      "outputs": []
    },
    {
      "cell_type": "markdown",
      "metadata": {
        "id": "j36Hh_DWsllz"
      },
      "source": [
        "# 0 - Baixar dataset"
      ],
      "id": "j36Hh_DWsllz"
    },
    {
      "cell_type": "markdown",
      "metadata": {
        "id": "RJxGT67Qt9cK"
      },
      "source": [
        "**Dataset (Henrique B.)**"
      ],
      "id": "RJxGT67Qt9cK"
    },
    {
      "cell_type": "code",
      "metadata": {
        "id": "c56b7ffa-3ea9-469f-a18a-e6d4a9f2c4ff"
      },
      "source": [
        "notebook_path = os.path.abspath(\"fraude.ipynb\")\n",
        "notebook_dir = os.path.dirname(notebook_path)\n",
        "dataset_path = f'{notebook_dir}/fraude.csv'"
      ],
      "id": "c56b7ffa-3ea9-469f-a18a-e6d4a9f2c4ff",
      "execution_count": 180,
      "outputs": []
    },
    {
      "cell_type": "markdown",
      "metadata": {
        "id": "_mlMwAokX69-"
      },
      "source": [
        "**Baixar dataset (Henrique M.) - por kaggle.json**"
      ],
      "id": "_mlMwAokX69-"
    },
    {
      "cell_type": "code",
      "metadata": {
        "colab": {
          "base_uri": "https://localhost:8080/"
        },
        "id": "nIWpALf5YIBG",
        "outputId": "7494679c-ca34-496f-a1d9-1e6daaaad2fd"
      },
      "source": [
        "from google.colab import drive\n",
        "drive.mount('/content/drive')"
      ],
      "id": "nIWpALf5YIBG",
      "execution_count": 181,
      "outputs": [
        {
          "output_type": "stream",
          "text": [
            "Drive already mounted at /content/drive; to attempt to forcibly remount, call drive.mount(\"/content/drive\", force_remount=True).\n"
          ],
          "name": "stdout"
        }
      ]
    },
    {
      "cell_type": "code",
      "metadata": {
        "id": "x7doDnYGYt7K"
      },
      "source": [
        "os.environ['KAGGLE_CONFIG_DIR'] = \"/content/drive/MyDrive/Kaggle\""
      ],
      "id": "x7doDnYGYt7K",
      "execution_count": 182,
      "outputs": []
    },
    {
      "cell_type": "code",
      "metadata": {
        "colab": {
          "base_uri": "https://localhost:8080/"
        },
        "id": "0ImVeBg9YWVW",
        "outputId": "aa2a45f9-134c-4364-e4e0-994121e123a0"
      },
      "source": [
        "%cd /content/drive/MyDrive/Kaggle"
      ],
      "id": "0ImVeBg9YWVW",
      "execution_count": 183,
      "outputs": [
        {
          "output_type": "stream",
          "text": [
            "/content/drive/MyDrive/Kaggle\n"
          ],
          "name": "stdout"
        }
      ]
    },
    {
      "cell_type": "code",
      "metadata": {
        "colab": {
          "base_uri": "https://localhost:8080/"
        },
        "id": "scL-8XnsYXJA",
        "outputId": "f983a7ef-c864-4b96-a197-823f8e86c205"
      },
      "source": [
        "!kaggle datasets download -d ealaxi/paysim1"
      ],
      "id": "scL-8XnsYXJA",
      "execution_count": 184,
      "outputs": [
        {
          "output_type": "stream",
          "text": [
            "paysim1.zip: Skipping, found more recently modified local copy (use --force to force download)\n"
          ],
          "name": "stdout"
        }
      ]
    },
    {
      "cell_type": "code",
      "metadata": {
        "colab": {
          "base_uri": "https://localhost:8080/"
        },
        "id": "WoZrPFQuYbdP",
        "outputId": "abbe6b5d-f876-4a26-99bf-87bef8aa46d8"
      },
      "source": [
        "!unzip paysim1.zip"
      ],
      "id": "WoZrPFQuYbdP",
      "execution_count": 185,
      "outputs": [
        {
          "output_type": "stream",
          "text": [
            "Archive:  paysim1.zip\n",
            "  inflating: PS_20174392719_1491204439457_log.csv  \n"
          ],
          "name": "stdout"
        }
      ]
    },
    {
      "cell_type": "code",
      "metadata": {
        "colab": {
          "base_uri": "https://localhost:8080/"
        },
        "id": "DmVMQAd1YePB",
        "outputId": "c422acfd-bec7-471e-b696-57e097a06230"
      },
      "source": [
        "src = os.listdir()[2]\n",
        "os.rename(src, \"fraud.csv\")\n",
        "os.listdir()"
      ],
      "id": "DmVMQAd1YePB",
      "execution_count": 186,
      "outputs": [
        {
          "output_type": "execute_result",
          "data": {
            "text/plain": [
              "['kaggle.json',\n",
              " 'paysim1.zip',\n",
              " 'fraud.csv',\n",
              " 'PS_20174392719_1491204439457_log.csv',\n",
              " '.ipynb_checkpoints']"
            ]
          },
          "metadata": {
            "tags": []
          },
          "execution_count": 186
        }
      ]
    },
    {
      "cell_type": "code",
      "metadata": {
        "id": "wYt1W77xX7fB"
      },
      "source": [
        "dataset_path = \"fraud.csv\""
      ],
      "id": "wYt1W77xX7fB",
      "execution_count": 187,
      "outputs": []
    },
    {
      "cell_type": "markdown",
      "metadata": {
        "id": "v5Dhi2pKaFnX"
      },
      "source": [
        "Ler CSV"
      ],
      "id": "v5Dhi2pKaFnX"
    },
    {
      "cell_type": "code",
      "metadata": {
        "id": "7c59a4e1-8bee-4042-a120-86dbbe9f703c"
      },
      "source": [
        "df = pd.read_csv(dataset_path)"
      ],
      "id": "7c59a4e1-8bee-4042-a120-86dbbe9f703c",
      "execution_count": 188,
      "outputs": []
    },
    {
      "cell_type": "markdown",
      "metadata": {
        "id": "FAuz0SNzcrs1"
      },
      "source": [
        "# 1 - Análise do Dataset"
      ],
      "id": "FAuz0SNzcrs1"
    },
    {
      "cell_type": "code",
      "metadata": {
        "colab": {
          "base_uri": "https://localhost:8080/",
          "height": 362
        },
        "id": "nkbLPE67c_ny",
        "outputId": "8ee8ebdf-293e-42f5-b67d-bbd3d2c49fbe"
      },
      "source": [
        "df.head(10)"
      ],
      "id": "nkbLPE67c_ny",
      "execution_count": 189,
      "outputs": [
        {
          "output_type": "execute_result",
          "data": {
            "text/html": [
              "<div>\n",
              "<style scoped>\n",
              "    .dataframe tbody tr th:only-of-type {\n",
              "        vertical-align: middle;\n",
              "    }\n",
              "\n",
              "    .dataframe tbody tr th {\n",
              "        vertical-align: top;\n",
              "    }\n",
              "\n",
              "    .dataframe thead th {\n",
              "        text-align: right;\n",
              "    }\n",
              "</style>\n",
              "<table border=\"1\" class=\"dataframe\">\n",
              "  <thead>\n",
              "    <tr style=\"text-align: right;\">\n",
              "      <th></th>\n",
              "      <th>step</th>\n",
              "      <th>type</th>\n",
              "      <th>amount</th>\n",
              "      <th>nameOrig</th>\n",
              "      <th>oldbalanceOrg</th>\n",
              "      <th>newbalanceOrig</th>\n",
              "      <th>nameDest</th>\n",
              "      <th>oldbalanceDest</th>\n",
              "      <th>newbalanceDest</th>\n",
              "      <th>isFraud</th>\n",
              "      <th>isFlaggedFraud</th>\n",
              "    </tr>\n",
              "  </thead>\n",
              "  <tbody>\n",
              "    <tr>\n",
              "      <th>0</th>\n",
              "      <td>1</td>\n",
              "      <td>PAYMENT</td>\n",
              "      <td>9839.64</td>\n",
              "      <td>C1231006815</td>\n",
              "      <td>170136.00</td>\n",
              "      <td>160296.36</td>\n",
              "      <td>M1979787155</td>\n",
              "      <td>0.0</td>\n",
              "      <td>0.00</td>\n",
              "      <td>0</td>\n",
              "      <td>0</td>\n",
              "    </tr>\n",
              "    <tr>\n",
              "      <th>1</th>\n",
              "      <td>1</td>\n",
              "      <td>PAYMENT</td>\n",
              "      <td>1864.28</td>\n",
              "      <td>C1666544295</td>\n",
              "      <td>21249.00</td>\n",
              "      <td>19384.72</td>\n",
              "      <td>M2044282225</td>\n",
              "      <td>0.0</td>\n",
              "      <td>0.00</td>\n",
              "      <td>0</td>\n",
              "      <td>0</td>\n",
              "    </tr>\n",
              "    <tr>\n",
              "      <th>2</th>\n",
              "      <td>1</td>\n",
              "      <td>TRANSFER</td>\n",
              "      <td>181.00</td>\n",
              "      <td>C1305486145</td>\n",
              "      <td>181.00</td>\n",
              "      <td>0.00</td>\n",
              "      <td>C553264065</td>\n",
              "      <td>0.0</td>\n",
              "      <td>0.00</td>\n",
              "      <td>1</td>\n",
              "      <td>0</td>\n",
              "    </tr>\n",
              "    <tr>\n",
              "      <th>3</th>\n",
              "      <td>1</td>\n",
              "      <td>CASH_OUT</td>\n",
              "      <td>181.00</td>\n",
              "      <td>C840083671</td>\n",
              "      <td>181.00</td>\n",
              "      <td>0.00</td>\n",
              "      <td>C38997010</td>\n",
              "      <td>21182.0</td>\n",
              "      <td>0.00</td>\n",
              "      <td>1</td>\n",
              "      <td>0</td>\n",
              "    </tr>\n",
              "    <tr>\n",
              "      <th>4</th>\n",
              "      <td>1</td>\n",
              "      <td>PAYMENT</td>\n",
              "      <td>11668.14</td>\n",
              "      <td>C2048537720</td>\n",
              "      <td>41554.00</td>\n",
              "      <td>29885.86</td>\n",
              "      <td>M1230701703</td>\n",
              "      <td>0.0</td>\n",
              "      <td>0.00</td>\n",
              "      <td>0</td>\n",
              "      <td>0</td>\n",
              "    </tr>\n",
              "    <tr>\n",
              "      <th>5</th>\n",
              "      <td>1</td>\n",
              "      <td>PAYMENT</td>\n",
              "      <td>7817.71</td>\n",
              "      <td>C90045638</td>\n",
              "      <td>53860.00</td>\n",
              "      <td>46042.29</td>\n",
              "      <td>M573487274</td>\n",
              "      <td>0.0</td>\n",
              "      <td>0.00</td>\n",
              "      <td>0</td>\n",
              "      <td>0</td>\n",
              "    </tr>\n",
              "    <tr>\n",
              "      <th>6</th>\n",
              "      <td>1</td>\n",
              "      <td>PAYMENT</td>\n",
              "      <td>7107.77</td>\n",
              "      <td>C154988899</td>\n",
              "      <td>183195.00</td>\n",
              "      <td>176087.23</td>\n",
              "      <td>M408069119</td>\n",
              "      <td>0.0</td>\n",
              "      <td>0.00</td>\n",
              "      <td>0</td>\n",
              "      <td>0</td>\n",
              "    </tr>\n",
              "    <tr>\n",
              "      <th>7</th>\n",
              "      <td>1</td>\n",
              "      <td>PAYMENT</td>\n",
              "      <td>7861.64</td>\n",
              "      <td>C1912850431</td>\n",
              "      <td>176087.23</td>\n",
              "      <td>168225.59</td>\n",
              "      <td>M633326333</td>\n",
              "      <td>0.0</td>\n",
              "      <td>0.00</td>\n",
              "      <td>0</td>\n",
              "      <td>0</td>\n",
              "    </tr>\n",
              "    <tr>\n",
              "      <th>8</th>\n",
              "      <td>1</td>\n",
              "      <td>PAYMENT</td>\n",
              "      <td>4024.36</td>\n",
              "      <td>C1265012928</td>\n",
              "      <td>2671.00</td>\n",
              "      <td>0.00</td>\n",
              "      <td>M1176932104</td>\n",
              "      <td>0.0</td>\n",
              "      <td>0.00</td>\n",
              "      <td>0</td>\n",
              "      <td>0</td>\n",
              "    </tr>\n",
              "    <tr>\n",
              "      <th>9</th>\n",
              "      <td>1</td>\n",
              "      <td>DEBIT</td>\n",
              "      <td>5337.77</td>\n",
              "      <td>C712410124</td>\n",
              "      <td>41720.00</td>\n",
              "      <td>36382.23</td>\n",
              "      <td>C195600860</td>\n",
              "      <td>41898.0</td>\n",
              "      <td>40348.79</td>\n",
              "      <td>0</td>\n",
              "      <td>0</td>\n",
              "    </tr>\n",
              "  </tbody>\n",
              "</table>\n",
              "</div>"
            ],
            "text/plain": [
              "   step      type    amount  ... newbalanceDest  isFraud  isFlaggedFraud\n",
              "0     1   PAYMENT   9839.64  ...           0.00        0               0\n",
              "1     1   PAYMENT   1864.28  ...           0.00        0               0\n",
              "2     1  TRANSFER    181.00  ...           0.00        1               0\n",
              "3     1  CASH_OUT    181.00  ...           0.00        1               0\n",
              "4     1   PAYMENT  11668.14  ...           0.00        0               0\n",
              "5     1   PAYMENT   7817.71  ...           0.00        0               0\n",
              "6     1   PAYMENT   7107.77  ...           0.00        0               0\n",
              "7     1   PAYMENT   7861.64  ...           0.00        0               0\n",
              "8     1   PAYMENT   4024.36  ...           0.00        0               0\n",
              "9     1     DEBIT   5337.77  ...       40348.79        0               0\n",
              "\n",
              "[10 rows x 11 columns]"
            ]
          },
          "metadata": {
            "tags": []
          },
          "execution_count": 189
        }
      ]
    },
    {
      "cell_type": "code",
      "metadata": {
        "colab": {
          "base_uri": "https://localhost:8080/"
        },
        "id": "FGmqxcYifcDR",
        "outputId": "abc6b3b5-6515-4e61-d131-805fbb123b50"
      },
      "source": [
        "df.shape"
      ],
      "id": "FGmqxcYifcDR",
      "execution_count": 190,
      "outputs": [
        {
          "output_type": "execute_result",
          "data": {
            "text/plain": [
              "(6362620, 11)"
            ]
          },
          "metadata": {
            "tags": []
          },
          "execution_count": 190
        }
      ]
    },
    {
      "cell_type": "code",
      "metadata": {
        "colab": {
          "base_uri": "https://localhost:8080/",
          "height": 299
        },
        "id": "487d3fdd-eec5-4e36-83a6-9680988c3122",
        "outputId": "6d332e06-803f-4db6-cba5-5918cb64d6fd"
      },
      "source": [
        "df.describe()"
      ],
      "id": "487d3fdd-eec5-4e36-83a6-9680988c3122",
      "execution_count": 191,
      "outputs": [
        {
          "output_type": "execute_result",
          "data": {
            "text/html": [
              "<div>\n",
              "<style scoped>\n",
              "    .dataframe tbody tr th:only-of-type {\n",
              "        vertical-align: middle;\n",
              "    }\n",
              "\n",
              "    .dataframe tbody tr th {\n",
              "        vertical-align: top;\n",
              "    }\n",
              "\n",
              "    .dataframe thead th {\n",
              "        text-align: right;\n",
              "    }\n",
              "</style>\n",
              "<table border=\"1\" class=\"dataframe\">\n",
              "  <thead>\n",
              "    <tr style=\"text-align: right;\">\n",
              "      <th></th>\n",
              "      <th>step</th>\n",
              "      <th>amount</th>\n",
              "      <th>oldbalanceOrg</th>\n",
              "      <th>newbalanceOrig</th>\n",
              "      <th>oldbalanceDest</th>\n",
              "      <th>newbalanceDest</th>\n",
              "      <th>isFraud</th>\n",
              "      <th>isFlaggedFraud</th>\n",
              "    </tr>\n",
              "  </thead>\n",
              "  <tbody>\n",
              "    <tr>\n",
              "      <th>count</th>\n",
              "      <td>6.362620e+06</td>\n",
              "      <td>6.362620e+06</td>\n",
              "      <td>6.362620e+06</td>\n",
              "      <td>6.362620e+06</td>\n",
              "      <td>6.362620e+06</td>\n",
              "      <td>6.362620e+06</td>\n",
              "      <td>6.362620e+06</td>\n",
              "      <td>6.362620e+06</td>\n",
              "    </tr>\n",
              "    <tr>\n",
              "      <th>mean</th>\n",
              "      <td>2.433972e+02</td>\n",
              "      <td>1.798619e+05</td>\n",
              "      <td>8.338831e+05</td>\n",
              "      <td>8.551137e+05</td>\n",
              "      <td>1.100702e+06</td>\n",
              "      <td>1.224996e+06</td>\n",
              "      <td>1.290820e-03</td>\n",
              "      <td>2.514687e-06</td>\n",
              "    </tr>\n",
              "    <tr>\n",
              "      <th>std</th>\n",
              "      <td>1.423320e+02</td>\n",
              "      <td>6.038582e+05</td>\n",
              "      <td>2.888243e+06</td>\n",
              "      <td>2.924049e+06</td>\n",
              "      <td>3.399180e+06</td>\n",
              "      <td>3.674129e+06</td>\n",
              "      <td>3.590480e-02</td>\n",
              "      <td>1.585775e-03</td>\n",
              "    </tr>\n",
              "    <tr>\n",
              "      <th>min</th>\n",
              "      <td>1.000000e+00</td>\n",
              "      <td>0.000000e+00</td>\n",
              "      <td>0.000000e+00</td>\n",
              "      <td>0.000000e+00</td>\n",
              "      <td>0.000000e+00</td>\n",
              "      <td>0.000000e+00</td>\n",
              "      <td>0.000000e+00</td>\n",
              "      <td>0.000000e+00</td>\n",
              "    </tr>\n",
              "    <tr>\n",
              "      <th>25%</th>\n",
              "      <td>1.560000e+02</td>\n",
              "      <td>1.338957e+04</td>\n",
              "      <td>0.000000e+00</td>\n",
              "      <td>0.000000e+00</td>\n",
              "      <td>0.000000e+00</td>\n",
              "      <td>0.000000e+00</td>\n",
              "      <td>0.000000e+00</td>\n",
              "      <td>0.000000e+00</td>\n",
              "    </tr>\n",
              "    <tr>\n",
              "      <th>50%</th>\n",
              "      <td>2.390000e+02</td>\n",
              "      <td>7.487194e+04</td>\n",
              "      <td>1.420800e+04</td>\n",
              "      <td>0.000000e+00</td>\n",
              "      <td>1.327057e+05</td>\n",
              "      <td>2.146614e+05</td>\n",
              "      <td>0.000000e+00</td>\n",
              "      <td>0.000000e+00</td>\n",
              "    </tr>\n",
              "    <tr>\n",
              "      <th>75%</th>\n",
              "      <td>3.350000e+02</td>\n",
              "      <td>2.087215e+05</td>\n",
              "      <td>1.073152e+05</td>\n",
              "      <td>1.442584e+05</td>\n",
              "      <td>9.430367e+05</td>\n",
              "      <td>1.111909e+06</td>\n",
              "      <td>0.000000e+00</td>\n",
              "      <td>0.000000e+00</td>\n",
              "    </tr>\n",
              "    <tr>\n",
              "      <th>max</th>\n",
              "      <td>7.430000e+02</td>\n",
              "      <td>9.244552e+07</td>\n",
              "      <td>5.958504e+07</td>\n",
              "      <td>4.958504e+07</td>\n",
              "      <td>3.560159e+08</td>\n",
              "      <td>3.561793e+08</td>\n",
              "      <td>1.000000e+00</td>\n",
              "      <td>1.000000e+00</td>\n",
              "    </tr>\n",
              "  </tbody>\n",
              "</table>\n",
              "</div>"
            ],
            "text/plain": [
              "               step        amount  ...       isFraud  isFlaggedFraud\n",
              "count  6.362620e+06  6.362620e+06  ...  6.362620e+06    6.362620e+06\n",
              "mean   2.433972e+02  1.798619e+05  ...  1.290820e-03    2.514687e-06\n",
              "std    1.423320e+02  6.038582e+05  ...  3.590480e-02    1.585775e-03\n",
              "min    1.000000e+00  0.000000e+00  ...  0.000000e+00    0.000000e+00\n",
              "25%    1.560000e+02  1.338957e+04  ...  0.000000e+00    0.000000e+00\n",
              "50%    2.390000e+02  7.487194e+04  ...  0.000000e+00    0.000000e+00\n",
              "75%    3.350000e+02  2.087215e+05  ...  0.000000e+00    0.000000e+00\n",
              "max    7.430000e+02  9.244552e+07  ...  1.000000e+00    1.000000e+00\n",
              "\n",
              "[8 rows x 8 columns]"
            ]
          },
          "metadata": {
            "tags": []
          },
          "execution_count": 191
        }
      ]
    },
    {
      "cell_type": "code",
      "metadata": {
        "colab": {
          "base_uri": "https://localhost:8080/"
        },
        "id": "kvpGre5SZCzR",
        "outputId": "844f501a-6797-4fea-ba65-2d8eb52fc80c"
      },
      "source": [
        "df.info()"
      ],
      "id": "kvpGre5SZCzR",
      "execution_count": 192,
      "outputs": [
        {
          "output_type": "stream",
          "text": [
            "<class 'pandas.core.frame.DataFrame'>\n",
            "RangeIndex: 6362620 entries, 0 to 6362619\n",
            "Data columns (total 11 columns):\n",
            " #   Column          Dtype  \n",
            "---  ------          -----  \n",
            " 0   step            int64  \n",
            " 1   type            object \n",
            " 2   amount          float64\n",
            " 3   nameOrig        object \n",
            " 4   oldbalanceOrg   float64\n",
            " 5   newbalanceOrig  float64\n",
            " 6   nameDest        object \n",
            " 7   oldbalanceDest  float64\n",
            " 8   newbalanceDest  float64\n",
            " 9   isFraud         int64  \n",
            " 10  isFlaggedFraud  int64  \n",
            "dtypes: float64(5), int64(3), object(3)\n",
            "memory usage: 534.0+ MB\n"
          ],
          "name": "stdout"
        }
      ]
    },
    {
      "cell_type": "markdown",
      "metadata": {
        "id": "eH9At61vaPru"
      },
      "source": [
        "**1.1 - Verificando nulos**"
      ],
      "id": "eH9At61vaPru"
    },
    {
      "cell_type": "code",
      "metadata": {
        "colab": {
          "base_uri": "https://localhost:8080/"
        },
        "id": "881ec7fd-5c7f-44be-a549-af2d2fcd9227",
        "outputId": "890ceec9-30c7-4cbe-d464-5fdd2224eaa4"
      },
      "source": [
        "df.isnull().sum()"
      ],
      "id": "881ec7fd-5c7f-44be-a549-af2d2fcd9227",
      "execution_count": 193,
      "outputs": [
        {
          "output_type": "execute_result",
          "data": {
            "text/plain": [
              "step              0\n",
              "type              0\n",
              "amount            0\n",
              "nameOrig          0\n",
              "oldbalanceOrg     0\n",
              "newbalanceOrig    0\n",
              "nameDest          0\n",
              "oldbalanceDest    0\n",
              "newbalanceDest    0\n",
              "isFraud           0\n",
              "isFlaggedFraud    0\n",
              "dtype: int64"
            ]
          },
          "metadata": {
            "tags": []
          },
          "execution_count": 193
        }
      ]
    },
    {
      "cell_type": "markdown",
      "metadata": {
        "id": "nu5HiK_jiVEL"
      },
      "source": [
        "**1.2 - Tirando linhas duplicadas**"
      ],
      "id": "nu5HiK_jiVEL"
    },
    {
      "cell_type": "code",
      "metadata": {
        "id": "PWmWqfy9iSVu"
      },
      "source": [
        "df.drop_duplicates(inplace=True)"
      ],
      "id": "PWmWqfy9iSVu",
      "execution_count": 194,
      "outputs": []
    },
    {
      "cell_type": "code",
      "metadata": {
        "colab": {
          "base_uri": "https://localhost:8080/"
        },
        "id": "qo0W7FwiihfX",
        "outputId": "130ac0f2-a9fd-42cb-e257-d0f82faeff3a"
      },
      "source": [
        "df.shape"
      ],
      "id": "qo0W7FwiihfX",
      "execution_count": 195,
      "outputs": [
        {
          "output_type": "execute_result",
          "data": {
            "text/plain": [
              "(6362620, 11)"
            ]
          },
          "metadata": {
            "tags": []
          },
          "execution_count": 195
        }
      ]
    },
    {
      "cell_type": "markdown",
      "metadata": {
        "id": "D4exCt_7dG4E"
      },
      "source": [
        "**1.3 - Visualizar variáveis categóricas**"
      ],
      "id": "D4exCt_7dG4E"
    },
    {
      "cell_type": "code",
      "metadata": {
        "colab": {
          "base_uri": "https://localhost:8080/"
        },
        "id": "KbSmNbo6ZX9i",
        "outputId": "46ca4ac3-4049-4ae1-d776-3939299b7076"
      },
      "source": [
        "df[\"type\"].unique()"
      ],
      "id": "KbSmNbo6ZX9i",
      "execution_count": 196,
      "outputs": [
        {
          "output_type": "execute_result",
          "data": {
            "text/plain": [
              "array(['PAYMENT', 'TRANSFER', 'CASH_OUT', 'DEBIT', 'CASH_IN'],\n",
              "      dtype=object)"
            ]
          },
          "metadata": {
            "tags": []
          },
          "execution_count": 196
        }
      ]
    },
    {
      "cell_type": "code",
      "metadata": {
        "colab": {
          "base_uri": "https://localhost:8080/"
        },
        "id": "EJoZkjD3itQY",
        "outputId": "c641e155-2975-4b77-98a8-78d0def36314"
      },
      "source": [
        "df[\"type\"].value_counts()"
      ],
      "id": "EJoZkjD3itQY",
      "execution_count": 197,
      "outputs": [
        {
          "output_type": "execute_result",
          "data": {
            "text/plain": [
              "CASH_OUT    2237500\n",
              "PAYMENT     2151495\n",
              "CASH_IN     1399284\n",
              "TRANSFER     532909\n",
              "DEBIT         41432\n",
              "Name: type, dtype: int64"
            ]
          },
          "metadata": {
            "tags": []
          },
          "execution_count": 197
        }
      ]
    },
    {
      "cell_type": "code",
      "metadata": {
        "colab": {
          "base_uri": "https://localhost:8080/",
          "height": 617
        },
        "id": "FXCwYZhHi4Wc",
        "outputId": "1d37b345-0026-4d9b-aff7-c6b2e618c94d"
      },
      "source": [
        "sns.countplot(x=df[\"type\"]);"
      ],
      "id": "FXCwYZhHi4Wc",
      "execution_count": 198,
      "outputs": [
        {
          "output_type": "display_data",
          "data": {
            "image/png": "[encoded data removed]",
            "text/plain": [
              "<Figure size 1152x720 with 1 Axes>"
            ]
          },
          "metadata": {
            "tags": [],
            "needs_background": "light"
          }
        }
      ]
    },
    {
      "cell_type": "code",
      "metadata": {
        "colab": {
          "base_uri": "https://localhost:8080/"
        },
        "id": "7KwfFXWiddXe",
        "outputId": "ae3de0e6-4ee7-40ec-9851-409288a0bcf9"
      },
      "source": [
        "alfabeto = [\"a\",\"b\",\"c\",\"d\",\"e\",\"f\",\"g\",\"h\",\"i\",\"j\",\"k\",\"l\",\"m\",\"n\",\"o\",\"p\",\"q\",\"r\",\"s\",\"t\",\"u\",\"v\",\"w\",\"x\",\"y\",\"z\"]\n",
        "nome_orig_dict = {}\n",
        "for i in alfabeto:\n",
        "    nome_orig_dict[i] = 0\n",
        "\n",
        "for i in df[\"nameOrig\"]:\n",
        "    inicial_nome_orig = i[0].lower()\n",
        "    nome_orig_dict[inicial_nome_orig] = nome_orig_dict[inicial_nome_orig]+1\n",
        "\n",
        "for i in nome_orig_dict:\n",
        "    if nome_orig_dict[i]!=0:\n",
        "        print(f\"{i.upper()}: {nome_orig_dict[i]}\")"
      ],
      "id": "7KwfFXWiddXe",
      "execution_count": 199,
      "outputs": [
        {
          "output_type": "stream",
          "text": [
            "C: 6362620\n"
          ],
          "name": "stdout"
        }
      ]
    },
    {
      "cell_type": "code",
      "metadata": {
        "colab": {
          "base_uri": "https://localhost:8080/"
        },
        "id": "FVayzuW6dtOO",
        "outputId": "25386078-1bd9-4fb3-c8fa-391e22e7810e"
      },
      "source": [
        "alfabeto = [\"a\",\"b\",\"c\",\"d\",\"e\",\"f\",\"g\",\"h\",\"i\",\"j\",\"k\",\"l\",\"m\",\"n\",\"o\",\"p\",\"q\",\"r\",\"s\",\"t\",\"u\",\"v\",\"w\",\"x\",\"y\",\"z\"]\n",
        "nome_dest_dict = {}\n",
        "for i in alfabeto:\n",
        "    nome_dest_dict[i] = 0\n",
        "\n",
        "for i in df[\"nameDest\"]:\n",
        "    inicial_nome_dest = i[0].lower()\n",
        "    nome_dest_dict[inicial_nome_dest] = nome_dest_dict[inicial_nome_dest]+1\n",
        "\n",
        "for i in nome_dest_dict:\n",
        "    if nome_dest_dict[i]!=0:\n",
        "        print(f\"{i.upper()}: {nome_dest_dict[i]}\")"
      ],
      "id": "FVayzuW6dtOO",
      "execution_count": 200,
      "outputs": [
        {
          "output_type": "stream",
          "text": [
            "C: 4211125\n",
            "M: 2151495\n"
          ],
          "name": "stdout"
        }
      ]
    },
    {
      "cell_type": "code",
      "metadata": {
        "colab": {
          "base_uri": "https://localhost:8080/",
          "height": 618
        },
        "id": "_8U-sXc9i_cc",
        "outputId": "46fc8307-a12e-4d7c-ab11-cc38f4d98c63"
      },
      "source": [
        "plt.bar(*zip(*nome_dest_dict.items()));\n",
        "plt.title(\"Iniciais dos nomes destino\", fontdict={'fontsize':18}, pad=12);"
      ],
      "id": "_8U-sXc9i_cc",
      "execution_count": 201,
      "outputs": [
        {
          "output_type": "display_data",
          "data": {
            "image/png": "[encoded data removed]",
            "text/plain": [
              "<Figure size 1152x720 with 1 Axes>"
            ]
          },
          "metadata": {
            "tags": [],
            "needs_background": "light"
          }
        }
      ]
    },
    {
      "cell_type": "markdown",
      "metadata": {
        "id": "WjLh8t-6ptSX"
      },
      "source": [
        "**1.4 - Visualizar variáveis numéricas**"
      ],
      "id": "WjLh8t-6ptSX"
    },
    {
      "cell_type": "code",
      "metadata": {
        "colab": {
          "base_uri": "https://localhost:8080/",
          "height": 606
        },
        "id": "GbagLqRBlD13",
        "outputId": "635f99bd-c0ea-424c-841c-49be4212ce92"
      },
      "source": [
        "plt.hist(df['amount'], bins=25);\n",
        "plt.yscale('log')\n",
        "plt.ylabel('Frequency')\n",
        "plt.xticks(range(0,int(1.05*1e8),int(5*1e6)))\n",
        "plt.xlabel('Amount');"
      ],
      "id": "GbagLqRBlD13",
      "execution_count": 202,
      "outputs": [
        {
          "output_type": "display_data",
          "data": {
            "image/png": "[encoded data removed]",
            "text/plain": [
              "<Figure size 1152x720 with 1 Axes>"
            ]
          },
          "metadata": {
            "tags": [],
            "needs_background": "light"
          }
        }
      ]
    },
    {
      "cell_type": "code",
      "metadata": {
        "colab": {
          "base_uri": "https://localhost:8080/",
          "height": 606
        },
        "id": "GbutfokWpkeo",
        "outputId": "05caa661-bf28-42d1-b527-c3ffe9a01aec"
      },
      "source": [
        "plt.hist(df['oldbalanceOrg'], bins=25);\n",
        "plt.yscale('log')\n",
        "plt.ylabel('Frequency')\n",
        "plt.xticks(range(0,int(6.5*1e7),int(5*1e6)))\n",
        "plt.xlabel('Amount');"
      ],
      "id": "GbutfokWpkeo",
      "execution_count": 203,
      "outputs": [
        {
          "output_type": "display_data",
          "data": {
            "image/png": "[encoded data removed]",
            "text/plain": [
              "<Figure size 1152x720 with 1 Axes>"
            ]
          },
          "metadata": {
            "tags": [],
            "needs_background": "light"
          }
        }
      ]
    },
    {
      "cell_type": "code",
      "metadata": {
        "colab": {
          "base_uri": "https://localhost:8080/",
          "height": 606
        },
        "id": "H46-ZaEGqFvD",
        "outputId": "15839135-1f03-47e5-b921-95611e351c15"
      },
      "source": [
        "plt.hist(df['newbalanceOrig'], bins=25);\n",
        "plt.yscale('log')\n",
        "plt.ylabel('Frequency')\n",
        "plt.xticks(range(0,int(5.5*1e7),int(5*1e6)))\n",
        "plt.xlabel('Amount');"
      ],
      "id": "H46-ZaEGqFvD",
      "execution_count": 204,
      "outputs": [
        {
          "output_type": "display_data",
          "data": {
            "image/png": "[encoded data removed]",
            "text/plain": [
              "<Figure size 1152x720 with 1 Axes>"
            ]
          },
          "metadata": {
            "tags": [],
            "needs_background": "light"
          }
        }
      ]
    },
    {
      "cell_type": "code",
      "metadata": {
        "colab": {
          "base_uri": "https://localhost:8080/",
          "height": 606
        },
        "id": "cVKAp1xqq5_L",
        "outputId": "96d8d7ec-4db7-496a-d491-9ea9bfc1e246"
      },
      "source": [
        "plt.hist(df['oldbalanceDest'], bins=25);\n",
        "plt.yscale('log')\n",
        "plt.ylabel('Frequency')\n",
        "plt.xticks(range(0,int(4.5*1e8),int(5*1e7)))\n",
        "plt.xlabel('Amount');"
      ],
      "id": "cVKAp1xqq5_L",
      "execution_count": 205,
      "outputs": [
        {
          "output_type": "display_data",
          "data": {
            "image/png": "[encoded data removed]",
            "text/plain": [
              "<Figure size 1152x720 with 1 Axes>"
            ]
          },
          "metadata": {
            "tags": [],
            "needs_background": "light"
          }
        }
      ]
    },
    {
      "cell_type": "code",
      "metadata": {
        "colab": {
          "base_uri": "https://localhost:8080/",
          "height": 606
        },
        "id": "G7CHLuZSrZvg",
        "outputId": "e684df95-9c33-4945-b1f9-40a31b73d950"
      },
      "source": [
        "plt.hist(df['newbalanceDest'], bins=25);\n",
        "plt.yscale('log')\n",
        "plt.ylabel('Frequency')\n",
        "plt.xticks(range(0,int(4.5*1e8),int(5*1e7)))\n",
        "plt.xlabel('Amount');"
      ],
      "id": "G7CHLuZSrZvg",
      "execution_count": 206,
      "outputs": [
        {
          "output_type": "display_data",
          "data": {
            "image/png": "[encoded data removed]",
            "text/plain": [
              "<Figure size 1152x720 with 1 Axes>"
            ]
          },
          "metadata": {
            "tags": [],
            "needs_background": "light"
          }
        }
      ]
    },
    {
      "cell_type": "markdown",
      "metadata": {
        "id": "ASV1gpQHpzLk"
      },
      "source": [
        "**1.5 - Matriz Correlação**"
      ],
      "id": "ASV1gpQHpzLk"
    },
    {
      "cell_type": "code",
      "metadata": {
        "colab": {
          "base_uri": "https://localhost:8080/",
          "height": 618
        },
        "id": "bzo0-FB0fhdj",
        "outputId": "8321c589-4306-472d-86ae-b190f00e2706"
      },
      "source": [
        "heatmap = sns.heatmap(df.corr(), annot=True)\n",
        "heatmap.set_title('Matriz Correlação', fontdict={'fontsize':18}, pad=12);"
      ],
      "id": "bzo0-FB0fhdj",
      "execution_count": 207,
      "outputs": [
        {
          "output_type": "display_data",
          "data": {
            "image/png": "[encoded data removed]",
            "text/plain": [
              "<Figure size 1152x720 with 2 Axes>"
            ]
          },
          "metadata": {
            "tags": [],
            "needs_background": "light"
          }
        }
      ]
    }
  ]
}