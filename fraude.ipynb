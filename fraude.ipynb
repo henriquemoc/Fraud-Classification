{
 "cells": [
  {
   "cell_type": "code",
   "execution_count": 1,
   "id": "17ad1d4b-8225-4112-a077-af6ed4ef588c",
   "metadata": {},
   "outputs": [],
   "source": [
    "import os\n",
    "import pandas as pd\n",
    "import matplotlib.pyplot as plt"
   ]
  },
  {
   "cell_type": "code",
   "execution_count": 2,
   "id": "c56b7ffa-3ea9-469f-a18a-e6d4a9f2c4ff",
   "metadata": {},
   "outputs": [],
   "source": [
    "notebook_path = os.path.abspath(\"fraude.ipynb\")\n",
    "notebook_dir = os.path.dirname(notebook_path)\n",
    "dataset_path = f'{notebook_dir}/fraude.csv'"
   ]
  },
  {
   "cell_type": "code",
   "execution_count": 3,
   "id": "7c59a4e1-8bee-4042-a120-86dbbe9f703c",
   "metadata": {},
   "outputs": [],
   "source": [
    "df = pd.read_csv(dataset_path)"
   ]
  },
  {
   "cell_type": "code",
   "execution_count": null,
   "id": "487d3fdd-eec5-4e36-83a6-9680988c3122",
   "metadata": {},
   "outputs": [],
   "source": [
    "df.describe()"
   ]
  },
  {
   "cell_type": "code",
   "execution_count": null,
   "id": "881ec7fd-5c7f-44be-a549-af2d2fcd9227",
   "metadata": {},
   "outputs": [],
   "source": []
  }
 ],
 "metadata": {
  "kernelspec": {
   "display_name": "Python 3",
   "language": "python",
   "name": "python3"
  },
  "language_info": {
   "codemirror_mode": {
    "name": "ipython",
    "version": 3
   },
   "file_extension": ".py",
   "mimetype": "text/x-python",
   "name": "python",
   "nbconvert_exporter": "python",
   "pygments_lexer": "ipython3",
   "version": "3.9.5"
  }
 },
 "nbformat": 4,
 "nbformat_minor": 5
}
