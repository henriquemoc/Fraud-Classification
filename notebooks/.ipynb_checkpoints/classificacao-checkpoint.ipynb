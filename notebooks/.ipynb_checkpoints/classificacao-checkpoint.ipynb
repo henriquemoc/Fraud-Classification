{
 "cells": [
  {
   "cell_type": "markdown",
   "metadata": {
    "id": "IedVNVTe47ho"
   },
   "source": [
    "# Importações"
   ]
  },
  {
   "cell_type": "code",
   "execution_count": 54,
   "metadata": {
    "id": "kjzAL-7B44fy"
   },
   "outputs": [],
   "source": [
    "import os\n",
    "import pickle\n",
    "import pandas as pd\n",
    "import numpy as np\n",
    "import matplotlib.pyplot as plt\n",
    "import seaborn as sns\n",
    "from scipy.stats import norm\n",
    "\n",
    "from sklearn.preprocessing import StandardScaler as Scaler\n",
    "from sklearn.preprocessing import OneHotEncoder\n",
    "from sklearn.compose import ColumnTransformer\n",
    "\n",
    "from sklearn.metrics import confusion_matrix\n",
    "from sklearn.metrics import plot_confusion_matrix\n",
    "from sklearn.metrics import accuracy_score\n",
    "from sklearn.metrics import precision_recall_fscore_support\n",
    "from sklearn.neural_network import MLPClassifier\n",
    "\n",
    "%matplotlib inline\n",
    "\n",
    "plt.rcParams[\"figure.figsize\"] = (16,10)"
   ]
  },
  {
   "cell_type": "markdown",
   "metadata": {
    "id": "ZypnBG_G5Uf-"
   },
   "source": [
    "# Configurar dataset"
   ]
  },
  {
   "cell_type": "markdown",
   "metadata": {
    "id": "iZuroSYK5YTr"
   },
   "source": [
    "### Baixar dados "
   ]
  },
  {
   "cell_type": "code",
   "execution_count": 3,
   "metadata": {
    "colab": {
     "base_uri": "https://localhost:8080/"
    },
    "id": "xjQ5rVkm5YD0",
    "outputId": "58253621-4d74-4cd5-efbf-d1f57515f805"
   },
   "outputs": [],
   "source": [
    "#!wget -O fraud.csv https://www.dropbox.com/s/47hd95t7n8hhlgz/fraude.csv?dl=0"
   ]
  },
  {
   "cell_type": "code",
   "execution_count": 11,
   "metadata": {
    "id": "PaRq5cxN5d9l"
   },
   "outputs": [],
   "source": [
    "dataset_path = \"fraud.csv\""
   ]
  },
  {
   "cell_type": "markdown",
   "metadata": {
    "id": "32oRQVWY5f8C"
   },
   "source": [
    "### Ler CSV"
   ]
  },
  {
   "cell_type": "code",
   "execution_count": 4,
   "metadata": {
    "id": "NRTN9s-35kQL"
   },
   "outputs": [],
   "source": [
    "df = pd.read_csv(dataset_path) "
   ]
  },
  {
   "cell_type": "markdown",
   "metadata": {
    "id": "9caXu6q85moC"
   },
   "source": [
    "# 3 - Preparação dos dados"
   ]
  },
  {
   "cell_type": "markdown",
   "metadata": {
    "id": "4hyQ2z5E5uyp"
   },
   "source": [
    "## 3.1 - Normalização logarítimica"
   ]
  },
  {
   "cell_type": "code",
   "execution_count": 5,
   "metadata": {
    "colab": {
     "base_uri": "https://localhost:8080/"
    },
    "id": "75I_7s5c5rk0",
    "outputId": "1c2eece8-9a45-46fb-e151-f0001469fd02"
   },
   "outputs": [
    {
     "data": {
      "text/plain": [
       "count    6.362620e+06\n",
       "mean     1.798619e+05\n",
       "std      6.038582e+05\n",
       "min      0.000000e+00\n",
       "25%      1.338957e+04\n",
       "50%      7.487194e+04\n",
       "75%      2.087215e+05\n",
       "max      9.244552e+07\n",
       "Name: amount, dtype: float64"
      ]
     },
     "execution_count": 5,
     "metadata": {},
     "output_type": "execute_result"
    }
   ],
   "source": [
    "df['amount'].describe()"
   ]
  },
  {
   "cell_type": "code",
   "execution_count": 6,
   "metadata": {
    "colab": {
     "base_uri": "https://localhost:8080/"
    },
    "id": "-lCcNgXf528r",
    "outputId": "6068865b-4a6f-4eb7-e4ae-0530898c2ff9"
   },
   "outputs": [
    {
     "data": {
      "text/plain": [
       "count    6.362620e+06\n",
       "mean     8.338831e+05\n",
       "std      2.888243e+06\n",
       "min      0.000000e+00\n",
       "25%      0.000000e+00\n",
       "50%      1.420800e+04\n",
       "75%      1.073152e+05\n",
       "max      5.958504e+07\n",
       "Name: oldbalanceOrg, dtype: float64"
      ]
     },
     "execution_count": 6,
     "metadata": {},
     "output_type": "execute_result"
    }
   ],
   "source": [
    "df['oldbalanceOrg'].describe()"
   ]
  },
  {
   "cell_type": "code",
   "execution_count": 7,
   "metadata": {
    "colab": {
     "base_uri": "https://localhost:8080/"
    },
    "id": "CDKHhesz54WL",
    "outputId": "0ccbfd1f-0b95-4fa8-cb07-72f0f1ff2f1e"
   },
   "outputs": [
    {
     "data": {
      "text/plain": [
       "count    6.362620e+06\n",
       "mean     8.551137e+05\n",
       "std      2.924049e+06\n",
       "min      0.000000e+00\n",
       "25%      0.000000e+00\n",
       "50%      0.000000e+00\n",
       "75%      1.442584e+05\n",
       "max      4.958504e+07\n",
       "Name: newbalanceOrig, dtype: float64"
      ]
     },
     "execution_count": 7,
     "metadata": {},
     "output_type": "execute_result"
    }
   ],
   "source": [
    "df['newbalanceOrig'].describe()"
   ]
  },
  {
   "cell_type": "code",
   "execution_count": 8,
   "metadata": {
    "colab": {
     "base_uri": "https://localhost:8080/"
    },
    "id": "CgP01U055508",
    "outputId": "979845d3-c4b3-4ca7-e01b-dba57a00488d"
   },
   "outputs": [
    {
     "data": {
      "text/plain": [
       "count    6.362620e+06\n",
       "mean     1.100702e+06\n",
       "std      3.399180e+06\n",
       "min      0.000000e+00\n",
       "25%      0.000000e+00\n",
       "50%      1.327057e+05\n",
       "75%      9.430367e+05\n",
       "max      3.560159e+08\n",
       "Name: oldbalanceDest, dtype: float64"
      ]
     },
     "execution_count": 8,
     "metadata": {},
     "output_type": "execute_result"
    }
   ],
   "source": [
    "df['oldbalanceDest'].describe()"
   ]
  },
  {
   "cell_type": "code",
   "execution_count": 9,
   "metadata": {
    "colab": {
     "base_uri": "https://localhost:8080/"
    },
    "id": "mAXxPtz-57vP",
    "outputId": "e6384072-b401-4728-8314-1b938821655e"
   },
   "outputs": [
    {
     "data": {
      "text/plain": [
       "count    6.362620e+06\n",
       "mean     1.224996e+06\n",
       "std      3.674129e+06\n",
       "min      0.000000e+00\n",
       "25%      0.000000e+00\n",
       "50%      2.146614e+05\n",
       "75%      1.111909e+06\n",
       "max      3.561793e+08\n",
       "Name: newbalanceDest, dtype: float64"
      ]
     },
     "execution_count": 9,
     "metadata": {},
     "output_type": "execute_result"
    }
   ],
   "source": [
    "df['newbalanceDest'].describe()"
   ]
  },
  {
   "cell_type": "markdown",
   "metadata": {
    "id": "qlSdqziY5-As"
   },
   "source": [
    "Todos tem como valor mínimo 0. log 0 é impossível, logo deve-se mudar os valores para retirar o 0 antes de mudar a escala para logarítmica."
   ]
  },
  {
   "cell_type": "code",
   "execution_count": 10,
   "metadata": {
    "id": "ZhJg-1S25_Z4"
   },
   "outputs": [],
   "source": [
    "log_list = ['amount', 'oldbalanceOrg', 'newbalanceOrig', 'oldbalanceDest', 'newbalanceDest']\n",
    "\n",
    "for i in log_list:\n",
    "    df[i] = (0.1+df[i])#Como existem valores iguais a 0, é preciso tirá-los para fazer o log\n",
    "    df[i] = np.log(df[i])"
   ]
  },
  {
   "cell_type": "markdown",
   "metadata": {
    "id": "5-AUnGxd6HgD"
   },
   "source": [
    "## 3.2 - Padronização dos dados\n",
    "Apenas variáveis contínuas e discretas devem ser padronizadas."
   ]
  },
  {
   "cell_type": "code",
   "execution_count": 11,
   "metadata": {
    "id": "Amj1Ff5a6Iaz"
   },
   "outputs": [],
   "source": [
    "colunas_x_scaler = [\"amount\", \"oldbalanceOrg\", \"newbalanceOrig\", \"oldbalanceDest\", \"newbalanceDest\"]\n",
    "scaler = Scaler()\n",
    "\n",
    "df[colunas_x_scaler] = scaler.fit_transform(df[colunas_x_scaler])"
   ]
  },
  {
   "cell_type": "code",
   "execution_count": 12,
   "metadata": {
    "colab": {
     "base_uri": "https://localhost:8080/",
     "height": 359
    },
    "id": "-v2svSUX6MlZ",
    "outputId": "1e1d8f11-1de8-49ff-c189-c4f498d925e7"
   },
   "outputs": [
    {
     "data": {
      "text/html": [
       "<div>\n",
       "<style scoped>\n",
       "    .dataframe tbody tr th:only-of-type {\n",
       "        vertical-align: middle;\n",
       "    }\n",
       "\n",
       "    .dataframe tbody tr th {\n",
       "        vertical-align: top;\n",
       "    }\n",
       "\n",
       "    .dataframe thead th {\n",
       "        text-align: right;\n",
       "    }\n",
       "</style>\n",
       "<table border=\"1\" class=\"dataframe\">\n",
       "  <thead>\n",
       "    <tr style=\"text-align: right;\">\n",
       "      <th></th>\n",
       "      <th>step</th>\n",
       "      <th>type</th>\n",
       "      <th>amount</th>\n",
       "      <th>nameOrig</th>\n",
       "      <th>oldbalanceOrg</th>\n",
       "      <th>newbalanceOrig</th>\n",
       "      <th>nameDest</th>\n",
       "      <th>oldbalanceDest</th>\n",
       "      <th>newbalanceDest</th>\n",
       "      <th>isFraud</th>\n",
       "      <th>isFlaggedFraud</th>\n",
       "    </tr>\n",
       "  </thead>\n",
       "  <tbody>\n",
       "    <tr>\n",
       "      <th>0</th>\n",
       "      <td>1</td>\n",
       "      <td>PAYMENT</td>\n",
       "      <td>-0.907025</td>\n",
       "      <td>C1231006815</td>\n",
       "      <td>0.807207</td>\n",
       "      <td>1.064841</td>\n",
       "      <td>M1979787155</td>\n",
       "      <td>-1.149416</td>\n",
       "      <td>-1.253358</td>\n",
       "      <td>0</td>\n",
       "      <td>0</td>\n",
       "    </tr>\n",
       "    <tr>\n",
       "      <th>1</th>\n",
       "      <td>1</td>\n",
       "      <td>PAYMENT</td>\n",
       "      <td>-1.823428</td>\n",
       "      <td>C1666544295</td>\n",
       "      <td>0.495724</td>\n",
       "      <td>0.780990</td>\n",
       "      <td>M2044282225</td>\n",
       "      <td>-1.149416</td>\n",
       "      <td>-1.253358</td>\n",
       "      <td>0</td>\n",
       "      <td>0</td>\n",
       "    </tr>\n",
       "    <tr>\n",
       "      <th>2</th>\n",
       "      <td>1</td>\n",
       "      <td>TRANSFER</td>\n",
       "      <td>-3.107899</td>\n",
       "      <td>C1305486145</td>\n",
       "      <td>-0.217747</td>\n",
       "      <td>-0.854877</td>\n",
       "      <td>C553264065</td>\n",
       "      <td>-1.149416</td>\n",
       "      <td>-1.253358</td>\n",
       "      <td>1</td>\n",
       "      <td>0</td>\n",
       "    </tr>\n",
       "    <tr>\n",
       "      <th>3</th>\n",
       "      <td>1</td>\n",
       "      <td>CASH_OUT</td>\n",
       "      <td>-3.107899</td>\n",
       "      <td>C840083671</td>\n",
       "      <td>-0.217747</td>\n",
       "      <td>-0.854877</td>\n",
       "      <td>C38997010</td>\n",
       "      <td>0.408776</td>\n",
       "      <td>-1.253358</td>\n",
       "      <td>1</td>\n",
       "      <td>0</td>\n",
       "    </tr>\n",
       "    <tr>\n",
       "      <th>4</th>\n",
       "      <td>1</td>\n",
       "      <td>PAYMENT</td>\n",
       "      <td>-0.813131</td>\n",
       "      <td>C2048537720</td>\n",
       "      <td>0.596146</td>\n",
       "      <td>0.839157</td>\n",
       "      <td>M1230701703</td>\n",
       "      <td>-1.149416</td>\n",
       "      <td>-1.253358</td>\n",
       "      <td>0</td>\n",
       "      <td>0</td>\n",
       "    </tr>\n",
       "    <tr>\n",
       "      <th>5</th>\n",
       "      <td>1</td>\n",
       "      <td>PAYMENT</td>\n",
       "      <td>-1.033743</td>\n",
       "      <td>C90045638</td>\n",
       "      <td>0.634985</td>\n",
       "      <td>0.897226</td>\n",
       "      <td>M573487274</td>\n",
       "      <td>-1.149416</td>\n",
       "      <td>-1.253358</td>\n",
       "      <td>0</td>\n",
       "      <td>0</td>\n",
       "    </tr>\n",
       "    <tr>\n",
       "      <th>6</th>\n",
       "      <td>1</td>\n",
       "      <td>PAYMENT</td>\n",
       "      <td>-1.086189</td>\n",
       "      <td>C154988899</td>\n",
       "      <td>0.818280</td>\n",
       "      <td>1.077465</td>\n",
       "      <td>M408069119</td>\n",
       "      <td>-1.149416</td>\n",
       "      <td>-1.253358</td>\n",
       "      <td>0</td>\n",
       "      <td>0</td>\n",
       "    </tr>\n",
       "    <tr>\n",
       "      <th>7</th>\n",
       "      <td>1</td>\n",
       "      <td>PAYMENT</td>\n",
       "      <td>-1.030656</td>\n",
       "      <td>C1912850431</td>\n",
       "      <td>0.812355</td>\n",
       "      <td>1.071328</td>\n",
       "      <td>M633326333</td>\n",
       "      <td>-1.149416</td>\n",
       "      <td>-1.253358</td>\n",
       "      <td>0</td>\n",
       "      <td>0</td>\n",
       "    </tr>\n",
       "    <tr>\n",
       "      <th>8</th>\n",
       "      <td>1</td>\n",
       "      <td>PAYMENT</td>\n",
       "      <td>-1.399541</td>\n",
       "      <td>C1265012928</td>\n",
       "      <td>0.185208</td>\n",
       "      <td>-0.854877</td>\n",
       "      <td>M1176932104</td>\n",
       "      <td>-1.149416</td>\n",
       "      <td>-1.253358</td>\n",
       "      <td>0</td>\n",
       "      <td>0</td>\n",
       "    </tr>\n",
       "    <tr>\n",
       "      <th>9</th>\n",
       "      <td>1</td>\n",
       "      <td>DEBIT</td>\n",
       "      <td>-1.243950</td>\n",
       "      <td>C712410124</td>\n",
       "      <td>0.596743</td>\n",
       "      <td>0.865586</td>\n",
       "      <td>C195600860</td>\n",
       "      <td>0.495441</td>\n",
       "      <td>0.405884</td>\n",
       "      <td>0</td>\n",
       "      <td>0</td>\n",
       "    </tr>\n",
       "  </tbody>\n",
       "</table>\n",
       "</div>"
      ],
      "text/plain": [
       "   step      type    amount  ... newbalanceDest  isFraud  isFlaggedFraud\n",
       "0     1   PAYMENT -0.907025  ...      -1.253358        0               0\n",
       "1     1   PAYMENT -1.823428  ...      -1.253358        0               0\n",
       "2     1  TRANSFER -3.107899  ...      -1.253358        1               0\n",
       "3     1  CASH_OUT -3.107899  ...      -1.253358        1               0\n",
       "4     1   PAYMENT -0.813131  ...      -1.253358        0               0\n",
       "5     1   PAYMENT -1.033743  ...      -1.253358        0               0\n",
       "6     1   PAYMENT -1.086189  ...      -1.253358        0               0\n",
       "7     1   PAYMENT -1.030656  ...      -1.253358        0               0\n",
       "8     1   PAYMENT -1.399541  ...      -1.253358        0               0\n",
       "9     1     DEBIT -1.243950  ...       0.405884        0               0\n",
       "\n",
       "[10 rows x 11 columns]"
      ]
     },
     "execution_count": 12,
     "metadata": {},
     "output_type": "execute_result"
    }
   ],
   "source": [
    "df.head(10)"
   ]
  },
  {
   "cell_type": "markdown",
   "metadata": {
    "id": "XqMTrev-6NPh"
   },
   "source": [
    "## 3.3 - Separação dos dados\n",
    "É preciso separar os dados em treino, teste e validação antes de normalizar os dados, caso contrário ocorrerá vazamento de dados.\n",
    "60% dos dados serão usados no grupo de treinamento, 25% no grupo de validação e 15% no grupo de teste."
   ]
  },
  {
   "cell_type": "markdown",
   "metadata": {
    "id": "SfOJmdz47EUe"
   },
   "source": [
    "### 3.3.1 - Separa em treino, teste e validacao"
   ]
  },
  {
   "cell_type": "code",
   "execution_count": 13,
   "metadata": {
    "id": "XY9Sqq497E_v"
   },
   "outputs": [],
   "source": [
    "tamanho_df = df.shape[0]\n",
    "colunas_y = [\"isFraud\"]\n",
    "colunas_nao_x = [\"isFraud\", \"isFlaggedFraud\"]\n",
    "colunas_x = [coluna for coluna in df.columns if coluna not in colunas_nao_x]\n",
    "\n",
    "# Treino \n",
    "fim_treino = round(tamanho_df * 0.6)\n",
    "\n",
    "treino = df.loc[0:fim_treino,:]\n",
    "fraudes_treino = treino[treino['isFraud'] == 1]\n",
    "legitimo_treino = treino[treino['isFraud'] == 0]\n",
    "legitimo_treino = legitimo_treino.sample(n=fraudes_treino.shape[0], random_state=1)\n",
    "treino_balanceado = pd.concat([legitimo_treino, fraudes_treino], axis= 0)\n",
    "x_treino_balanceado = treino_balanceado.loc[:, colunas_x]\n",
    "y_treino_balanceado = treino_balanceado.loc[:, colunas_y]\n",
    "\n",
    "x_treino = df.loc[0:fim_treino,colunas_x]\n",
    "y_treino = df.loc[0:fim_treino, colunas_y]\n",
    "\n",
    "\n",
    "# Validacao\n",
    "fim_validacao = round(tamanho_df * (0.6 + 0.25))\n",
    "\n",
    "validacao = df.loc[fim_treino:fim_validacao,:]\n",
    "fraudes_validacao = validacao[validacao['isFraud'] == 1]\n",
    "legitimo_validacao = validacao[validacao['isFraud'] == 0]\n",
    "legitimo_validacao = legitimo_validacao.sample(n=fraudes_validacao.shape[0], random_state=1)\n",
    "validacao_balanceado = pd.concat([legitimo_validacao, fraudes_validacao], axis= 0)\n",
    "x_validacao_balanceado = validacao_balanceado.loc[:, colunas_x]\n",
    "y_validacao_balanceado = validacao_balanceado.loc[:, colunas_y]\n",
    "\n",
    "x_validacao = df.loc[fim_treino:fim_validacao, colunas_x]\n",
    "y_validacao =  df.loc[fim_treino:fim_validacao, colunas_y]\n",
    "\n",
    "# Teste\n",
    "\n",
    "teste = df.loc[fim_validacao:tamanho_df,:]\n",
    "fraudes_teste = teste[teste['isFraud'] == 1]\n",
    "legitimo_teste = teste[teste['isFraud'] == 0]\n",
    "legitimo_teste = legitimo_teste.sample(n=fraudes_teste.shape[0], random_state=1)\n",
    "teste_balanceado = pd.concat([legitimo_teste, fraudes_teste], axis= 0)\n",
    "x_teste_balanceado = teste_balanceado.loc[:, colunas_x]\n",
    "y_teste_balanceado = teste_balanceado.loc[:, colunas_y]\n",
    "\n",
    "x_teste =  df.loc[fim_validacao:tamanho_df , colunas_x]\n",
    "y_teste = df.loc[fim_validacao:tamanho_df, colunas_y]"
   ]
  },
  {
   "cell_type": "code",
   "execution_count": 14,
   "metadata": {
    "colab": {
     "base_uri": "https://localhost:8080/"
    },
    "id": "LN4yQIzx7H-L",
    "outputId": "0f31e269-c2a4-4835-a692-cf15a1761086"
   },
   "outputs": [
    {
     "name": "stdout",
     "output_type": "stream",
     "text": [
      "(3817573, 9)\n",
      "(1590656, 9)\n",
      "(954393, 9)\n",
      "(6378, 9)\n",
      "(6378, 1)\n",
      "(2032, 9)\n",
      "(2032, 1)\n",
      "(8016, 9)\n",
      "(8016, 1)\n"
     ]
    }
   ],
   "source": [
    "print(x_treino.shape)\n",
    "print(x_validacao.shape)\n",
    "print(x_teste.shape)\n",
    "\n",
    "print(x_treino_balanceado.shape)\n",
    "print(y_treino_balanceado.shape)\n",
    "print(x_validacao_balanceado.shape)\n",
    "print(y_validacao_balanceado.shape)\n",
    "print(x_teste_balanceado.shape)\n",
    "print(y_teste_balanceado.shape)"
   ]
  },
  {
   "cell_type": "markdown",
   "metadata": {
    "id": "3Kv0imZF7NIw"
   },
   "source": [
    "## 3.4 - Tratamento de variáveis categóricas"
   ]
  },
  {
   "cell_type": "markdown",
   "metadata": {
    "id": "tKhRzBjd7OmV"
   },
   "source": [
    "### 3.4.1 - Corrigindo variáveis nameOrig e nameDest"
   ]
  },
  {
   "cell_type": "code",
   "execution_count": 15,
   "metadata": {
    "id": "TnRMdZL07Qwr"
   },
   "outputs": [],
   "source": [
    "x_treino.loc[x_treino['nameDest'].astype(str).str[0] == 'C', 'nameDest'] = 'C'\n",
    "x_treino.loc[x_treino['nameDest'].astype(str).str[0] == 'M', 'nameDest'] = 'M'\n",
    "x_treino_balanceado.loc[x_treino_balanceado['nameDest'].astype(str).str[0] == 'C', 'nameDest'] = 'C'\n",
    "x_treino_balanceado.loc[x_treino_balanceado['nameDest'].astype(str).str[0] == 'M', 'nameDest'] = 'M'\n",
    "\n",
    "x_validacao.loc[x_validacao['nameDest'].astype(str).str[0] == 'C', 'nameDest'] = 'C'\n",
    "x_validacao.loc[x_validacao['nameDest'].astype(str).str[0] == 'M', 'nameDest'] = 'M'\n",
    "x_validacao_balanceado.loc[x_validacao_balanceado['nameDest'].astype(str).str[0] == 'C', 'nameDest'] = 'C'\n",
    "x_validacao_balanceado.loc[x_validacao_balanceado['nameDest'].astype(str).str[0] == 'M', 'nameDest'] = 'M'\n",
    "\n",
    "x_teste.loc[x_teste['nameDest'].astype(str).str[0] == 'C', 'nameDest'] = 'C'\n",
    "x_teste.loc[x_teste['nameDest'].astype(str).str[0] == 'M', 'nameDest'] = 'M'\n",
    "x_teste_balanceado.loc[x_teste_balanceado['nameDest'].astype(str).str[0] == 'C', 'nameDest'] = 'C'\n",
    "x_teste_balanceado.loc[x_teste_balanceado['nameDest'].astype(str).str[0] == 'M', 'nameDest'] = 'M'"
   ]
  },
  {
   "cell_type": "code",
   "execution_count": 16,
   "metadata": {
    "id": "OQQ1XYXQ7SkF"
   },
   "outputs": [],
   "source": [
    "x_treino.loc[x_treino['nameOrig'].astype(str).str[0] == 'C', 'nameOrig'] = 'C'\n",
    "x_treino_balanceado.loc[x_treino_balanceado['nameOrig'].astype(str).str[0] == 'C', 'nameOrig'] = 'C'\n",
    "\n",
    "x_validacao.loc[x_validacao['nameOrig'].astype(str).str[0] == 'C', 'nameOrig'] = 'C'\n",
    "x_validacao_balanceado.loc[x_validacao_balanceado['nameOrig'].astype(str).str[0] == 'C', 'nameOrig'] = 'C'\n",
    "\n",
    "x_teste.loc[x_teste['nameOrig'].astype(str).str[0] == 'C', 'nameOrig'] = 'C'\n",
    "x_teste_balanceado.loc[x_teste_balanceado['nameOrig'].astype(str).str[0] == 'C', 'nameOrig'] = 'C'"
   ]
  },
  {
   "cell_type": "code",
   "execution_count": 17,
   "metadata": {
    "colab": {
     "base_uri": "https://localhost:8080/",
     "height": 359
    },
    "id": "GFrfxanV7Vrz",
    "outputId": "c6084be8-22bb-4854-ef82-e58dbf413008"
   },
   "outputs": [
    {
     "data": {
      "text/html": [
       "<div>\n",
       "<style scoped>\n",
       "    .dataframe tbody tr th:only-of-type {\n",
       "        vertical-align: middle;\n",
       "    }\n",
       "\n",
       "    .dataframe tbody tr th {\n",
       "        vertical-align: top;\n",
       "    }\n",
       "\n",
       "    .dataframe thead th {\n",
       "        text-align: right;\n",
       "    }\n",
       "</style>\n",
       "<table border=\"1\" class=\"dataframe\">\n",
       "  <thead>\n",
       "    <tr style=\"text-align: right;\">\n",
       "      <th></th>\n",
       "      <th>step</th>\n",
       "      <th>type</th>\n",
       "      <th>amount</th>\n",
       "      <th>nameOrig</th>\n",
       "      <th>oldbalanceOrg</th>\n",
       "      <th>newbalanceOrig</th>\n",
       "      <th>nameDest</th>\n",
       "      <th>oldbalanceDest</th>\n",
       "      <th>newbalanceDest</th>\n",
       "    </tr>\n",
       "  </thead>\n",
       "  <tbody>\n",
       "    <tr>\n",
       "      <th>0</th>\n",
       "      <td>1</td>\n",
       "      <td>PAYMENT</td>\n",
       "      <td>-0.907025</td>\n",
       "      <td>C</td>\n",
       "      <td>0.807207</td>\n",
       "      <td>1.064841</td>\n",
       "      <td>M</td>\n",
       "      <td>-1.149416</td>\n",
       "      <td>-1.253358</td>\n",
       "    </tr>\n",
       "    <tr>\n",
       "      <th>1</th>\n",
       "      <td>1</td>\n",
       "      <td>PAYMENT</td>\n",
       "      <td>-1.823428</td>\n",
       "      <td>C</td>\n",
       "      <td>0.495724</td>\n",
       "      <td>0.780990</td>\n",
       "      <td>M</td>\n",
       "      <td>-1.149416</td>\n",
       "      <td>-1.253358</td>\n",
       "    </tr>\n",
       "    <tr>\n",
       "      <th>2</th>\n",
       "      <td>1</td>\n",
       "      <td>TRANSFER</td>\n",
       "      <td>-3.107899</td>\n",
       "      <td>C</td>\n",
       "      <td>-0.217747</td>\n",
       "      <td>-0.854877</td>\n",
       "      <td>C</td>\n",
       "      <td>-1.149416</td>\n",
       "      <td>-1.253358</td>\n",
       "    </tr>\n",
       "    <tr>\n",
       "      <th>3</th>\n",
       "      <td>1</td>\n",
       "      <td>CASH_OUT</td>\n",
       "      <td>-3.107899</td>\n",
       "      <td>C</td>\n",
       "      <td>-0.217747</td>\n",
       "      <td>-0.854877</td>\n",
       "      <td>C</td>\n",
       "      <td>0.408776</td>\n",
       "      <td>-1.253358</td>\n",
       "    </tr>\n",
       "    <tr>\n",
       "      <th>4</th>\n",
       "      <td>1</td>\n",
       "      <td>PAYMENT</td>\n",
       "      <td>-0.813131</td>\n",
       "      <td>C</td>\n",
       "      <td>0.596146</td>\n",
       "      <td>0.839157</td>\n",
       "      <td>M</td>\n",
       "      <td>-1.149416</td>\n",
       "      <td>-1.253358</td>\n",
       "    </tr>\n",
       "    <tr>\n",
       "      <th>5</th>\n",
       "      <td>1</td>\n",
       "      <td>PAYMENT</td>\n",
       "      <td>-1.033743</td>\n",
       "      <td>C</td>\n",
       "      <td>0.634985</td>\n",
       "      <td>0.897226</td>\n",
       "      <td>M</td>\n",
       "      <td>-1.149416</td>\n",
       "      <td>-1.253358</td>\n",
       "    </tr>\n",
       "    <tr>\n",
       "      <th>6</th>\n",
       "      <td>1</td>\n",
       "      <td>PAYMENT</td>\n",
       "      <td>-1.086189</td>\n",
       "      <td>C</td>\n",
       "      <td>0.818280</td>\n",
       "      <td>1.077465</td>\n",
       "      <td>M</td>\n",
       "      <td>-1.149416</td>\n",
       "      <td>-1.253358</td>\n",
       "    </tr>\n",
       "    <tr>\n",
       "      <th>7</th>\n",
       "      <td>1</td>\n",
       "      <td>PAYMENT</td>\n",
       "      <td>-1.030656</td>\n",
       "      <td>C</td>\n",
       "      <td>0.812355</td>\n",
       "      <td>1.071328</td>\n",
       "      <td>M</td>\n",
       "      <td>-1.149416</td>\n",
       "      <td>-1.253358</td>\n",
       "    </tr>\n",
       "    <tr>\n",
       "      <th>8</th>\n",
       "      <td>1</td>\n",
       "      <td>PAYMENT</td>\n",
       "      <td>-1.399541</td>\n",
       "      <td>C</td>\n",
       "      <td>0.185208</td>\n",
       "      <td>-0.854877</td>\n",
       "      <td>M</td>\n",
       "      <td>-1.149416</td>\n",
       "      <td>-1.253358</td>\n",
       "    </tr>\n",
       "    <tr>\n",
       "      <th>9</th>\n",
       "      <td>1</td>\n",
       "      <td>DEBIT</td>\n",
       "      <td>-1.243950</td>\n",
       "      <td>C</td>\n",
       "      <td>0.596743</td>\n",
       "      <td>0.865586</td>\n",
       "      <td>C</td>\n",
       "      <td>0.495441</td>\n",
       "      <td>0.405884</td>\n",
       "    </tr>\n",
       "  </tbody>\n",
       "</table>\n",
       "</div>"
      ],
      "text/plain": [
       "   step      type    amount  ... nameDest  oldbalanceDest  newbalanceDest\n",
       "0     1   PAYMENT -0.907025  ...        M       -1.149416       -1.253358\n",
       "1     1   PAYMENT -1.823428  ...        M       -1.149416       -1.253358\n",
       "2     1  TRANSFER -3.107899  ...        C       -1.149416       -1.253358\n",
       "3     1  CASH_OUT -3.107899  ...        C        0.408776       -1.253358\n",
       "4     1   PAYMENT -0.813131  ...        M       -1.149416       -1.253358\n",
       "5     1   PAYMENT -1.033743  ...        M       -1.149416       -1.253358\n",
       "6     1   PAYMENT -1.086189  ...        M       -1.149416       -1.253358\n",
       "7     1   PAYMENT -1.030656  ...        M       -1.149416       -1.253358\n",
       "8     1   PAYMENT -1.399541  ...        M       -1.149416       -1.253358\n",
       "9     1     DEBIT -1.243950  ...        C        0.495441        0.405884\n",
       "\n",
       "[10 rows x 9 columns]"
      ]
     },
     "execution_count": 17,
     "metadata": {},
     "output_type": "execute_result"
    }
   ],
   "source": [
    "x_treino.head(10)"
   ]
  },
  {
   "cell_type": "markdown",
   "metadata": {
    "id": "EMDuJER67Xdb"
   },
   "source": [
    "### 3.4.2 - OneHotEncoder"
   ]
  },
  {
   "cell_type": "code",
   "execution_count": 18,
   "metadata": {
    "id": "pSmfuhOt7ZK-"
   },
   "outputs": [],
   "source": [
    "onehotencoder_ = ColumnTransformer(transformers=[('OneHot', OneHotEncoder(), [1,3,6])], remainder='passthrough')\n",
    "\n",
    "x_treino = onehotencoder_.fit_transform(x_treino)\n",
    "x_treino_balanceado = onehotencoder_.fit_transform(x_treino_balanceado)\n",
    "x_validacao = onehotencoder_.fit_transform(x_validacao)\n",
    "x_validacao_balanceado = onehotencoder_.fit_transform(x_validacao_balanceado)\n",
    "x_teste = onehotencoder_.fit_transform(x_teste)\n",
    "x_teste_balanceado = onehotencoder_.fit_transform(x_teste_balanceado)"
   ]
  },
  {
   "cell_type": "code",
   "execution_count": 19,
   "metadata": {
    "colab": {
     "base_uri": "https://localhost:8080/"
    },
    "id": "LRAsvmTb7b8T",
    "outputId": "38be3f30-ca2e-4e8e-9f4e-700d44ce476d"
   },
   "outputs": [
    {
     "name": "stdout",
     "output_type": "stream",
     "text": [
      "(3817573, 14)\n",
      "(1590656, 14)\n",
      "(954393, 14)\n",
      "(6378, 14)\n",
      "(2032, 14)\n",
      "(8016, 14)\n"
     ]
    }
   ],
   "source": [
    "print(x_treino.shape)\n",
    "print(x_validacao.shape)\n",
    "print(x_teste.shape)\n",
    "\n",
    "print(x_treino_balanceado.shape)\n",
    "print(x_validacao_balanceado.shape)\n",
    "print(x_teste_balanceado.shape)"
   ]
  },
  {
   "cell_type": "markdown",
   "metadata": {
    "id": "8YNb_6cw7ecP"
   },
   "source": [
    "### 3.5 - Ajustes finais"
   ]
  },
  {
   "cell_type": "code",
   "execution_count": 20,
   "metadata": {
    "id": "QVZCvlUd7eEl"
   },
   "outputs": [],
   "source": [
    "y_treino = y_treino.to_numpy()\n",
    "y_treino_balanceado = y_treino_balanceado.to_numpy()\n",
    "\n",
    "y_validacao = y_validacao.to_numpy()\n",
    "y_validacao_balanceado = y_validacao_balanceado.to_numpy()\n",
    "\n",
    "y_teste = y_teste.to_numpy()\n",
    "y_teste_balanceado = y_teste_balanceado.to_numpy()"
   ]
  },
  {
   "cell_type": "code",
   "execution_count": 21,
   "metadata": {
    "id": "yOp80fX37ikb"
   },
   "outputs": [],
   "source": [
    "y_treino = y_treino.ravel()\n",
    "y_treino_balanceado = y_treino_balanceado.ravel()\n",
    "\n",
    "y_validacao = y_validacao.ravel()\n",
    "y_validacao_balanceado = y_validacao_balanceado.ravel()\n",
    "\n",
    "y_teste = y_teste.ravel()\n",
    "y_teste_balanceado = y_teste_balanceado.ravel()"
   ]
  },
  {
   "cell_type": "markdown",
   "metadata": {
    "id": "J6OaPlKf7k5-"
   },
   "source": [
    "# 4 - Classificadores"
   ]
  },
  {
   "cell_type": "markdown",
   "metadata": {
    "id": "8wxFSLvs7mxE"
   },
   "source": [
    "## 4.1 - Regressão Logística"
   ]
  },
  {
   "cell_type": "code",
   "execution_count": 22,
   "metadata": {
    "id": "5wQBB7lJ7q_d"
   },
   "outputs": [],
   "source": [
    "from sklearn.linear_model import LogisticRegression"
   ]
  },
  {
   "cell_type": "markdown",
   "metadata": {
    "id": "vkRfXupJ7s9X"
   },
   "source": [
    "### 4.1.1 - Dados não balanceados"
   ]
  },
  {
   "cell_type": "code",
   "execution_count": 23,
   "metadata": {
    "id": "4j-xe-y47t7d"
   },
   "outputs": [],
   "source": [
    "lr = LogisticRegression()"
   ]
  },
  {
   "cell_type": "code",
   "execution_count": 24,
   "metadata": {
    "colab": {
     "base_uri": "https://localhost:8080/"
    },
    "id": "a1Z5NaNg7xHp",
    "outputId": "cca18e55-6f4c-41d9-e9aa-55f67c6ce97a"
   },
   "outputs": [
    {
     "name": "stderr",
     "output_type": "stream",
     "text": [
      "/usr/local/lib/python3.7/dist-packages/sklearn/linear_model/_logistic.py:940: ConvergenceWarning: lbfgs failed to converge (status=1):\n",
      "STOP: TOTAL NO. of ITERATIONS REACHED LIMIT.\n",
      "\n",
      "Increase the number of iterations (max_iter) or scale the data as shown in:\n",
      "    https://scikit-learn.org/stable/modules/preprocessing.html\n",
      "Please also refer to the documentation for alternative solver options:\n",
      "    https://scikit-learn.org/stable/modules/linear_model.html#logistic-regression\n",
      "  extra_warning_msg=_LOGISTIC_SOLVER_CONVERGENCE_MSG)\n"
     ]
    },
    {
     "data": {
      "text/plain": [
       "LogisticRegression(C=1.0, class_weight=None, dual=False, fit_intercept=True,\n",
       "                   intercept_scaling=1, l1_ratio=None, max_iter=100,\n",
       "                   multi_class='auto', n_jobs=None, penalty='l2',\n",
       "                   random_state=None, solver='lbfgs', tol=0.0001, verbose=0,\n",
       "                   warm_start=False)"
      ]
     },
     "execution_count": 24,
     "metadata": {},
     "output_type": "execute_result"
    }
   ],
   "source": [
    "lr.fit(x_treino,y_treino)"
   ]
  },
  {
   "cell_type": "code",
   "execution_count": 25,
   "metadata": {
    "colab": {
     "base_uri": "https://localhost:8080/"
    },
    "id": "IBH3yPUT718r",
    "outputId": "4d033c0b-fbb0-4a2e-9ec4-a34307f41343"
   },
   "outputs": [
    {
     "data": {
      "text/plain": [
       "0.9994897281597497"
      ]
     },
     "execution_count": 25,
     "metadata": {},
     "output_type": "execute_result"
    }
   ],
   "source": [
    "lr.score(x_treino, y_treino)"
   ]
  },
  {
   "cell_type": "code",
   "execution_count": 26,
   "metadata": {
    "colab": {
     "base_uri": "https://localhost:8080/"
    },
    "id": "TPNw0GOD73is",
    "outputId": "9c9e6db7-53b5-437c-c8a9-7c93d414dad9"
   },
   "outputs": [
    {
     "data": {
      "text/plain": [
       "0.9977462114663457"
      ]
     },
     "execution_count": 26,
     "metadata": {},
     "output_type": "execute_result"
    }
   ],
   "source": [
    "lr.score(x_teste, y_teste)"
   ]
  },
  {
   "cell_type": "code",
   "execution_count": 27,
   "metadata": {
    "colab": {
     "base_uri": "https://localhost:8080/",
     "height": 279
    },
    "id": "AlN5Pzwj76Lf",
    "outputId": "f0ed463d-5396-4db7-b9b3-6c1c13af2557"
   },
   "outputs": [
    {
     "data": {
      "image/png": "[encoded data removed]",
      "text/plain": [
       "<Figure size 432x288 with 2 Axes>"
      ]
     },
     "metadata": {
      "needs_background": "light"
     },
     "output_type": "display_data"
    }
   ],
   "source": [
    "plot_confusion_matrix(lr, x_teste, y_teste, normalize='true')\n",
    "plt.show()"
   ]
  },
  {
   "cell_type": "markdown",
   "metadata": {
    "id": "72MEPdw_78US"
   },
   "source": [
    "### 4.1.2 - Dados Balanceados"
   ]
  },
  {
   "cell_type": "code",
   "execution_count": 28,
   "metadata": {
    "id": "cezGnOEy783_"
   },
   "outputs": [],
   "source": [
    "lr = LogisticRegression(max_iter=1500)"
   ]
  },
  {
   "cell_type": "code",
   "execution_count": 29,
   "metadata": {
    "colab": {
     "base_uri": "https://localhost:8080/"
    },
    "id": "ibFdvx918Aek",
    "outputId": "2c7ae9dc-bbbd-4566-f678-67f989d16a85"
   },
   "outputs": [
    {
     "data": {
      "text/plain": [
       "LogisticRegression(C=1.0, class_weight=None, dual=False, fit_intercept=True,\n",
       "                   intercept_scaling=1, l1_ratio=None, max_iter=1500,\n",
       "                   multi_class='auto', n_jobs=None, penalty='l2',\n",
       "                   random_state=None, solver='lbfgs', tol=0.0001, verbose=0,\n",
       "                   warm_start=False)"
      ]
     },
     "execution_count": 29,
     "metadata": {},
     "output_type": "execute_result"
    }
   ],
   "source": [
    "lr.fit(x_treino_balanceado, y_treino_balanceado)"
   ]
  },
  {
   "cell_type": "code",
   "execution_count": 30,
   "metadata": {
    "colab": {
     "base_uri": "https://localhost:8080/"
    },
    "id": "Rfhti1-h8CPr",
    "outputId": "3e3e9052-6df1-411a-ffbc-e7db5ece8c4b"
   },
   "outputs": [
    {
     "data": {
      "text/plain": [
       "0.9477892756349953"
      ]
     },
     "execution_count": 30,
     "metadata": {},
     "output_type": "execute_result"
    }
   ],
   "source": [
    "lr.score(x_treino_balanceado, y_treino_balanceado)"
   ]
  },
  {
   "cell_type": "code",
   "execution_count": 31,
   "metadata": {
    "colab": {
     "base_uri": "https://localhost:8080/"
    },
    "id": "x1QwutuZ8D49",
    "outputId": "750a441c-2193-4255-f687-8f083d7ecf5c"
   },
   "outputs": [
    {
     "data": {
      "text/plain": [
       "0.935503992015968"
      ]
     },
     "execution_count": 31,
     "metadata": {},
     "output_type": "execute_result"
    }
   ],
   "source": [
    "lr.score(x_teste_balanceado, y_teste_balanceado)"
   ]
  },
  {
   "cell_type": "code",
   "execution_count": 32,
   "metadata": {
    "colab": {
     "base_uri": "https://localhost:8080/",
     "height": 279
    },
    "id": "a63CijHN8Fxd",
    "outputId": "ad345613-751e-4d99-874b-c537dd638084"
   },
   "outputs": [
    {
     "data": {
      "image/png": "[encoded data removed]",
      "text/plain": [
       "<Figure size 432x288 with 2 Axes>"
      ]
     },
     "metadata": {
      "needs_background": "light"
     },
     "output_type": "display_data"
    }
   ],
   "source": [
    "plot_confusion_matrix(lr, x_teste_balanceado, y_teste_balanceado, normalize='true')\n",
    "plt.show()"
   ]
  },
  {
   "cell_type": "code",
   "execution_count": 33,
   "metadata": {
    "colab": {
     "base_uri": "https://localhost:8080/"
    },
    "id": "tT9RG2gi8Hle",
    "outputId": "71f0bbe3-bbca-461e-d372-c62e0505b9e1"
   },
   "outputs": [
    {
     "data": {
      "text/plain": [
       "0.969701160842546"
      ]
     },
     "execution_count": 33,
     "metadata": {},
     "output_type": "execute_result"
    }
   ],
   "source": [
    "lr.score(x_teste, y_teste)"
   ]
  },
  {
   "cell_type": "code",
   "execution_count": 34,
   "metadata": {
    "colab": {
     "base_uri": "https://localhost:8080/",
     "height": 279
    },
    "id": "O0rSQiS18Owx",
    "outputId": "c7db092c-713e-4901-dc0a-bfd41b340907"
   },
   "outputs": [
    {
     "data": {
      "image/png": "[encoded data removed]",
      "text/plain": [
       "<Figure size 432x288 with 2 Axes>"
      ]
     },
     "metadata": {
      "needs_background": "light"
     },
     "output_type": "display_data"
    }
   ],
   "source": [
    "plot_confusion_matrix(lr, x_teste, y_teste, normalize='true')\n",
    "plt.show()"
   ]
  },
  {
   "cell_type": "markdown",
   "metadata": {},
   "source": [
    "## 4.2 - Rede Neural MLP"
   ]
  },
  {
   "cell_type": "code",
   "execution_count": 58,
   "metadata": {},
   "outputs": [],
   "source": [
    "# Dados\n",
    "\n",
    "dir_dados_balanceados = r'C:\\\\Users\\\\mathe\\\\OneDrive\\\\Documentos\\\\UFMG\\\\5º periodo\\\\Introducao a ciecia dos dados\\\\Trabalho\\\\dados_balanceado\\\\'\n",
    "\n",
    "\n",
    "x_treino_balanceado = pd.read_csv(dir_dados_balanceados + \"x_treino_balanceado.csv\")\n",
    "y_treino_balanceado = pd.read_csv(dir_dados_balanceados + \"y_treino_balanceado.csv\")\n",
    "\n",
    "x_validacao_balanceado = pd.read_csv(dir_dados_balanceados + \"x_validacao_balanceado.csv\")\n",
    "y_validacao_balanceado = pd.read_csv(dir_dados_balanceados + \"y_validacao_balanceado.csv\")\n",
    "\n",
    "x_teste_balanceado = pd.read_csv(dir_dados_balanceados + \"x_teste_balanceado.csv\")\n",
    "y_teste_balanceado = pd.read_csv(dir_dados_balanceados + \"y_teste_balanceado.csv\")"
   ]
  },
  {
   "cell_type": "code",
   "execution_count": 102,
   "metadata": {},
   "outputs": [
    {
     "name": "stderr",
     "output_type": "stream",
     "text": [
      "C:\\Users\\mathe\\anaconda3\\lib\\site-packages\\sklearn\\utils\\validation.py:73: DataConversionWarning: A column-vector y was passed when a 1d array was expected. Please change the shape of y to (n_samples, ), for example using ravel().\n",
      "  return f(**kwargs)\n",
      "C:\\Users\\mathe\\anaconda3\\lib\\site-packages\\sklearn\\utils\\validation.py:73: DataConversionWarning: A column-vector y was passed when a 1d array was expected. Please change the shape of y to (n_samples, ), for example using ravel().\n",
      "  return f(**kwargs)\n",
      "C:\\Users\\mathe\\anaconda3\\lib\\site-packages\\sklearn\\neural_network\\_multilayer_perceptron.py:471: ConvergenceWarning: lbfgs failed to converge (status=1):\n",
      "STOP: TOTAL NO. of ITERATIONS REACHED LIMIT.\n",
      "\n",
      "Increase the number of iterations (max_iter) or scale the data as shown in:\n",
      "    https://scikit-learn.org/stable/modules/preprocessing.html\n",
      "  self.n_iter_ = _check_optimize_result(\"lbfgs\", opt_res, self.max_iter)\n",
      "C:\\Users\\mathe\\anaconda3\\lib\\site-packages\\sklearn\\utils\\validation.py:73: DataConversionWarning: A column-vector y was passed when a 1d array was expected. Please change the shape of y to (n_samples, ), for example using ravel().\n",
      "  return f(**kwargs)\n",
      "C:\\Users\\mathe\\anaconda3\\lib\\site-packages\\sklearn\\neural_network\\_multilayer_perceptron.py:471: ConvergenceWarning: lbfgs failed to converge (status=1):\n",
      "STOP: TOTAL NO. of ITERATIONS REACHED LIMIT.\n",
      "\n",
      "Increase the number of iterations (max_iter) or scale the data as shown in:\n",
      "    https://scikit-learn.org/stable/modules/preprocessing.html\n",
      "  self.n_iter_ = _check_optimize_result(\"lbfgs\", opt_res, self.max_iter)\n",
      "C:\\Users\\mathe\\anaconda3\\lib\\site-packages\\sklearn\\utils\\validation.py:73: DataConversionWarning: A column-vector y was passed when a 1d array was expected. Please change the shape of y to (n_samples, ), for example using ravel().\n",
      "  return f(**kwargs)\n",
      "C:\\Users\\mathe\\anaconda3\\lib\\site-packages\\sklearn\\neural_network\\_multilayer_perceptron.py:471: ConvergenceWarning: lbfgs failed to converge (status=1):\n",
      "STOP: TOTAL NO. of ITERATIONS REACHED LIMIT.\n",
      "\n",
      "Increase the number of iterations (max_iter) or scale the data as shown in:\n",
      "    https://scikit-learn.org/stable/modules/preprocessing.html\n",
      "  self.n_iter_ = _check_optimize_result(\"lbfgs\", opt_res, self.max_iter)\n",
      "C:\\Users\\mathe\\anaconda3\\lib\\site-packages\\sklearn\\utils\\validation.py:73: DataConversionWarning: A column-vector y was passed when a 1d array was expected. Please change the shape of y to (n_samples, ), for example using ravel().\n",
      "  return f(**kwargs)\n",
      "C:\\Users\\mathe\\anaconda3\\lib\\site-packages\\sklearn\\neural_network\\_multilayer_perceptron.py:471: ConvergenceWarning: lbfgs failed to converge (status=1):\n",
      "STOP: TOTAL NO. of ITERATIONS REACHED LIMIT.\n",
      "\n",
      "Increase the number of iterations (max_iter) or scale the data as shown in:\n",
      "    https://scikit-learn.org/stable/modules/preprocessing.html\n",
      "  self.n_iter_ = _check_optimize_result(\"lbfgs\", opt_res, self.max_iter)\n",
      "C:\\Users\\mathe\\anaconda3\\lib\\site-packages\\sklearn\\utils\\validation.py:73: DataConversionWarning: A column-vector y was passed when a 1d array was expected. Please change the shape of y to (n_samples, ), for example using ravel().\n",
      "  return f(**kwargs)\n",
      "C:\\Users\\mathe\\anaconda3\\lib\\site-packages\\sklearn\\neural_network\\_multilayer_perceptron.py:471: ConvergenceWarning: lbfgs failed to converge (status=1):\n",
      "STOP: TOTAL NO. of ITERATIONS REACHED LIMIT.\n",
      "\n",
      "Increase the number of iterations (max_iter) or scale the data as shown in:\n",
      "    https://scikit-learn.org/stable/modules/preprocessing.html\n",
      "  self.n_iter_ = _check_optimize_result(\"lbfgs\", opt_res, self.max_iter)\n",
      "C:\\Users\\mathe\\anaconda3\\lib\\site-packages\\sklearn\\utils\\validation.py:73: DataConversionWarning: A column-vector y was passed when a 1d array was expected. Please change the shape of y to (n_samples, ), for example using ravel().\n",
      "  return f(**kwargs)\n",
      "C:\\Users\\mathe\\anaconda3\\lib\\site-packages\\sklearn\\neural_network\\_multilayer_perceptron.py:471: ConvergenceWarning: lbfgs failed to converge (status=1):\n",
      "STOP: TOTAL NO. of ITERATIONS REACHED LIMIT.\n",
      "\n",
      "Increase the number of iterations (max_iter) or scale the data as shown in:\n",
      "    https://scikit-learn.org/stable/modules/preprocessing.html\n",
      "  self.n_iter_ = _check_optimize_result(\"lbfgs\", opt_res, self.max_iter)\n",
      "C:\\Users\\mathe\\anaconda3\\lib\\site-packages\\sklearn\\utils\\validation.py:73: DataConversionWarning: A column-vector y was passed when a 1d array was expected. Please change the shape of y to (n_samples, ), for example using ravel().\n",
      "  return f(**kwargs)\n",
      "C:\\Users\\mathe\\anaconda3\\lib\\site-packages\\sklearn\\neural_network\\_multilayer_perceptron.py:471: ConvergenceWarning: lbfgs failed to converge (status=1):\n",
      "STOP: TOTAL NO. of ITERATIONS REACHED LIMIT.\n",
      "\n",
      "Increase the number of iterations (max_iter) or scale the data as shown in:\n",
      "    https://scikit-learn.org/stable/modules/preprocessing.html\n",
      "  self.n_iter_ = _check_optimize_result(\"lbfgs\", opt_res, self.max_iter)\n"
     ]
    }
   ],
   "source": [
    "plt.rcParams[\"figure.figsize\"] = (6,4)\n",
    "dict_modelos = dict()\n",
    "tamanhos_rede = [1,2,5,10,15,20,25,30]\n",
    "\n",
    "for numero_neuronio in tamanhos_rede:\n",
    "    \n",
    "    modelo_MLP = MLPClassifier( hidden_layer_sizes =  numero_neuronio, activation = 'relu' , \n",
    "                               solver = 'lbfgs' , \n",
    "                               alpha = 0.0001 , \n",
    "                               batch_size = 'auto' , \n",
    "                               learning_rate = 'constant' , \n",
    "                               learning_rate_init = 0.01 , \n",
    "                               power_t = 0.5 , \n",
    "                               max_iter = 200 , \n",
    "                               shuffle = True , \n",
    "                               random_state = None , \n",
    "                               tol= 0.0001 , \n",
    "                               verbose = False , \n",
    "                               warm_start = False , \n",
    "                               momentum = 0.9 , \n",
    "                               nesterovs_momentum = True , \n",
    "                               early_stopping = False , \n",
    "                               validation_fraction = 0.1 , \n",
    "                               beta_1 = 0.9, \n",
    "                               beta_2 = 0.999 , \n",
    "                               epsilon = 1e-08 , \n",
    "                               n_iter_no_change = 10 , \n",
    "                               max_fun = 15000)\n",
    "    \n",
    "    modelo_MLP.fit(np.array(x_treino_balanceado), np.array(y_treino_balanceado))\n",
    "    \n",
    "    \n",
    "    dict_modelos[f\"numero_neuronio_{numero_neuronio}\"] = modelo_MLP"
   ]
  },
  {
   "cell_type": "code",
   "execution_count": 114,
   "metadata": {},
   "outputs": [],
   "source": [
    "def mostra_resultados_modelo(dict_modelos, numero_neuronio):   \n",
    "    \"\"\" Retorna a matriz de confusao dos dados de treino e dos dados de teste\"\"\"\n",
    "    \n",
    "    print(f\"--- Modelo com {numero_neuronio} Neuronios ---\")\n",
    "    modelo_MLP = dict_modelos[f\"numero_neuronio_{numero_neuronio}\"] \n",
    "    \n",
    "    plot_confusion_matrix(modelo_MLP, np.array(x_validacao_balanceado), \n",
    "                          np.array(y_validacao_balanceado).ravel(), \n",
    "                          normalize='true')  \n",
    "    \n",
    "    plot_confusion_matrix(modelo_MLP, np.array(x_teste_balanceado), \n",
    "                          np.array(y_teste_balanceado).ravel(), \n",
    "                          normalize='true')"
   ]
  },
  {
   "cell_type": "code",
   "execution_count": 116,
   "metadata": {},
   "outputs": [
    {
     "name": "stdout",
     "output_type": "stream",
     "text": [
      "--- Modelo com 1 Neuronios ---\n"
     ]
    },
    {
     "data": {
      "image/png": "[encoded data removed]",
      "text/plain": [
       "<Figure size 432x288 with 2 Axes>"
      ]
     },
     "metadata": {
      "needs_background": "light"
     },
     "output_type": "display_data"
    },
    {
     "data": {
      "image/png": "[encoded data removed]",
      "text/plain": [
       "<Figure size 432x288 with 2 Axes>"
      ]
     },
     "metadata": {
      "needs_background": "light"
     },
     "output_type": "display_data"
    }
   ],
   "source": [
    "mostra_resultados_modelo(dict_modelos, 1)"
   ]
  },
  {
   "cell_type": "code",
   "execution_count": 117,
   "metadata": {},
   "outputs": [
    {
     "name": "stdout",
     "output_type": "stream",
     "text": [
      "--- Modelo com 2 Neuronios ---\n"
     ]
    },
    {
     "data": {
      "image/png": "[encoded data removed]",
      "text/plain": [
       "<Figure size 432x288 with 2 Axes>"
      ]
     },
     "metadata": {
      "needs_background": "light"
     },
     "output_type": "display_data"
    },
    {
     "data": {
      "image/png": "[encoded data removed]",
      "text/plain": [
       "<Figure size 432x288 with 2 Axes>"
      ]
     },
     "metadata": {
      "needs_background": "light"
     },
     "output_type": "display_data"
    }
   ],
   "source": [
    "mostra_resultados_modelo(dict_modelos, 2)"
   ]
  },
  {
   "cell_type": "code",
   "execution_count": 118,
   "metadata": {},
   "outputs": [
    {
     "name": "stdout",
     "output_type": "stream",
     "text": [
      "--- Modelo com 5 Neuronios ---\n"
     ]
    },
    {
     "data": {
      "image/png": "[encoded data removed]",
      "text/plain": [
       "<Figure size 432x288 with 2 Axes>"
      ]
     },
     "metadata": {
      "needs_background": "light"
     },
     "output_type": "display_data"
    },
    {
     "data": {
      "image/png": "[encoded data removed]",
      "text/plain": [
       "<Figure size 432x288 with 2 Axes>"
      ]
     },
     "metadata": {
      "needs_background": "light"
     },
     "output_type": "display_data"
    }
   ],
   "source": [
    "mostra_resultados_modelo(dict_modelos, 5)"
   ]
  },
  {
   "cell_type": "code",
   "execution_count": 119,
   "metadata": {},
   "outputs": [
    {
     "name": "stdout",
     "output_type": "stream",
     "text": [
      "--- Modelo com 15 Neuronios ---\n"
     ]
    },
    {
     "data": {
      "image/png": "[encoded data removed]",
      "text/plain": [
       "<Figure size 432x288 with 2 Axes>"
      ]
     },
     "metadata": {
      "needs_background": "light"
     },
     "output_type": "display_data"
    },
    {
     "data": {
      "image/png": "[encoded data removed]",
      "text/plain": [
       "<Figure size 432x288 with 2 Axes>"
      ]
     },
     "metadata": {
      "needs_background": "light"
     },
     "output_type": "display_data"
    }
   ],
   "source": [
    "mostra_resultados_modelo(dict_modelos, 15)"
   ]
  },
  {
   "cell_type": "code",
   "execution_count": 120,
   "metadata": {},
   "outputs": [
    {
     "name": "stdout",
     "output_type": "stream",
     "text": [
      "--- Modelo com 20 Neuronios ---\n"
     ]
    },
    {
     "data": {
      "image/png": "[encoded data removed]",
      "text/plain": [
       "<Figure size 432x288 with 2 Axes>"
      ]
     },
     "metadata": {
      "needs_background": "light"
     },
     "output_type": "display_data"
    },
    {
     "data": {
      "image/png": "[encoded data removed]",
      "text/plain": [
       "<Figure size 432x288 with 2 Axes>"
      ]
     },
     "metadata": {
      "needs_background": "light"
     },
     "output_type": "display_data"
    }
   ],
   "source": [
    "mostra_resultados_modelo(dict_modelos, 20)"
   ]
  },
  {
   "cell_type": "code",
   "execution_count": 121,
   "metadata": {},
   "outputs": [
    {
     "name": "stdout",
     "output_type": "stream",
     "text": [
      "--- Modelo com 25 Neuronios ---\n"
     ]
    },
    {
     "data": {
      "image/png": "[encoded data removed]",
      "text/plain": [
       "<Figure size 432x288 with 2 Axes>"
      ]
     },
     "metadata": {
      "needs_background": "light"
     },
     "output_type": "display_data"
    },
    {
     "data": {
      "image/png": "[encoded data removed]",
      "text/plain": [
       "<Figure size 432x288 with 2 Axes>"
      ]
     },
     "metadata": {
      "needs_background": "light"
     },
     "output_type": "display_data"
    }
   ],
   "source": [
    "mostra_resultados_modelo(dict_modelos, 25)"
   ]
  },
  {
   "cell_type": "code",
   "execution_count": 122,
   "metadata": {},
   "outputs": [
    {
     "name": "stdout",
     "output_type": "stream",
     "text": [
      "--- Modelo com 30 Neuronios ---\n"
     ]
    },
    {
     "data": {
      "image/png": "[encoded data removed]",
      "text/plain": [
       "<Figure size 432x288 with 2 Axes>"
      ]
     },
     "metadata": {
      "needs_background": "light"
     },
     "output_type": "display_data"
    },
    {
     "data": {
      "image/png": "[encoded data removed]",
      "text/plain": [
       "<Figure size 432x288 with 2 Axes>"
      ]
     },
     "metadata": {
      "needs_background": "light"
     },
     "output_type": "display_data"
    }
   ],
   "source": [
    "mostra_resultados_modelo(dict_modelos, 30)"
   ]
  },
  {
   "cell_type": "markdown",
   "metadata": {},
   "source": [
    "### Salva o melhor modelo encontrado"
   ]
  },
  {
   "cell_type": "code",
   "execution_count": 105,
   "metadata": {},
   "outputs": [],
   "source": [
    "#Salva o modelo\n",
    "#pickle.dump(dict_modelos[f\"numero_neuronio_30\"] , open(\"modelo_MLP\", 'wb'))\n",
    "\n",
    "# Lê o modelo\n",
    "modelo_MLP = pickle.load(open(\"modelo_MLP\", 'rb'))"
   ]
  }
 ],
 "metadata": {
  "colab": {
   "name": "classificacao.ipynb",
   "provenance": []
  },
  "kernelspec": {
   "display_name": "Python 3",
   "language": "python",
   "name": "python3"
  },
  "language_info": {
   "codemirror_mode": {
    "name": "ipython",
    "version": 3
   },
   "file_extension": ".py",
   "mimetype": "text/x-python",
   "name": "python",
   "nbconvert_exporter": "python",
   "pygments_lexer": "ipython3",
   "version": "3.8.5"
  }
 },
 "nbformat": 4,
 "nbformat_minor": 1
}
