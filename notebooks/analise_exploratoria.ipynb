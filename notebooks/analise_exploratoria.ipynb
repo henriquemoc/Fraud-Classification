{
  "nbformat": 4,
  "nbformat_minor": 0,
  "metadata": {
    "colab": {
      "name": "analise_exploratoria.ipynb",
      "provenance": []
    },
    "kernelspec": {
      "name": "python3",
      "display_name": "Python 3"
    },
    "language_info": {
      "name": "python"
    }
  },
  "cells": [
    {
      "cell_type": "markdown",
      "metadata": {
        "id": "1-33Tjbi1g-G"
      },
      "source": [
        "# Importações"
      ]
    },
    {
      "cell_type": "code",
      "metadata": {
        "id": "fweke0YYzt6W"
      },
      "source": [
        "import os\n",
        "import pandas as pd\n",
        "import numpy as np\n",
        "import matplotlib.pyplot as plt\n",
        "import seaborn as sns\n",
        "from scipy.stats import norm\n",
        "\n",
        "%matplotlib inline\n",
        "\n",
        "plt.rcParams[\"figure.figsize\"] = (16,10)"
      ],
      "execution_count": 1,
      "outputs": []
    },
    {
      "cell_type": "markdown",
      "metadata": {
        "id": "P96XmwX80KK8"
      },
      "source": [
        "# Configurar dataset"
      ]
    },
    {
      "cell_type": "markdown",
      "metadata": {
        "id": "rb-Thjf30Pcg"
      },
      "source": [
        "### Baixar dados "
      ]
    },
    {
      "cell_type": "code",
      "metadata": {
        "colab": {
          "base_uri": "https://localhost:8080/"
        },
        "id": "5ZDJjMw90Ff7",
        "outputId": "70c93fa3-2b96-4349-c8b0-2192c57943e2"
      },
      "source": [
        "!wget -O fraud.csv https://www.dropbox.com/s/47hd95t7n8hhlgz/fraude.csv?dl=0"
      ],
      "execution_count": 2,
      "outputs": [
        {
          "output_type": "stream",
          "text": [
            "--2021-08-24 20:25:21--  https://www.dropbox.com/s/47hd95t7n8hhlgz/fraude.csv?dl=0\n",
            "Resolving www.dropbox.com (www.dropbox.com)... 162.125.81.18, 2620:100:6030:18::a27d:5012\n",
            "Connecting to www.dropbox.com (www.dropbox.com)|162.125.81.18|:443... connected.\n",
            "HTTP request sent, awaiting response... 301 Moved Permanently\n",
            "Location: /s/raw/47hd95t7n8hhlgz/fraude.csv [following]\n",
            "--2021-08-24 20:25:22--  https://www.dropbox.com/s/raw/47hd95t7n8hhlgz/fraude.csv\n",
            "Reusing existing connection to www.dropbox.com:443.\n",
            "HTTP request sent, awaiting response... 302 Found\n",
            "Location: https://ucf939a8a87634bd81da5a96fcfb.dl.dropboxusercontent.com/cd/0/inline/BU292OuOUJsKoB-bNWUCkgvI3jPJrVMpAXjnnxD-lDxJg1UUY_sJmeeJMYCQlngj7VSOexpfYSqJ4fSh9X3XS5v_JYEmBZOGu2OobsnQAz5rMkLxFEcISxscbhiEFgra0hknkWgLoC8efKf2jM9lQGp8/file# [following]\n",
            "--2021-08-24 20:25:22--  https://ucf939a8a87634bd81da5a96fcfb.dl.dropboxusercontent.com/cd/0/inline/BU292OuOUJsKoB-bNWUCkgvI3jPJrVMpAXjnnxD-lDxJg1UUY_sJmeeJMYCQlngj7VSOexpfYSqJ4fSh9X3XS5v_JYEmBZOGu2OobsnQAz5rMkLxFEcISxscbhiEFgra0hknkWgLoC8efKf2jM9lQGp8/file\n",
            "Resolving ucf939a8a87634bd81da5a96fcfb.dl.dropboxusercontent.com (ucf939a8a87634bd81da5a96fcfb.dl.dropboxusercontent.com)... 162.125.81.15, 2620:100:6031:15::a27d:510f\n",
            "Connecting to ucf939a8a87634bd81da5a96fcfb.dl.dropboxusercontent.com (ucf939a8a87634bd81da5a96fcfb.dl.dropboxusercontent.com)|162.125.81.15|:443... connected.\n",
            "HTTP request sent, awaiting response... 200 OK\n",
            "Length: 493534783 (471M) [text/plain]\n",
            "Saving to: ‘fraud.csv’\n",
            "\n",
            "fraud.csv           100%[===================>] 470.67M  12.0MB/s    in 46s     \n",
            "\n",
            "2021-08-24 20:26:09 (10.3 MB/s) - ‘fraud.csv’ saved [493534783/493534783]\n",
            "\n"
          ],
          "name": "stdout"
        }
      ]
    },
    {
      "cell_type": "code",
      "metadata": {
        "id": "2-aWv4X00H8V"
      },
      "source": [
        "dataset_path = \"fraud.csv\""
      ],
      "execution_count": 3,
      "outputs": []
    },
    {
      "cell_type": "markdown",
      "metadata": {
        "id": "gDZNVH7W0VHY"
      },
      "source": [
        "### Ler CSV"
      ]
    },
    {
      "cell_type": "code",
      "metadata": {
        "id": "NaucShLg0Xo2"
      },
      "source": [
        "df = pd.read_csv(dataset_path) "
      ],
      "execution_count": 4,
      "outputs": []
    },
    {
      "cell_type": "markdown",
      "metadata": {
        "id": "n2iQ4f040bHW"
      },
      "source": [
        "# 1 - Análise do Dataset"
      ]
    },
    {
      "cell_type": "markdown",
      "metadata": {
        "id": "uVkQbQWW0icT"
      },
      "source": [
        "### Análise geral"
      ]
    },
    {
      "cell_type": "code",
      "metadata": {
        "id": "fpjAHN5U0det"
      },
      "source": [
        "df.head(10)"
      ],
      "execution_count": null,
      "outputs": []
    },
    {
      "cell_type": "code",
      "metadata": {
        "id": "antFx-5U0m_I"
      },
      "source": [
        "df.shape"
      ],
      "execution_count": null,
      "outputs": []
    },
    {
      "cell_type": "code",
      "metadata": {
        "id": "RltbXRlx0oha"
      },
      "source": [
        "df.describe()"
      ],
      "execution_count": null,
      "outputs": []
    },
    {
      "cell_type": "code",
      "metadata": {
        "id": "P9dcf5Fn0pzV"
      },
      "source": [
        "df.info()"
      ],
      "execution_count": null,
      "outputs": []
    },
    {
      "cell_type": "markdown",
      "metadata": {
        "id": "fqM-zL3a0qaP"
      },
      "source": [
        "### 1.1 - Verificando nulos"
      ]
    },
    {
      "cell_type": "code",
      "metadata": {
        "id": "GOSGFkJ-0s0X"
      },
      "source": [
        "df.isnull().sum()"
      ],
      "execution_count": null,
      "outputs": []
    },
    {
      "cell_type": "markdown",
      "metadata": {
        "id": "8ap-o4oj0x5f"
      },
      "source": [
        "### 1.2 - Tirando linhas duplicadas"
      ]
    },
    {
      "cell_type": "code",
      "metadata": {
        "id": "odjpLors00uY"
      },
      "source": [
        "df.drop_duplicates(inplace=True)"
      ],
      "execution_count": null,
      "outputs": []
    },
    {
      "cell_type": "code",
      "metadata": {
        "id": "Hq7UhcR501QN"
      },
      "source": [
        "df.shape"
      ],
      "execution_count": null,
      "outputs": []
    },
    {
      "cell_type": "markdown",
      "metadata": {
        "id": "5fgwju3P06uq"
      },
      "source": [
        "### 1.3 - Visualizar variáveis categóricas"
      ]
    },
    {
      "cell_type": "code",
      "metadata": {
        "id": "ovXwQ15t09RZ"
      },
      "source": [
        "df[\"type\"].unique()"
      ],
      "execution_count": null,
      "outputs": []
    },
    {
      "cell_type": "code",
      "metadata": {
        "id": "uT4rJrz815B-"
      },
      "source": [
        "df[\"type\"].value_counts()"
      ],
      "execution_count": null,
      "outputs": []
    },
    {
      "cell_type": "code",
      "metadata": {
        "id": "VoC8V1G30_05"
      },
      "source": [
        "df['isFraud'].value_counts()"
      ],
      "execution_count": null,
      "outputs": []
    },
    {
      "cell_type": "code",
      "metadata": {
        "id": "KxvitvYK1DBW"
      },
      "source": [
        "sns.countplot(x=df[\"type\"]);"
      ],
      "execution_count": null,
      "outputs": []
    },
    {
      "cell_type": "code",
      "metadata": {
        "id": "yeYb6raW1FEA"
      },
      "source": [
        "alfabeto = [\"a\",\"b\",\"c\",\"d\",\"e\",\"f\",\"g\",\"h\",\"i\",\"j\",\"k\",\"l\",\"m\",\"n\",\"o\",\"p\",\"q\",\"r\",\"s\",\"t\",\"u\",\"v\",\"w\",\"x\",\"y\",\"z\"]\n",
        "nome_orig_dict = {}\n",
        "for i in alfabeto:\n",
        "    nome_orig_dict[i] = 0\n",
        "\n",
        "for i in df[\"nameOrig\"]:\n",
        "    inicial_nome_orig = i[0].lower()\n",
        "    nome_orig_dict[inicial_nome_orig] = nome_orig_dict[inicial_nome_orig]+1\n",
        "\n",
        "for i in nome_orig_dict:\n",
        "    if nome_orig_dict[i]!=0:\n",
        "        print(f\"{i.upper()}: {nome_orig_dict[i]}\")"
      ],
      "execution_count": null,
      "outputs": []
    },
    {
      "cell_type": "code",
      "metadata": {
        "id": "G6l8z3ou1Gwn"
      },
      "source": [
        "alfabeto = [\"a\",\"b\",\"c\",\"d\",\"e\",\"f\",\"g\",\"h\",\"i\",\"j\",\"k\",\"l\",\"m\",\"n\",\"o\",\"p\",\"q\",\"r\",\"s\",\"t\",\"u\",\"v\",\"w\",\"x\",\"y\",\"z\"]\n",
        "nome_dest_dict = {}\n",
        "for i in alfabeto:\n",
        "    nome_dest_dict[i] = 0\n",
        "\n",
        "for i in df[\"nameDest\"]:\n",
        "    inicial_nome_dest = i[0].lower()\n",
        "    nome_dest_dict[inicial_nome_dest] = nome_dest_dict[inicial_nome_dest]+1\n",
        "\n",
        "for i in nome_dest_dict:\n",
        "    if nome_dest_dict[i]!=0:\n",
        "        print(f\"{i.upper()}: {nome_dest_dict[i]}\")"
      ],
      "execution_count": null,
      "outputs": []
    },
    {
      "cell_type": "code",
      "metadata": {
        "id": "PHfVTuUN1IUK"
      },
      "source": [
        "plt.bar(*zip(*nome_dest_dict.items()));\n",
        "plt.title(\"Iniciais dos nomes destino\", fontdict={'fontsize':18}, pad=12);"
      ],
      "execution_count": null,
      "outputs": []
    },
    {
      "cell_type": "code",
      "metadata": {
        "id": "reV-VvSQ1KC4"
      },
      "source": [
        "dfFlaggedFraud = df[[\"type\",\"isFlaggedFraud\"]]\n",
        "dfFlaggedFraud = dfFlaggedFraud.groupby(\"type\").sum()\n",
        "dfFlaggedFraud.plot.bar()"
      ],
      "execution_count": null,
      "outputs": []
    },
    {
      "cell_type": "code",
      "metadata": {
        "id": "-1g-E8fk1L1P"
      },
      "source": [
        "dfFraudVSFlaggedFraud = df[[\"isFraud\",\"isFlaggedFraud\"]]\n",
        "dfFraudHeatmap = sns.heatmap(dfFraudVSFlaggedFraud.corr(), annot=True)\n",
        "dfFraudHeatmap.set_title('Matriz Correlação', fontdict={'fontsize':18}, pad=12);"
      ],
      "execution_count": null,
      "outputs": []
    },
    {
      "cell_type": "markdown",
      "metadata": {
        "id": "s5xlVeBo1PHk"
      },
      "source": [
        "### 1.4 - Visualizar variáveis numéricas"
      ]
    },
    {
      "cell_type": "code",
      "metadata": {
        "id": "Jub0FJqp1P4I"
      },
      "source": [
        "plt.hist(df['amount'], bins=25);\n",
        "plt.yscale('log')\n",
        "plt.ylabel('Frequency')\n",
        "plt.xticks(range(0,int(1.05*1e8),int(5*1e6)))\n",
        "plt.xlabel('Amount');"
      ],
      "execution_count": null,
      "outputs": []
    },
    {
      "cell_type": "code",
      "metadata": {
        "id": "CJ7gzBAT1TIo"
      },
      "source": [
        "plt.hist(df['oldbalanceOrg'], bins=25);\n",
        "plt.yscale('log')\n",
        "plt.ylabel('Frequency')\n",
        "plt.xticks(range(0,int(6.5*1e7),int(5*1e6)))\n",
        "plt.xlabel('Amount');"
      ],
      "execution_count": null,
      "outputs": []
    },
    {
      "cell_type": "code",
      "metadata": {
        "id": "ybmo5ndz1UoT"
      },
      "source": [
        "plt.hist(df['newbalanceOrig'], bins=25);\n",
        "plt.yscale('log')\n",
        "plt.ylabel('Frequency')\n",
        "plt.xticks(range(0,int(5.5*1e7),int(5*1e6)))\n",
        "plt.xlabel('Amount');"
      ],
      "execution_count": null,
      "outputs": []
    },
    {
      "cell_type": "code",
      "metadata": {
        "id": "Gx2qmEq81WIR"
      },
      "source": [
        "plt.hist(df['oldbalanceDest'], bins=25);\n",
        "plt.yscale('log')\n",
        "plt.ylabel('Frequency')\n",
        "plt.xticks(range(0,int(4.5*1e8),int(5*1e7)))\n",
        "plt.xlabel('Amount');"
      ],
      "execution_count": null,
      "outputs": []
    },
    {
      "cell_type": "code",
      "metadata": {
        "id": "JKJhL_Qq1Xj9"
      },
      "source": [
        "plt.hist(df['newbalanceDest'], bins=25);\n",
        "plt.yscale('log')\n",
        "plt.ylabel('Frequency')\n",
        "plt.xticks(range(0,int(4.5*1e8),int(5*1e7)))\n",
        "plt.xlabel('Amount');"
      ],
      "execution_count": null,
      "outputs": []
    },
    {
      "cell_type": "markdown",
      "metadata": {
        "id": "WpfFmJFO1Zpp"
      },
      "source": [
        "### 1.5 - Matriz de Correlação"
      ]
    },
    {
      "cell_type": "code",
      "metadata": {
        "id": "GPHPVHvf1aNh"
      },
      "source": [
        "heatmap = sns.heatmap(df.corr(), annot=True)\n",
        "heatmap.set_title('Matriz Correlação', fontdict={'fontsize':18}, pad=12);"
      ],
      "execution_count": null,
      "outputs": []
    },
    {
      "cell_type": "markdown",
      "metadata": {
        "id": "hjAQ5E8B9ZOZ"
      },
      "source": [
        "# Obs:\n",
        "Como o dataset não possuía duplicatas ou valores nulos, não foi modificado. Logo, não é necessário salvá-lo ao fim da análise."
      ]
    }
  ]
}