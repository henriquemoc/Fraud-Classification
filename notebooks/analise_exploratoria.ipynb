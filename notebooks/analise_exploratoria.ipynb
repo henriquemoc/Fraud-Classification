{
  "nbformat": 4,
  "nbformat_minor": 0,
  "metadata": {
    "colab": {
      "name": "analise_exploratoria.ipynb",
      "provenance": []
    },
    "kernelspec": {
      "name": "python3",
      "display_name": "Python 3.8.3 64-bit ('base': conda)"
    },
    "language_info": {
      "name": "python",
      "version": "3.8.3",
      "mimetype": "text/x-python",
      "codemirror_mode": {
        "name": "ipython",
        "version": 3
      },
      "pygments_lexer": "ipython3",
      "nbconvert_exporter": "python",
      "file_extension": ".py"
    },
    "interpreter": {
      "hash": "dca0ade3e726a953b501b15e8e990130d2b7799f14cfd9f4271676035ebe5511"
    }
  },
  "cells": [
    {
      "cell_type": "markdown",
      "metadata": {
        "id": "1-33Tjbi1g-G"
      },
      "source": [
        "# Importações"
      ]
    },
    {
      "cell_type": "code",
      "metadata": {
        "id": "fweke0YYzt6W"
      },
      "source": [
        "import os\n",
        "import pandas as pd\n",
        "import numpy as np\n",
        "import matplotlib.pyplot as plt\n",
        "import seaborn as sns\n",
        "from scipy.stats import norm\n",
        "\n",
        "%matplotlib inline\n",
        "\n",
        "plt.rcParams[\"figure.figsize\"] = (16,10)"
      ],
      "execution_count": 1,
      "outputs": []
    },
    {
      "cell_type": "markdown",
      "metadata": {
        "id": "P96XmwX80KK8"
      },
      "source": [
        "# Configurar dataset"
      ]
    },
    {
      "cell_type": "markdown",
      "metadata": {
        "id": "rb-Thjf30Pcg"
      },
      "source": [
        "### Baixar dados "
      ]
    },
    {
      "cell_type": "markdown",
      "metadata": {
        "id": "_eYTlmiDBnAG"
      },
      "source": [
        "**Caso não seja possível baixar os dados do link no dropbox, por favor, baixar no link:**\n",
        "https://www.kaggle.com/ealaxi/paysim1"
      ]
    },
    {
      "cell_type": "code",
      "metadata": {
        "colab": {
          "base_uri": "https://localhost:8080/"
        },
        "id": "5ZDJjMw90Ff7",
        "outputId": "46872594-8c7b-477b-826a-65cb1ea520c8"
      },
      "source": [
        "!wget -O fraud.csv https://www.dropbox.com/s/47hd95t7n8hhlgz/fraude.csv?dl=0"
      ],
      "execution_count": 2,
      "outputs": [
        {
          "output_type": "stream",
          "name": "stdout",
          "text": [
            "--2021-09-04 20:14:45--  https://www.dropbox.com/s/47hd95t7n8hhlgz/fraude.csv?dl=0\n",
            "Resolving www.dropbox.com (www.dropbox.com)... 162.125.81.18, 2620:100:6035:18::a27d:5512\n",
            "Connecting to www.dropbox.com (www.dropbox.com)|162.125.81.18|:443... connected.\n",
            "HTTP request sent, awaiting response... 301 Moved Permanently\n",
            "Location: /s/raw/47hd95t7n8hhlgz/fraude.csv [following]\n",
            "--2021-09-04 20:14:45--  https://www.dropbox.com/s/raw/47hd95t7n8hhlgz/fraude.csv\n",
            "Reusing existing connection to www.dropbox.com:443.\n",
            "HTTP request sent, awaiting response... 302 Found\n",
            "Location: https://ucc359340de665d4cbb9098ea1fb.dl.dropboxusercontent.com/cd/0/inline/BVhflW_VXFKpXtIMOvcyN-ylGSUvOrWdy1_0hswy2uhLZeKEl9KxEf5b1Qn6LqvQwmWudfvLd-PE0_QLNNZnA8wMtlkiEAzRTd-1uji-Jf5xwhe2A-VVu0UPetovwKq7POnXEhl7MD9xyR0KHDh2xZtQ/file# [following]\n",
            "--2021-09-04 20:14:46--  https://ucc359340de665d4cbb9098ea1fb.dl.dropboxusercontent.com/cd/0/inline/BVhflW_VXFKpXtIMOvcyN-ylGSUvOrWdy1_0hswy2uhLZeKEl9KxEf5b1Qn6LqvQwmWudfvLd-PE0_QLNNZnA8wMtlkiEAzRTd-1uji-Jf5xwhe2A-VVu0UPetovwKq7POnXEhl7MD9xyR0KHDh2xZtQ/file\n",
            "Resolving ucc359340de665d4cbb9098ea1fb.dl.dropboxusercontent.com (ucc359340de665d4cbb9098ea1fb.dl.dropboxusercontent.com)... 162.125.81.15, 2620:100:6035:15::a27d:550f\n",
            "Connecting to ucc359340de665d4cbb9098ea1fb.dl.dropboxusercontent.com (ucc359340de665d4cbb9098ea1fb.dl.dropboxusercontent.com)|162.125.81.15|:443... connected.\n",
            "HTTP request sent, awaiting response... 200 OK\n",
            "Length: 493534783 (471M) [text/plain]\n",
            "Saving to: ‘fraud.csv’\n",
            "\n",
            "fraud.csv           100%[===================>] 470.67M  11.3MB/s    in 47s     \n",
            "\n",
            "2021-09-04 20:15:35 (9.94 MB/s) - ‘fraud.csv’ saved [493534783/493534783]\n",
            "\n"
          ]
        }
      ]
    },
    {
      "cell_type": "code",
      "metadata": {
        "id": "2-aWv4X00H8V"
      },
      "source": [
        "dataset_path = \"fraud.csv\""
      ],
      "execution_count": 3,
      "outputs": []
    },
    {
      "cell_type": "markdown",
      "metadata": {
        "id": "gDZNVH7W0VHY"
      },
      "source": [
        "### Ler CSV"
      ]
    },
    {
      "cell_type": "code",
      "metadata": {
        "id": "NaucShLg0Xo2"
      },
      "source": [
        "df = pd.read_csv(dataset_path) "
      ],
      "execution_count": 4,
      "outputs": []
    },
    {
      "cell_type": "markdown",
      "metadata": {
        "id": "n2iQ4f040bHW"
      },
      "source": [
        "# 1 - Análise do Dataset"
      ]
    },
    {
      "cell_type": "markdown",
      "metadata": {
        "id": "uVkQbQWW0icT"
      },
      "source": [
        "### Análise geral"
      ]
    },
    {
      "cell_type": "code",
      "metadata": {
        "id": "fpjAHN5U0det",
        "colab": {
          "base_uri": "https://localhost:8080/",
          "height": 357
        },
        "outputId": "3755cdba-d28d-4c95-e50a-98350c65e99b"
      },
      "source": [
        "df.head(10)"
      ],
      "execution_count": 5,
      "outputs": [
        {
          "output_type": "execute_result",
          "data": {
            "text/html": [
              "<div>\n",
              "<style scoped>\n",
              "    .dataframe tbody tr th:only-of-type {\n",
              "        vertical-align: middle;\n",
              "    }\n",
              "\n",
              "    .dataframe tbody tr th {\n",
              "        vertical-align: top;\n",
              "    }\n",
              "\n",
              "    .dataframe thead th {\n",
              "        text-align: right;\n",
              "    }\n",
              "</style>\n",
              "<table border=\"1\" class=\"dataframe\">\n",
              "  <thead>\n",
              "    <tr style=\"text-align: right;\">\n",
              "      <th></th>\n",
              "      <th>step</th>\n",
              "      <th>type</th>\n",
              "      <th>amount</th>\n",
              "      <th>nameOrig</th>\n",
              "      <th>oldbalanceOrg</th>\n",
              "      <th>newbalanceOrig</th>\n",
              "      <th>nameDest</th>\n",
              "      <th>oldbalanceDest</th>\n",
              "      <th>newbalanceDest</th>\n",
              "      <th>isFraud</th>\n",
              "      <th>isFlaggedFraud</th>\n",
              "    </tr>\n",
              "  </thead>\n",
              "  <tbody>\n",
              "    <tr>\n",
              "      <th>0</th>\n",
              "      <td>1</td>\n",
              "      <td>PAYMENT</td>\n",
              "      <td>9839.64</td>\n",
              "      <td>C1231006815</td>\n",
              "      <td>170136.00</td>\n",
              "      <td>160296.36</td>\n",
              "      <td>M1979787155</td>\n",
              "      <td>0.0</td>\n",
              "      <td>0.00</td>\n",
              "      <td>0</td>\n",
              "      <td>0</td>\n",
              "    </tr>\n",
              "    <tr>\n",
              "      <th>1</th>\n",
              "      <td>1</td>\n",
              "      <td>PAYMENT</td>\n",
              "      <td>1864.28</td>\n",
              "      <td>C1666544295</td>\n",
              "      <td>21249.00</td>\n",
              "      <td>19384.72</td>\n",
              "      <td>M2044282225</td>\n",
              "      <td>0.0</td>\n",
              "      <td>0.00</td>\n",
              "      <td>0</td>\n",
              "      <td>0</td>\n",
              "    </tr>\n",
              "    <tr>\n",
              "      <th>2</th>\n",
              "      <td>1</td>\n",
              "      <td>TRANSFER</td>\n",
              "      <td>181.00</td>\n",
              "      <td>C1305486145</td>\n",
              "      <td>181.00</td>\n",
              "      <td>0.00</td>\n",
              "      <td>C553264065</td>\n",
              "      <td>0.0</td>\n",
              "      <td>0.00</td>\n",
              "      <td>1</td>\n",
              "      <td>0</td>\n",
              "    </tr>\n",
              "    <tr>\n",
              "      <th>3</th>\n",
              "      <td>1</td>\n",
              "      <td>CASH_OUT</td>\n",
              "      <td>181.00</td>\n",
              "      <td>C840083671</td>\n",
              "      <td>181.00</td>\n",
              "      <td>0.00</td>\n",
              "      <td>C38997010</td>\n",
              "      <td>21182.0</td>\n",
              "      <td>0.00</td>\n",
              "      <td>1</td>\n",
              "      <td>0</td>\n",
              "    </tr>\n",
              "    <tr>\n",
              "      <th>4</th>\n",
              "      <td>1</td>\n",
              "      <td>PAYMENT</td>\n",
              "      <td>11668.14</td>\n",
              "      <td>C2048537720</td>\n",
              "      <td>41554.00</td>\n",
              "      <td>29885.86</td>\n",
              "      <td>M1230701703</td>\n",
              "      <td>0.0</td>\n",
              "      <td>0.00</td>\n",
              "      <td>0</td>\n",
              "      <td>0</td>\n",
              "    </tr>\n",
              "    <tr>\n",
              "      <th>5</th>\n",
              "      <td>1</td>\n",
              "      <td>PAYMENT</td>\n",
              "      <td>7817.71</td>\n",
              "      <td>C90045638</td>\n",
              "      <td>53860.00</td>\n",
              "      <td>46042.29</td>\n",
              "      <td>M573487274</td>\n",
              "      <td>0.0</td>\n",
              "      <td>0.00</td>\n",
              "      <td>0</td>\n",
              "      <td>0</td>\n",
              "    </tr>\n",
              "    <tr>\n",
              "      <th>6</th>\n",
              "      <td>1</td>\n",
              "      <td>PAYMENT</td>\n",
              "      <td>7107.77</td>\n",
              "      <td>C154988899</td>\n",
              "      <td>183195.00</td>\n",
              "      <td>176087.23</td>\n",
              "      <td>M408069119</td>\n",
              "      <td>0.0</td>\n",
              "      <td>0.00</td>\n",
              "      <td>0</td>\n",
              "      <td>0</td>\n",
              "    </tr>\n",
              "    <tr>\n",
              "      <th>7</th>\n",
              "      <td>1</td>\n",
              "      <td>PAYMENT</td>\n",
              "      <td>7861.64</td>\n",
              "      <td>C1912850431</td>\n",
              "      <td>176087.23</td>\n",
              "      <td>168225.59</td>\n",
              "      <td>M633326333</td>\n",
              "      <td>0.0</td>\n",
              "      <td>0.00</td>\n",
              "      <td>0</td>\n",
              "      <td>0</td>\n",
              "    </tr>\n",
              "    <tr>\n",
              "      <th>8</th>\n",
              "      <td>1</td>\n",
              "      <td>PAYMENT</td>\n",
              "      <td>4024.36</td>\n",
              "      <td>C1265012928</td>\n",
              "      <td>2671.00</td>\n",
              "      <td>0.00</td>\n",
              "      <td>M1176932104</td>\n",
              "      <td>0.0</td>\n",
              "      <td>0.00</td>\n",
              "      <td>0</td>\n",
              "      <td>0</td>\n",
              "    </tr>\n",
              "    <tr>\n",
              "      <th>9</th>\n",
              "      <td>1</td>\n",
              "      <td>DEBIT</td>\n",
              "      <td>5337.77</td>\n",
              "      <td>C712410124</td>\n",
              "      <td>41720.00</td>\n",
              "      <td>36382.23</td>\n",
              "      <td>C195600860</td>\n",
              "      <td>41898.0</td>\n",
              "      <td>40348.79</td>\n",
              "      <td>0</td>\n",
              "      <td>0</td>\n",
              "    </tr>\n",
              "  </tbody>\n",
              "</table>\n",
              "</div>"
            ],
            "text/plain": [
              "   step      type    amount  ... newbalanceDest  isFraud  isFlaggedFraud\n",
              "0     1   PAYMENT   9839.64  ...           0.00        0               0\n",
              "1     1   PAYMENT   1864.28  ...           0.00        0               0\n",
              "2     1  TRANSFER    181.00  ...           0.00        1               0\n",
              "3     1  CASH_OUT    181.00  ...           0.00        1               0\n",
              "4     1   PAYMENT  11668.14  ...           0.00        0               0\n",
              "5     1   PAYMENT   7817.71  ...           0.00        0               0\n",
              "6     1   PAYMENT   7107.77  ...           0.00        0               0\n",
              "7     1   PAYMENT   7861.64  ...           0.00        0               0\n",
              "8     1   PAYMENT   4024.36  ...           0.00        0               0\n",
              "9     1     DEBIT   5337.77  ...       40348.79        0               0\n",
              "\n",
              "[10 rows x 11 columns]"
            ]
          },
          "metadata": {},
          "execution_count": 5
        }
      ]
    },
    {
      "cell_type": "code",
      "metadata": {
        "id": "antFx-5U0m_I",
        "colab": {
          "base_uri": "https://localhost:8080/"
        },
        "outputId": "d658a8ed-ff75-40d3-cbbe-5548981b77ab"
      },
      "source": [
        "df.shape"
      ],
      "execution_count": 6,
      "outputs": [
        {
          "output_type": "execute_result",
          "data": {
            "text/plain": [
              "(6362620, 11)"
            ]
          },
          "metadata": {},
          "execution_count": 6
        }
      ]
    },
    {
      "cell_type": "code",
      "metadata": {
        "id": "RltbXRlx0oha",
        "colab": {
          "base_uri": "https://localhost:8080/",
          "height": 295
        },
        "outputId": "2089befb-746c-40f4-afdd-c0d649b663f3"
      },
      "source": [
        "df.describe()"
      ],
      "execution_count": 7,
      "outputs": [
        {
          "output_type": "execute_result",
          "data": {
            "text/html": [
              "<div>\n",
              "<style scoped>\n",
              "    .dataframe tbody tr th:only-of-type {\n",
              "        vertical-align: middle;\n",
              "    }\n",
              "\n",
              "    .dataframe tbody tr th {\n",
              "        vertical-align: top;\n",
              "    }\n",
              "\n",
              "    .dataframe thead th {\n",
              "        text-align: right;\n",
              "    }\n",
              "</style>\n",
              "<table border=\"1\" class=\"dataframe\">\n",
              "  <thead>\n",
              "    <tr style=\"text-align: right;\">\n",
              "      <th></th>\n",
              "      <th>step</th>\n",
              "      <th>amount</th>\n",
              "      <th>oldbalanceOrg</th>\n",
              "      <th>newbalanceOrig</th>\n",
              "      <th>oldbalanceDest</th>\n",
              "      <th>newbalanceDest</th>\n",
              "      <th>isFraud</th>\n",
              "      <th>isFlaggedFraud</th>\n",
              "    </tr>\n",
              "  </thead>\n",
              "  <tbody>\n",
              "    <tr>\n",
              "      <th>count</th>\n",
              "      <td>6.362620e+06</td>\n",
              "      <td>6.362620e+06</td>\n",
              "      <td>6.362620e+06</td>\n",
              "      <td>6.362620e+06</td>\n",
              "      <td>6.362620e+06</td>\n",
              "      <td>6.362620e+06</td>\n",
              "      <td>6.362620e+06</td>\n",
              "      <td>6.362620e+06</td>\n",
              "    </tr>\n",
              "    <tr>\n",
              "      <th>mean</th>\n",
              "      <td>2.433972e+02</td>\n",
              "      <td>1.798619e+05</td>\n",
              "      <td>8.338831e+05</td>\n",
              "      <td>8.551137e+05</td>\n",
              "      <td>1.100702e+06</td>\n",
              "      <td>1.224996e+06</td>\n",
              "      <td>1.290820e-03</td>\n",
              "      <td>2.514687e-06</td>\n",
              "    </tr>\n",
              "    <tr>\n",
              "      <th>std</th>\n",
              "      <td>1.423320e+02</td>\n",
              "      <td>6.038582e+05</td>\n",
              "      <td>2.888243e+06</td>\n",
              "      <td>2.924049e+06</td>\n",
              "      <td>3.399180e+06</td>\n",
              "      <td>3.674129e+06</td>\n",
              "      <td>3.590480e-02</td>\n",
              "      <td>1.585775e-03</td>\n",
              "    </tr>\n",
              "    <tr>\n",
              "      <th>min</th>\n",
              "      <td>1.000000e+00</td>\n",
              "      <td>0.000000e+00</td>\n",
              "      <td>0.000000e+00</td>\n",
              "      <td>0.000000e+00</td>\n",
              "      <td>0.000000e+00</td>\n",
              "      <td>0.000000e+00</td>\n",
              "      <td>0.000000e+00</td>\n",
              "      <td>0.000000e+00</td>\n",
              "    </tr>\n",
              "    <tr>\n",
              "      <th>25%</th>\n",
              "      <td>1.560000e+02</td>\n",
              "      <td>1.338957e+04</td>\n",
              "      <td>0.000000e+00</td>\n",
              "      <td>0.000000e+00</td>\n",
              "      <td>0.000000e+00</td>\n",
              "      <td>0.000000e+00</td>\n",
              "      <td>0.000000e+00</td>\n",
              "      <td>0.000000e+00</td>\n",
              "    </tr>\n",
              "    <tr>\n",
              "      <th>50%</th>\n",
              "      <td>2.390000e+02</td>\n",
              "      <td>7.487194e+04</td>\n",
              "      <td>1.420800e+04</td>\n",
              "      <td>0.000000e+00</td>\n",
              "      <td>1.327057e+05</td>\n",
              "      <td>2.146614e+05</td>\n",
              "      <td>0.000000e+00</td>\n",
              "      <td>0.000000e+00</td>\n",
              "    </tr>\n",
              "    <tr>\n",
              "      <th>75%</th>\n",
              "      <td>3.350000e+02</td>\n",
              "      <td>2.087215e+05</td>\n",
              "      <td>1.073152e+05</td>\n",
              "      <td>1.442584e+05</td>\n",
              "      <td>9.430367e+05</td>\n",
              "      <td>1.111909e+06</td>\n",
              "      <td>0.000000e+00</td>\n",
              "      <td>0.000000e+00</td>\n",
              "    </tr>\n",
              "    <tr>\n",
              "      <th>max</th>\n",
              "      <td>7.430000e+02</td>\n",
              "      <td>9.244552e+07</td>\n",
              "      <td>5.958504e+07</td>\n",
              "      <td>4.958504e+07</td>\n",
              "      <td>3.560159e+08</td>\n",
              "      <td>3.561793e+08</td>\n",
              "      <td>1.000000e+00</td>\n",
              "      <td>1.000000e+00</td>\n",
              "    </tr>\n",
              "  </tbody>\n",
              "</table>\n",
              "</div>"
            ],
            "text/plain": [
              "               step        amount  ...       isFraud  isFlaggedFraud\n",
              "count  6.362620e+06  6.362620e+06  ...  6.362620e+06    6.362620e+06\n",
              "mean   2.433972e+02  1.798619e+05  ...  1.290820e-03    2.514687e-06\n",
              "std    1.423320e+02  6.038582e+05  ...  3.590480e-02    1.585775e-03\n",
              "min    1.000000e+00  0.000000e+00  ...  0.000000e+00    0.000000e+00\n",
              "25%    1.560000e+02  1.338957e+04  ...  0.000000e+00    0.000000e+00\n",
              "50%    2.390000e+02  7.487194e+04  ...  0.000000e+00    0.000000e+00\n",
              "75%    3.350000e+02  2.087215e+05  ...  0.000000e+00    0.000000e+00\n",
              "max    7.430000e+02  9.244552e+07  ...  1.000000e+00    1.000000e+00\n",
              "\n",
              "[8 rows x 8 columns]"
            ]
          },
          "metadata": {},
          "execution_count": 7
        }
      ]
    },
    {
      "cell_type": "code",
      "metadata": {
        "id": "P9dcf5Fn0pzV",
        "colab": {
          "base_uri": "https://localhost:8080/"
        },
        "outputId": "ca2052c1-ee32-437e-b04b-1b7ceee448c1"
      },
      "source": [
        "df.info()"
      ],
      "execution_count": 8,
      "outputs": [
        {
          "output_type": "stream",
          "name": "stdout",
          "text": [
            "<class 'pandas.core.frame.DataFrame'>\n",
            "RangeIndex: 6362620 entries, 0 to 6362619\n",
            "Data columns (total 11 columns):\n",
            " #   Column          Dtype  \n",
            "---  ------          -----  \n",
            " 0   step            int64  \n",
            " 1   type            object \n",
            " 2   amount          float64\n",
            " 3   nameOrig        object \n",
            " 4   oldbalanceOrg   float64\n",
            " 5   newbalanceOrig  float64\n",
            " 6   nameDest        object \n",
            " 7   oldbalanceDest  float64\n",
            " 8   newbalanceDest  float64\n",
            " 9   isFraud         int64  \n",
            " 10  isFlaggedFraud  int64  \n",
            "dtypes: float64(5), int64(3), object(3)\n",
            "memory usage: 534.0+ MB\n"
          ]
        }
      ]
    },
    {
      "cell_type": "markdown",
      "metadata": {
        "id": "fqM-zL3a0qaP"
      },
      "source": [
        "### 1.1 - Verificando nulos"
      ]
    },
    {
      "cell_type": "code",
      "metadata": {
        "id": "GOSGFkJ-0s0X",
        "colab": {
          "base_uri": "https://localhost:8080/"
        },
        "outputId": "18f2fc19-4349-4e83-db31-734bc72f1b06"
      },
      "source": [
        "df.isnull().sum()"
      ],
      "execution_count": 9,
      "outputs": [
        {
          "output_type": "execute_result",
          "data": {
            "text/plain": [
              "step              0\n",
              "type              0\n",
              "amount            0\n",
              "nameOrig          0\n",
              "oldbalanceOrg     0\n",
              "newbalanceOrig    0\n",
              "nameDest          0\n",
              "oldbalanceDest    0\n",
              "newbalanceDest    0\n",
              "isFraud           0\n",
              "isFlaggedFraud    0\n",
              "dtype: int64"
            ]
          },
          "metadata": {},
          "execution_count": 9
        }
      ]
    },
    {
      "cell_type": "markdown",
      "metadata": {
        "id": "8ap-o4oj0x5f"
      },
      "source": [
        "### 1.2 - Tirando linhas duplicadas"
      ]
    },
    {
      "cell_type": "code",
      "metadata": {
        "id": "odjpLors00uY"
      },
      "source": [
        "df.drop_duplicates(inplace=True)"
      ],
      "execution_count": 10,
      "outputs": []
    },
    {
      "cell_type": "code",
      "metadata": {
        "id": "Hq7UhcR501QN",
        "colab": {
          "base_uri": "https://localhost:8080/"
        },
        "outputId": "94f8c647-ef13-47c2-de1f-05316c27c995"
      },
      "source": [
        "df.shape"
      ],
      "execution_count": 11,
      "outputs": [
        {
          "output_type": "execute_result",
          "data": {
            "text/plain": [
              "(6362620, 11)"
            ]
          },
          "metadata": {},
          "execution_count": 11
        }
      ]
    },
    {
      "cell_type": "markdown",
      "metadata": {
        "id": "5fgwju3P06uq"
      },
      "source": [
        "### 1.3 - Visualizar variáveis categóricas"
      ]
    },
    {
      "cell_type": "code",
      "metadata": {
        "id": "ovXwQ15t09RZ",
        "colab": {
          "base_uri": "https://localhost:8080/"
        },
        "outputId": "e478f11a-cb6f-4470-8fa2-d16c6e4972cd"
      },
      "source": [
        "df[\"type\"].unique()"
      ],
      "execution_count": 12,
      "outputs": [
        {
          "output_type": "execute_result",
          "data": {
            "text/plain": [
              "array(['PAYMENT', 'TRANSFER', 'CASH_OUT', 'DEBIT', 'CASH_IN'],\n",
              "      dtype=object)"
            ]
          },
          "metadata": {},
          "execution_count": 12
        }
      ]
    },
    {
      "cell_type": "code",
      "metadata": {
        "id": "uT4rJrz815B-",
        "colab": {
          "base_uri": "https://localhost:8080/"
        },
        "outputId": "a36dea6b-8c66-4205-ab60-06a8bbeaed1d"
      },
      "source": [
        "df[\"type\"].value_counts()"
      ],
      "execution_count": 13,
      "outputs": [
        {
          "output_type": "execute_result",
          "data": {
            "text/plain": [
              "CASH_OUT    2237500\n",
              "PAYMENT     2151495\n",
              "CASH_IN     1399284\n",
              "TRANSFER     532909\n",
              "DEBIT         41432\n",
              "Name: type, dtype: int64"
            ]
          },
          "metadata": {},
          "execution_count": 13
        }
      ]
    },
    {
      "cell_type": "code",
      "metadata": {
        "id": "VoC8V1G30_05",
        "colab": {
          "base_uri": "https://localhost:8080/"
        },
        "outputId": "65058959-f082-4f9f-9f5d-dd1eb1cd2893"
      },
      "source": [
        "df['isFraud'].value_counts()"
      ],
      "execution_count": 14,
      "outputs": [
        {
          "output_type": "execute_result",
          "data": {
            "text/plain": [
              "0    6354407\n",
              "1       8213\n",
              "Name: isFraud, dtype: int64"
            ]
          },
          "metadata": {},
          "execution_count": 14
        }
      ]
    },
    {
      "cell_type": "code",
      "metadata": {
        "id": "KxvitvYK1DBW",
        "colab": {
          "base_uri": "https://localhost:8080/",
          "height": 305
        },
        "outputId": "81c1994b-ca30-4677-ea29-dc14aa4d6326"
      },
      "source": [
        "sns.countplot(y=df[\"type\"],order=df[\"type\"].value_counts().index);\n",
        "plt.title(\"Tipo de Transação\", fontdict={'fontsize':18}, pad=12);"
      ],
      "execution_count": 15,
      "outputs": [
        {
          "output_type": "display_data",
          "data": {
            "image/png": "[encoded data removed]",
            "text/plain": [
              "<Figure size 432x288 with 1 Axes>"
            ]
          },
          "metadata": {
            "needs_background": "light"
          }
        }
      ]
    },
    {
      "cell_type": "code",
      "metadata": {
        "id": "yeYb6raW1FEA",
        "colab": {
          "base_uri": "https://localhost:8080/"
        },
        "outputId": "c66bafa7-4666-4685-971b-9e599acecfc4"
      },
      "source": [
        "alfabeto = [\"a\",\"b\",\"c\",\"d\",\"e\",\"f\",\"g\",\"h\",\"i\",\"j\",\"k\",\"l\",\"m\",\"n\",\"o\",\"p\",\"q\",\"r\",\"s\",\"t\",\"u\",\"v\",\"w\",\"x\",\"y\",\"z\"]\n",
        "nome_orig_dict = {}\n",
        "for i in alfabeto:\n",
        "    nome_orig_dict[i] = 0\n",
        "\n",
        "for i in df[\"nameOrig\"]:\n",
        "    inicial_nome_orig = i[0].lower()\n",
        "    nome_orig_dict[inicial_nome_orig] = nome_orig_dict[inicial_nome_orig]+1\n",
        "\n",
        "for i in nome_orig_dict:\n",
        "    if nome_orig_dict[i]!=0:\n",
        "        print(f\"{i.upper()}: {nome_orig_dict[i]}\")"
      ],
      "execution_count": 16,
      "outputs": [
        {
          "output_type": "stream",
          "name": "stdout",
          "text": [
            "C: 6362620\n"
          ]
        }
      ]
    },
    {
      "cell_type": "code",
      "metadata": {
        "id": "G6l8z3ou1Gwn",
        "colab": {
          "base_uri": "https://localhost:8080/"
        },
        "outputId": "94ad8714-0238-4b2b-f78f-a220c0b0424c"
      },
      "source": [
        "alfabeto = [\"a\",\"b\",\"c\",\"d\",\"e\",\"f\",\"g\",\"h\",\"i\",\"j\",\"k\",\"l\",\"m\",\"n\",\"o\",\"p\",\"q\",\"r\",\"s\",\"t\",\"u\",\"v\",\"w\",\"x\",\"y\",\"z\"]\n",
        "nome_dest_dict = {}\n",
        "for i in alfabeto:\n",
        "    nome_dest_dict[i] = 0\n",
        "\n",
        "for i in df[\"nameDest\"]:\n",
        "    inicial_nome_dest = i[0].lower()\n",
        "    nome_dest_dict[inicial_nome_dest] = nome_dest_dict[inicial_nome_dest]+1\n",
        "\n",
        "for i in nome_dest_dict:\n",
        "    if nome_dest_dict[i]!=0:\n",
        "        print(f\"{i.upper()}: {nome_dest_dict[i]}\")"
      ],
      "execution_count": 17,
      "outputs": [
        {
          "output_type": "stream",
          "name": "stdout",
          "text": [
            "C: 4211125\n",
            "M: 2151495\n"
          ]
        }
      ]
    },
    {
      "cell_type": "code",
      "metadata": {
        "id": "PHfVTuUN1IUK",
        "colab": {
          "base_uri": "https://localhost:8080/",
          "height": 305
        },
        "outputId": "67b582cb-08c6-496d-9b99-99e146ad85b1"
      },
      "source": [
        "plt.bar(*zip(*nome_dest_dict.items()));\n",
        "plt.title(\"Iniciais dos nomes destino\", fontdict={'fontsize':18}, pad=12);\n",
        "plt.xlabel('letters');\n",
        "plt.ylabel('count');"
      ],
      "execution_count": 18,
      "outputs": [
        {
          "output_type": "display_data",
          "data": {
            "image/png": "[encoded data removed]",
            "text/plain": [
              "<Figure size 432x288 with 1 Axes>"
            ]
          },
          "metadata": {
            "needs_background": "light"
          }
        }
      ]
    },
    {
      "cell_type": "code",
      "metadata": {
        "id": "reV-VvSQ1KC4",
        "colab": {
          "base_uri": "https://localhost:8080/",
          "height": 366
        },
        "outputId": "c4054832-81ef-4f88-9328-ad4a3f995cb9"
      },
      "source": [
        "dfFlaggedFraud = df[[\"type\",\"isFlaggedFraud\"]]\n",
        "dfFlaggedFraud = dfFlaggedFraud.groupby(\"type\").sum()\n",
        "dfFlaggedFraud.plot.bar()\n",
        "plt.title(\"É fraude ou não?\", fontdict={'fontsize':18}, pad=12);\n",
        "plt.xlabel('transaction type');\n",
        "plt.ylabel('isFlaggedFraud')"
      ],
      "execution_count": 19,
      "outputs": [
        {
          "output_type": "execute_result",
          "data": {
            "text/plain": [
              "Text(0, 0.5, 'isFlaggedFraud')"
            ]
          },
          "metadata": {},
          "execution_count": 19
        },
        {
          "output_type": "display_data",
          "data": {
            "image/png": "[encoded data removed]",
            "text/plain": [
              "<Figure size 432x288 with 1 Axes>"
            ]
          },
          "metadata": {
            "needs_background": "light"
          }
        }
      ]
    },
    {
      "cell_type": "code",
      "metadata": {
        "id": "-1g-E8fk1L1P",
        "colab": {
          "base_uri": "https://localhost:8080/",
          "height": 292
        },
        "outputId": "f6508ff9-32f1-4644-870e-92d5c66d259e"
      },
      "source": [
        "dfFraudVSFlaggedFraud = df[[\"isFraud\",\"isFlaggedFraud\"]]\n",
        "dfFraudHeatmap = sns.heatmap(dfFraudVSFlaggedFraud.corr(), annot=True)\n",
        "dfFraudHeatmap.set_title('Matriz Correlação', fontdict={'fontsize':18}, pad=12);"
      ],
      "execution_count": 20,
      "outputs": [
        {
          "output_type": "display_data",
          "data": {
            "image/png": "[encoded data removed]",
            "text/plain": [
              "<Figure size 432x288 with 2 Axes>"
            ]
          },
          "metadata": {
            "needs_background": "light"
          }
        }
      ]
    },
    {
      "cell_type": "markdown",
      "metadata": {
        "id": "s5xlVeBo1PHk"
      },
      "source": [
        "### 1.4 - Visualizar variáveis numéricas"
      ]
    },
    {
      "cell_type": "code",
      "metadata": {
        "id": "Jub0FJqp1P4I",
        "colab": {
          "base_uri": "https://localhost:8080/",
          "height": 306
        },
        "outputId": "0a6b0781-0fd1-4f44-b102-e6d71cae8337"
      },
      "source": [
        "plt.hist(df['amount'], bins=25);\n",
        "plt.yscale('log')\n",
        "plt.ylabel('Frequency')\n",
        "plt.xticks(range(0,int(1.05*1e8),int(5*1e6)))\n",
        "plt.xlabel('Amount');\n",
        "plt.title(\"Frequência de valores da transação\", fontdict={'fontsize':18}, pad=12);"
      ],
      "execution_count": 21,
      "outputs": [
        {
          "output_type": "display_data",
          "data": {
            "image/png": "[encoded data removed]",
            "text/plain": [
              "<Figure size 432x288 with 1 Axes>"
            ]
          },
          "metadata": {
            "needs_background": "light"
          }
        }
      ]
    },
    {
      "cell_type": "code",
      "metadata": {
        "id": "CJ7gzBAT1TIo",
        "colab": {
          "base_uri": "https://localhost:8080/",
          "height": 306
        },
        "outputId": "0ba429c2-b6c8-4ae6-a27e-80fd8e1b45e5"
      },
      "source": [
        "plt.hist(df['oldbalanceOrg'], bins=25);\n",
        "plt.yscale('log')\n",
        "plt.ylabel('Frequency')\n",
        "plt.xticks(range(0,int(6.5*1e7),int(5*1e6)))\n",
        "plt.xlabel('Amount');\n",
        "plt.title(\"Frequência dos valores originais da transação\", fontdict={'fontsize':18}, pad=12);"
      ],
      "execution_count": 22,
      "outputs": [
        {
          "output_type": "display_data",
          "data": {
            "image/png": "[encoded data removed]",
            "text/plain": [
              "<Figure size 432x288 with 1 Axes>"
            ]
          },
          "metadata": {
            "needs_background": "light"
          }
        }
      ]
    },
    {
      "cell_type": "code",
      "metadata": {
        "id": "ybmo5ndz1UoT",
        "colab": {
          "base_uri": "https://localhost:8080/",
          "height": 306
        },
        "outputId": "597e847f-9833-47e4-d4e6-0b7e301ed201"
      },
      "source": [
        "plt.hist(df['newbalanceOrig'], bins=25);\n",
        "plt.yscale('log')\n",
        "plt.ylabel('Frequency')\n",
        "plt.xticks(range(0,int(5.5*1e7),int(5*1e6)))\n",
        "plt.xlabel('Amount');\n",
        "plt.title(\"Frequência dos novos valores da transação\", fontdict={'fontsize':18}, pad=12);"
      ],
      "execution_count": 23,
      "outputs": [
        {
          "output_type": "display_data",
          "data": {
            "image/png": "[encoded data removed]",
            "text/plain": [
              "<Figure size 432x288 with 1 Axes>"
            ]
          },
          "metadata": {
            "needs_background": "light"
          }
        }
      ]
    },
    {
      "cell_type": "code",
      "metadata": {
        "id": "Gx2qmEq81WIR",
        "colab": {
          "base_uri": "https://localhost:8080/",
          "height": 306
        },
        "outputId": "426ee69e-7622-4143-f1a0-0d8c59fd1ad2"
      },
      "source": [
        "plt.hist(df['oldbalanceDest'], bins=25);\n",
        "plt.yscale('log')\n",
        "plt.ylabel('Frequency')\n",
        "plt.xticks(range(0,int(4.5*1e8),int(5*1e7)))\n",
        "plt.xlabel('Amount');\n",
        "plt.title(\"Frequência dos valores originais do recipiente da transação\", fontdict={'fontsize':18}, pad=12);"
      ],
      "execution_count": 24,
      "outputs": [
        {
          "output_type": "display_data",
          "data": {
            "image/png": "[encoded data removed]",
            "text/plain": [
              "<Figure size 432x288 with 1 Axes>"
            ]
          },
          "metadata": {
            "needs_background": "light"
          }
        }
      ]
    },
    {
      "cell_type": "code",
      "metadata": {
        "id": "JKJhL_Qq1Xj9",
        "colab": {
          "base_uri": "https://localhost:8080/",
          "height": 306
        },
        "outputId": "9f1d18a8-2090-40e5-93d7-df52d483afa1"
      },
      "source": [
        "plt.hist(df['newbalanceDest'], bins=25);\n",
        "plt.yscale('log')\n",
        "plt.ylabel('Frequency')\n",
        "plt.xticks(range(0,int(4.5*1e8),int(5*1e7)))\n",
        "plt.xlabel('Amount');\n",
        "plt.title(\"Frequência dos novos valores do recipiente da transação\", fontdict={'fontsize':18}, pad=12);"
      ],
      "execution_count": 25,
      "outputs": [
        {
          "output_type": "display_data",
          "data": {
            "image/png": "[encoded data removed]",
            "text/plain": [
              "<Figure size 432x288 with 1 Axes>"
            ]
          },
          "metadata": {
            "needs_background": "light"
          }
        }
      ]
    },
    {
      "cell_type": "markdown",
      "metadata": {
        "id": "WpfFmJFO1Zpp"
      },
      "source": [
        "### 1.5 - Matriz de Correlação"
      ]
    },
    {
      "cell_type": "code",
      "metadata": {
        "id": "GPHPVHvf1aNh",
        "colab": {
          "base_uri": "https://localhost:8080/",
          "height": 364
        },
        "outputId": "bb15fc7f-4d1e-42e7-8693-35178f997b08"
      },
      "source": [
        "heatmap = sns.heatmap(df.corr(), annot=True)\n",
        "heatmap.set_title('Matriz Correlação', fontdict={'fontsize':18}, pad=12);"
      ],
      "execution_count": 26,
      "outputs": [
        {
          "output_type": "display_data",
          "data": {
            "image/png": "[encoded data removed]",
            "text/plain": [
              "<Figure size 432x288 with 2 Axes>"
            ]
          },
          "metadata": {
            "needs_background": "light"
          }
        }
      ]
    },
    {
      "cell_type": "markdown",
      "metadata": {
        "id": "hjAQ5E8B9ZOZ"
      },
      "source": [
        "# Obs:\n",
        "Como o dataset não possuía duplicatas ou valores nulos, não foi modificado. Logo, não é necessário salvá-lo ao fim da análise."
      ]
    }
  ]
}