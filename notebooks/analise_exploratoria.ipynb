{
  "nbformat": 4,
  "nbformat_minor": 2,
  "metadata": {
    "colab": {
      "name": "analise_exploratoria.ipynb",
      "provenance": []
    },
    "kernelspec": {
      "name": "python3",
      "display_name": "Python 3.8.3 64-bit ('base': conda)"
    },
    "language_info": {
      "name": "python",
      "version": "3.8.3",
      "mimetype": "text/x-python",
      "codemirror_mode": {
        "name": "ipython",
        "version": 3
      },
      "pygments_lexer": "ipython3",
      "nbconvert_exporter": "python",
      "file_extension": ".py"
    },
    "interpreter": {
      "hash": "dca0ade3e726a953b501b15e8e990130d2b7799f14cfd9f4271676035ebe5511"
    }
  },
  "cells": [
    {
      "cell_type": "markdown",
      "source": [
        "# Importações"
      ],
      "metadata": {
        "id": "1-33Tjbi1g-G"
      }
    },
    {
      "cell_type": "code",
      "execution_count": 1,
      "source": [
        "import os\n",
        "import pandas as pd\n",
        "import numpy as np\n",
        "import matplotlib.pyplot as plt\n",
        "import seaborn as sns\n",
        "from scipy.stats import norm\n",
        "\n",
        "%matplotlib inline\n",
        "\n",
        "plt.rcParams[\"figure.figsize\"] = (16,10)"
      ],
      "outputs": [],
      "metadata": {
        "id": "fweke0YYzt6W"
      }
    },
    {
      "cell_type": "markdown",
      "source": [
        "# Configurar dataset"
      ],
      "metadata": {
        "id": "P96XmwX80KK8"
      }
    },
    {
      "cell_type": "markdown",
      "source": [
        "### Baixar dados "
      ],
      "metadata": {
        "id": "rb-Thjf30Pcg"
      }
    },
    {
      "cell_type": "code",
      "execution_count": 2,
      "source": [
        "!wget -O fraud.csv https://www.dropbox.com/s/47hd95t7n8hhlgz/fraude.csv?dl=0"
      ],
      "outputs": [
        {
          "output_type": "stream",
          "name": "stdout",
          "text": [
            "zsh:1: no matches found: https://www.dropbox.com/s/47hd95t7n8hhlgz/fraude.csv?dl=0\n"
          ]
        }
      ],
      "metadata": {
        "colab": {
          "base_uri": "https://localhost:8080/"
        },
        "id": "5ZDJjMw90Ff7",
        "outputId": "70c93fa3-2b96-4349-c8b0-2192c57943e2"
      }
    },
    {
      "cell_type": "code",
      "execution_count": 3,
      "source": [
        "dataset_path = \"fraud.csv\""
      ],
      "outputs": [],
      "metadata": {
        "id": "2-aWv4X00H8V"
      }
    },
    {
      "cell_type": "markdown",
      "source": [
        "### Ler CSV"
      ],
      "metadata": {
        "id": "gDZNVH7W0VHY"
      }
    },
    {
      "cell_type": "code",
      "execution_count": 4,
      "source": [
        "df = pd.read_csv(dataset_path) "
      ],
      "outputs": [
        {
          "output_type": "error",
          "ename": "FileNotFoundError",
          "evalue": "[Errno 2] File fraud.csv does not exist: 'fraud.csv'",
          "traceback": [
            "\u001b[0;31m---------------------------------------------------------------------------\u001b[0m",
            "\u001b[0;31mFileNotFoundError\u001b[0m                         Traceback (most recent call last)",
            "\u001b[0;32m<ipython-input-4-adbdf04229e6>\u001b[0m in \u001b[0;36m<module>\u001b[0;34m\u001b[0m\n\u001b[0;32m----> 1\u001b[0;31m \u001b[0mdf\u001b[0m \u001b[0;34m=\u001b[0m \u001b[0mpd\u001b[0m\u001b[0;34m.\u001b[0m\u001b[0mread_csv\u001b[0m\u001b[0;34m(\u001b[0m\u001b[0mdataset_path\u001b[0m\u001b[0;34m)\u001b[0m\u001b[0;34m\u001b[0m\u001b[0;34m\u001b[0m\u001b[0m\n\u001b[0m",
            "\u001b[0;32m/opt/anaconda3/lib/python3.8/site-packages/pandas/io/parsers.py\u001b[0m in \u001b[0;36mparser_f\u001b[0;34m(filepath_or_buffer, sep, delimiter, header, names, index_col, usecols, squeeze, prefix, mangle_dupe_cols, dtype, engine, converters, true_values, false_values, skipinitialspace, skiprows, skipfooter, nrows, na_values, keep_default_na, na_filter, verbose, skip_blank_lines, parse_dates, infer_datetime_format, keep_date_col, date_parser, dayfirst, cache_dates, iterator, chunksize, compression, thousands, decimal, lineterminator, quotechar, quoting, doublequote, escapechar, comment, encoding, dialect, error_bad_lines, warn_bad_lines, delim_whitespace, low_memory, memory_map, float_precision)\u001b[0m\n\u001b[1;32m    674\u001b[0m         )\n\u001b[1;32m    675\u001b[0m \u001b[0;34m\u001b[0m\u001b[0m\n\u001b[0;32m--> 676\u001b[0;31m         \u001b[0;32mreturn\u001b[0m \u001b[0m_read\u001b[0m\u001b[0;34m(\u001b[0m\u001b[0mfilepath_or_buffer\u001b[0m\u001b[0;34m,\u001b[0m \u001b[0mkwds\u001b[0m\u001b[0;34m)\u001b[0m\u001b[0;34m\u001b[0m\u001b[0;34m\u001b[0m\u001b[0m\n\u001b[0m\u001b[1;32m    677\u001b[0m \u001b[0;34m\u001b[0m\u001b[0m\n\u001b[1;32m    678\u001b[0m     \u001b[0mparser_f\u001b[0m\u001b[0;34m.\u001b[0m\u001b[0m__name__\u001b[0m \u001b[0;34m=\u001b[0m \u001b[0mname\u001b[0m\u001b[0;34m\u001b[0m\u001b[0;34m\u001b[0m\u001b[0m\n",
            "\u001b[0;32m/opt/anaconda3/lib/python3.8/site-packages/pandas/io/parsers.py\u001b[0m in \u001b[0;36m_read\u001b[0;34m(filepath_or_buffer, kwds)\u001b[0m\n\u001b[1;32m    446\u001b[0m \u001b[0;34m\u001b[0m\u001b[0m\n\u001b[1;32m    447\u001b[0m     \u001b[0;31m# Create the parser.\u001b[0m\u001b[0;34m\u001b[0m\u001b[0;34m\u001b[0m\u001b[0;34m\u001b[0m\u001b[0m\n\u001b[0;32m--> 448\u001b[0;31m     \u001b[0mparser\u001b[0m \u001b[0;34m=\u001b[0m \u001b[0mTextFileReader\u001b[0m\u001b[0;34m(\u001b[0m\u001b[0mfp_or_buf\u001b[0m\u001b[0;34m,\u001b[0m \u001b[0;34m**\u001b[0m\u001b[0mkwds\u001b[0m\u001b[0;34m)\u001b[0m\u001b[0;34m\u001b[0m\u001b[0;34m\u001b[0m\u001b[0m\n\u001b[0m\u001b[1;32m    449\u001b[0m \u001b[0;34m\u001b[0m\u001b[0m\n\u001b[1;32m    450\u001b[0m     \u001b[0;32mif\u001b[0m \u001b[0mchunksize\u001b[0m \u001b[0;32mor\u001b[0m \u001b[0miterator\u001b[0m\u001b[0;34m:\u001b[0m\u001b[0;34m\u001b[0m\u001b[0;34m\u001b[0m\u001b[0m\n",
            "\u001b[0;32m/opt/anaconda3/lib/python3.8/site-packages/pandas/io/parsers.py\u001b[0m in \u001b[0;36m__init__\u001b[0;34m(self, f, engine, **kwds)\u001b[0m\n\u001b[1;32m    878\u001b[0m             \u001b[0mself\u001b[0m\u001b[0;34m.\u001b[0m\u001b[0moptions\u001b[0m\u001b[0;34m[\u001b[0m\u001b[0;34m\"has_index_names\"\u001b[0m\u001b[0;34m]\u001b[0m \u001b[0;34m=\u001b[0m \u001b[0mkwds\u001b[0m\u001b[0;34m[\u001b[0m\u001b[0;34m\"has_index_names\"\u001b[0m\u001b[0;34m]\u001b[0m\u001b[0;34m\u001b[0m\u001b[0;34m\u001b[0m\u001b[0m\n\u001b[1;32m    879\u001b[0m \u001b[0;34m\u001b[0m\u001b[0m\n\u001b[0;32m--> 880\u001b[0;31m         \u001b[0mself\u001b[0m\u001b[0;34m.\u001b[0m\u001b[0m_make_engine\u001b[0m\u001b[0;34m(\u001b[0m\u001b[0mself\u001b[0m\u001b[0;34m.\u001b[0m\u001b[0mengine\u001b[0m\u001b[0;34m)\u001b[0m\u001b[0;34m\u001b[0m\u001b[0;34m\u001b[0m\u001b[0m\n\u001b[0m\u001b[1;32m    881\u001b[0m \u001b[0;34m\u001b[0m\u001b[0m\n\u001b[1;32m    882\u001b[0m     \u001b[0;32mdef\u001b[0m \u001b[0mclose\u001b[0m\u001b[0;34m(\u001b[0m\u001b[0mself\u001b[0m\u001b[0;34m)\u001b[0m\u001b[0;34m:\u001b[0m\u001b[0;34m\u001b[0m\u001b[0;34m\u001b[0m\u001b[0m\n",
            "\u001b[0;32m/opt/anaconda3/lib/python3.8/site-packages/pandas/io/parsers.py\u001b[0m in \u001b[0;36m_make_engine\u001b[0;34m(self, engine)\u001b[0m\n\u001b[1;32m   1112\u001b[0m     \u001b[0;32mdef\u001b[0m \u001b[0m_make_engine\u001b[0m\u001b[0;34m(\u001b[0m\u001b[0mself\u001b[0m\u001b[0;34m,\u001b[0m \u001b[0mengine\u001b[0m\u001b[0;34m=\u001b[0m\u001b[0;34m\"c\"\u001b[0m\u001b[0;34m)\u001b[0m\u001b[0;34m:\u001b[0m\u001b[0;34m\u001b[0m\u001b[0;34m\u001b[0m\u001b[0m\n\u001b[1;32m   1113\u001b[0m         \u001b[0;32mif\u001b[0m \u001b[0mengine\u001b[0m \u001b[0;34m==\u001b[0m \u001b[0;34m\"c\"\u001b[0m\u001b[0;34m:\u001b[0m\u001b[0;34m\u001b[0m\u001b[0;34m\u001b[0m\u001b[0m\n\u001b[0;32m-> 1114\u001b[0;31m             \u001b[0mself\u001b[0m\u001b[0;34m.\u001b[0m\u001b[0m_engine\u001b[0m \u001b[0;34m=\u001b[0m \u001b[0mCParserWrapper\u001b[0m\u001b[0;34m(\u001b[0m\u001b[0mself\u001b[0m\u001b[0;34m.\u001b[0m\u001b[0mf\u001b[0m\u001b[0;34m,\u001b[0m \u001b[0;34m**\u001b[0m\u001b[0mself\u001b[0m\u001b[0;34m.\u001b[0m\u001b[0moptions\u001b[0m\u001b[0;34m)\u001b[0m\u001b[0;34m\u001b[0m\u001b[0;34m\u001b[0m\u001b[0m\n\u001b[0m\u001b[1;32m   1115\u001b[0m         \u001b[0;32melse\u001b[0m\u001b[0;34m:\u001b[0m\u001b[0;34m\u001b[0m\u001b[0;34m\u001b[0m\u001b[0m\n\u001b[1;32m   1116\u001b[0m             \u001b[0;32mif\u001b[0m \u001b[0mengine\u001b[0m \u001b[0;34m==\u001b[0m \u001b[0;34m\"python\"\u001b[0m\u001b[0;34m:\u001b[0m\u001b[0;34m\u001b[0m\u001b[0;34m\u001b[0m\u001b[0m\n",
            "\u001b[0;32m/opt/anaconda3/lib/python3.8/site-packages/pandas/io/parsers.py\u001b[0m in \u001b[0;36m__init__\u001b[0;34m(self, src, **kwds)\u001b[0m\n\u001b[1;32m   1889\u001b[0m         \u001b[0mkwds\u001b[0m\u001b[0;34m[\u001b[0m\u001b[0;34m\"usecols\"\u001b[0m\u001b[0;34m]\u001b[0m \u001b[0;34m=\u001b[0m \u001b[0mself\u001b[0m\u001b[0;34m.\u001b[0m\u001b[0musecols\u001b[0m\u001b[0;34m\u001b[0m\u001b[0;34m\u001b[0m\u001b[0m\n\u001b[1;32m   1890\u001b[0m \u001b[0;34m\u001b[0m\u001b[0m\n\u001b[0;32m-> 1891\u001b[0;31m         \u001b[0mself\u001b[0m\u001b[0;34m.\u001b[0m\u001b[0m_reader\u001b[0m \u001b[0;34m=\u001b[0m \u001b[0mparsers\u001b[0m\u001b[0;34m.\u001b[0m\u001b[0mTextReader\u001b[0m\u001b[0;34m(\u001b[0m\u001b[0msrc\u001b[0m\u001b[0;34m,\u001b[0m \u001b[0;34m**\u001b[0m\u001b[0mkwds\u001b[0m\u001b[0;34m)\u001b[0m\u001b[0;34m\u001b[0m\u001b[0;34m\u001b[0m\u001b[0m\n\u001b[0m\u001b[1;32m   1892\u001b[0m         \u001b[0mself\u001b[0m\u001b[0;34m.\u001b[0m\u001b[0munnamed_cols\u001b[0m \u001b[0;34m=\u001b[0m \u001b[0mself\u001b[0m\u001b[0;34m.\u001b[0m\u001b[0m_reader\u001b[0m\u001b[0;34m.\u001b[0m\u001b[0munnamed_cols\u001b[0m\u001b[0;34m\u001b[0m\u001b[0;34m\u001b[0m\u001b[0m\n\u001b[1;32m   1893\u001b[0m \u001b[0;34m\u001b[0m\u001b[0m\n",
            "\u001b[0;32mpandas/_libs/parsers.pyx\u001b[0m in \u001b[0;36mpandas._libs.parsers.TextReader.__cinit__\u001b[0;34m()\u001b[0m\n",
            "\u001b[0;32mpandas/_libs/parsers.pyx\u001b[0m in \u001b[0;36mpandas._libs.parsers.TextReader._setup_parser_source\u001b[0;34m()\u001b[0m\n",
            "\u001b[0;31mFileNotFoundError\u001b[0m: [Errno 2] File fraud.csv does not exist: 'fraud.csv'"
          ]
        }
      ],
      "metadata": {
        "id": "NaucShLg0Xo2"
      }
    },
    {
      "cell_type": "markdown",
      "source": [
        "# 1 - Análise do Dataset"
      ],
      "metadata": {
        "id": "n2iQ4f040bHW"
      }
    },
    {
      "cell_type": "markdown",
      "source": [
        "### Análise geral"
      ],
      "metadata": {
        "id": "uVkQbQWW0icT"
      }
    },
    {
      "cell_type": "code",
      "execution_count": null,
      "source": [
        "df.head(10)"
      ],
      "outputs": [],
      "metadata": {
        "id": "fpjAHN5U0det"
      }
    },
    {
      "cell_type": "code",
      "execution_count": null,
      "source": [
        "df.shape"
      ],
      "outputs": [],
      "metadata": {
        "id": "antFx-5U0m_I"
      }
    },
    {
      "cell_type": "code",
      "execution_count": null,
      "source": [
        "df.describe()"
      ],
      "outputs": [],
      "metadata": {
        "id": "RltbXRlx0oha"
      }
    },
    {
      "cell_type": "code",
      "execution_count": null,
      "source": [
        "df.info()"
      ],
      "outputs": [],
      "metadata": {
        "id": "P9dcf5Fn0pzV"
      }
    },
    {
      "cell_type": "markdown",
      "source": [
        "### 1.1 - Verificando nulos"
      ],
      "metadata": {
        "id": "fqM-zL3a0qaP"
      }
    },
    {
      "cell_type": "code",
      "execution_count": null,
      "source": [
        "df.isnull().sum()"
      ],
      "outputs": [],
      "metadata": {
        "id": "GOSGFkJ-0s0X"
      }
    },
    {
      "cell_type": "markdown",
      "source": [
        "### 1.2 - Tirando linhas duplicadas"
      ],
      "metadata": {
        "id": "8ap-o4oj0x5f"
      }
    },
    {
      "cell_type": "code",
      "execution_count": null,
      "source": [
        "df.drop_duplicates(inplace=True)"
      ],
      "outputs": [],
      "metadata": {
        "id": "odjpLors00uY"
      }
    },
    {
      "cell_type": "code",
      "execution_count": null,
      "source": [
        "df.shape"
      ],
      "outputs": [],
      "metadata": {
        "id": "Hq7UhcR501QN"
      }
    },
    {
      "cell_type": "markdown",
      "source": [
        "### 1.3 - Visualizar variáveis categóricas"
      ],
      "metadata": {
        "id": "5fgwju3P06uq"
      }
    },
    {
      "cell_type": "code",
      "execution_count": null,
      "source": [
        "df[\"type\"].unique()"
      ],
      "outputs": [],
      "metadata": {
        "id": "ovXwQ15t09RZ"
      }
    },
    {
      "cell_type": "code",
      "execution_count": null,
      "source": [
        "df[\"type\"].value_counts()"
      ],
      "outputs": [],
      "metadata": {
        "id": "uT4rJrz815B-"
      }
    },
    {
      "cell_type": "code",
      "execution_count": null,
      "source": [
        "df['isFraud'].value_counts()"
      ],
      "outputs": [],
      "metadata": {
        "id": "VoC8V1G30_05"
      }
    },
    {
      "cell_type": "code",
      "execution_count": null,
      "source": [
        "sns.countplot(y=df[\"type\"],order=df[\"type\"].value_counts().index);\n",
        "plt.title(\"Tipo de Transação\", fontdict={'fontsize':18}, pad=12);"
      ],
      "outputs": [],
      "metadata": {
        "id": "KxvitvYK1DBW"
      }
    },
    {
      "cell_type": "code",
      "execution_count": null,
      "source": [
        "alfabeto = [\"a\",\"b\",\"c\",\"d\",\"e\",\"f\",\"g\",\"h\",\"i\",\"j\",\"k\",\"l\",\"m\",\"n\",\"o\",\"p\",\"q\",\"r\",\"s\",\"t\",\"u\",\"v\",\"w\",\"x\",\"y\",\"z\"]\n",
        "nome_orig_dict = {}\n",
        "for i in alfabeto:\n",
        "    nome_orig_dict[i] = 0\n",
        "\n",
        "for i in df[\"nameOrig\"]:\n",
        "    inicial_nome_orig = i[0].lower()\n",
        "    nome_orig_dict[inicial_nome_orig] = nome_orig_dict[inicial_nome_orig]+1\n",
        "\n",
        "for i in nome_orig_dict:\n",
        "    if nome_orig_dict[i]!=0:\n",
        "        print(f\"{i.upper()}: {nome_orig_dict[i]}\")"
      ],
      "outputs": [],
      "metadata": {
        "id": "yeYb6raW1FEA"
      }
    },
    {
      "cell_type": "code",
      "execution_count": null,
      "source": [
        "alfabeto = [\"a\",\"b\",\"c\",\"d\",\"e\",\"f\",\"g\",\"h\",\"i\",\"j\",\"k\",\"l\",\"m\",\"n\",\"o\",\"p\",\"q\",\"r\",\"s\",\"t\",\"u\",\"v\",\"w\",\"x\",\"y\",\"z\"]\n",
        "nome_dest_dict = {}\n",
        "for i in alfabeto:\n",
        "    nome_dest_dict[i] = 0\n",
        "\n",
        "for i in df[\"nameDest\"]:\n",
        "    inicial_nome_dest = i[0].lower()\n",
        "    nome_dest_dict[inicial_nome_dest] = nome_dest_dict[inicial_nome_dest]+1\n",
        "\n",
        "for i in nome_dest_dict:\n",
        "    if nome_dest_dict[i]!=0:\n",
        "        print(f\"{i.upper()}: {nome_dest_dict[i]}\")"
      ],
      "outputs": [],
      "metadata": {
        "id": "G6l8z3ou1Gwn"
      }
    },
    {
      "cell_type": "code",
      "execution_count": null,
      "source": [
        "plt.bar(*zip(*nome_dest_dict.items()));\n",
        "plt.title(\"Iniciais dos nomes destino\", fontdict={'fontsize':18}, pad=12);\n",
        "plt.xlabel('letters');\n",
        "plt.ylabel('count');"
      ],
      "outputs": [],
      "metadata": {
        "id": "PHfVTuUN1IUK"
      }
    },
    {
      "cell_type": "code",
      "execution_count": null,
      "source": [
        "dfFlaggedFraud = df[[\"type\",\"isFlaggedFraud\"]]\n",
        "dfFlaggedFraud = dfFlaggedFraud.groupby(\"type\").sum()\n",
        "dfFlaggedFraud.plot.bar()\n",
        "plt.title(\"É fraude ou não?\", fontdict={'fontsize':18}, pad=12);\n",
        "plt.xlabel('transaction type');\n",
        "plt.ylabel('isFlaggedFraud')"
      ],
      "outputs": [],
      "metadata": {
        "id": "reV-VvSQ1KC4"
      }
    },
    {
      "cell_type": "code",
      "execution_count": null,
      "source": [
        "dfFraudVSFlaggedFraud = df[[\"isFraud\",\"isFlaggedFraud\"]]\n",
        "dfFraudHeatmap = sns.heatmap(dfFraudVSFlaggedFraud.corr(), annot=True)\n",
        "dfFraudHeatmap.set_title('Matriz Correlação', fontdict={'fontsize':18}, pad=12);"
      ],
      "outputs": [],
      "metadata": {
        "id": "-1g-E8fk1L1P"
      }
    },
    {
      "cell_type": "markdown",
      "source": [
        "### 1.4 - Visualizar variáveis numéricas"
      ],
      "metadata": {
        "id": "s5xlVeBo1PHk"
      }
    },
    {
      "cell_type": "code",
      "execution_count": null,
      "source": [
        "plt.hist(df['amount'], bins=25);\n",
        "plt.yscale('log')\n",
        "plt.ylabel('Frequency')\n",
        "plt.xticks(range(0,int(1.05*1e8),int(5*1e6)))\n",
        "plt.xlabel('Amount');\n",
        "plt.title(\"Frequência de valores da transação\", fontdict={'fontsize':18}, pad=12);"
      ],
      "outputs": [],
      "metadata": {
        "id": "Jub0FJqp1P4I"
      }
    },
    {
      "cell_type": "code",
      "execution_count": null,
      "source": [
        "plt.hist(df['oldbalanceOrg'], bins=25);\n",
        "plt.yscale('log')\n",
        "plt.ylabel('Frequency')\n",
        "plt.xticks(range(0,int(6.5*1e7),int(5*1e6)))\n",
        "plt.xlabel('Amount');\n",
        "plt.title(\"Frequência dos valores originais da transação\", fontdict={'fontsize':18}, pad=12);"
      ],
      "outputs": [],
      "metadata": {
        "id": "CJ7gzBAT1TIo"
      }
    },
    {
      "cell_type": "code",
      "execution_count": null,
      "source": [
        "plt.hist(df['newbalanceOrig'], bins=25);\n",
        "plt.yscale('log')\n",
        "plt.ylabel('Frequency')\n",
        "plt.xticks(range(0,int(5.5*1e7),int(5*1e6)))\n",
        "plt.xlabel('Amount');\n",
        "plt.title(\"Frequência dos novos valores da transação\", fontdict={'fontsize':18}, pad=12);"
      ],
      "outputs": [],
      "metadata": {
        "id": "ybmo5ndz1UoT"
      }
    },
    {
      "cell_type": "code",
      "execution_count": null,
      "source": [
        "plt.hist(df['oldbalanceDest'], bins=25);\n",
        "plt.yscale('log')\n",
        "plt.ylabel('Frequency')\n",
        "plt.xticks(range(0,int(4.5*1e8),int(5*1e7)))\n",
        "plt.xlabel('Amount');\n",
        "plt.title(\"Frequência dos valores originais do recipiente da transação\", fontdict={'fontsize':18}, pad=12);"
      ],
      "outputs": [],
      "metadata": {
        "id": "Gx2qmEq81WIR"
      }
    },
    {
      "cell_type": "code",
      "execution_count": null,
      "source": [
        "plt.hist(df['newbalanceDest'], bins=25);\n",
        "plt.yscale('log')\n",
        "plt.ylabel('Frequency')\n",
        "plt.xticks(range(0,int(4.5*1e8),int(5*1e7)))\n",
        "plt.xlabel('Amount');\n",
        "plt.title(\"Frequência dos novos valores do recipiente da transação\", fontdict={'fontsize':18}, pad=12);"
      ],
      "outputs": [],
      "metadata": {
        "id": "JKJhL_Qq1Xj9"
      }
    },
    {
      "cell_type": "markdown",
      "source": [
        "### 1.5 - Matriz de Correlação"
      ],
      "metadata": {
        "id": "WpfFmJFO1Zpp"
      }
    },
    {
      "cell_type": "code",
      "execution_count": null,
      "source": [
        "heatmap = sns.heatmap(df.corr(), annot=True)\n",
        "heatmap.set_title('Matriz Correlação', fontdict={'fontsize':18}, pad=12);"
      ],
      "outputs": [],
      "metadata": {
        "id": "GPHPVHvf1aNh"
      }
    },
    {
      "cell_type": "markdown",
      "source": [
        "# Obs:\n",
        "Como o dataset não possuía duplicatas ou valores nulos, não foi modificado. Logo, não é necessário salvá-lo ao fim da análise."
      ],
      "metadata": {
        "id": "hjAQ5E8B9ZOZ"
      }
    }
  ]
}