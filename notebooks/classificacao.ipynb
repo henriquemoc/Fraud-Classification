{
  "nbformat": 4,
  "nbformat_minor": 0,
  "metadata": {
    "colab": {
      "name": "classificacao.ipynb",
      "provenance": []
    },
    "kernelspec": {
      "display_name": "Python 3",
      "language": "python",
      "name": "python3"
    },
    "language_info": {
      "codemirror_mode": {
        "name": "ipython",
        "version": 3
      },
      "file_extension": ".py",
      "mimetype": "text/x-python",
      "name": "python",
      "nbconvert_exporter": "python",
      "pygments_lexer": "ipython3",
      "version": "3.8.5"
    }
  },
  "cells": [
    {
      "cell_type": "markdown",
      "metadata": {
        "id": "IedVNVTe47ho"
      },
      "source": [
        "# Importações"
      ]
    },
    {
      "cell_type": "code",
      "metadata": {
        "id": "kjzAL-7B44fy"
      },
      "source": [
        "import os\n",
        "import pickle\n",
        "import pandas as pd\n",
        "import numpy as np\n",
        "import matplotlib.pyplot as plt\n",
        "import seaborn as sns\n",
        "from scipy.stats import norm\n",
        "\n",
        "from sklearn.preprocessing import StandardScaler as Scaler\n",
        "from sklearn.preprocessing import OneHotEncoder\n",
        "from sklearn.compose import ColumnTransformer\n",
        "\n",
        "from sklearn.metrics import confusion_matrix\n",
        "from sklearn.metrics import plot_confusion_matrix\n",
        "from sklearn.metrics import accuracy_score\n",
        "from sklearn.metrics import precision_recall_fscore_support, f1_score\n",
        "from sklearn.metrics import classification_report\n",
        "\n",
        "from sklearn.neural_network import MLPClassifier\n",
        "\n",
        "%matplotlib inline\n",
        "\n",
        "plt.rcParams[\"figure.figsize\"] = (16,10)"
      ],
      "execution_count": 47,
      "outputs": []
    },
    {
      "cell_type": "markdown",
      "metadata": {
        "id": "ZypnBG_G5Uf-"
      },
      "source": [
        "# Configurar dataset"
      ]
    },
    {
      "cell_type": "markdown",
      "metadata": {
        "id": "iZuroSYK5YTr"
      },
      "source": [
        "### Baixar dados "
      ]
    },
    {
      "cell_type": "markdown",
      "metadata": {
        "id": "yaU7Wd8F3g2o"
      },
      "source": [
        "**Caso não seja possível baixar os dados do link no dropbox, por favor, baixar no link:**\n",
        "https://www.kaggle.com/ealaxi/paysim1"
      ]
    },
    {
      "cell_type": "code",
      "metadata": {
        "colab": {
          "base_uri": "https://localhost:8080/"
        },
        "id": "xjQ5rVkm5YD0",
        "outputId": "50321f8a-5a70-46b2-c1fc-0eae888fa7a0"
      },
      "source": [
        "!wget -O fraud.csv https://www.dropbox.com/s/47hd95t7n8hhlgz/fraude.csv?dl=0"
      ],
      "execution_count": 452,
      "outputs": [
        {
          "output_type": "stream",
          "name": "stdout",
          "text": [
            "--2021-09-04 20:23:16--  https://www.dropbox.com/s/47hd95t7n8hhlgz/fraude.csv?dl=0\n",
            "Resolving www.dropbox.com (www.dropbox.com)... 162.125.80.18, 2620:100:6035:18::a27d:5512\n",
            "Connecting to www.dropbox.com (www.dropbox.com)|162.125.80.18|:443... connected.\n",
            "HTTP request sent, awaiting response... 301 Moved Permanently\n",
            "Location: /s/raw/47hd95t7n8hhlgz/fraude.csv [following]\n",
            "--2021-09-04 20:23:16--  https://www.dropbox.com/s/raw/47hd95t7n8hhlgz/fraude.csv\n",
            "Reusing existing connection to www.dropbox.com:443.\n",
            "HTTP request sent, awaiting response... 302 Found\n",
            "Location: https://uc40e200b363aa57b6be3cfb679e.dl.dropboxusercontent.com/cd/0/inline/BViB3sYpnrlJcYgmvQeS0pgMIQ_8kOSPynQCMjt9Exei0fFZBjV6xHWQ-3VbTQutOEJGT1KyGFuOH8Slck_eD2YoTkG3sfH44ZNQHN0aBH2vvxJflSh8uKG_dcK6X9EeVfoHf884-4S0jZJNBgvNZEwK/file# [following]\n",
            "--2021-09-04 20:23:17--  https://uc40e200b363aa57b6be3cfb679e.dl.dropboxusercontent.com/cd/0/inline/BViB3sYpnrlJcYgmvQeS0pgMIQ_8kOSPynQCMjt9Exei0fFZBjV6xHWQ-3VbTQutOEJGT1KyGFuOH8Slck_eD2YoTkG3sfH44ZNQHN0aBH2vvxJflSh8uKG_dcK6X9EeVfoHf884-4S0jZJNBgvNZEwK/file\n",
            "Resolving uc40e200b363aa57b6be3cfb679e.dl.dropboxusercontent.com (uc40e200b363aa57b6be3cfb679e.dl.dropboxusercontent.com)... 162.125.81.15, 2620:100:6035:15::a27d:550f\n",
            "Connecting to uc40e200b363aa57b6be3cfb679e.dl.dropboxusercontent.com (uc40e200b363aa57b6be3cfb679e.dl.dropboxusercontent.com)|162.125.81.15|:443... connected.\n",
            "HTTP request sent, awaiting response... 200 OK\n",
            "Length: 493534783 (471M) [text/plain]\n",
            "Saving to: ‘fraud.csv’\n",
            "\n",
            "fraud.csv           100%[===================>] 470.67M  11.5MB/s    in 46s     \n",
            "\n",
            "2021-09-04 20:24:04 (10.2 MB/s) - ‘fraud.csv’ saved [493534783/493534783]\n",
            "\n"
          ]
        }
      ]
    },
    {
      "cell_type": "code",
      "metadata": {
        "id": "PaRq5cxN5d9l"
      },
      "source": [
        "dataset_path = \"fraud.csv\""
      ],
      "execution_count": 2,
      "outputs": []
    },
    {
      "cell_type": "markdown",
      "metadata": {
        "id": "32oRQVWY5f8C"
      },
      "source": [
        "### Ler CSV"
      ]
    },
    {
      "cell_type": "code",
      "metadata": {
        "id": "NRTN9s-35kQL"
      },
      "source": [
        "df = pd.read_csv(dataset_path)"
      ],
      "execution_count": 3,
      "outputs": []
    },
    {
      "cell_type": "markdown",
      "metadata": {
        "id": "9caXu6q85moC"
      },
      "source": [
        "# 3 - Preparação dos dados"
      ]
    },
    {
      "cell_type": "markdown",
      "metadata": {
        "id": "4hyQ2z5E5uyp"
      },
      "source": [
        "## 3.1 - Normalização logarítimica"
      ]
    },
    {
      "cell_type": "code",
      "metadata": {
        "colab": {
          "base_uri": "https://localhost:8080/"
        },
        "id": "75I_7s5c5rk0",
        "outputId": "ed91ff62-1087-42c5-fc3c-df4f68caeece"
      },
      "source": [
        "df['amount'].describe()"
      ],
      "execution_count": 4,
      "outputs": [
        {
          "output_type": "execute_result",
          "data": {
            "text/plain": [
              "count    6.362620e+06\n",
              "mean     1.798619e+05\n",
              "std      6.038582e+05\n",
              "min      0.000000e+00\n",
              "25%      1.338957e+04\n",
              "50%      7.487194e+04\n",
              "75%      2.087215e+05\n",
              "max      9.244552e+07\n",
              "Name: amount, dtype: float64"
            ]
          },
          "metadata": {},
          "execution_count": 4
        }
      ]
    },
    {
      "cell_type": "code",
      "metadata": {
        "colab": {
          "base_uri": "https://localhost:8080/"
        },
        "id": "-lCcNgXf528r",
        "outputId": "e26edb60-e88b-48b8-8337-be81fb794a1e"
      },
      "source": [
        "df['oldbalanceOrg'].describe()"
      ],
      "execution_count": 5,
      "outputs": [
        {
          "output_type": "execute_result",
          "data": {
            "text/plain": [
              "count    6.362620e+06\n",
              "mean     8.338831e+05\n",
              "std      2.888243e+06\n",
              "min      0.000000e+00\n",
              "25%      0.000000e+00\n",
              "50%      1.420800e+04\n",
              "75%      1.073152e+05\n",
              "max      5.958504e+07\n",
              "Name: oldbalanceOrg, dtype: float64"
            ]
          },
          "metadata": {},
          "execution_count": 5
        }
      ]
    },
    {
      "cell_type": "code",
      "metadata": {
        "colab": {
          "base_uri": "https://localhost:8080/"
        },
        "id": "CDKHhesz54WL",
        "outputId": "f59fc478-2637-47fc-a40c-324c43190d74"
      },
      "source": [
        "df['newbalanceOrig'].describe()"
      ],
      "execution_count": 6,
      "outputs": [
        {
          "output_type": "execute_result",
          "data": {
            "text/plain": [
              "count    6.362620e+06\n",
              "mean     8.551137e+05\n",
              "std      2.924049e+06\n",
              "min      0.000000e+00\n",
              "25%      0.000000e+00\n",
              "50%      0.000000e+00\n",
              "75%      1.442584e+05\n",
              "max      4.958504e+07\n",
              "Name: newbalanceOrig, dtype: float64"
            ]
          },
          "metadata": {},
          "execution_count": 6
        }
      ]
    },
    {
      "cell_type": "code",
      "metadata": {
        "colab": {
          "base_uri": "https://localhost:8080/"
        },
        "id": "CgP01U055508",
        "outputId": "0c2f084a-31a3-42bc-9c74-818afcad9306"
      },
      "source": [
        "df['oldbalanceDest'].describe()"
      ],
      "execution_count": 7,
      "outputs": [
        {
          "output_type": "execute_result",
          "data": {
            "text/plain": [
              "count    6.362620e+06\n",
              "mean     1.100702e+06\n",
              "std      3.399180e+06\n",
              "min      0.000000e+00\n",
              "25%      0.000000e+00\n",
              "50%      1.327057e+05\n",
              "75%      9.430367e+05\n",
              "max      3.560159e+08\n",
              "Name: oldbalanceDest, dtype: float64"
            ]
          },
          "metadata": {},
          "execution_count": 7
        }
      ]
    },
    {
      "cell_type": "code",
      "metadata": {
        "colab": {
          "base_uri": "https://localhost:8080/"
        },
        "id": "mAXxPtz-57vP",
        "outputId": "c4e1962f-9ab9-40f4-d2b7-6d57f3965d6b"
      },
      "source": [
        "df['newbalanceDest'].describe()"
      ],
      "execution_count": 8,
      "outputs": [
        {
          "output_type": "execute_result",
          "data": {
            "text/plain": [
              "count    6.362620e+06\n",
              "mean     1.224996e+06\n",
              "std      3.674129e+06\n",
              "min      0.000000e+00\n",
              "25%      0.000000e+00\n",
              "50%      2.146614e+05\n",
              "75%      1.111909e+06\n",
              "max      3.561793e+08\n",
              "Name: newbalanceDest, dtype: float64"
            ]
          },
          "metadata": {},
          "execution_count": 8
        }
      ]
    },
    {
      "cell_type": "markdown",
      "metadata": {
        "id": "qlSdqziY5-As"
      },
      "source": [
        "Todos tem como valor mínimo 0. log 0 é impossível, logo deve-se mudar os valores para retirar o 0 antes de mudar a escala para logarítmica."
      ]
    },
    {
      "cell_type": "code",
      "metadata": {
        "id": "ZhJg-1S25_Z4"
      },
      "source": [
        "log_list = ['amount', 'oldbalanceOrg', 'newbalanceOrig', 'oldbalanceDest', 'newbalanceDest']\n",
        "\n",
        "for i in log_list:\n",
        "    df[i] = (0.1+df[i])#Como existem valores iguais a 0, é preciso tirá-los para fazer o log\n",
        "    df[i] = np.log(df[i])"
      ],
      "execution_count": 9,
      "outputs": []
    },
    {
      "cell_type": "markdown",
      "metadata": {
        "id": "XqMTrev-6NPh"
      },
      "source": [
        "## 3.2 - Separação dos dados\n",
        "É preciso separar os dados em treino, teste e validação antes de normalizar os dados, caso contrário ocorrerá vazamento de dados.\n",
        "60% dos dados serão usados no grupo de treinamento, 25% no grupo de validação e 15% no grupo de teste."
      ]
    },
    {
      "cell_type": "markdown",
      "metadata": {
        "id": "SfOJmdz47EUe"
      },
      "source": [
        "### 3.2.1 - Separa em treino, teste e validacao"
      ]
    },
    {
      "cell_type": "code",
      "metadata": {
        "id": "XY9Sqq497E_v"
      },
      "source": [
        "tamanho_df = df.shape[0]\n",
        "colunas_y = [\"isFraud\"]\n",
        "colunas_nao_x = [\"isFraud\", \"isFlaggedFraud\"]\n",
        "colunas_x = [coluna for coluna in df.columns if coluna not in colunas_nao_x]\n",
        "\n",
        "# Treino \n",
        "fim_treino = round(tamanho_df * 0.6)\n",
        "\n",
        "treino = df.loc[0:fim_treino,:]\n",
        "fraudes_treino = treino[treino['isFraud'] == 1]\n",
        "legitimo_treino = treino[treino['isFraud'] == 0]\n",
        "legitimo_treino = legitimo_treino.sample(n=fraudes_treino.shape[0], random_state=1)\n",
        "treino_balanceado = pd.concat([legitimo_treino, fraudes_treino], axis= 0)\n",
        "x_treino_balanceado = treino_balanceado.loc[:, colunas_x]\n",
        "y_treino_balanceado = treino_balanceado.loc[:, colunas_y]\n",
        "\n",
        "x_treino = df.loc[0:fim_treino,colunas_x]\n",
        "y_treino = df.loc[0:fim_treino, colunas_y]\n",
        "\n",
        "\n",
        "# Validacao\n",
        "fim_validacao = round(tamanho_df * (0.6 + 0.25))\n",
        "\n",
        "validacao = df.loc[fim_treino:fim_validacao,:]\n",
        "fraudes_validacao = validacao[validacao['isFraud'] == 1]\n",
        "legitimo_validacao = validacao[validacao['isFraud'] == 0]\n",
        "legitimo_validacao = legitimo_validacao.sample(n=fraudes_validacao.shape[0], random_state=1)\n",
        "validacao_balanceado = pd.concat([legitimo_validacao, fraudes_validacao], axis= 0)\n",
        "x_validacao_balanceado = validacao_balanceado.loc[:, colunas_x]\n",
        "y_validacao_balanceado = validacao_balanceado.loc[:, colunas_y]\n",
        "\n",
        "x_validacao = df.loc[fim_treino:fim_validacao, colunas_x]\n",
        "y_validacao =  df.loc[fim_treino:fim_validacao, colunas_y]\n",
        "\n",
        "# Teste\n",
        "\n",
        "teste = df.loc[fim_validacao:tamanho_df,:]\n",
        "fraudes_teste = teste[teste['isFraud'] == 1]\n",
        "legitimo_teste = teste[teste['isFraud'] == 0]\n",
        "legitimo_teste = legitimo_teste.sample(n=fraudes_teste.shape[0], random_state=1)\n",
        "teste_balanceado = pd.concat([legitimo_teste, fraudes_teste], axis= 0)\n",
        "x_teste_balanceado = teste_balanceado.loc[:, colunas_x]\n",
        "y_teste_balanceado = teste_balanceado.loc[:, colunas_y]\n",
        "\n",
        "x_teste =  df.loc[fim_validacao:tamanho_df , colunas_x]\n",
        "y_teste = df.loc[fim_validacao:tamanho_df, colunas_y]"
      ],
      "execution_count": 10,
      "outputs": []
    },
    {
      "cell_type": "code",
      "metadata": {
        "colab": {
          "base_uri": "https://localhost:8080/"
        },
        "id": "LN4yQIzx7H-L",
        "outputId": "914bbbd2-4337-4af7-97f9-6e29f19c28d0"
      },
      "source": [
        "print(x_treino.shape)\n",
        "print(x_validacao.shape)\n",
        "print(x_teste.shape)\n",
        "\n",
        "print(x_treino_balanceado.shape)\n",
        "print(y_treino_balanceado.shape)\n",
        "print(x_validacao_balanceado.shape)\n",
        "print(y_validacao_balanceado.shape)\n",
        "print(x_teste_balanceado.shape)\n",
        "print(y_teste_balanceado.shape)"
      ],
      "execution_count": 11,
      "outputs": [
        {
          "output_type": "stream",
          "name": "stdout",
          "text": [
            "(3817573, 9)\n",
            "(1590656, 9)\n",
            "(954393, 9)\n",
            "(6378, 9)\n",
            "(6378, 1)\n",
            "(2032, 9)\n",
            "(2032, 1)\n",
            "(8016, 9)\n",
            "(8016, 1)\n"
          ]
        }
      ]
    },
    {
      "cell_type": "markdown",
      "metadata": {
        "id": "5-AUnGxd6HgD"
      },
      "source": [
        "## 3.3 - Padronização dos dados\n",
        "Apenas variáveis contínuas e discretas devem ser padronizadas."
      ]
    },
    {
      "cell_type": "code",
      "metadata": {
        "id": "Amj1Ff5a6Iaz"
      },
      "source": [
        "colunas_scaler = [\"amount\", \"oldbalanceOrg\", \"newbalanceOrig\", \"oldbalanceDest\", \"newbalanceDest\"]\n",
        "scaler = Scaler()\n",
        "\n",
        "x_treino_balanceado[colunas_scaler] = scaler.fit_transform(x_treino_balanceado[colunas_scaler])\n",
        "\n",
        "x_validacao_balanceado[colunas_scaler] = scaler.transform(x_validacao_balanceado[colunas_scaler])\n",
        "\n",
        "x_teste_balanceado[colunas_scaler] = scaler.transform(x_teste_balanceado[colunas_scaler])"
      ],
      "execution_count": 12,
      "outputs": []
    },
    {
      "cell_type": "code",
      "metadata": {
        "id": "0u4yJaVT9D4t"
      },
      "source": [
        "scaler = Scaler()\n",
        "\n",
        "x_treino[colunas_scaler] = scaler.fit_transform(x_treino[colunas_scaler])\n",
        "\n",
        "x_validacao[colunas_scaler] = scaler.transform(x_validacao[colunas_scaler])\n",
        "\n",
        "x_teste[colunas_scaler] = scaler.transform(x_teste[colunas_scaler])"
      ],
      "execution_count": 13,
      "outputs": []
    },
    {
      "cell_type": "code",
      "metadata": {
        "colab": {
          "base_uri": "https://localhost:8080/",
          "height": 110
        },
        "id": "-v2svSUX6MlZ",
        "outputId": "c10c8876-e527-4fbd-eb87-7a41c66977a3"
      },
      "source": [
        "x_treino.head(2)"
      ],
      "execution_count": 14,
      "outputs": [
        {
          "output_type": "execute_result",
          "data": {
            "text/html": [
              "<div>\n",
              "<style scoped>\n",
              "    .dataframe tbody tr th:only-of-type {\n",
              "        vertical-align: middle;\n",
              "    }\n",
              "\n",
              "    .dataframe tbody tr th {\n",
              "        vertical-align: top;\n",
              "    }\n",
              "\n",
              "    .dataframe thead th {\n",
              "        text-align: right;\n",
              "    }\n",
              "</style>\n",
              "<table border=\"1\" class=\"dataframe\">\n",
              "  <thead>\n",
              "    <tr style=\"text-align: right;\">\n",
              "      <th></th>\n",
              "      <th>step</th>\n",
              "      <th>type</th>\n",
              "      <th>amount</th>\n",
              "      <th>nameOrig</th>\n",
              "      <th>oldbalanceOrg</th>\n",
              "      <th>newbalanceOrig</th>\n",
              "      <th>nameDest</th>\n",
              "      <th>oldbalanceDest</th>\n",
              "      <th>newbalanceDest</th>\n",
              "    </tr>\n",
              "  </thead>\n",
              "  <tbody>\n",
              "    <tr>\n",
              "      <th>0</th>\n",
              "      <td>1</td>\n",
              "      <td>PAYMENT</td>\n",
              "      <td>-0.878175</td>\n",
              "      <td>C1231006815</td>\n",
              "      <td>0.803964</td>\n",
              "      <td>1.054779</td>\n",
              "      <td>M1979787155</td>\n",
              "      <td>-1.156928</td>\n",
              "      <td>-1.256277</td>\n",
              "    </tr>\n",
              "    <tr>\n",
              "      <th>1</th>\n",
              "      <td>1</td>\n",
              "      <td>PAYMENT</td>\n",
              "      <td>-1.789201</td>\n",
              "      <td>C1666544295</td>\n",
              "      <td>0.492848</td>\n",
              "      <td>0.771232</td>\n",
              "      <td>M2044282225</td>\n",
              "      <td>-1.156928</td>\n",
              "      <td>-1.256277</td>\n",
              "    </tr>\n",
              "  </tbody>\n",
              "</table>\n",
              "</div>"
            ],
            "text/plain": [
              "   step     type    amount  ...     nameDest  oldbalanceDest  newbalanceDest\n",
              "0     1  PAYMENT -0.878175  ...  M1979787155       -1.156928       -1.256277\n",
              "1     1  PAYMENT -1.789201  ...  M2044282225       -1.156928       -1.256277\n",
              "\n",
              "[2 rows x 9 columns]"
            ]
          },
          "metadata": {},
          "execution_count": 14
        }
      ]
    },
    {
      "cell_type": "code",
      "metadata": {
        "colab": {
          "base_uri": "https://localhost:8080/",
          "height": 110
        },
        "id": "l0SipZbP3Qxg",
        "outputId": "7c6b1a1a-7681-4e77-a138-0ca756170bb9"
      },
      "source": [
        "x_validacao_balanceado.head(2)"
      ],
      "execution_count": 15,
      "outputs": [
        {
          "output_type": "execute_result",
          "data": {
            "text/html": [
              "<div>\n",
              "<style scoped>\n",
              "    .dataframe tbody tr th:only-of-type {\n",
              "        vertical-align: middle;\n",
              "    }\n",
              "\n",
              "    .dataframe tbody tr th {\n",
              "        vertical-align: top;\n",
              "    }\n",
              "\n",
              "    .dataframe thead th {\n",
              "        text-align: right;\n",
              "    }\n",
              "</style>\n",
              "<table border=\"1\" class=\"dataframe\">\n",
              "  <thead>\n",
              "    <tr style=\"text-align: right;\">\n",
              "      <th></th>\n",
              "      <th>step</th>\n",
              "      <th>type</th>\n",
              "      <th>amount</th>\n",
              "      <th>nameOrig</th>\n",
              "      <th>oldbalanceOrg</th>\n",
              "      <th>newbalanceOrig</th>\n",
              "      <th>nameDest</th>\n",
              "      <th>oldbalanceDest</th>\n",
              "      <th>newbalanceDest</th>\n",
              "    </tr>\n",
              "  </thead>\n",
              "  <tbody>\n",
              "    <tr>\n",
              "      <th>3998125</th>\n",
              "      <td>298</td>\n",
              "      <td>TRANSFER</td>\n",
              "      <td>0.746727</td>\n",
              "      <td>C275945467</td>\n",
              "      <td>-2.060802</td>\n",
              "      <td>-0.531852</td>\n",
              "      <td>C1644909153</td>\n",
              "      <td>1.385417</td>\n",
              "      <td>1.151396</td>\n",
              "    </tr>\n",
              "    <tr>\n",
              "      <th>4658759</th>\n",
              "      <td>330</td>\n",
              "      <td>PAYMENT</td>\n",
              "      <td>-1.519311</td>\n",
              "      <td>C62030761</td>\n",
              "      <td>0.422256</td>\n",
              "      <td>1.770014</td>\n",
              "      <td>M182672016</td>\n",
              "      <td>-0.920817</td>\n",
              "      <td>-1.118828</td>\n",
              "    </tr>\n",
              "  </tbody>\n",
              "</table>\n",
              "</div>"
            ],
            "text/plain": [
              "         step      type    amount  ...     nameDest  oldbalanceDest  newbalanceDest\n",
              "3998125   298  TRANSFER  0.746727  ...  C1644909153        1.385417        1.151396\n",
              "4658759   330   PAYMENT -1.519311  ...   M182672016       -0.920817       -1.118828\n",
              "\n",
              "[2 rows x 9 columns]"
            ]
          },
          "metadata": {},
          "execution_count": 15
        }
      ]
    },
    {
      "cell_type": "markdown",
      "metadata": {
        "id": "3Kv0imZF7NIw"
      },
      "source": [
        "## 3.4 - Tratamento de variáveis categóricas"
      ]
    },
    {
      "cell_type": "markdown",
      "metadata": {
        "id": "tKhRzBjd7OmV"
      },
      "source": [
        "### 3.4.1 - Corrigindo variáveis nameOrig e nameDest"
      ]
    },
    {
      "cell_type": "code",
      "metadata": {
        "id": "TnRMdZL07Qwr"
      },
      "source": [
        "x_treino.loc[x_treino['nameDest'].astype(str).str[0] == 'C', 'nameDest'] = 'C'\n",
        "x_treino.loc[x_treino['nameDest'].astype(str).str[0] == 'M', 'nameDest'] = 'M'\n",
        "x_treino_balanceado.loc[x_treino_balanceado['nameDest'].astype(str).str[0] == 'C', 'nameDest'] = 'C'\n",
        "x_treino_balanceado.loc[x_treino_balanceado['nameDest'].astype(str).str[0] == 'M', 'nameDest'] = 'M'\n",
        "\n",
        "x_validacao.loc[x_validacao['nameDest'].astype(str).str[0] == 'C', 'nameDest'] = 'C'\n",
        "x_validacao.loc[x_validacao['nameDest'].astype(str).str[0] == 'M', 'nameDest'] = 'M'\n",
        "x_validacao_balanceado.loc[x_validacao_balanceado['nameDest'].astype(str).str[0] == 'C', 'nameDest'] = 'C'\n",
        "x_validacao_balanceado.loc[x_validacao_balanceado['nameDest'].astype(str).str[0] == 'M', 'nameDest'] = 'M'\n",
        "\n",
        "x_teste.loc[x_teste['nameDest'].astype(str).str[0] == 'C', 'nameDest'] = 'C'\n",
        "x_teste.loc[x_teste['nameDest'].astype(str).str[0] == 'M', 'nameDest'] = 'M'\n",
        "x_teste_balanceado.loc[x_teste_balanceado['nameDest'].astype(str).str[0] == 'C', 'nameDest'] = 'C'\n",
        "x_teste_balanceado.loc[x_teste_balanceado['nameDest'].astype(str).str[0] == 'M', 'nameDest'] = 'M'"
      ],
      "execution_count": 16,
      "outputs": []
    },
    {
      "cell_type": "code",
      "metadata": {
        "id": "OQQ1XYXQ7SkF"
      },
      "source": [
        "x_treino.loc[x_treino['nameOrig'].astype(str).str[0] == 'C', 'nameOrig'] = 'C'\n",
        "x_treino_balanceado.loc[x_treino_balanceado['nameOrig'].astype(str).str[0] == 'C', 'nameOrig'] = 'C'\n",
        "\n",
        "x_validacao.loc[x_validacao['nameOrig'].astype(str).str[0] == 'C', 'nameOrig'] = 'C'\n",
        "x_validacao_balanceado.loc[x_validacao_balanceado['nameOrig'].astype(str).str[0] == 'C', 'nameOrig'] = 'C'\n",
        "\n",
        "x_teste.loc[x_teste['nameOrig'].astype(str).str[0] == 'C', 'nameOrig'] = 'C'\n",
        "x_teste_balanceado.loc[x_teste_balanceado['nameOrig'].astype(str).str[0] == 'C', 'nameOrig'] = 'C'"
      ],
      "execution_count": 17,
      "outputs": []
    },
    {
      "cell_type": "code",
      "metadata": {
        "colab": {
          "base_uri": "https://localhost:8080/",
          "height": 357
        },
        "id": "GFrfxanV7Vrz",
        "outputId": "eb6495e4-8994-4330-e9fd-ecbe56458997"
      },
      "source": [
        "x_treino.head(10)"
      ],
      "execution_count": 18,
      "outputs": [
        {
          "output_type": "execute_result",
          "data": {
            "text/html": [
              "<div>\n",
              "<style scoped>\n",
              "    .dataframe tbody tr th:only-of-type {\n",
              "        vertical-align: middle;\n",
              "    }\n",
              "\n",
              "    .dataframe tbody tr th {\n",
              "        vertical-align: top;\n",
              "    }\n",
              "\n",
              "    .dataframe thead th {\n",
              "        text-align: right;\n",
              "    }\n",
              "</style>\n",
              "<table border=\"1\" class=\"dataframe\">\n",
              "  <thead>\n",
              "    <tr style=\"text-align: right;\">\n",
              "      <th></th>\n",
              "      <th>step</th>\n",
              "      <th>type</th>\n",
              "      <th>amount</th>\n",
              "      <th>nameOrig</th>\n",
              "      <th>oldbalanceOrg</th>\n",
              "      <th>newbalanceOrig</th>\n",
              "      <th>nameDest</th>\n",
              "      <th>oldbalanceDest</th>\n",
              "      <th>newbalanceDest</th>\n",
              "    </tr>\n",
              "  </thead>\n",
              "  <tbody>\n",
              "    <tr>\n",
              "      <th>0</th>\n",
              "      <td>1</td>\n",
              "      <td>PAYMENT</td>\n",
              "      <td>-0.878175</td>\n",
              "      <td>C</td>\n",
              "      <td>0.803964</td>\n",
              "      <td>1.054779</td>\n",
              "      <td>M</td>\n",
              "      <td>-1.156928</td>\n",
              "      <td>-1.256277</td>\n",
              "    </tr>\n",
              "    <tr>\n",
              "      <th>1</th>\n",
              "      <td>1</td>\n",
              "      <td>PAYMENT</td>\n",
              "      <td>-1.789201</td>\n",
              "      <td>C</td>\n",
              "      <td>0.492848</td>\n",
              "      <td>0.771232</td>\n",
              "      <td>M</td>\n",
              "      <td>-1.156928</td>\n",
              "      <td>-1.256277</td>\n",
              "    </tr>\n",
              "    <tr>\n",
              "      <th>2</th>\n",
              "      <td>1</td>\n",
              "      <td>TRANSFER</td>\n",
              "      <td>-3.066135</td>\n",
              "      <td>C</td>\n",
              "      <td>-0.219784</td>\n",
              "      <td>-0.862883</td>\n",
              "      <td>C</td>\n",
              "      <td>-1.156928</td>\n",
              "      <td>-1.256277</td>\n",
              "    </tr>\n",
              "    <tr>\n",
              "      <th>3</th>\n",
              "      <td>1</td>\n",
              "      <td>CASH_OUT</td>\n",
              "      <td>-3.066135</td>\n",
              "      <td>C</td>\n",
              "      <td>-0.219784</td>\n",
              "      <td>-0.862883</td>\n",
              "      <td>C</td>\n",
              "      <td>0.406175</td>\n",
              "      <td>-1.256277</td>\n",
              "    </tr>\n",
              "    <tr>\n",
              "      <th>4</th>\n",
              "      <td>1</td>\n",
              "      <td>PAYMENT</td>\n",
              "      <td>-0.784832</td>\n",
              "      <td>C</td>\n",
              "      <td>0.593151</td>\n",
              "      <td>0.829336</td>\n",
              "      <td>M</td>\n",
              "      <td>-1.156928</td>\n",
              "      <td>-1.256277</td>\n",
              "    </tr>\n",
              "    <tr>\n",
              "      <th>5</th>\n",
              "      <td>1</td>\n",
              "      <td>PAYMENT</td>\n",
              "      <td>-1.004149</td>\n",
              "      <td>C</td>\n",
              "      <td>0.631945</td>\n",
              "      <td>0.887343</td>\n",
              "      <td>M</td>\n",
              "      <td>-1.156928</td>\n",
              "      <td>-1.256277</td>\n",
              "    </tr>\n",
              "    <tr>\n",
              "      <th>6</th>\n",
              "      <td>1</td>\n",
              "      <td>PAYMENT</td>\n",
              "      <td>-1.056287</td>\n",
              "      <td>C</td>\n",
              "      <td>0.815024</td>\n",
              "      <td>1.067389</td>\n",
              "      <td>M</td>\n",
              "      <td>-1.156928</td>\n",
              "      <td>-1.256277</td>\n",
              "    </tr>\n",
              "    <tr>\n",
              "      <th>7</th>\n",
              "      <td>1</td>\n",
              "      <td>PAYMENT</td>\n",
              "      <td>-1.001081</td>\n",
              "      <td>C</td>\n",
              "      <td>0.809106</td>\n",
              "      <td>1.061259</td>\n",
              "      <td>M</td>\n",
              "      <td>-1.156928</td>\n",
              "      <td>-1.256277</td>\n",
              "    </tr>\n",
              "    <tr>\n",
              "      <th>8</th>\n",
              "      <td>1</td>\n",
              "      <td>PAYMENT</td>\n",
              "      <td>-1.367800</td>\n",
              "      <td>C</td>\n",
              "      <td>0.182698</td>\n",
              "      <td>-0.862883</td>\n",
              "      <td>M</td>\n",
              "      <td>-1.156928</td>\n",
              "      <td>-1.256277</td>\n",
              "    </tr>\n",
              "    <tr>\n",
              "      <th>9</th>\n",
              "      <td>1</td>\n",
              "      <td>DEBIT</td>\n",
              "      <td>-1.213123</td>\n",
              "      <td>C</td>\n",
              "      <td>0.593748</td>\n",
              "      <td>0.855737</td>\n",
              "      <td>C</td>\n",
              "      <td>0.493113</td>\n",
              "      <td>0.405974</td>\n",
              "    </tr>\n",
              "  </tbody>\n",
              "</table>\n",
              "</div>"
            ],
            "text/plain": [
              "   step      type    amount  ... nameDest  oldbalanceDest  newbalanceDest\n",
              "0     1   PAYMENT -0.878175  ...        M       -1.156928       -1.256277\n",
              "1     1   PAYMENT -1.789201  ...        M       -1.156928       -1.256277\n",
              "2     1  TRANSFER -3.066135  ...        C       -1.156928       -1.256277\n",
              "3     1  CASH_OUT -3.066135  ...        C        0.406175       -1.256277\n",
              "4     1   PAYMENT -0.784832  ...        M       -1.156928       -1.256277\n",
              "5     1   PAYMENT -1.004149  ...        M       -1.156928       -1.256277\n",
              "6     1   PAYMENT -1.056287  ...        M       -1.156928       -1.256277\n",
              "7     1   PAYMENT -1.001081  ...        M       -1.156928       -1.256277\n",
              "8     1   PAYMENT -1.367800  ...        M       -1.156928       -1.256277\n",
              "9     1     DEBIT -1.213123  ...        C        0.493113        0.405974\n",
              "\n",
              "[10 rows x 9 columns]"
            ]
          },
          "metadata": {},
          "execution_count": 18
        }
      ]
    },
    {
      "cell_type": "code",
      "metadata": {
        "colab": {
          "base_uri": "https://localhost:8080/"
        },
        "id": "rr57tiiFeghK",
        "outputId": "37ab90c6-10ee-407c-e929-bef16f14cd47"
      },
      "source": [
        "x_treino['type'].value_counts()"
      ],
      "execution_count": 21,
      "outputs": [
        {
          "output_type": "execute_result",
          "data": {
            "text/plain": [
              "CASH_OUT    1356166\n",
              "PAYMENT     1286109\n",
              "CASH_IN      836483\n",
              "TRANSFER     315348\n",
              "DEBIT         23467\n",
              "Name: type, dtype: int64"
            ]
          },
          "metadata": {},
          "execution_count": 21
        }
      ]
    },
    {
      "cell_type": "markdown",
      "metadata": {
        "id": "EMDuJER67Xdb"
      },
      "source": [
        "### 3.4.2 - OneHotEncoder"
      ]
    },
    {
      "cell_type": "code",
      "metadata": {
        "id": "pSmfuhOt7ZK-"
      },
      "source": [
        "onehotencoder_ = ColumnTransformer(transformers=[('OneHot', OneHotEncoder(), [1,3,6])], remainder='passthrough')\n",
        "\n",
        "x_treino = onehotencoder_.fit_transform(x_treino)\n",
        "x_treino_balanceado = onehotencoder_.fit_transform(x_treino_balanceado)\n",
        "x_validacao = onehotencoder_.fit_transform(x_validacao)\n",
        "x_validacao_balanceado = onehotencoder_.fit_transform(x_validacao_balanceado)\n",
        "x_teste = onehotencoder_.fit_transform(x_teste)\n",
        "x_teste_balanceado = onehotencoder_.fit_transform(x_teste_balanceado)"
      ],
      "execution_count": 22,
      "outputs": []
    },
    {
      "cell_type": "code",
      "metadata": {
        "colab": {
          "base_uri": "https://localhost:8080/"
        },
        "id": "LRAsvmTb7b8T",
        "outputId": "7b987def-1f80-4c8a-a34e-393601476ee8"
      },
      "source": [
        "print(x_treino.shape)\n",
        "print(x_validacao.shape)\n",
        "print(x_teste.shape)\n",
        "\n",
        "print(x_treino_balanceado.shape)\n",
        "print(x_validacao_balanceado.shape)\n",
        "print(x_teste_balanceado.shape)"
      ],
      "execution_count": 23,
      "outputs": [
        {
          "output_type": "stream",
          "name": "stdout",
          "text": [
            "(3817573, 14)\n",
            "(1590656, 14)\n",
            "(954393, 14)\n",
            "(6378, 14)\n",
            "(2032, 14)\n",
            "(8016, 14)\n"
          ]
        }
      ]
    },
    {
      "cell_type": "markdown",
      "metadata": {
        "id": "8YNb_6cw7ecP"
      },
      "source": [
        "## 3.5 - Ajustes finais"
      ]
    },
    {
      "cell_type": "code",
      "metadata": {
        "id": "QVZCvlUd7eEl"
      },
      "source": [
        "y_treino = y_treino.to_numpy()\n",
        "y_treino_balanceado = y_treino_balanceado.to_numpy()\n",
        "\n",
        "y_validacao = y_validacao.to_numpy()\n",
        "y_validacao_balanceado = y_validacao_balanceado.to_numpy()\n",
        "\n",
        "y_teste = y_teste.to_numpy()\n",
        "y_teste_balanceado = y_teste_balanceado.to_numpy()"
      ],
      "execution_count": 24,
      "outputs": []
    },
    {
      "cell_type": "code",
      "metadata": {
        "id": "yOp80fX37ikb"
      },
      "source": [
        "y_treino = y_treino.ravel()\n",
        "y_treino_balanceado = y_treino_balanceado.ravel()\n",
        "\n",
        "y_validacao = y_validacao.ravel()\n",
        "y_validacao_balanceado = y_validacao_balanceado.ravel()\n",
        "\n",
        "y_teste = y_teste.ravel()\n",
        "y_teste_balanceado = y_teste_balanceado.ravel()"
      ],
      "execution_count": 25,
      "outputs": []
    },
    {
      "cell_type": "code",
      "metadata": {
        "colab": {
          "base_uri": "https://localhost:8080/"
        },
        "id": "6h08niV2eN0i",
        "outputId": "abd3099e-a87b-4a2f-d585-88ec94a8d644"
      },
      "source": [
        "unique, counts = np.unique(x_treino[:,1], return_counts=True)\n",
        "print(unique, counts)"
      ],
      "execution_count": 27,
      "outputs": [
        {
          "output_type": "stream",
          "name": "stdout",
          "text": [
            "[0. 1.] [2461407 1356166]\n"
          ]
        }
      ]
    },
    {
      "cell_type": "markdown",
      "metadata": {
        "id": "J6OaPlKf7k5-"
      },
      "source": [
        "# 4 - Classificadores"
      ]
    },
    {
      "cell_type": "markdown",
      "metadata": {
        "id": "8wxFSLvs7mxE"
      },
      "source": [
        "## 4.1 - Regressão Logística"
      ]
    },
    {
      "cell_type": "code",
      "metadata": {
        "id": "5wQBB7lJ7q_d"
      },
      "source": [
        "from sklearn.linear_model import LogisticRegression, LogisticRegressionCV"
      ],
      "execution_count": 28,
      "outputs": []
    },
    {
      "cell_type": "markdown",
      "metadata": {
        "id": "72MEPdw_78US"
      },
      "source": [
        "### 4.1.1 - Dados Balanceados"
      ]
    },
    {
      "cell_type": "code",
      "metadata": {
        "id": "cezGnOEy783_"
      },
      "source": [
        "lr = LogisticRegression(max_iter=1500)"
      ],
      "execution_count": 29,
      "outputs": []
    },
    {
      "cell_type": "code",
      "metadata": {
        "colab": {
          "base_uri": "https://localhost:8080/"
        },
        "id": "ibFdvx918Aek",
        "outputId": "e03084fd-2a42-4ed8-8fc1-751b908fc5ec"
      },
      "source": [
        "lr.fit(x_treino_balanceado, y_treino_balanceado)"
      ],
      "execution_count": 30,
      "outputs": [
        {
          "output_type": "execute_result",
          "data": {
            "text/plain": [
              "LogisticRegression(C=1.0, class_weight=None, dual=False, fit_intercept=True,\n",
              "                   intercept_scaling=1, l1_ratio=None, max_iter=1500,\n",
              "                   multi_class='auto', n_jobs=None, penalty='l2',\n",
              "                   random_state=None, solver='lbfgs', tol=0.0001, verbose=0,\n",
              "                   warm_start=False)"
            ]
          },
          "metadata": {},
          "execution_count": 30
        }
      ]
    },
    {
      "cell_type": "code",
      "metadata": {
        "colab": {
          "base_uri": "https://localhost:8080/"
        },
        "id": "tT9RG2gi8Hle",
        "outputId": "e26f8a33-0793-4ed3-f3ce-38ac06b99383"
      },
      "source": [
        "lr.score(x_teste, y_teste)"
      ],
      "execution_count": 31,
      "outputs": [
        {
          "output_type": "execute_result",
          "data": {
            "text/plain": [
              "0.8405457709769456"
            ]
          },
          "metadata": {},
          "execution_count": 31
        }
      ]
    },
    {
      "cell_type": "code",
      "metadata": {
        "colab": {
          "base_uri": "https://localhost:8080/",
          "height": 279
        },
        "id": "O0rSQiS18Owx",
        "outputId": "6386b22b-1442-415f-e25b-b8312da6329d"
      },
      "source": [
        "plot_confusion_matrix(lr, x_teste, y_teste, normalize='true')\n",
        "plt.show()"
      ],
      "execution_count": 32,
      "outputs": [
        {
          "output_type": "display_data",
          "data": {
            "image/png": "[encoded data removed]",
            "text/plain": [
              "<Figure size 432x288 with 2 Axes>"
            ]
          },
          "metadata": {
            "needs_background": "light"
          }
        }
      ]
    },
    {
      "cell_type": "markdown",
      "metadata": {
        "id": "D8kG3OxV5BMa"
      },
      "source": [
        "### Respondendo perguntas"
      ]
    },
    {
      "cell_type": "code",
      "metadata": {
        "id": "7N6_Of-H5Brn"
      },
      "source": [
        "y_predict = lr.predict(x_teste)"
      ],
      "execution_count": 33,
      "outputs": []
    },
    {
      "cell_type": "code",
      "metadata": {
        "id": "zjbT72845D2u"
      },
      "source": [
        "fraude_detectada = []\n",
        "fraude_real = []\n",
        "legitimo_detectado = []\n",
        "legitimo_real = []\n",
        "for i in range(len(y_predict)):\n",
        "    if y_predict[i]==y_teste[i] and y_teste[i]==1:\n",
        "        fraude_real.append(fim_validacao+i)\n",
        "    if y_predict[i]==1 and y_teste[i]==0:\n",
        "        fraude_detectada.append(fim_validacao+i)\n",
        "    if y_predict[i]==0 and y_teste[i]==1:\n",
        "        legitimo_detectado.append(fim_validacao+i)\n",
        "    if y_predict[i]==y_teste[i] and y_teste[i]==0:\n",
        "        legitimo_real.append(fim_validacao+i)"
      ],
      "execution_count": 34,
      "outputs": []
    },
    {
      "cell_type": "code",
      "metadata": {
        "id": "vo2dXkvT5JAJ"
      },
      "source": [
        "df = pd.read_csv(dataset_path)"
      ],
      "execution_count": 35,
      "outputs": []
    },
    {
      "cell_type": "markdown",
      "metadata": {
        "id": "Q7bZYvBC5F5M"
      },
      "source": [
        "##### Lucro 100% de acertos"
      ]
    },
    {
      "cell_type": "code",
      "metadata": {
        "id": "ZOgjv_jh5MTw"
      },
      "source": [
        "df_100 = df.loc[fim_validacao:tamanho_df,:]\n",
        "df_100_fraude = df_100[df_100['isFraud']==1]\n",
        "df_100_legitimo = df_100[df_100['isFraud']==0]"
      ],
      "execution_count": 36,
      "outputs": []
    },
    {
      "cell_type": "code",
      "metadata": {
        "id": "rAfTBZ-_5OTa"
      },
      "source": [
        "lucro_100_porcento = df_100_fraude['amount'].sum()/4 + df_100_legitimo['amount'].sum()/50"
      ],
      "execution_count": 37,
      "outputs": []
    },
    {
      "cell_type": "code",
      "metadata": {
        "colab": {
          "base_uri": "https://localhost:8080/"
        },
        "id": "eKyBh6WV5Qx8",
        "outputId": "c83942c6-b445-448f-e722-08d4907313ea"
      },
      "source": [
        "lucro_100_porcento"
      ],
      "execution_count": 38,
      "outputs": [
        {
          "output_type": "execute_result",
          "data": {
            "text/plain": [
              "4662745125.904598"
            ]
          },
          "metadata": {},
          "execution_count": 38
        }
      ]
    },
    {
      "cell_type": "markdown",
      "metadata": {
        "id": "XeAfJdy-5St-"
      },
      "source": [
        "##### Prejuízo falha do modelo"
      ]
    },
    {
      "cell_type": "code",
      "metadata": {
        "id": "B_qm5u065TUk"
      },
      "source": [
        "df_falha = df.loc[fim_validacao:tamanho_df,:]\n",
        "df_falha_fraude = df_falha[df_falha['isFraud']==1]\n",
        "df_falha_legitimo = df_falha[df_falha['isFraud']==0]"
      ],
      "execution_count": 39,
      "outputs": []
    },
    {
      "cell_type": "code",
      "metadata": {
        "id": "-xbCMCpv5Vdu"
      },
      "source": [
        "prejuizo_falha = -(df_falha_fraude['amount'].sum() + df_falha_legitimo['amount'].sum()/20)"
      ],
      "execution_count": 40,
      "outputs": []
    },
    {
      "cell_type": "code",
      "metadata": {
        "colab": {
          "base_uri": "https://localhost:8080/"
        },
        "id": "ibZ3BSO65XYH",
        "outputId": "72d75edd-f797-496e-e6b2-d74ff0abaef2"
      },
      "source": [
        "prejuizo_falha"
      ],
      "execution_count": 41,
      "outputs": [
        {
          "output_type": "execute_result",
          "data": {
            "text/plain": [
              "-14028146116.781496"
            ]
          },
          "metadata": {},
          "execution_count": 41
        }
      ]
    },
    {
      "cell_type": "markdown",
      "metadata": {
        "id": "vpEO9leA5an_"
      },
      "source": [
        "##### Lucro real do modelo"
      ]
    },
    {
      "cell_type": "code",
      "metadata": {
        "id": "TxAHXcmw5bou"
      },
      "source": [
        "df_fraude_real = df.iloc[fraude_real]\n",
        "df_fraude_detectada = df.iloc[fraude_detectada]\n",
        "df_legitimo_detectado = df.iloc[legitimo_detectado]\n",
        "df_legitimo_real = df.iloc[legitimo_real]"
      ],
      "execution_count": 42,
      "outputs": []
    },
    {
      "cell_type": "code",
      "metadata": {
        "id": "Cuofam_95gHe"
      },
      "source": [
        "soma_fraude_real = df_fraude_real['amount'].sum()\n",
        "soma_fraude_detectada = df_fraude_detectada['amount'].sum()\n",
        "soma_legitimo_detectado = df_legitimo_detectado['amount'].sum()\n",
        "soma_legitimo_real = df_legitimo_real['amount'].sum()"
      ],
      "execution_count": 43,
      "outputs": []
    },
    {
      "cell_type": "code",
      "metadata": {
        "id": "y3suTERl5hiS"
      },
      "source": [
        "lucro_modelo = (soma_fraude_real/4) + (soma_legitimo_real/50) - (soma_fraude_detectada/20) - soma_legitimo_detectado"
      ],
      "execution_count": 45,
      "outputs": []
    },
    {
      "cell_type": "code",
      "metadata": {
        "colab": {
          "base_uri": "https://localhost:8080/"
        },
        "id": "MnP17Y795kHD",
        "outputId": "cde58b18-f86a-4e48-ab63-d8fc8fb6087b"
      },
      "source": [
        "lucro_modelo"
      ],
      "execution_count": 46,
      "outputs": [
        {
          "output_type": "execute_result",
          "data": {
            "text/plain": [
              "2170636804.4699006"
            ]
          },
          "metadata": {},
          "execution_count": 46
        }
      ]
    },
    {
      "cell_type": "markdown",
      "metadata": {
        "id": "vkRfXupJ7s9X"
      },
      "source": [
        "### 4.1.2 - Dados não balanceados"
      ]
    },
    {
      "cell_type": "code",
      "metadata": {
        "id": "4j-xe-y47t7d"
      },
      "source": [
        "lr = LogisticRegression()"
      ],
      "execution_count": 392,
      "outputs": []
    },
    {
      "cell_type": "code",
      "metadata": {
        "colab": {
          "base_uri": "https://localhost:8080/"
        },
        "id": "a1Z5NaNg7xHp",
        "outputId": "a1a12ff1-f880-4002-efab-75711877faab"
      },
      "source": [
        "lr.fit(x_treino,y_treino)"
      ],
      "execution_count": 393,
      "outputs": [
        {
          "output_type": "stream",
          "name": "stderr",
          "text": [
            "/usr/local/lib/python3.7/dist-packages/sklearn/linear_model/_logistic.py:940: ConvergenceWarning: lbfgs failed to converge (status=1):\n",
            "STOP: TOTAL NO. of ITERATIONS REACHED LIMIT.\n",
            "\n",
            "Increase the number of iterations (max_iter) or scale the data as shown in:\n",
            "    https://scikit-learn.org/stable/modules/preprocessing.html\n",
            "Please also refer to the documentation for alternative solver options:\n",
            "    https://scikit-learn.org/stable/modules/linear_model.html#logistic-regression\n",
            "  extra_warning_msg=_LOGISTIC_SOLVER_CONVERGENCE_MSG)\n"
          ]
        },
        {
          "output_type": "execute_result",
          "data": {
            "text/plain": [
              "LogisticRegression(C=1.0, class_weight=None, dual=False, fit_intercept=True,\n",
              "                   intercept_scaling=1, l1_ratio=None, max_iter=100,\n",
              "                   multi_class='auto', n_jobs=None, penalty='l2',\n",
              "                   random_state=None, solver='lbfgs', tol=0.0001, verbose=0,\n",
              "                   warm_start=False)"
            ]
          },
          "metadata": {},
          "execution_count": 393
        }
      ]
    },
    {
      "cell_type": "code",
      "metadata": {
        "colab": {
          "base_uri": "https://localhost:8080/"
        },
        "id": "TPNw0GOD73is",
        "outputId": "f32ebf82-f461-4d42-b97f-d151934df977"
      },
      "source": [
        "lr.score(x_teste, y_teste)"
      ],
      "execution_count": 394,
      "outputs": [
        {
          "output_type": "execute_result",
          "data": {
            "text/plain": [
              "0.9978478467465709"
            ]
          },
          "metadata": {},
          "execution_count": 394
        }
      ]
    },
    {
      "cell_type": "code",
      "metadata": {
        "colab": {
          "base_uri": "https://localhost:8080/",
          "height": 279
        },
        "id": "AlN5Pzwj76Lf",
        "outputId": "d71a739f-d50e-4343-b16f-e56fea014726"
      },
      "source": [
        "plot_confusion_matrix(lr, x_teste, y_teste, normalize='true')\n",
        "plt.show()"
      ],
      "execution_count": 395,
      "outputs": [
        {
          "output_type": "display_data",
          "data": {
            "image/png": "[encoded data removed]",
            "text/plain": [
              "<Figure size 432x288 with 2 Axes>"
            ]
          },
          "metadata": {
            "needs_background": "light"
          }
        }
      ]
    },
    {
      "cell_type": "markdown",
      "metadata": {
        "id": "dme1anYc3Wcy"
      },
      "source": [
        "## 4.2 - Rede Neural MLP"
      ]
    },
    {
      "cell_type": "markdown",
      "metadata": {
        "id": "2I8jaL_w6vAY"
      },
      "source": [
        "### Treinamento"
      ]
    },
    {
      "cell_type": "code",
      "metadata": {
        "id": "-vPN8C9N3Wcy"
      },
      "source": [
        "plt.rcParams[\"figure.figsize\"] = (6,4)\n",
        "dict_modelos = dict()\n",
        "tamanhos_rede = [1,2,5,10,15,20,25,30]\n",
        "#tamanhos_rede = [10]\n",
        "\n",
        "for numero_neuronio in tamanhos_rede:\n",
        "    \n",
        "    modelo_MLP = MLPClassifier( hidden_layer_sizes = numero_neuronio, activation = 'relu' , \n",
        "                               solver = 'adam' , \n",
        "                               alpha = 0.0001 , \n",
        "                               batch_size = 'auto' , \n",
        "                               learning_rate = 'constant' , \n",
        "                               learning_rate_init = 0.01 , \n",
        "                               power_t = 0.5 , \n",
        "                               max_iter = 500 , \n",
        "                               shuffle = True , \n",
        "                               random_state = None , \n",
        "                               tol= 0.0001 , \n",
        "                               verbose = False , \n",
        "                               warm_start = False , \n",
        "                               momentum = 0.9 , \n",
        "                               nesterovs_momentum = True , \n",
        "                               early_stopping = False , \n",
        "                               validation_fraction = 0.1 , \n",
        "                               beta_1 = 0.9, \n",
        "                               beta_2 = 0.999 , \n",
        "                               epsilon = 1e-08 , \n",
        "                               n_iter_no_change = 10 , \n",
        "                               max_fun = 15000)\n",
        "    \n",
        "    modelo_MLP.fit(np.array(x_treino_balanceado), np.array(y_treino_balanceado))\n",
        "    \n",
        "    \n",
        "    dict_modelos[f\"numero_neuronio_{numero_neuronio}\"] = modelo_MLP"
      ],
      "execution_count": 325,
      "outputs": []
    },
    {
      "cell_type": "code",
      "metadata": {
        "id": "3OY2og9R3Wcz"
      },
      "source": [
        "def mostra_resultados_modelo(dict_modelos, numero_neuronio):   \n",
        "    \"\"\" Retorna a matriz de confusao dos dados de treino e dos dados de teste\"\"\"\n",
        "    \n",
        "    print(f\"--- Modelo com {numero_neuronio} Neuronios ---\")\n",
        "    modelo_MLP = dict_modelos[f\"numero_neuronio_{numero_neuronio}\"] \n",
        "\n",
        "    plot_confusion_matrix(modelo_MLP, np.array(x_validacao), \n",
        "                          np.array(y_validacao), \n",
        "                          normalize='true')  \n",
        "    \n",
        "    plot_confusion_matrix(modelo_MLP, np.array(x_teste), \n",
        "                          np.array(y_teste), \n",
        "                          normalize='true')"
      ],
      "execution_count": 326,
      "outputs": []
    },
    {
      "cell_type": "code",
      "metadata": {
        "id": "WzImyylh3Wcz",
        "colab": {
          "base_uri": "https://localhost:8080/",
          "height": 562
        },
        "outputId": "8e235e33-f728-408a-c5d6-f08c1caee3f3"
      },
      "source": [
        "mostra_resultados_modelo(dict_modelos, 1)"
      ],
      "execution_count": 327,
      "outputs": [
        {
          "output_type": "stream",
          "name": "stdout",
          "text": [
            "--- Modelo com 1 Neuronios ---\n"
          ]
        },
        {
          "output_type": "display_data",
          "data": {
            "image/png": "[encoded data removed]",
            "text/plain": [
              "<Figure size 432x288 with 2 Axes>"
            ]
          },
          "metadata": {
            "needs_background": "light"
          }
        },
        {
          "output_type": "display_data",
          "data": {
            "image/png": "[encoded data removed]",
            "text/plain": [
              "<Figure size 432x288 with 2 Axes>"
            ]
          },
          "metadata": {
            "needs_background": "light"
          }
        }
      ]
    },
    {
      "cell_type": "code",
      "metadata": {
        "id": "S9deOpWq3Wcz",
        "colab": {
          "base_uri": "https://localhost:8080/",
          "height": 562
        },
        "outputId": "eb61a7b9-39cf-46b9-e134-b42db26569b8"
      },
      "source": [
        "mostra_resultados_modelo(dict_modelos, 2)"
      ],
      "execution_count": 328,
      "outputs": [
        {
          "output_type": "stream",
          "name": "stdout",
          "text": [
            "--- Modelo com 2 Neuronios ---\n"
          ]
        },
        {
          "output_type": "display_data",
          "data": {
            "image/png": "[encoded data removed]",
            "text/plain": [
              "<Figure size 432x288 with 2 Axes>"
            ]
          },
          "metadata": {
            "needs_background": "light"
          }
        },
        {
          "output_type": "display_data",
          "data": {
            "image/png": "[encoded data removed]",
            "text/plain": [
              "<Figure size 432x288 with 2 Axes>"
            ]
          },
          "metadata": {
            "needs_background": "light"
          }
        }
      ]
    },
    {
      "cell_type": "code",
      "metadata": {
        "id": "JvSkjHkv3Wcz",
        "colab": {
          "base_uri": "https://localhost:8080/",
          "height": 566
        },
        "outputId": "ef72907c-e208-4fcd-c2e5-378e328c4821"
      },
      "source": [
        "mostra_resultados_modelo(dict_modelos, 5)"
      ],
      "execution_count": 329,
      "outputs": [
        {
          "output_type": "stream",
          "name": "stdout",
          "text": [
            "--- Modelo com 5 Neuronios ---\n"
          ]
        },
        {
          "output_type": "display_data",
          "data": {
            "image/png": "[encoded data removed]",
            "text/plain": [
              "<Figure size 432x288 with 2 Axes>"
            ]
          },
          "metadata": {
            "needs_background": "light"
          }
        },
        {
          "output_type": "display_data",
          "data": {
            "image/png": "[encoded data removed]",
            "text/plain": [
              "<Figure size 432x288 with 2 Axes>"
            ]
          },
          "metadata": {
            "needs_background": "light"
          }
        }
      ]
    },
    {
      "cell_type": "code",
      "metadata": {
        "colab": {
          "base_uri": "https://localhost:8080/",
          "height": 566
        },
        "id": "y773DjaYG9FS",
        "outputId": "31f6175e-c6ec-42b7-9179-6454cf4245ce"
      },
      "source": [
        "mostra_resultados_modelo(dict_modelos, 10)"
      ],
      "execution_count": 330,
      "outputs": [
        {
          "output_type": "stream",
          "name": "stdout",
          "text": [
            "--- Modelo com 10 Neuronios ---\n"
          ]
        },
        {
          "output_type": "display_data",
          "data": {
            "image/png": "[encoded data removed]",
            "text/plain": [
              "<Figure size 432x288 with 2 Axes>"
            ]
          },
          "metadata": {
            "needs_background": "light"
          }
        },
        {
          "output_type": "display_data",
          "data": {
            "image/png": "[encoded data removed]",
            "text/plain": [
              "<Figure size 432x288 with 2 Axes>"
            ]
          },
          "metadata": {
            "needs_background": "light"
          }
        }
      ]
    },
    {
      "cell_type": "code",
      "metadata": {
        "id": "KbREp39i3Wcz",
        "colab": {
          "base_uri": "https://localhost:8080/",
          "height": 566
        },
        "outputId": "1a9de8ab-2211-463b-a2f3-50868418f6ad"
      },
      "source": [
        "mostra_resultados_modelo(dict_modelos, 15)"
      ],
      "execution_count": 331,
      "outputs": [
        {
          "output_type": "stream",
          "name": "stdout",
          "text": [
            "--- Modelo com 15 Neuronios ---\n"
          ]
        },
        {
          "output_type": "display_data",
          "data": {
            "image/png": "[encoded data removed]",
            "text/plain": [
              "<Figure size 432x288 with 2 Axes>"
            ]
          },
          "metadata": {
            "needs_background": "light"
          }
        },
        {
          "output_type": "display_data",
          "data": {
            "image/png": "[encoded data removed]",
            "text/plain": [
              "<Figure size 432x288 with 2 Axes>"
            ]
          },
          "metadata": {
            "needs_background": "light"
          }
        }
      ]
    },
    {
      "cell_type": "code",
      "metadata": {
        "id": "xW0UQEhY3Wc0",
        "colab": {
          "base_uri": "https://localhost:8080/",
          "height": 566
        },
        "outputId": "8da2b530-88c7-4f46-8166-1d00e114e9b9"
      },
      "source": [
        "mostra_resultados_modelo(dict_modelos, 20)"
      ],
      "execution_count": 332,
      "outputs": [
        {
          "output_type": "stream",
          "name": "stdout",
          "text": [
            "--- Modelo com 20 Neuronios ---\n"
          ]
        },
        {
          "output_type": "display_data",
          "data": {
            "image/png": "[encoded data removed]",
            "text/plain": [
              "<Figure size 432x288 with 2 Axes>"
            ]
          },
          "metadata": {
            "needs_background": "light"
          }
        },
        {
          "output_type": "display_data",
          "data": {
            "image/png": "[encoded data removed]",
            "text/plain": [
              "<Figure size 432x288 with 2 Axes>"
            ]
          },
          "metadata": {
            "needs_background": "light"
          }
        }
      ]
    },
    {
      "cell_type": "code",
      "metadata": {
        "id": "LHGtcH5E3Wc0",
        "colab": {
          "base_uri": "https://localhost:8080/",
          "height": 566
        },
        "outputId": "28d07436-4dae-480a-fb3b-9785a9d11821"
      },
      "source": [
        "mostra_resultados_modelo(dict_modelos, 25)"
      ],
      "execution_count": 333,
      "outputs": [
        {
          "output_type": "stream",
          "name": "stdout",
          "text": [
            "--- Modelo com 25 Neuronios ---\n"
          ]
        },
        {
          "output_type": "display_data",
          "data": {
            "image/png": "[encoded data removed]",
            "text/plain": [
              "<Figure size 432x288 with 2 Axes>"
            ]
          },
          "metadata": {
            "needs_background": "light"
          }
        },
        {
          "output_type": "display_data",
          "data": {
            "image/png": "[encoded data removed]",
            "text/plain": [
              "<Figure size 432x288 with 2 Axes>"
            ]
          },
          "metadata": {
            "needs_background": "light"
          }
        }
      ]
    },
    {
      "cell_type": "code",
      "metadata": {
        "id": "VydmeMwi3Wc0",
        "colab": {
          "base_uri": "https://localhost:8080/",
          "height": 566
        },
        "outputId": "9de9d60a-ec1f-4c53-af9b-09b761e4053e"
      },
      "source": [
        "mostra_resultados_modelo(dict_modelos, 30)"
      ],
      "execution_count": 334,
      "outputs": [
        {
          "output_type": "stream",
          "name": "stdout",
          "text": [
            "--- Modelo com 30 Neuronios ---\n"
          ]
        },
        {
          "output_type": "display_data",
          "data": {
            "image/png": "[encoded data removed]",
            "text/plain": [
              "<Figure size 432x288 with 2 Axes>"
            ]
          },
          "metadata": {
            "needs_background": "light"
          }
        },
        {
          "output_type": "display_data",
          "data": {
            "image/png": "[encoded data removed]",
            "text/plain": [
              "<Figure size 432x288 with 2 Axes>"
            ]
          },
          "metadata": {
            "needs_background": "light"
          }
        }
      ]
    },
    {
      "cell_type": "code",
      "metadata": {
        "colab": {
          "base_uri": "https://localhost:8080/"
        },
        "id": "mYF431eBJYfQ",
        "outputId": "7ad80d2a-9f27-4c5f-d194-14dc9279aa8a"
      },
      "source": [
        "dict_modelos[f\"numero_neuronio_2\"].score(x_teste, y_teste)"
      ],
      "execution_count": 337,
      "outputs": [
        {
          "output_type": "execute_result",
          "data": {
            "text/plain": [
              "0.9084685239728288"
            ]
          },
          "metadata": {},
          "execution_count": 337
        }
      ]
    },
    {
      "cell_type": "markdown",
      "metadata": {
        "id": "TxS-A_oz3Wc0"
      },
      "source": [
        "### Melhor modelo encontrado\n",
        "Salvamos na pasta notebooks no github um arquivo chamado modelo_MLP que armazena os dados do melhor modelo que conseguimos treinar. Para carregá-lo, caso já não esteja na mesma pasta que esse notebook, adicione ele à mesma pasta."
      ]
    },
    {
      "cell_type": "code",
      "metadata": {
        "id": "j3Q-nqMB3Wc0"
      },
      "source": [
        "#Salva o modelo\n",
        "pickle.dump(dict_modelos[f\"numero_neuronio_2\"] , open(\"modelo_MLP_2\", 'wb'))"
      ],
      "execution_count": 338,
      "outputs": []
    },
    {
      "cell_type": "code",
      "metadata": {
        "id": "pjEpRFKGJ-fh"
      },
      "source": [
        "# Lê o modelo\n",
        "modelo_MLP = pickle.load(open(\"modelo_MLP_2\", 'rb'))\n",
        "dict_modelos = dict()\n",
        "dict_modelos[\"numero_neuronio_30\"] = modelo_MLP"
      ],
      "execution_count": 396,
      "outputs": []
    },
    {
      "cell_type": "code",
      "metadata": {
        "id": "jTYoywV_63as"
      },
      "source": [
        "def mostra_resultados_modelo(dict_modelos, numero_neuronio):   \n",
        "    \"\"\" Retorna a matriz de confusao dos dados de treino e dos dados de teste\"\"\"\n",
        "    \n",
        "    print(f\"--- Modelo com {numero_neuronio} Neuronios ---\")\n",
        "    modelo_MLP = dict_modelos[f\"numero_neuronio_{numero_neuronio}\"] \n",
        "    \n",
        "    plot_confusion_matrix(modelo_MLP, np.array(x_validacao), \n",
        "                          np.array(y_validacao), \n",
        "                          normalize='true')  \n",
        "    \n",
        "    plot_confusion_matrix(modelo_MLP, np.array(x_teste), \n",
        "                          np.array(y_teste), \n",
        "                          normalize='true')"
      ],
      "execution_count": 397,
      "outputs": []
    },
    {
      "cell_type": "code",
      "metadata": {
        "colab": {
          "base_uri": "https://localhost:8080/",
          "height": 562
        },
        "id": "fJLB0Obf6XB0",
        "outputId": "d5643103-7c61-4e9e-f4b9-f685bf2b2aa7"
      },
      "source": [
        "mostra_resultados_modelo(dict_modelos, 30)"
      ],
      "execution_count": 398,
      "outputs": [
        {
          "output_type": "stream",
          "name": "stdout",
          "text": [
            "--- Modelo com 30 Neuronios ---\n"
          ]
        },
        {
          "output_type": "display_data",
          "data": {
            "image/png": "[encoded data removed]",
            "text/plain": [
              "<Figure size 432x288 with 2 Axes>"
            ]
          },
          "metadata": {
            "needs_background": "light"
          }
        },
        {
          "output_type": "display_data",
          "data": {
            "image/png": "[encoded data removed]",
            "text/plain": [
              "<Figure size 432x288 with 2 Axes>"
            ]
          },
          "metadata": {
            "needs_background": "light"
          }
        }
      ]
    },
    {
      "cell_type": "markdown",
      "metadata": {
        "id": "CtFtywPO1x4s"
      },
      "source": [
        "### Bootstrap no Modelo MLP"
      ]
    },
    {
      "cell_type": "code",
      "metadata": {
        "id": "Ih3TgtGK1378"
      },
      "source": [
        "MLP_results = []\n",
        "iteracoes = 1000\n",
        "for i in range(iteracoes):\n",
        "\n",
        "    modelo_MLP = MLPClassifier( hidden_layer_sizes = 30, activation = 'relu' , \n",
        "                               solver = 'adam' , \n",
        "                               alpha = 0.0001 , \n",
        "                               batch_size = 'auto' , \n",
        "                               learning_rate = 'constant' , \n",
        "                               learning_rate_init = 0.01 , \n",
        "                               power_t = 0.5 , \n",
        "                               max_iter = 500 , \n",
        "                               shuffle = True , \n",
        "                               random_state = None , \n",
        "                               tol= 0.0001 , \n",
        "                               verbose = False , \n",
        "                               warm_start = False , \n",
        "                               momentum = 0.9 , \n",
        "                               nesterovs_momentum = True , \n",
        "                               early_stopping = False , \n",
        "                               validation_fraction = 0.1 , \n",
        "                               beta_1 = 0.9, \n",
        "                               beta_2 = 0.999 , \n",
        "                               epsilon = 1e-08 , \n",
        "                               n_iter_no_change = 10 , \n",
        "                               max_fun = 15000)\n",
        "    \n",
        "    modelo_MLP.fit(np.array(x_treino_balanceado), np.array(y_treino_balanceado))\n",
        "\n",
        "    y_pred = modelo_MLP.predict(x_teste)\n",
        "\n",
        "    MLP_results.append(f1_score(y_teste, y_pred, average='weighted'))"
      ],
      "execution_count": 48,
      "outputs": []
    },
    {
      "cell_type": "code",
      "metadata": {
        "colab": {
          "base_uri": "https://localhost:8080/"
        },
        "id": "m3lFc7nF2-zl",
        "outputId": "721b68fd-af2a-4df8-c959-6b7d55edad7e"
      },
      "source": [
        "np.mean(MLP_results)"
      ],
      "execution_count": 50,
      "outputs": [
        {
          "output_type": "execute_result",
          "data": {
            "text/plain": [
              "0.8690381748962291"
            ]
          },
          "metadata": {},
          "execution_count": 50
        }
      ]
    },
    {
      "cell_type": "code",
      "metadata": {
        "colab": {
          "base_uri": "https://localhost:8080/",
          "height": 621
        },
        "id": "wOYrV0XB3Se9",
        "outputId": "7c0ac492-2cb9-4949-bb0c-054cbf629340"
      },
      "source": [
        "sns.scatterplot(x=[i for i in range(1000)] , y=MLP_results, label='Acurácia MLP', color='Blue')\n",
        "\n",
        "# Média\n",
        "sns.lineplot(x=[i for i in range(1000)], y=[np.mean(MLP_results) for i in range(1000)], color='Black', \n",
        "             label='média MLP')\n",
        "\n",
        "plt.title('Visualização dos resultados do bootstrap MLP com 30 camadas')\n",
        "plt.xlabel('Teste')\n",
        "plt.ylabel('Acurácia')\n",
        "plt.show()"
      ],
      "execution_count": 53,
      "outputs": [
        {
          "output_type": "display_data",
          "data": {
            "image/png": "[encoded data removed]",
            "text/plain": [
              "<Figure size 1152x720 with 1 Axes>"
            ]
          },
          "metadata": {
            "needs_background": "light"
          }
        }
      ]
    }
  ]
}