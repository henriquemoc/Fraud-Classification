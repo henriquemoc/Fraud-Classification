{
  "nbformat": 4,
  "nbformat_minor": 2,
  "metadata": {
    "colab": {
      "name": "icd.ipynb",
      "provenance": []
    },
    "kernelspec": {
      "display_name": "Python 3",
      "language": "python",
      "name": "python3"
    },
    "language_info": {
      "codemirror_mode": {
        "name": "ipython",
        "version": 3
      },
      "file_extension": ".py",
      "mimetype": "text/x-python",
      "name": "python",
      "nbconvert_exporter": "python",
      "pygments_lexer": "ipython3",
      "version": "3.8.5"
    }
  },
  "cells": [
    {
      "cell_type": "markdown",
      "source": [
        "# Importações"
      ],
      "metadata": {
        "id": "IedVNVTe47ho"
      }
    },
    {
      "cell_type": "code",
      "execution_count": 2,
      "source": [
        "import os\r\n",
        "import pickle\r\n",
        "import pandas as pd\r\n",
        "import numpy as np\r\n",
        "import matplotlib.pyplot as plt\r\n",
        "import seaborn as sns\r\n",
        "from scipy.stats import norm\r\n",
        "\r\n",
        "from sklearn.preprocessing import StandardScaler as Scaler\r\n",
        "from sklearn.preprocessing import OneHotEncoder\r\n",
        "from sklearn.compose import ColumnTransformer\r\n",
        "\r\n",
        "from sklearn.metrics import confusion_matrix\r\n",
        "from sklearn.metrics import plot_confusion_matrix\r\n",
        "from sklearn.metrics import accuracy_score\r\n",
        "from sklearn.metrics import precision_recall_fscore_support, f1_score\r\n",
        "from sklearn.metrics import classification_report\r\n",
        "\r\n",
        "from sklearn.neural_network import MLPClassifier\r\n",
        "\r\n",
        "%matplotlib inline\r\n",
        "\r\n",
        "plt.rcParams[\"figure.figsize\"] = (16,10)"
      ],
      "outputs": [],
      "metadata": {
        "id": "kjzAL-7B44fy"
      }
    },
    {
      "cell_type": "markdown",
      "source": [
        "# Configurar dataset"
      ],
      "metadata": {
        "id": "ZypnBG_G5Uf-"
      }
    },
    {
      "cell_type": "markdown",
      "source": [
        "### Baixar dados "
      ],
      "metadata": {
        "id": "iZuroSYK5YTr"
      }
    },
    {
      "cell_type": "markdown",
      "source": [
        "**Caso não seja possível baixar os dados do link no dropbox, por favor, baixar no link:**\n",
        "https://www.kaggle.com/ealaxi/paysim1"
      ],
      "metadata": {
        "id": "yaU7Wd8F3g2o"
      }
    },
    {
      "cell_type": "code",
      "execution_count": 3,
      "source": [
        "!wget -O fraud.csv https://www.dropbox.com/s/47hd95t7n8hhlgz/fraude.csv?dl=0"
      ],
      "outputs": [
        {
          "output_type": "stream",
          "name": "stdout",
          "text": [
            "--2021-09-05 17:52:55--  https://www.dropbox.com/s/47hd95t7n8hhlgz/fraude.csv?dl=0\n",
            "Resolving www.dropbox.com (www.dropbox.com)... 162.125.5.18, 2620:100:601d:18::a27d:512\n",
            "Connecting to www.dropbox.com (www.dropbox.com)|162.125.5.18|:443... connected.\n",
            "HTTP request sent, awaiting response... 301 Moved Permanently\n",
            "Location: /s/raw/47hd95t7n8hhlgz/fraude.csv [following]\n",
            "--2021-09-05 17:52:56--  https://www.dropbox.com/s/raw/47hd95t7n8hhlgz/fraude.csv\n",
            "Reusing existing connection to www.dropbox.com:443.\n",
            "HTTP request sent, awaiting response... 302 Found\n",
            "Location: https://ucd9bebad0b76cbc306c27239b76.dl.dropboxusercontent.com/cd/0/inline/BVki_5OozjJa5OyTubTtLyMunVmPiXIseReZzaESZHafX8iC8a7GudFngNSfHAsjAtSmcoiTDdxWO412zcChnVmIYJIV2ijZ8ljCRf6X5SNt6WeYgRWuTAAOfTXeafEhqN0diJTdcYAEdbIBJ9P6x_Ve/file# [following]\n",
            "--2021-09-05 17:52:56--  https://ucd9bebad0b76cbc306c27239b76.dl.dropboxusercontent.com/cd/0/inline/BVki_5OozjJa5OyTubTtLyMunVmPiXIseReZzaESZHafX8iC8a7GudFngNSfHAsjAtSmcoiTDdxWO412zcChnVmIYJIV2ijZ8ljCRf6X5SNt6WeYgRWuTAAOfTXeafEhqN0diJTdcYAEdbIBJ9P6x_Ve/file\n",
            "Resolving ucd9bebad0b76cbc306c27239b76.dl.dropboxusercontent.com (ucd9bebad0b76cbc306c27239b76.dl.dropboxusercontent.com)... 162.125.5.15, 2620:100:601d:15::a27d:50f\n",
            "Connecting to ucd9bebad0b76cbc306c27239b76.dl.dropboxusercontent.com (ucd9bebad0b76cbc306c27239b76.dl.dropboxusercontent.com)|162.125.5.15|:443... connected.\n",
            "HTTP request sent, awaiting response... 200 OK\n",
            "Length: 493534783 (471M) [text/plain]\n",
            "Saving to: ‘fraud.csv’\n",
            "\n",
            "fraud.csv           100%[===================>] 470.67M  75.8MB/s    in 6.4s    \n",
            "\n",
            "2021-09-05 17:53:03 (74.0 MB/s) - ‘fraud.csv’ saved [493534783/493534783]\n",
            "\n"
          ]
        }
      ],
      "metadata": {
        "colab": {
          "base_uri": "https://localhost:8080/"
        },
        "id": "xjQ5rVkm5YD0",
        "outputId": "0036ce8f-e117-4b1d-c6f3-0adf0cacd11c"
      }
    },
    {
      "cell_type": "code",
      "execution_count": 4,
      "source": [
        "dataset_path = \"fraud.csv\""
      ],
      "outputs": [],
      "metadata": {
        "id": "PaRq5cxN5d9l"
      }
    },
    {
      "cell_type": "markdown",
      "source": [
        "### Ler CSV"
      ],
      "metadata": {
        "id": "32oRQVWY5f8C"
      }
    },
    {
      "cell_type": "code",
      "execution_count": 5,
      "source": [
        "df = pd.read_csv(dataset_path)"
      ],
      "outputs": [],
      "metadata": {
        "id": "NRTN9s-35kQL"
      }
    },
    {
      "cell_type": "markdown",
      "source": [
        "# 3 - Preparação dos dados"
      ],
      "metadata": {
        "id": "9caXu6q85moC"
      }
    },
    {
      "cell_type": "markdown",
      "source": [
        "## 3.1 - Normalização logarítimica"
      ],
      "metadata": {
        "id": "4hyQ2z5E5uyp"
      }
    },
    {
      "cell_type": "code",
      "execution_count": 6,
      "source": [
        "df['amount'].describe()"
      ],
      "outputs": [
        {
          "output_type": "execute_result",
          "data": {
            "text/plain": [
              "count    6.362620e+06\n",
              "mean     1.798619e+05\n",
              "std      6.038582e+05\n",
              "min      0.000000e+00\n",
              "25%      1.338957e+04\n",
              "50%      7.487194e+04\n",
              "75%      2.087215e+05\n",
              "max      9.244552e+07\n",
              "Name: amount, dtype: float64"
            ]
          },
          "metadata": {},
          "execution_count": 6
        }
      ],
      "metadata": {
        "colab": {
          "base_uri": "https://localhost:8080/"
        },
        "id": "75I_7s5c5rk0",
        "outputId": "377c40c8-b118-4719-ffcf-db8f960e7955"
      }
    },
    {
      "cell_type": "code",
      "execution_count": 7,
      "source": [
        "df['oldbalanceOrg'].describe()"
      ],
      "outputs": [
        {
          "output_type": "execute_result",
          "data": {
            "text/plain": [
              "count    6.362620e+06\n",
              "mean     8.338831e+05\n",
              "std      2.888243e+06\n",
              "min      0.000000e+00\n",
              "25%      0.000000e+00\n",
              "50%      1.420800e+04\n",
              "75%      1.073152e+05\n",
              "max      5.958504e+07\n",
              "Name: oldbalanceOrg, dtype: float64"
            ]
          },
          "metadata": {},
          "execution_count": 7
        }
      ],
      "metadata": {
        "colab": {
          "base_uri": "https://localhost:8080/"
        },
        "id": "-lCcNgXf528r",
        "outputId": "e2bb5cad-3b8a-4b4e-dd89-88aecc1c3030"
      }
    },
    {
      "cell_type": "code",
      "execution_count": 8,
      "source": [
        "df['newbalanceOrig'].describe()"
      ],
      "outputs": [
        {
          "output_type": "execute_result",
          "data": {
            "text/plain": [
              "count    6.362620e+06\n",
              "mean     8.551137e+05\n",
              "std      2.924049e+06\n",
              "min      0.000000e+00\n",
              "25%      0.000000e+00\n",
              "50%      0.000000e+00\n",
              "75%      1.442584e+05\n",
              "max      4.958504e+07\n",
              "Name: newbalanceOrig, dtype: float64"
            ]
          },
          "metadata": {},
          "execution_count": 8
        }
      ],
      "metadata": {
        "colab": {
          "base_uri": "https://localhost:8080/"
        },
        "id": "CDKHhesz54WL",
        "outputId": "8d8ddaca-94cc-424f-9073-4bc8d04c8fe6"
      }
    },
    {
      "cell_type": "code",
      "execution_count": 9,
      "source": [
        "df['oldbalanceDest'].describe()"
      ],
      "outputs": [
        {
          "output_type": "execute_result",
          "data": {
            "text/plain": [
              "count    6.362620e+06\n",
              "mean     1.100702e+06\n",
              "std      3.399180e+06\n",
              "min      0.000000e+00\n",
              "25%      0.000000e+00\n",
              "50%      1.327057e+05\n",
              "75%      9.430367e+05\n",
              "max      3.560159e+08\n",
              "Name: oldbalanceDest, dtype: float64"
            ]
          },
          "metadata": {},
          "execution_count": 9
        }
      ],
      "metadata": {
        "colab": {
          "base_uri": "https://localhost:8080/"
        },
        "id": "CgP01U055508",
        "outputId": "0c6b9e59-2666-4113-d9ba-27b2d3fa73f7"
      }
    },
    {
      "cell_type": "code",
      "execution_count": 10,
      "source": [
        "df['newbalanceDest'].describe()"
      ],
      "outputs": [
        {
          "output_type": "execute_result",
          "data": {
            "text/plain": [
              "count    6.362620e+06\n",
              "mean     1.224996e+06\n",
              "std      3.674129e+06\n",
              "min      0.000000e+00\n",
              "25%      0.000000e+00\n",
              "50%      2.146614e+05\n",
              "75%      1.111909e+06\n",
              "max      3.561793e+08\n",
              "Name: newbalanceDest, dtype: float64"
            ]
          },
          "metadata": {},
          "execution_count": 10
        }
      ],
      "metadata": {
        "colab": {
          "base_uri": "https://localhost:8080/"
        },
        "id": "mAXxPtz-57vP",
        "outputId": "15dd7400-9623-42a3-83c8-d12fa793a4f9"
      }
    },
    {
      "cell_type": "markdown",
      "source": [
        "Todos tem como valor mínimo 0. log 0 é impossível, logo deve-se mudar os valores para retirar o 0 antes de mudar a escala para logarítmica."
      ],
      "metadata": {
        "id": "qlSdqziY5-As"
      }
    },
    {
      "cell_type": "code",
      "execution_count": 11,
      "source": [
        "log_list = ['amount', 'oldbalanceOrg', 'newbalanceOrig', 'oldbalanceDest', 'newbalanceDest']\r\n",
        "\r\n",
        "for i in log_list:\r\n",
        "    df[i] = (0.1+df[i])#Como existem valores iguais a 0, é preciso tirá-los para fazer o log\r\n",
        "    df[i] = np.log(df[i])"
      ],
      "outputs": [],
      "metadata": {
        "id": "ZhJg-1S25_Z4"
      }
    },
    {
      "cell_type": "markdown",
      "source": [
        "## 3.2 - Separação dos dados\n",
        "É preciso separar os dados em treino, teste e validação antes de normalizar os dados, caso contrário ocorrerá vazamento de dados.\n",
        "60% dos dados serão usados no grupo de treinamento, 25% no grupo de validação e 15% no grupo de teste."
      ],
      "metadata": {
        "id": "XqMTrev-6NPh"
      }
    },
    {
      "cell_type": "markdown",
      "source": [
        "### 3.2.1 - Separa em treino, teste e validacao"
      ],
      "metadata": {
        "id": "SfOJmdz47EUe"
      }
    },
    {
      "cell_type": "code",
      "execution_count": 12,
      "source": [
        "tamanho_df = df.shape[0]\r\n",
        "colunas_y = [\"isFraud\"]\r\n",
        "colunas_nao_x = [\"isFraud\", \"isFlaggedFraud\"]\r\n",
        "colunas_x = [coluna for coluna in df.columns if coluna not in colunas_nao_x]\r\n",
        "\r\n",
        "# Treino \r\n",
        "fim_treino = round(tamanho_df * 0.6)\r\n",
        "\r\n",
        "treino = df.loc[0:fim_treino,:]\r\n",
        "fraudes_treino = treino[treino['isFraud'] == 1]\r\n",
        "legitimo_treino = treino[treino['isFraud'] == 0]\r\n",
        "legitimo_treino = legitimo_treino.sample(n=fraudes_treino.shape[0], random_state=1)\r\n",
        "treino_balanceado = pd.concat([legitimo_treino, fraudes_treino], axis= 0)\r\n",
        "x_treino_balanceado = treino_balanceado.loc[:, colunas_x]\r\n",
        "y_treino_balanceado = treino_balanceado.loc[:, colunas_y]\r\n",
        "\r\n",
        "x_treino = df.loc[0:fim_treino,colunas_x]\r\n",
        "y_treino = df.loc[0:fim_treino, colunas_y]\r\n",
        "\r\n",
        "\r\n",
        "# Validacao\r\n",
        "fim_validacao = round(tamanho_df * (0.6 + 0.25))\r\n",
        "\r\n",
        "validacao = df.loc[fim_treino:fim_validacao,:]\r\n",
        "fraudes_validacao = validacao[validacao['isFraud'] == 1]\r\n",
        "legitimo_validacao = validacao[validacao['isFraud'] == 0]\r\n",
        "legitimo_validacao = legitimo_validacao.sample(n=fraudes_validacao.shape[0], random_state=1)\r\n",
        "validacao_balanceado = pd.concat([legitimo_validacao, fraudes_validacao], axis= 0)\r\n",
        "x_validacao_balanceado = validacao_balanceado.loc[:, colunas_x]\r\n",
        "y_validacao_balanceado = validacao_balanceado.loc[:, colunas_y]\r\n",
        "\r\n",
        "x_validacao = df.loc[fim_treino:fim_validacao, colunas_x]\r\n",
        "y_validacao =  df.loc[fim_treino:fim_validacao, colunas_y]\r\n",
        "\r\n",
        "# Teste\r\n",
        "\r\n",
        "teste = df.loc[fim_validacao:tamanho_df,:]\r\n",
        "fraudes_teste = teste[teste['isFraud'] == 1]\r\n",
        "legitimo_teste = teste[teste['isFraud'] == 0]\r\n",
        "legitimo_teste = legitimo_teste.sample(n=fraudes_teste.shape[0], random_state=1)\r\n",
        "teste_balanceado = pd.concat([legitimo_teste, fraudes_teste], axis= 0)\r\n",
        "x_teste_balanceado = teste_balanceado.loc[:, colunas_x]\r\n",
        "y_teste_balanceado = teste_balanceado.loc[:, colunas_y]\r\n",
        "\r\n",
        "x_teste =  df.loc[fim_validacao:tamanho_df , colunas_x]\r\n",
        "y_teste = df.loc[fim_validacao:tamanho_df, colunas_y]"
      ],
      "outputs": [],
      "metadata": {
        "id": "XY9Sqq497E_v"
      }
    },
    {
      "cell_type": "code",
      "execution_count": 13,
      "source": [
        "print(x_treino.shape)\r\n",
        "print(x_validacao.shape)\r\n",
        "print(x_teste.shape)\r\n",
        "\r\n",
        "print(x_treino_balanceado.shape)\r\n",
        "print(y_treino_balanceado.shape)\r\n",
        "print(x_validacao_balanceado.shape)\r\n",
        "print(y_validacao_balanceado.shape)\r\n",
        "print(x_teste_balanceado.shape)\r\n",
        "print(y_teste_balanceado.shape)"
      ],
      "outputs": [
        {
          "output_type": "stream",
          "name": "stdout",
          "text": [
            "(3817573, 9)\n",
            "(1590656, 9)\n",
            "(954393, 9)\n",
            "(6378, 9)\n",
            "(6378, 1)\n",
            "(2032, 9)\n",
            "(2032, 1)\n",
            "(8016, 9)\n",
            "(8016, 1)\n"
          ]
        }
      ],
      "metadata": {
        "colab": {
          "base_uri": "https://localhost:8080/"
        },
        "id": "LN4yQIzx7H-L",
        "outputId": "936398eb-7010-411c-9de9-cb8ed67db14f"
      }
    },
    {
      "cell_type": "markdown",
      "source": [
        "## 3.3 - Padronização dos dados\n",
        "Apenas variáveis contínuas e discretas devem ser padronizadas."
      ],
      "metadata": {
        "id": "5-AUnGxd6HgD"
      }
    },
    {
      "cell_type": "code",
      "execution_count": 14,
      "source": [
        "colunas_scaler = [\"amount\", \"oldbalanceOrg\", \"newbalanceOrig\", \"oldbalanceDest\", \"newbalanceDest\"]\r\n",
        "scaler = Scaler()\r\n",
        "\r\n",
        "x_treino_balanceado[colunas_scaler] = scaler.fit_transform(x_treino_balanceado[colunas_scaler])\r\n",
        "\r\n",
        "x_validacao_balanceado[colunas_scaler] = scaler.transform(x_validacao_balanceado[colunas_scaler])\r\n",
        "\r\n",
        "x_teste_balanceado[colunas_scaler] = scaler.transform(x_teste_balanceado[colunas_scaler])"
      ],
      "outputs": [],
      "metadata": {
        "id": "Amj1Ff5a6Iaz"
      }
    },
    {
      "cell_type": "code",
      "execution_count": 15,
      "source": [
        "scaler = Scaler()\r\n",
        "\r\n",
        "x_treino[colunas_scaler] = scaler.fit_transform(x_treino[colunas_scaler])\r\n",
        "\r\n",
        "x_validacao[colunas_scaler] = scaler.transform(x_validacao[colunas_scaler])\r\n",
        "\r\n",
        "x_teste[colunas_scaler] = scaler.transform(x_teste[colunas_scaler])"
      ],
      "outputs": [],
      "metadata": {
        "id": "0u4yJaVT9D4t"
      }
    },
    {
      "cell_type": "code",
      "execution_count": 16,
      "source": [
        "x_treino.head(2)"
      ],
      "outputs": [
        {
          "output_type": "execute_result",
          "data": {
            "text/plain": [
              "   step     type    amount  ...     nameDest  oldbalanceDest  newbalanceDest\n",
              "0     1  PAYMENT -0.878175  ...  M1979787155       -1.156928       -1.256277\n",
              "1     1  PAYMENT -1.789201  ...  M2044282225       -1.156928       -1.256277\n",
              "\n",
              "[2 rows x 9 columns]"
            ],
            "text/html": [
              "<div>\n",
              "<style scoped>\n",
              "    .dataframe tbody tr th:only-of-type {\n",
              "        vertical-align: middle;\n",
              "    }\n",
              "\n",
              "    .dataframe tbody tr th {\n",
              "        vertical-align: top;\n",
              "    }\n",
              "\n",
              "    .dataframe thead th {\n",
              "        text-align: right;\n",
              "    }\n",
              "</style>\n",
              "<table border=\"1\" class=\"dataframe\">\n",
              "  <thead>\n",
              "    <tr style=\"text-align: right;\">\n",
              "      <th></th>\n",
              "      <th>step</th>\n",
              "      <th>type</th>\n",
              "      <th>amount</th>\n",
              "      <th>nameOrig</th>\n",
              "      <th>oldbalanceOrg</th>\n",
              "      <th>newbalanceOrig</th>\n",
              "      <th>nameDest</th>\n",
              "      <th>oldbalanceDest</th>\n",
              "      <th>newbalanceDest</th>\n",
              "    </tr>\n",
              "  </thead>\n",
              "  <tbody>\n",
              "    <tr>\n",
              "      <th>0</th>\n",
              "      <td>1</td>\n",
              "      <td>PAYMENT</td>\n",
              "      <td>-0.878175</td>\n",
              "      <td>C1231006815</td>\n",
              "      <td>0.803964</td>\n",
              "      <td>1.054779</td>\n",
              "      <td>M1979787155</td>\n",
              "      <td>-1.156928</td>\n",
              "      <td>-1.256277</td>\n",
              "    </tr>\n",
              "    <tr>\n",
              "      <th>1</th>\n",
              "      <td>1</td>\n",
              "      <td>PAYMENT</td>\n",
              "      <td>-1.789201</td>\n",
              "      <td>C1666544295</td>\n",
              "      <td>0.492848</td>\n",
              "      <td>0.771232</td>\n",
              "      <td>M2044282225</td>\n",
              "      <td>-1.156928</td>\n",
              "      <td>-1.256277</td>\n",
              "    </tr>\n",
              "  </tbody>\n",
              "</table>\n",
              "</div>"
            ]
          },
          "metadata": {},
          "execution_count": 16
        }
      ],
      "metadata": {
        "colab": {
          "base_uri": "https://localhost:8080/",
          "height": 110
        },
        "id": "-v2svSUX6MlZ",
        "outputId": "89c823f5-f609-48f7-c058-43a9da414751"
      }
    },
    {
      "cell_type": "code",
      "execution_count": 17,
      "source": [
        "x_validacao_balanceado.head(2)"
      ],
      "outputs": [
        {
          "output_type": "execute_result",
          "data": {
            "text/plain": [
              "         step      type    amount  ...     nameDest  oldbalanceDest  newbalanceDest\n",
              "3998125   298  TRANSFER  0.746727  ...  C1644909153        1.385417        1.151396\n",
              "4658759   330   PAYMENT -1.519311  ...   M182672016       -0.920817       -1.118828\n",
              "\n",
              "[2 rows x 9 columns]"
            ],
            "text/html": [
              "<div>\n",
              "<style scoped>\n",
              "    .dataframe tbody tr th:only-of-type {\n",
              "        vertical-align: middle;\n",
              "    }\n",
              "\n",
              "    .dataframe tbody tr th {\n",
              "        vertical-align: top;\n",
              "    }\n",
              "\n",
              "    .dataframe thead th {\n",
              "        text-align: right;\n",
              "    }\n",
              "</style>\n",
              "<table border=\"1\" class=\"dataframe\">\n",
              "  <thead>\n",
              "    <tr style=\"text-align: right;\">\n",
              "      <th></th>\n",
              "      <th>step</th>\n",
              "      <th>type</th>\n",
              "      <th>amount</th>\n",
              "      <th>nameOrig</th>\n",
              "      <th>oldbalanceOrg</th>\n",
              "      <th>newbalanceOrig</th>\n",
              "      <th>nameDest</th>\n",
              "      <th>oldbalanceDest</th>\n",
              "      <th>newbalanceDest</th>\n",
              "    </tr>\n",
              "  </thead>\n",
              "  <tbody>\n",
              "    <tr>\n",
              "      <th>3998125</th>\n",
              "      <td>298</td>\n",
              "      <td>TRANSFER</td>\n",
              "      <td>0.746727</td>\n",
              "      <td>C275945467</td>\n",
              "      <td>-2.060802</td>\n",
              "      <td>-0.531852</td>\n",
              "      <td>C1644909153</td>\n",
              "      <td>1.385417</td>\n",
              "      <td>1.151396</td>\n",
              "    </tr>\n",
              "    <tr>\n",
              "      <th>4658759</th>\n",
              "      <td>330</td>\n",
              "      <td>PAYMENT</td>\n",
              "      <td>-1.519311</td>\n",
              "      <td>C62030761</td>\n",
              "      <td>0.422256</td>\n",
              "      <td>1.770014</td>\n",
              "      <td>M182672016</td>\n",
              "      <td>-0.920817</td>\n",
              "      <td>-1.118828</td>\n",
              "    </tr>\n",
              "  </tbody>\n",
              "</table>\n",
              "</div>"
            ]
          },
          "metadata": {},
          "execution_count": 17
        }
      ],
      "metadata": {
        "colab": {
          "base_uri": "https://localhost:8080/",
          "height": 110
        },
        "id": "l0SipZbP3Qxg",
        "outputId": "5015bab8-f4aa-4e40-cc72-74a20a533d38"
      }
    },
    {
      "cell_type": "markdown",
      "source": [
        "## 3.4 - Tratamento de variáveis categóricas"
      ],
      "metadata": {
        "id": "3Kv0imZF7NIw"
      }
    },
    {
      "cell_type": "markdown",
      "source": [
        "### 3.4.1 - Corrigindo variáveis nameOrig e nameDest"
      ],
      "metadata": {
        "id": "tKhRzBjd7OmV"
      }
    },
    {
      "cell_type": "code",
      "execution_count": 18,
      "source": [
        "x_treino.loc[x_treino['nameDest'].astype(str).str[0] == 'C', 'nameDest'] = 'C'\r\n",
        "x_treino.loc[x_treino['nameDest'].astype(str).str[0] == 'M', 'nameDest'] = 'M'\r\n",
        "x_treino_balanceado.loc[x_treino_balanceado['nameDest'].astype(str).str[0] == 'C', 'nameDest'] = 'C'\r\n",
        "x_treino_balanceado.loc[x_treino_balanceado['nameDest'].astype(str).str[0] == 'M', 'nameDest'] = 'M'\r\n",
        "\r\n",
        "x_validacao.loc[x_validacao['nameDest'].astype(str).str[0] == 'C', 'nameDest'] = 'C'\r\n",
        "x_validacao.loc[x_validacao['nameDest'].astype(str).str[0] == 'M', 'nameDest'] = 'M'\r\n",
        "x_validacao_balanceado.loc[x_validacao_balanceado['nameDest'].astype(str).str[0] == 'C', 'nameDest'] = 'C'\r\n",
        "x_validacao_balanceado.loc[x_validacao_balanceado['nameDest'].astype(str).str[0] == 'M', 'nameDest'] = 'M'\r\n",
        "\r\n",
        "x_teste.loc[x_teste['nameDest'].astype(str).str[0] == 'C', 'nameDest'] = 'C'\r\n",
        "x_teste.loc[x_teste['nameDest'].astype(str).str[0] == 'M', 'nameDest'] = 'M'\r\n",
        "x_teste_balanceado.loc[x_teste_balanceado['nameDest'].astype(str).str[0] == 'C', 'nameDest'] = 'C'\r\n",
        "x_teste_balanceado.loc[x_teste_balanceado['nameDest'].astype(str).str[0] == 'M', 'nameDest'] = 'M'"
      ],
      "outputs": [],
      "metadata": {
        "id": "TnRMdZL07Qwr"
      }
    },
    {
      "cell_type": "code",
      "execution_count": 19,
      "source": [
        "x_treino.loc[x_treino['nameOrig'].astype(str).str[0] == 'C', 'nameOrig'] = 'C'\n",
        "x_treino_balanceado.loc[x_treino_balanceado['nameOrig'].astype(str).str[0] == 'C', 'nameOrig'] = 'C'\n",
        "\n",
        "x_validacao.loc[x_validacao['nameOrig'].astype(str).str[0] == 'C', 'nameOrig'] = 'C'\n",
        "x_validacao_balanceado.loc[x_validacao_balanceado['nameOrig'].astype(str).str[0] == 'C', 'nameOrig'] = 'C'\n",
        "\n",
        "x_teste.loc[x_teste['nameOrig'].astype(str).str[0] == 'C', 'nameOrig'] = 'C'\n",
        "x_teste_balanceado.loc[x_teste_balanceado['nameOrig'].astype(str).str[0] == 'C', 'nameOrig'] = 'C'"
      ],
      "outputs": [],
      "metadata": {
        "id": "OQQ1XYXQ7SkF"
      }
    },
    {
      "cell_type": "code",
      "execution_count": 20,
      "source": [
        "x_treino.head(10)"
      ],
      "outputs": [
        {
          "output_type": "execute_result",
          "data": {
            "text/plain": [
              "   step      type    amount  ... nameDest  oldbalanceDest  newbalanceDest\n",
              "0     1   PAYMENT -0.878175  ...        M       -1.156928       -1.256277\n",
              "1     1   PAYMENT -1.789201  ...        M       -1.156928       -1.256277\n",
              "2     1  TRANSFER -3.066135  ...        C       -1.156928       -1.256277\n",
              "3     1  CASH_OUT -3.066135  ...        C        0.406175       -1.256277\n",
              "4     1   PAYMENT -0.784832  ...        M       -1.156928       -1.256277\n",
              "5     1   PAYMENT -1.004149  ...        M       -1.156928       -1.256277\n",
              "6     1   PAYMENT -1.056287  ...        M       -1.156928       -1.256277\n",
              "7     1   PAYMENT -1.001081  ...        M       -1.156928       -1.256277\n",
              "8     1   PAYMENT -1.367800  ...        M       -1.156928       -1.256277\n",
              "9     1     DEBIT -1.213123  ...        C        0.493113        0.405974\n",
              "\n",
              "[10 rows x 9 columns]"
            ],
            "text/html": [
              "<div>\n",
              "<style scoped>\n",
              "    .dataframe tbody tr th:only-of-type {\n",
              "        vertical-align: middle;\n",
              "    }\n",
              "\n",
              "    .dataframe tbody tr th {\n",
              "        vertical-align: top;\n",
              "    }\n",
              "\n",
              "    .dataframe thead th {\n",
              "        text-align: right;\n",
              "    }\n",
              "</style>\n",
              "<table border=\"1\" class=\"dataframe\">\n",
              "  <thead>\n",
              "    <tr style=\"text-align: right;\">\n",
              "      <th></th>\n",
              "      <th>step</th>\n",
              "      <th>type</th>\n",
              "      <th>amount</th>\n",
              "      <th>nameOrig</th>\n",
              "      <th>oldbalanceOrg</th>\n",
              "      <th>newbalanceOrig</th>\n",
              "      <th>nameDest</th>\n",
              "      <th>oldbalanceDest</th>\n",
              "      <th>newbalanceDest</th>\n",
              "    </tr>\n",
              "  </thead>\n",
              "  <tbody>\n",
              "    <tr>\n",
              "      <th>0</th>\n",
              "      <td>1</td>\n",
              "      <td>PAYMENT</td>\n",
              "      <td>-0.878175</td>\n",
              "      <td>C</td>\n",
              "      <td>0.803964</td>\n",
              "      <td>1.054779</td>\n",
              "      <td>M</td>\n",
              "      <td>-1.156928</td>\n",
              "      <td>-1.256277</td>\n",
              "    </tr>\n",
              "    <tr>\n",
              "      <th>1</th>\n",
              "      <td>1</td>\n",
              "      <td>PAYMENT</td>\n",
              "      <td>-1.789201</td>\n",
              "      <td>C</td>\n",
              "      <td>0.492848</td>\n",
              "      <td>0.771232</td>\n",
              "      <td>M</td>\n",
              "      <td>-1.156928</td>\n",
              "      <td>-1.256277</td>\n",
              "    </tr>\n",
              "    <tr>\n",
              "      <th>2</th>\n",
              "      <td>1</td>\n",
              "      <td>TRANSFER</td>\n",
              "      <td>-3.066135</td>\n",
              "      <td>C</td>\n",
              "      <td>-0.219784</td>\n",
              "      <td>-0.862883</td>\n",
              "      <td>C</td>\n",
              "      <td>-1.156928</td>\n",
              "      <td>-1.256277</td>\n",
              "    </tr>\n",
              "    <tr>\n",
              "      <th>3</th>\n",
              "      <td>1</td>\n",
              "      <td>CASH_OUT</td>\n",
              "      <td>-3.066135</td>\n",
              "      <td>C</td>\n",
              "      <td>-0.219784</td>\n",
              "      <td>-0.862883</td>\n",
              "      <td>C</td>\n",
              "      <td>0.406175</td>\n",
              "      <td>-1.256277</td>\n",
              "    </tr>\n",
              "    <tr>\n",
              "      <th>4</th>\n",
              "      <td>1</td>\n",
              "      <td>PAYMENT</td>\n",
              "      <td>-0.784832</td>\n",
              "      <td>C</td>\n",
              "      <td>0.593151</td>\n",
              "      <td>0.829336</td>\n",
              "      <td>M</td>\n",
              "      <td>-1.156928</td>\n",
              "      <td>-1.256277</td>\n",
              "    </tr>\n",
              "    <tr>\n",
              "      <th>5</th>\n",
              "      <td>1</td>\n",
              "      <td>PAYMENT</td>\n",
              "      <td>-1.004149</td>\n",
              "      <td>C</td>\n",
              "      <td>0.631945</td>\n",
              "      <td>0.887343</td>\n",
              "      <td>M</td>\n",
              "      <td>-1.156928</td>\n",
              "      <td>-1.256277</td>\n",
              "    </tr>\n",
              "    <tr>\n",
              "      <th>6</th>\n",
              "      <td>1</td>\n",
              "      <td>PAYMENT</td>\n",
              "      <td>-1.056287</td>\n",
              "      <td>C</td>\n",
              "      <td>0.815024</td>\n",
              "      <td>1.067389</td>\n",
              "      <td>M</td>\n",
              "      <td>-1.156928</td>\n",
              "      <td>-1.256277</td>\n",
              "    </tr>\n",
              "    <tr>\n",
              "      <th>7</th>\n",
              "      <td>1</td>\n",
              "      <td>PAYMENT</td>\n",
              "      <td>-1.001081</td>\n",
              "      <td>C</td>\n",
              "      <td>0.809106</td>\n",
              "      <td>1.061259</td>\n",
              "      <td>M</td>\n",
              "      <td>-1.156928</td>\n",
              "      <td>-1.256277</td>\n",
              "    </tr>\n",
              "    <tr>\n",
              "      <th>8</th>\n",
              "      <td>1</td>\n",
              "      <td>PAYMENT</td>\n",
              "      <td>-1.367800</td>\n",
              "      <td>C</td>\n",
              "      <td>0.182698</td>\n",
              "      <td>-0.862883</td>\n",
              "      <td>M</td>\n",
              "      <td>-1.156928</td>\n",
              "      <td>-1.256277</td>\n",
              "    </tr>\n",
              "    <tr>\n",
              "      <th>9</th>\n",
              "      <td>1</td>\n",
              "      <td>DEBIT</td>\n",
              "      <td>-1.213123</td>\n",
              "      <td>C</td>\n",
              "      <td>0.593748</td>\n",
              "      <td>0.855737</td>\n",
              "      <td>C</td>\n",
              "      <td>0.493113</td>\n",
              "      <td>0.405974</td>\n",
              "    </tr>\n",
              "  </tbody>\n",
              "</table>\n",
              "</div>"
            ]
          },
          "metadata": {},
          "execution_count": 20
        }
      ],
      "metadata": {
        "colab": {
          "base_uri": "https://localhost:8080/",
          "height": 355
        },
        "id": "GFrfxanV7Vrz",
        "outputId": "52152ffd-0264-433a-e1dc-51232967abf3"
      }
    },
    {
      "cell_type": "code",
      "execution_count": 21,
      "source": [
        "x_treino['type'].value_counts()"
      ],
      "outputs": [
        {
          "output_type": "execute_result",
          "data": {
            "text/plain": [
              "CASH_OUT    1356166\n",
              "PAYMENT     1286109\n",
              "CASH_IN      836483\n",
              "TRANSFER     315348\n",
              "DEBIT         23467\n",
              "Name: type, dtype: int64"
            ]
          },
          "metadata": {},
          "execution_count": 21
        }
      ],
      "metadata": {
        "colab": {
          "base_uri": "https://localhost:8080/"
        },
        "id": "rr57tiiFeghK",
        "outputId": "44f8bace-c1ee-48ab-fb14-9175c1b5aa8d"
      }
    },
    {
      "cell_type": "markdown",
      "source": [
        "### 3.4.2 - OneHotEncoder"
      ],
      "metadata": {
        "id": "EMDuJER67Xdb"
      }
    },
    {
      "cell_type": "code",
      "execution_count": 22,
      "source": [
        "onehotencoder_ = ColumnTransformer(transformers=[('OneHot', OneHotEncoder(), [1,3,6])], remainder='passthrough')\r\n",
        "\r\n",
        "x_treino = onehotencoder_.fit_transform(x_treino)\r\n",
        "x_treino_balanceado = onehotencoder_.fit_transform(x_treino_balanceado)\r\n",
        "x_validacao = onehotencoder_.fit_transform(x_validacao)\r\n",
        "x_validacao_balanceado = onehotencoder_.fit_transform(x_validacao_balanceado)\r\n",
        "x_teste = onehotencoder_.fit_transform(x_teste)\r\n",
        "x_teste_balanceado = onehotencoder_.fit_transform(x_teste_balanceado)"
      ],
      "outputs": [],
      "metadata": {
        "id": "pSmfuhOt7ZK-"
      }
    },
    {
      "cell_type": "code",
      "execution_count": 23,
      "source": [
        "print(x_treino.shape)\r\n",
        "print(x_validacao.shape)\r\n",
        "print(x_teste.shape)\r\n",
        "\r\n",
        "print(x_treino_balanceado.shape)\r\n",
        "print(x_validacao_balanceado.shape)\r\n",
        "print(x_teste_balanceado.shape)"
      ],
      "outputs": [
        {
          "output_type": "stream",
          "name": "stdout",
          "text": [
            "(3817573, 14)\n",
            "(1590656, 14)\n",
            "(954393, 14)\n",
            "(6378, 14)\n",
            "(2032, 14)\n",
            "(8016, 14)\n"
          ]
        }
      ],
      "metadata": {
        "colab": {
          "base_uri": "https://localhost:8080/"
        },
        "id": "LRAsvmTb7b8T",
        "outputId": "7831d3e4-6a71-46b7-d5d4-0d24989a9e98"
      }
    },
    {
      "cell_type": "markdown",
      "source": [
        "## 3.5 - Ajustes finais"
      ],
      "metadata": {
        "id": "8YNb_6cw7ecP"
      }
    },
    {
      "cell_type": "code",
      "execution_count": 24,
      "source": [
        "y_treino = y_treino.to_numpy()\r\n",
        "y_treino_balanceado = y_treino_balanceado.to_numpy()\r\n",
        "\r\n",
        "y_validacao = y_validacao.to_numpy()\r\n",
        "y_validacao_balanceado = y_validacao_balanceado.to_numpy()\r\n",
        "\r\n",
        "y_teste = y_teste.to_numpy()\r\n",
        "y_teste_balanceado = y_teste_balanceado.to_numpy()"
      ],
      "outputs": [],
      "metadata": {
        "id": "QVZCvlUd7eEl"
      }
    },
    {
      "cell_type": "code",
      "execution_count": 25,
      "source": [
        "y_treino = y_treino.ravel()\n",
        "y_treino_balanceado = y_treino_balanceado.ravel()\n",
        "\n",
        "y_validacao = y_validacao.ravel()\n",
        "y_validacao_balanceado = y_validacao_balanceado.ravel()\n",
        "\n",
        "y_teste = y_teste.ravel()\n",
        "y_teste_balanceado = y_teste_balanceado.ravel()"
      ],
      "outputs": [],
      "metadata": {
        "id": "yOp80fX37ikb"
      }
    },
    {
      "cell_type": "code",
      "execution_count": 26,
      "source": [
        "unique, counts = np.unique(x_treino[:,1], return_counts=True)\n",
        "print(unique, counts)"
      ],
      "outputs": [
        {
          "output_type": "stream",
          "name": "stdout",
          "text": [
            "[0. 1.] [2461407 1356166]\n"
          ]
        }
      ],
      "metadata": {
        "colab": {
          "base_uri": "https://localhost:8080/"
        },
        "id": "6h08niV2eN0i",
        "outputId": "9e4dafbe-aa00-4639-ff2a-2505c40fa0bf"
      }
    },
    {
      "cell_type": "markdown",
      "source": [
        "# 4 - Classificadores"
      ],
      "metadata": {
        "id": "J6OaPlKf7k5-"
      }
    },
    {
      "cell_type": "markdown",
      "source": [
        "## 4.1 - Regressão Logística"
      ],
      "metadata": {
        "id": "8wxFSLvs7mxE"
      }
    },
    {
      "cell_type": "code",
      "execution_count": 27,
      "source": [
        "from sklearn.linear_model import LogisticRegression, LogisticRegressionCV"
      ],
      "outputs": [],
      "metadata": {
        "id": "5wQBB7lJ7q_d"
      }
    },
    {
      "cell_type": "markdown",
      "source": [
        "### 4.1.1 - Dados Balanceados"
      ],
      "metadata": {
        "id": "72MEPdw_78US"
      }
    },
    {
      "cell_type": "code",
      "execution_count": 28,
      "source": [
        "lr = LogisticRegression(max_iter=1500)"
      ],
      "outputs": [],
      "metadata": {
        "id": "cezGnOEy783_"
      }
    },
    {
      "cell_type": "code",
      "execution_count": 29,
      "source": [
        "lr.fit(x_treino_balanceado, y_treino_balanceado)"
      ],
      "outputs": [
        {
          "output_type": "execute_result",
          "data": {
            "text/plain": [
              "LogisticRegression(C=1.0, class_weight=None, dual=False, fit_intercept=True,\n",
              "                   intercept_scaling=1, l1_ratio=None, max_iter=1500,\n",
              "                   multi_class='auto', n_jobs=None, penalty='l2',\n",
              "                   random_state=None, solver='lbfgs', tol=0.0001, verbose=0,\n",
              "                   warm_start=False)"
            ]
          },
          "metadata": {},
          "execution_count": 29
        }
      ],
      "metadata": {
        "colab": {
          "base_uri": "https://localhost:8080/"
        },
        "id": "ibFdvx918Aek",
        "outputId": "1cd5d585-5c2a-4039-def6-e82a4964428d"
      }
    },
    {
      "cell_type": "code",
      "execution_count": 30,
      "source": [
        "lr.score(x_teste, y_teste)"
      ],
      "outputs": [
        {
          "output_type": "execute_result",
          "data": {
            "text/plain": [
              "0.8405457709769456"
            ]
          },
          "metadata": {},
          "execution_count": 30
        }
      ],
      "metadata": {
        "colab": {
          "base_uri": "https://localhost:8080/"
        },
        "id": "tT9RG2gi8Hle",
        "outputId": "06476c6f-dc5a-47ac-b168-79a81979df1c"
      }
    },
    {
      "cell_type": "code",
      "execution_count": 31,
      "source": [
        "plot_confusion_matrix(lr, x_teste, y_teste, normalize='true')\n",
        "plt.show()"
      ],
      "outputs": [
        {
          "output_type": "display_data",
          "data": {
            "text/plain": [
              "<Figure size 1152x720 with 2 Axes>"
            ],
            "image/png": "[encoded data removed]"
          },
          "metadata": {
            "needs_background": "light"
          }
        }
      ],
      "metadata": {
        "colab": {
          "base_uri": "https://localhost:8080/",
          "height": 605
        },
        "id": "O0rSQiS18Owx",
        "outputId": "e5cf1ee5-ebd4-425c-f223-40b22a2f3cb7"
      }
    },
    {
      "cell_type": "code",
      "execution_count": 36,
      "source": [
        "y_predict = lr.predict(x_teste)\n",
        "lr_f1_score = f1_score(y_teste, y_predict, average='weighted')\n",
        "print(lr_f1_score)"
      ],
      "outputs": [
        {
          "output_type": "stream",
          "name": "stdout",
          "text": [
            "0.9093452274769689\n"
          ]
        }
      ],
      "metadata": {
        "colab": {
          "base_uri": "https://localhost:8080/"
        },
        "id": "8YyrkH_UspVp",
        "outputId": "fefde213-826c-4b46-deb2-e40c37e4de35"
      }
    },
    {
      "cell_type": "markdown",
      "source": [
        "### Respondendo perguntas"
      ],
      "metadata": {
        "id": "D8kG3OxV5BMa"
      }
    },
    {
      "cell_type": "code",
      "execution_count": 37,
      "source": [
        "fraude_detectada = []\r\n",
        "fraude_real = []\r\n",
        "legitimo_detectado = []\r\n",
        "legitimo_real = []\r\n",
        "for i in range(len(y_predict)):\r\n",
        "    if y_predict[i]==y_teste[i] and y_teste[i]==1:\r\n",
        "        fraude_real.append(fim_validacao+i)\r\n",
        "    if y_predict[i]==1 and y_teste[i]==0:\r\n",
        "        fraude_detectada.append(fim_validacao+i)\r\n",
        "    if y_predict[i]==0 and y_teste[i]==1:\r\n",
        "        legitimo_detectado.append(fim_validacao+i)\r\n",
        "    if y_predict[i]==y_teste[i] and y_teste[i]==0:\r\n",
        "        legitimo_real.append(fim_validacao+i)"
      ],
      "outputs": [],
      "metadata": {
        "id": "zjbT72845D2u"
      }
    },
    {
      "cell_type": "code",
      "execution_count": 38,
      "source": [
        "df = pd.read_csv(dataset_path)"
      ],
      "outputs": [],
      "metadata": {
        "id": "vo2dXkvT5JAJ"
      }
    },
    {
      "cell_type": "markdown",
      "source": [
        "##### Lucro 100% de acertos"
      ],
      "metadata": {
        "id": "Q7bZYvBC5F5M"
      }
    },
    {
      "cell_type": "code",
      "execution_count": 39,
      "source": [
        "df_100 = df.loc[fim_validacao:tamanho_df,:]\r\n",
        "df_100_fraude = df_100[df_100['isFraud']==1]\r\n",
        "df_100_legitimo = df_100[df_100['isFraud']==0]"
      ],
      "outputs": [],
      "metadata": {
        "id": "ZOgjv_jh5MTw"
      }
    },
    {
      "cell_type": "code",
      "execution_count": 40,
      "source": [
        "lucro_100_porcento = df_100_fraude['amount'].sum()/4 + df_100_legitimo['amount'].sum()/50"
      ],
      "outputs": [],
      "metadata": {
        "id": "rAfTBZ-_5OTa"
      }
    },
    {
      "cell_type": "code",
      "execution_count": 41,
      "source": [
        "lucro_100_porcento"
      ],
      "outputs": [
        {
          "output_type": "execute_result",
          "data": {
            "text/plain": [
              "4662745125.904598"
            ]
          },
          "metadata": {},
          "execution_count": 41
        }
      ],
      "metadata": {
        "colab": {
          "base_uri": "https://localhost:8080/"
        },
        "id": "eKyBh6WV5Qx8",
        "outputId": "88805a0a-e2f3-46dc-946e-bd1034934a4b"
      }
    },
    {
      "cell_type": "markdown",
      "source": [
        "##### Prejuízo falha do modelo"
      ],
      "metadata": {
        "id": "XeAfJdy-5St-"
      }
    },
    {
      "cell_type": "code",
      "execution_count": 42,
      "source": [
        "df_falha = df.loc[fim_validacao:tamanho_df,:]\n",
        "df_falha_fraude = df_falha[df_falha['isFraud']==1]\n",
        "df_falha_legitimo = df_falha[df_falha['isFraud']==0]"
      ],
      "outputs": [],
      "metadata": {
        "id": "B_qm5u065TUk"
      }
    },
    {
      "cell_type": "code",
      "execution_count": 43,
      "source": [
        "prejuizo_falha = -(df_falha_fraude['amount'].sum() + df_falha_legitimo['amount'].sum()/20)"
      ],
      "outputs": [],
      "metadata": {
        "id": "-xbCMCpv5Vdu"
      }
    },
    {
      "cell_type": "code",
      "execution_count": 44,
      "source": [
        "prejuizo_falha"
      ],
      "outputs": [
        {
          "output_type": "execute_result",
          "data": {
            "text/plain": [
              "-14028146116.781496"
            ]
          },
          "metadata": {},
          "execution_count": 44
        }
      ],
      "metadata": {
        "colab": {
          "base_uri": "https://localhost:8080/"
        },
        "id": "ibZ3BSO65XYH",
        "outputId": "4274eb4e-1395-49cc-ef16-b6b43e3adf3a"
      }
    },
    {
      "cell_type": "markdown",
      "source": [
        "##### Lucro real do modelo"
      ],
      "metadata": {
        "id": "vpEO9leA5an_"
      }
    },
    {
      "cell_type": "code",
      "execution_count": 45,
      "source": [
        "df_fraude_real = df.iloc[fraude_real]\n",
        "df_fraude_detectada = df.iloc[fraude_detectada]\n",
        "df_legitimo_detectado = df.iloc[legitimo_detectado]\n",
        "df_legitimo_real = df.iloc[legitimo_real]"
      ],
      "outputs": [],
      "metadata": {
        "id": "TxAHXcmw5bou"
      }
    },
    {
      "cell_type": "code",
      "execution_count": 46,
      "source": [
        "soma_fraude_real = df_fraude_real['amount'].sum()\n",
        "soma_fraude_detectada = df_fraude_detectada['amount'].sum()\n",
        "soma_legitimo_detectado = df_legitimo_detectado['amount'].sum()\n",
        "soma_legitimo_real = df_legitimo_real['amount'].sum()"
      ],
      "outputs": [],
      "metadata": {
        "id": "Cuofam_95gHe"
      }
    },
    {
      "cell_type": "code",
      "execution_count": 47,
      "source": [
        "lucro_modelo = (soma_fraude_real/4) + (soma_legitimo_real/50) - (soma_fraude_detectada/20) - soma_legitimo_detectado"
      ],
      "outputs": [],
      "metadata": {
        "id": "y3suTERl5hiS"
      }
    },
    {
      "cell_type": "code",
      "execution_count": 48,
      "source": [
        "lucro_modelo"
      ],
      "outputs": [
        {
          "output_type": "execute_result",
          "data": {
            "text/plain": [
              "2170636804.4699006"
            ]
          },
          "metadata": {},
          "execution_count": 48
        }
      ],
      "metadata": {
        "colab": {
          "base_uri": "https://localhost:8080/"
        },
        "id": "MnP17Y795kHD",
        "outputId": "60aab218-4ce1-4c3b-d39c-0fd9c83f91f1"
      }
    },
    {
      "cell_type": "markdown",
      "source": [
        "### Análise dos coeficientes"
      ],
      "metadata": {
        "id": "nCmn5NCbFm8E"
      }
    },
    {
      "cell_type": "code",
      "execution_count": 49,
      "source": [
        "df.head(10)"
      ],
      "outputs": [
        {
          "output_type": "execute_result",
          "data": {
            "text/plain": [
              "   step      type    amount  ... newbalanceDest  isFraud  isFlaggedFraud\n",
              "0     1   PAYMENT   9839.64  ...           0.00        0               0\n",
              "1     1   PAYMENT   1864.28  ...           0.00        0               0\n",
              "2     1  TRANSFER    181.00  ...           0.00        1               0\n",
              "3     1  CASH_OUT    181.00  ...           0.00        1               0\n",
              "4     1   PAYMENT  11668.14  ...           0.00        0               0\n",
              "5     1   PAYMENT   7817.71  ...           0.00        0               0\n",
              "6     1   PAYMENT   7107.77  ...           0.00        0               0\n",
              "7     1   PAYMENT   7861.64  ...           0.00        0               0\n",
              "8     1   PAYMENT   4024.36  ...           0.00        0               0\n",
              "9     1     DEBIT   5337.77  ...       40348.79        0               0\n",
              "\n",
              "[10 rows x 11 columns]"
            ],
            "text/html": [
              "<div>\n",
              "<style scoped>\n",
              "    .dataframe tbody tr th:only-of-type {\n",
              "        vertical-align: middle;\n",
              "    }\n",
              "\n",
              "    .dataframe tbody tr th {\n",
              "        vertical-align: top;\n",
              "    }\n",
              "\n",
              "    .dataframe thead th {\n",
              "        text-align: right;\n",
              "    }\n",
              "</style>\n",
              "<table border=\"1\" class=\"dataframe\">\n",
              "  <thead>\n",
              "    <tr style=\"text-align: right;\">\n",
              "      <th></th>\n",
              "      <th>step</th>\n",
              "      <th>type</th>\n",
              "      <th>amount</th>\n",
              "      <th>nameOrig</th>\n",
              "      <th>oldbalanceOrg</th>\n",
              "      <th>newbalanceOrig</th>\n",
              "      <th>nameDest</th>\n",
              "      <th>oldbalanceDest</th>\n",
              "      <th>newbalanceDest</th>\n",
              "      <th>isFraud</th>\n",
              "      <th>isFlaggedFraud</th>\n",
              "    </tr>\n",
              "  </thead>\n",
              "  <tbody>\n",
              "    <tr>\n",
              "      <th>0</th>\n",
              "      <td>1</td>\n",
              "      <td>PAYMENT</td>\n",
              "      <td>9839.64</td>\n",
              "      <td>C1231006815</td>\n",
              "      <td>170136.00</td>\n",
              "      <td>160296.36</td>\n",
              "      <td>M1979787155</td>\n",
              "      <td>0.0</td>\n",
              "      <td>0.00</td>\n",
              "      <td>0</td>\n",
              "      <td>0</td>\n",
              "    </tr>\n",
              "    <tr>\n",
              "      <th>1</th>\n",
              "      <td>1</td>\n",
              "      <td>PAYMENT</td>\n",
              "      <td>1864.28</td>\n",
              "      <td>C1666544295</td>\n",
              "      <td>21249.00</td>\n",
              "      <td>19384.72</td>\n",
              "      <td>M2044282225</td>\n",
              "      <td>0.0</td>\n",
              "      <td>0.00</td>\n",
              "      <td>0</td>\n",
              "      <td>0</td>\n",
              "    </tr>\n",
              "    <tr>\n",
              "      <th>2</th>\n",
              "      <td>1</td>\n",
              "      <td>TRANSFER</td>\n",
              "      <td>181.00</td>\n",
              "      <td>C1305486145</td>\n",
              "      <td>181.00</td>\n",
              "      <td>0.00</td>\n",
              "      <td>C553264065</td>\n",
              "      <td>0.0</td>\n",
              "      <td>0.00</td>\n",
              "      <td>1</td>\n",
              "      <td>0</td>\n",
              "    </tr>\n",
              "    <tr>\n",
              "      <th>3</th>\n",
              "      <td>1</td>\n",
              "      <td>CASH_OUT</td>\n",
              "      <td>181.00</td>\n",
              "      <td>C840083671</td>\n",
              "      <td>181.00</td>\n",
              "      <td>0.00</td>\n",
              "      <td>C38997010</td>\n",
              "      <td>21182.0</td>\n",
              "      <td>0.00</td>\n",
              "      <td>1</td>\n",
              "      <td>0</td>\n",
              "    </tr>\n",
              "    <tr>\n",
              "      <th>4</th>\n",
              "      <td>1</td>\n",
              "      <td>PAYMENT</td>\n",
              "      <td>11668.14</td>\n",
              "      <td>C2048537720</td>\n",
              "      <td>41554.00</td>\n",
              "      <td>29885.86</td>\n",
              "      <td>M1230701703</td>\n",
              "      <td>0.0</td>\n",
              "      <td>0.00</td>\n",
              "      <td>0</td>\n",
              "      <td>0</td>\n",
              "    </tr>\n",
              "    <tr>\n",
              "      <th>5</th>\n",
              "      <td>1</td>\n",
              "      <td>PAYMENT</td>\n",
              "      <td>7817.71</td>\n",
              "      <td>C90045638</td>\n",
              "      <td>53860.00</td>\n",
              "      <td>46042.29</td>\n",
              "      <td>M573487274</td>\n",
              "      <td>0.0</td>\n",
              "      <td>0.00</td>\n",
              "      <td>0</td>\n",
              "      <td>0</td>\n",
              "    </tr>\n",
              "    <tr>\n",
              "      <th>6</th>\n",
              "      <td>1</td>\n",
              "      <td>PAYMENT</td>\n",
              "      <td>7107.77</td>\n",
              "      <td>C154988899</td>\n",
              "      <td>183195.00</td>\n",
              "      <td>176087.23</td>\n",
              "      <td>M408069119</td>\n",
              "      <td>0.0</td>\n",
              "      <td>0.00</td>\n",
              "      <td>0</td>\n",
              "      <td>0</td>\n",
              "    </tr>\n",
              "    <tr>\n",
              "      <th>7</th>\n",
              "      <td>1</td>\n",
              "      <td>PAYMENT</td>\n",
              "      <td>7861.64</td>\n",
              "      <td>C1912850431</td>\n",
              "      <td>176087.23</td>\n",
              "      <td>168225.59</td>\n",
              "      <td>M633326333</td>\n",
              "      <td>0.0</td>\n",
              "      <td>0.00</td>\n",
              "      <td>0</td>\n",
              "      <td>0</td>\n",
              "    </tr>\n",
              "    <tr>\n",
              "      <th>8</th>\n",
              "      <td>1</td>\n",
              "      <td>PAYMENT</td>\n",
              "      <td>4024.36</td>\n",
              "      <td>C1265012928</td>\n",
              "      <td>2671.00</td>\n",
              "      <td>0.00</td>\n",
              "      <td>M1176932104</td>\n",
              "      <td>0.0</td>\n",
              "      <td>0.00</td>\n",
              "      <td>0</td>\n",
              "      <td>0</td>\n",
              "    </tr>\n",
              "    <tr>\n",
              "      <th>9</th>\n",
              "      <td>1</td>\n",
              "      <td>DEBIT</td>\n",
              "      <td>5337.77</td>\n",
              "      <td>C712410124</td>\n",
              "      <td>41720.00</td>\n",
              "      <td>36382.23</td>\n",
              "      <td>C195600860</td>\n",
              "      <td>41898.0</td>\n",
              "      <td>40348.79</td>\n",
              "      <td>0</td>\n",
              "      <td>0</td>\n",
              "    </tr>\n",
              "  </tbody>\n",
              "</table>\n",
              "</div>"
            ]
          },
          "metadata": {},
          "execution_count": 49
        }
      ],
      "metadata": {
        "colab": {
          "base_uri": "https://localhost:8080/",
          "height": 355
        },
        "id": "MEMnbCnAFsF-",
        "outputId": "54f3fb20-f3cd-471a-a4da-d056f3c4f363"
      }
    },
    {
      "cell_type": "code",
      "execution_count": 50,
      "source": [
        "transferCoef = lr.coef_[0][4]\r\n",
        "transferCoef"
      ],
      "outputs": [
        {
          "output_type": "execute_result",
          "data": {
            "text/plain": [
              "2.0669485821785183"
            ]
          },
          "metadata": {},
          "execution_count": 50
        }
      ],
      "metadata": {
        "colab": {
          "base_uri": "https://localhost:8080/"
        },
        "id": "g_TMc57kF5Ie",
        "outputId": "6cc4c7b2-9af5-48f5-9595-5922289c7edb"
      }
    },
    {
      "cell_type": "code",
      "execution_count": 51,
      "source": [
        "x_treino[3]\r\n",
        "# Cash out index 1"
      ],
      "outputs": [
        {
          "output_type": "execute_result",
          "data": {
            "text/plain": [
              "array([ 0.        ,  1.        ,  0.        ,  0.        ,  0.        ,\n",
              "        1.        ,  1.        ,  0.        ,  1.        , -3.06613468,\n",
              "       -0.2197836 , -0.86288335,  0.40617471, -1.25627716])"
            ]
          },
          "metadata": {},
          "execution_count": 51
        }
      ],
      "metadata": {
        "colab": {
          "base_uri": "https://localhost:8080/"
        },
        "id": "FKyOS8QBF7Ni",
        "outputId": "2014f4c6-a824-4031-a4ce-8b3b4548b79c"
      }
    },
    {
      "cell_type": "code",
      "execution_count": 52,
      "source": [
        "cashoutCoef = lr.coef_[0][1]\r\n",
        "cashoutCoef"
      ],
      "outputs": [
        {
          "output_type": "execute_result",
          "data": {
            "text/plain": [
              "2.9857396349300087"
            ]
          },
          "metadata": {},
          "execution_count": 52
        }
      ],
      "metadata": {
        "colab": {
          "base_uri": "https://localhost:8080/"
        },
        "id": "Ecde5Js4F9Lj",
        "outputId": "fac6cf8a-989c-4a7f-87ac-d2c009d3ced6"
      }
    },
    {
      "cell_type": "code",
      "execution_count": 53,
      "source": [
        "x_treino[0]\r\n",
        "# Payment index 3"
      ],
      "outputs": [
        {
          "output_type": "execute_result",
          "data": {
            "text/plain": [
              "array([ 0.        ,  0.        ,  0.        ,  1.        ,  0.        ,\n",
              "        1.        ,  0.        ,  1.        ,  1.        , -0.87817485,\n",
              "        0.80396415,  1.05477851, -1.15692785, -1.25627716])"
            ]
          },
          "metadata": {},
          "execution_count": 53
        }
      ],
      "metadata": {
        "colab": {
          "base_uri": "https://localhost:8080/"
        },
        "id": "OqBeETY8F-x2",
        "outputId": "25ae4848-5fc5-4fd9-fe6b-170f743be54b"
      }
    },
    {
      "cell_type": "code",
      "execution_count": 54,
      "source": [
        "paymentCoef = lr.coef_[0][3]\r\n",
        "paymentCoef"
      ],
      "outputs": [
        {
          "output_type": "execute_result",
          "data": {
            "text/plain": [
              "-1.9932395796710725"
            ]
          },
          "metadata": {},
          "execution_count": 54
        }
      ],
      "metadata": {
        "colab": {
          "base_uri": "https://localhost:8080/"
        },
        "id": "n7zTOXU2GAiH",
        "outputId": "3764ca85-6585-4ff4-a9bf-a69a3c25abb3"
      }
    },
    {
      "cell_type": "code",
      "execution_count": 56,
      "source": [
        "x_treino[10]\r\n",
        "# Debit index 2"
      ],
      "outputs": [
        {
          "output_type": "execute_result",
          "data": {
            "text/plain": [
              "array([ 0.        ,  0.        ,  1.        ,  0.        ,  0.        ,\n",
              "        1.        ,  1.        ,  0.        ,  1.        , -0.88912002,\n",
              "        0.25953897, -0.86288335,  0.32084764,  0.58174484])"
            ]
          },
          "metadata": {},
          "execution_count": 56
        }
      ],
      "metadata": {
        "colab": {
          "base_uri": "https://localhost:8080/"
        },
        "id": "3TRsiLrmGCc2",
        "outputId": "1bb991bd-9ab9-4a7e-adaa-280c6c3681e4"
      }
    },
    {
      "cell_type": "code",
      "execution_count": 57,
      "source": [
        "debitCoef = lr.coef_[0][2]\r\n",
        "debitCoef"
      ],
      "outputs": [
        {
          "output_type": "execute_result",
          "data": {
            "text/plain": [
              "-0.9873454568480794"
            ]
          },
          "metadata": {},
          "execution_count": 57
        }
      ],
      "metadata": {
        "colab": {
          "base_uri": "https://localhost:8080/"
        },
        "id": "e4gfN5ddGGQz",
        "outputId": "7088cf3d-c9f2-430e-ceed-2b0d54a9ec5e"
      }
    },
    {
      "cell_type": "code",
      "execution_count": 58,
      "source": [
        "x_treino[19996]\r\n",
        "# Cash in index 0"
      ],
      "outputs": [
        {
          "output_type": "execute_result",
          "data": {
            "text/plain": [
              "array([1.        , 0.        , 0.        , 0.        , 0.        ,\n",
              "       1.        , 1.        , 0.        , 8.        , 0.49848819,\n",
              "       0.38642185, 1.02866966, 0.60332913, 0.520324  ])"
            ]
          },
          "metadata": {},
          "execution_count": 58
        }
      ],
      "metadata": {
        "colab": {
          "base_uri": "https://localhost:8080/"
        },
        "id": "a540eO2gGILb",
        "outputId": "2a6d3b41-0271-4198-8f08-77397d9aff7c"
      }
    },
    {
      "cell_type": "code",
      "execution_count": 59,
      "source": [
        "cashinCoef = lr.coef_[0][0]\r\n",
        "cashinCoef"
      ],
      "outputs": [
        {
          "output_type": "execute_result",
          "data": {
            "text/plain": [
              "-2.1361385490805977"
            ]
          },
          "metadata": {},
          "execution_count": 59
        }
      ],
      "metadata": {
        "colab": {
          "base_uri": "https://localhost:8080/"
        },
        "id": "HWx5svKJGJ8O",
        "outputId": "631bc3a5-a73e-485c-8951-cf97bc823a28"
      }
    },
    {
      "cell_type": "markdown",
      "source": [
        "Vendo os coeficientes da nossa regressão logística foi possível reafirmar nossos testes de hipótese. Os coeficientes de tipos de transação que não são os de transferência ou de saque são negativos, contribuindo para que a saída seja 0 (não fraude). Já os coeficientes de tipos de transação de transferência ou de saque são positivos, contribuindo para que a saída seja 1 (fraude). Vimos que a probabilidade de uma transferência ser fraude é maior que a de saque, contudo o coeficiente do saque é maior que o da transferência, isso pode ser explicado pelo fato das outras váriaveis serem dependentes da váriavel de tipo de transação."
      ],
      "metadata": {
        "id": "PSjRWJdxqtIQ"
      }
    },
    {
      "cell_type": "markdown",
      "source": [
        "### 4.1.2 - Dados não balanceados"
      ],
      "metadata": {
        "id": "vkRfXupJ7s9X"
      }
    },
    {
      "cell_type": "code",
      "execution_count": null,
      "source": [
        "lr = LogisticRegression()"
      ],
      "outputs": [],
      "metadata": {
        "id": "4j-xe-y47t7d"
      }
    },
    {
      "cell_type": "code",
      "execution_count": null,
      "source": [
        "lr.fit(x_treino,y_treino)"
      ],
      "outputs": [
        {
          "output_type": "stream",
          "name": "stderr",
          "text": [
            "/usr/local/lib/python3.7/dist-packages/sklearn/linear_model/_logistic.py:940: ConvergenceWarning: lbfgs failed to converge (status=1):\n",
            "STOP: TOTAL NO. of ITERATIONS REACHED LIMIT.\n",
            "\n",
            "Increase the number of iterations (max_iter) or scale the data as shown in:\n",
            "    https://scikit-learn.org/stable/modules/preprocessing.html\n",
            "Please also refer to the documentation for alternative solver options:\n",
            "    https://scikit-learn.org/stable/modules/linear_model.html#logistic-regression\n",
            "  extra_warning_msg=_LOGISTIC_SOLVER_CONVERGENCE_MSG)\n"
          ]
        },
        {
          "output_type": "execute_result",
          "data": {
            "text/plain": [
              "LogisticRegression(C=1.0, class_weight=None, dual=False, fit_intercept=True,\n",
              "                   intercept_scaling=1, l1_ratio=None, max_iter=100,\n",
              "                   multi_class='auto', n_jobs=None, penalty='l2',\n",
              "                   random_state=None, solver='lbfgs', tol=0.0001, verbose=0,\n",
              "                   warm_start=False)"
            ]
          },
          "metadata": {},
          "execution_count": 393
        }
      ],
      "metadata": {
        "colab": {
          "base_uri": "https://localhost:8080/"
        },
        "id": "a1Z5NaNg7xHp",
        "outputId": "a1a12ff1-f880-4002-efab-75711877faab"
      }
    },
    {
      "cell_type": "code",
      "execution_count": null,
      "source": [
        "lr.score(x_teste, y_teste)"
      ],
      "outputs": [
        {
          "output_type": "execute_result",
          "data": {
            "text/plain": [
              "0.9978478467465709"
            ]
          },
          "metadata": {},
          "execution_count": 394
        }
      ],
      "metadata": {
        "colab": {
          "base_uri": "https://localhost:8080/"
        },
        "id": "TPNw0GOD73is",
        "outputId": "f32ebf82-f461-4d42-b97f-d151934df977"
      }
    },
    {
      "cell_type": "code",
      "execution_count": null,
      "source": [
        "plot_confusion_matrix(lr, x_teste, y_teste, normalize='true')\r\n",
        "plt.show()"
      ],
      "outputs": [
        {
          "output_type": "display_data",
          "data": {
            "text/plain": [
              "<Figure size 432x288 with 2 Axes>"
            ],
            "image/png": "[encoded data removed]"
          },
          "metadata": {
            "needs_background": "light"
          }
        }
      ],
      "metadata": {
        "colab": {
          "base_uri": "https://localhost:8080/",
          "height": 279
        },
        "id": "AlN5Pzwj76Lf",
        "outputId": "d71a739f-d50e-4343-b16f-e56fea014726"
      }
    },
    {
      "cell_type": "markdown",
      "source": [
        "## 4.2 - Rede Neural MLP"
      ],
      "metadata": {
        "id": "dme1anYc3Wcy"
      }
    },
    {
      "cell_type": "markdown",
      "source": [
        "### Treinamento"
      ],
      "metadata": {
        "id": "2I8jaL_w6vAY"
      }
    },
    {
      "cell_type": "code",
      "execution_count": null,
      "source": [
        "plt.rcParams[\"figure.figsize\"] = (6,4)\r\n",
        "dict_modelos = dict()\r\n",
        "tamanhos_rede = [1,2,5,10,15,20,25,30]\r\n",
        "#tamanhos_rede = [10]\r\n",
        "\r\n",
        "for numero_neuronio in tamanhos_rede:\r\n",
        "    \r\n",
        "    modelo_MLP = MLPClassifier( hidden_layer_sizes = numero_neuronio, activation = 'relu' , \r\n",
        "                               solver = 'adam' , \r\n",
        "                               alpha = 0.0001 , \r\n",
        "                               batch_size = 'auto' , \r\n",
        "                               learning_rate = 'constant' , \r\n",
        "                               learning_rate_init = 0.01 , \r\n",
        "                               power_t = 0.5 , \r\n",
        "                               max_iter = 500 , \r\n",
        "                               shuffle = True , \r\n",
        "                               random_state = None , \r\n",
        "                               tol= 0.0001 , \r\n",
        "                               verbose = False , \r\n",
        "                               warm_start = False , \r\n",
        "                               momentum = 0.9 , \r\n",
        "                               nesterovs_momentum = True , \r\n",
        "                               early_stopping = False , \r\n",
        "                               validation_fraction = 0.1 , \r\n",
        "                               beta_1 = 0.9, \r\n",
        "                               beta_2 = 0.999 , \r\n",
        "                               epsilon = 1e-08 , \r\n",
        "                               n_iter_no_change = 10 , \r\n",
        "                               max_fun = 15000)\r\n",
        "    \r\n",
        "    modelo_MLP.fit(np.array(x_treino_balanceado), np.array(y_treino_balanceado))\r\n",
        "    \r\n",
        "    \r\n",
        "    dict_modelos[f\"numero_neuronio_{numero_neuronio}\"] = modelo_MLP"
      ],
      "outputs": [],
      "metadata": {
        "id": "-vPN8C9N3Wcy"
      }
    },
    {
      "cell_type": "code",
      "execution_count": null,
      "source": [
        "def mostra_resultados_modelo(dict_modelos, numero_neuronio):   \r\n",
        "    \"\"\" Retorna a matriz de confusao dos dados de treino e dos dados de teste\"\"\"\r\n",
        "    \r\n",
        "    print(f\"--- Modelo com {numero_neuronio} Neuronios ---\")\r\n",
        "    modelo_MLP = dict_modelos[f\"numero_neuronio_{numero_neuronio}\"] \r\n",
        "\r\n",
        "    plot_confusion_matrix(modelo_MLP, np.array(x_validacao), \r\n",
        "                          np.array(y_validacao), \r\n",
        "                          normalize='true')  \r\n",
        "    \r\n",
        "    plot_confusion_matrix(modelo_MLP, np.array(x_teste), \r\n",
        "                          np.array(y_teste), \r\n",
        "                          normalize='true')"
      ],
      "outputs": [],
      "metadata": {
        "id": "3OY2og9R3Wcz"
      }
    },
    {
      "cell_type": "code",
      "execution_count": null,
      "source": [
        "mostra_resultados_modelo(dict_modelos, 1)"
      ],
      "outputs": [
        {
          "output_type": "stream",
          "name": "stdout",
          "text": [
            "--- Modelo com 1 Neuronios ---\n"
          ]
        },
        {
          "output_type": "display_data",
          "data": {
            "text/plain": [
              "<Figure size 432x288 with 2 Axes>"
            ],
            "image/png": "[encoded data removed]"
          },
          "metadata": {
            "needs_background": "light"
          }
        },
        {
          "output_type": "display_data",
          "data": {
            "text/plain": [
              "<Figure size 432x288 with 2 Axes>"
            ],
            "image/png": "[encoded data removed]"
          },
          "metadata": {
            "needs_background": "light"
          }
        }
      ],
      "metadata": {
        "id": "WzImyylh3Wcz",
        "colab": {
          "base_uri": "https://localhost:8080/",
          "height": 562
        },
        "outputId": "8e235e33-f728-408a-c5d6-f08c1caee3f3"
      }
    },
    {
      "cell_type": "code",
      "execution_count": null,
      "source": [
        "mostra_resultados_modelo(dict_modelos, 2)"
      ],
      "outputs": [
        {
          "output_type": "stream",
          "name": "stdout",
          "text": [
            "--- Modelo com 2 Neuronios ---\n"
          ]
        },
        {
          "output_type": "display_data",
          "data": {
            "text/plain": [
              "<Figure size 432x288 with 2 Axes>"
            ],
            "image/png": "[encoded data removed]"
          },
          "metadata": {
            "needs_background": "light"
          }
        },
        {
          "output_type": "display_data",
          "data": {
            "text/plain": [
              "<Figure size 432x288 with 2 Axes>"
            ],
            "image/png": "[encoded data removed]"
          },
          "metadata": {
            "needs_background": "light"
          }
        }
      ],
      "metadata": {
        "id": "S9deOpWq3Wcz",
        "colab": {
          "base_uri": "https://localhost:8080/",
          "height": 562
        },
        "outputId": "eb61a7b9-39cf-46b9-e134-b42db26569b8"
      }
    },
    {
      "cell_type": "code",
      "execution_count": null,
      "source": [
        "mostra_resultados_modelo(dict_modelos, 5)"
      ],
      "outputs": [
        {
          "output_type": "stream",
          "name": "stdout",
          "text": [
            "--- Modelo com 5 Neuronios ---\n"
          ]
        },
        {
          "output_type": "display_data",
          "data": {
            "text/plain": [
              "<Figure size 432x288 with 2 Axes>"
            ],
            "image/png": "[encoded data removed]"
          },
          "metadata": {
            "needs_background": "light"
          }
        },
        {
          "output_type": "display_data",
          "data": {
            "text/plain": [
              "<Figure size 432x288 with 2 Axes>"
            ],
            "image/png": "[encoded data removed]"
          },
          "metadata": {
            "needs_background": "light"
          }
        }
      ],
      "metadata": {
        "id": "JvSkjHkv3Wcz",
        "colab": {
          "base_uri": "https://localhost:8080/",
          "height": 566
        },
        "outputId": "ef72907c-e208-4fcd-c2e5-378e328c4821"
      }
    },
    {
      "cell_type": "code",
      "execution_count": null,
      "source": [
        "mostra_resultados_modelo(dict_modelos, 10)"
      ],
      "outputs": [
        {
          "output_type": "stream",
          "name": "stdout",
          "text": [
            "--- Modelo com 10 Neuronios ---\n"
          ]
        },
        {
          "output_type": "display_data",
          "data": {
            "text/plain": [
              "<Figure size 432x288 with 2 Axes>"
            ],
            "image/png": "[encoded data removed]"
          },
          "metadata": {
            "needs_background": "light"
          }
        },
        {
          "output_type": "display_data",
          "data": {
            "text/plain": [
              "<Figure size 432x288 with 2 Axes>"
            ],
            "image/png": "[encoded data removed]"
          },
          "metadata": {
            "needs_background": "light"
          }
        }
      ],
      "metadata": {
        "colab": {
          "base_uri": "https://localhost:8080/",
          "height": 566
        },
        "id": "y773DjaYG9FS",
        "outputId": "31f6175e-c6ec-42b7-9179-6454cf4245ce"
      }
    },
    {
      "cell_type": "code",
      "execution_count": null,
      "source": [
        "mostra_resultados_modelo(dict_modelos, 15)"
      ],
      "outputs": [
        {
          "output_type": "stream",
          "name": "stdout",
          "text": [
            "--- Modelo com 15 Neuronios ---\n"
          ]
        },
        {
          "output_type": "display_data",
          "data": {
            "text/plain": [
              "<Figure size 432x288 with 2 Axes>"
            ],
            "image/png": "[encoded data removed]"
          },
          "metadata": {
            "needs_background": "light"
          }
        },
        {
          "output_type": "display_data",
          "data": {
            "text/plain": [
              "<Figure size 432x288 with 2 Axes>"
            ],
            "image/png": "[encoded data removed]"
          },
          "metadata": {
            "needs_background": "light"
          }
        }
      ],
      "metadata": {
        "id": "KbREp39i3Wcz",
        "colab": {
          "base_uri": "https://localhost:8080/",
          "height": 566
        },
        "outputId": "1a9de8ab-2211-463b-a2f3-50868418f6ad"
      }
    },
    {
      "cell_type": "code",
      "execution_count": null,
      "source": [
        "mostra_resultados_modelo(dict_modelos, 20)"
      ],
      "outputs": [
        {
          "output_type": "stream",
          "name": "stdout",
          "text": [
            "--- Modelo com 20 Neuronios ---\n"
          ]
        },
        {
          "output_type": "display_data",
          "data": {
            "text/plain": [
              "<Figure size 432x288 with 2 Axes>"
            ],
            "image/png": "[encoded data removed]"
          },
          "metadata": {
            "needs_background": "light"
          }
        },
        {
          "output_type": "display_data",
          "data": {
            "text/plain": [
              "<Figure size 432x288 with 2 Axes>"
            ],
            "image/png": "[encoded data removed]"
          },
          "metadata": {
            "needs_background": "light"
          }
        }
      ],
      "metadata": {
        "id": "xW0UQEhY3Wc0",
        "colab": {
          "base_uri": "https://localhost:8080/",
          "height": 566
        },
        "outputId": "8da2b530-88c7-4f46-8166-1d00e114e9b9"
      }
    },
    {
      "cell_type": "code",
      "execution_count": null,
      "source": [
        "mostra_resultados_modelo(dict_modelos, 25)"
      ],
      "outputs": [
        {
          "output_type": "stream",
          "name": "stdout",
          "text": [
            "--- Modelo com 25 Neuronios ---\n"
          ]
        },
        {
          "output_type": "display_data",
          "data": {
            "text/plain": [
              "<Figure size 432x288 with 2 Axes>"
            ],
            "image/png": "[encoded data removed]"
          },
          "metadata": {
            "needs_background": "light"
          }
        },
        {
          "output_type": "display_data",
          "data": {
            "text/plain": [
              "<Figure size 432x288 with 2 Axes>"
            ],
            "image/png": "[encoded data removed]"
          },
          "metadata": {
            "needs_background": "light"
          }
        }
      ],
      "metadata": {
        "id": "LHGtcH5E3Wc0",
        "colab": {
          "base_uri": "https://localhost:8080/",
          "height": 566
        },
        "outputId": "28d07436-4dae-480a-fb3b-9785a9d11821"
      }
    },
    {
      "cell_type": "code",
      "execution_count": null,
      "source": [
        "mostra_resultados_modelo(dict_modelos, 30)"
      ],
      "outputs": [
        {
          "output_type": "stream",
          "name": "stdout",
          "text": [
            "--- Modelo com 30 Neuronios ---\n"
          ]
        },
        {
          "output_type": "display_data",
          "data": {
            "text/plain": [
              "<Figure size 432x288 with 2 Axes>"
            ],
            "image/png": "[encoded data removed]"
          },
          "metadata": {
            "needs_background": "light"
          }
        },
        {
          "output_type": "display_data",
          "data": {
            "text/plain": [
              "<Figure size 432x288 with 2 Axes>"
            ],
            "image/png": "[encoded data removed]"
          },
          "metadata": {
            "needs_background": "light"
          }
        }
      ],
      "metadata": {
        "id": "VydmeMwi3Wc0",
        "colab": {
          "base_uri": "https://localhost:8080/",
          "height": 566
        },
        "outputId": "9de9d60a-ec1f-4c53-af9b-09b761e4053e"
      }
    },
    {
      "cell_type": "code",
      "execution_count": null,
      "source": [
        "dict_modelos[f\"numero_neuronio_2\"].score(x_teste, y_teste)"
      ],
      "outputs": [
        {
          "output_type": "execute_result",
          "data": {
            "text/plain": [
              "0.9084685239728288"
            ]
          },
          "metadata": {},
          "execution_count": 337
        }
      ],
      "metadata": {
        "colab": {
          "base_uri": "https://localhost:8080/"
        },
        "id": "mYF431eBJYfQ",
        "outputId": "7ad80d2a-9f27-4c5f-d194-14dc9279aa8a"
      }
    },
    {
      "cell_type": "markdown",
      "source": [
        "### Melhor modelo encontrado\n",
        "Salvamos na pasta notebooks no github um arquivo chamado modelo_MLP que armazena os dados do melhor modelo que conseguimos treinar. Para carregá-lo, caso já não esteja na mesma pasta que esse notebook, adicione ele à mesma pasta."
      ],
      "metadata": {
        "id": "TxS-A_oz3Wc0"
      }
    },
    {
      "cell_type": "code",
      "execution_count": null,
      "source": [
        "#Salva o modelo\r\n",
        "#pickle.dump(dict_modelos[f\"numero_neuronio_2\"] , open(\"modelo_MLP_2\", 'wb'))"
      ],
      "outputs": [],
      "metadata": {
        "id": "j3Q-nqMB3Wc0"
      }
    },
    {
      "cell_type": "code",
      "execution_count": null,
      "source": [
        "# Lê o modelo\r\n",
        "modelo_MLP = pickle.load(open(\"modelo_MLP_2\", 'rb'))\r\n",
        "dict_modelos = dict()\r\n",
        "dict_modelos[\"numero_neuronio_2\"] = modelo_MLP"
      ],
      "outputs": [],
      "metadata": {
        "id": "pjEpRFKGJ-fh"
      }
    },
    {
      "cell_type": "code",
      "execution_count": null,
      "source": [
        "def mostra_resultados_modelo(dict_modelos, numero_neuronio):   \r\n",
        "    \"\"\" Retorna a matriz de confusao dos dados de treino e dos dados de teste\"\"\"\r\n",
        "    \r\n",
        "    print(f\"--- Modelo com {numero_neuronio} Neuronios ---\")\r\n",
        "    modelo_MLP = dict_modelos[f\"numero_neuronio_{numero_neuronio}\"] \r\n",
        "    \r\n",
        "    plot_confusion_matrix(modelo_MLP, np.array(x_validacao), \r\n",
        "                          np.array(y_validacao), \r\n",
        "                          normalize='true')  \r\n",
        "    \r\n",
        "    plot_confusion_matrix(modelo_MLP, np.array(x_teste), \r\n",
        "                          np.array(y_teste), \r\n",
        "                          normalize='true')"
      ],
      "outputs": [],
      "metadata": {
        "id": "jTYoywV_63as"
      }
    },
    {
      "cell_type": "code",
      "execution_count": null,
      "source": [
        "mostra_resultados_modelo(dict_modelos, 2)"
      ],
      "outputs": [
        {
          "output_type": "stream",
          "name": "stdout",
          "text": [
            "--- Modelo com 30 Neuronios ---\n"
          ]
        },
        {
          "output_type": "display_data",
          "data": {
            "text/plain": [
              "<Figure size 432x288 with 2 Axes>"
            ],
            "image/png": "[encoded data removed]"
          },
          "metadata": {
            "needs_background": "light"
          }
        },
        {
          "output_type": "display_data",
          "data": {
            "text/plain": [
              "<Figure size 432x288 with 2 Axes>"
            ],
            "image/png": "[encoded data removed]"
          },
          "metadata": {
            "needs_background": "light"
          }
        }
      ],
      "metadata": {
        "colab": {
          "base_uri": "https://localhost:8080/",
          "height": 562
        },
        "id": "fJLB0Obf6XB0",
        "outputId": "d5643103-7c61-4e9e-f4b9-f685bf2b2aa7"
      }
    },
    {
      "cell_type": "markdown",
      "source": [
        "### Bootstrap no Modelo MLP"
      ],
      "metadata": {
        "id": "CtFtywPO1x4s"
      }
    },
    {
      "cell_type": "code",
      "execution_count": null,
      "source": [
        "MLP_results_2 = []\r\n",
        "MLP_results_30 = []\r\n",
        "iteracoes = 1000\r\n",
        "list_camadas = [2,30]\r\n",
        "for i in range(iteracoes):\r\n",
        "    for n_camadas in list_camadas:\r\n",
        "        modelo_MLP = MLPClassifier( hidden_layer_sizes = n_camadas, activation = 'relu' , \r\n",
        "                                  solver = 'adam' , \r\n",
        "                                  alpha = 0.0001 , \r\n",
        "                                  batch_size = 'auto' , \r\n",
        "                                  learning_rate = 'constant' , \r\n",
        "                                  learning_rate_init = 0.01 , \r\n",
        "                                  power_t = 0.5 , \r\n",
        "                                  max_iter = 500 , \r\n",
        "                                  shuffle = True , \r\n",
        "                                  random_state = None , \r\n",
        "                                  tol= 0.0001 , \r\n",
        "                                  verbose = False , \r\n",
        "                                  warm_start = False , \r\n",
        "                                  momentum = 0.9 , \r\n",
        "                                  nesterovs_momentum = True , \r\n",
        "                                  early_stopping = False , \r\n",
        "                                  validation_fraction = 0.1 , \r\n",
        "                                  beta_1 = 0.9, \r\n",
        "                                  beta_2 = 0.999 , \r\n",
        "                                  epsilon = 1e-08 , \r\n",
        "                                  n_iter_no_change = 10 , \r\n",
        "                                  max_fun = 15000)\r\n",
        "    \r\n",
        "        modelo_MLP.fit(np.array(x_treino_balanceado), np.array(y_treino_balanceado))\r\n",
        "\r\n",
        "        y_pred = modelo_MLP.predict(x_teste)\r\n",
        "        if n_camadas==2:\r\n",
        "            MLP_results_2.append(f1_score(y_teste, y_pred, average='weighted'))\r\n",
        "        elif n_camadas==30:\r\n",
        "            MLP_results_30.append(f1_score(y_teste, y_pred, average='weighted'))"
      ],
      "outputs": [],
      "metadata": {
        "id": "Ih3TgtGK1378"
      }
    },
    {
      "cell_type": "code",
      "execution_count": null,
      "source": [
        "print(np.mean(MLP_results_2), np.mean(MLP_results_30))"
      ],
      "outputs": [
        {
          "output_type": "stream",
          "name": "stdout",
          "text": [
            "0.8808606557078458 0.871762924874739\n"
          ]
        }
      ],
      "metadata": {
        "colab": {
          "base_uri": "https://localhost:8080/"
        },
        "id": "m3lFc7nF2-zl",
        "outputId": "e1e4ffe2-3d3a-41f8-aae6-1777ce6547b3"
      }
    },
    {
      "cell_type": "code",
      "execution_count": null,
      "source": [
        "sns.scatterplot(x=[i for i in range(1000)] , y=MLP_results_2, label='Acurácia MLP 2 camadas', color='Blue', alpha=0.7)\n",
        "sns.scatterplot(x=[i for i in range(1000)] , y=MLP_results_30, label='Acurácia MLP 30 camadas', color='Green', alpha=0.7)\n",
        "\n",
        "# Média\n",
        "sns.lineplot(x=[i for i in range(1000)], y=[np.mean(MLP_results_2) for i in range(1000)], color='Black', \n",
        "             label='Média MLP 2 camadas')\n",
        "sns.lineplot(x=[i for i in range(1000)], y=[np.mean(MLP_results_30) for i in range(1000)], color='Brown', \n",
        "             label='Média MLP 30 camadas')\n",
        "sns.lineplot(x=[i for i in range(1000)], y=[lr_f1_score for i in range(1000)], color='Orange', \n",
        "             label='Resultado Regressão Logística')\n",
        "\n",
        "plt.title('Comparação dos resultados do bootstrap MLP para 2 e 30 camadas com a Regressão Logística')\n",
        "plt.xlabel('Teste')\n",
        "plt.ylabel('Acurácia')\n",
        "plt.show()"
      ],
      "outputs": [
        {
          "output_type": "display_data",
          "data": {
            "text/plain": [
              "<Figure size 1152x720 with 1 Axes>"
            ],
            "image/png": "[encoded data removed]"
          },
          "metadata": {
            "needs_background": "light"
          }
        }
      ],
      "metadata": {
        "colab": {
          "base_uri": "https://localhost:8080/",
          "height": 621
        },
        "id": "wOYrV0XB3Se9",
        "outputId": "7b02042e-5e93-4b4f-a305-8e38e0ca415f"
      }
    }
  ]
}