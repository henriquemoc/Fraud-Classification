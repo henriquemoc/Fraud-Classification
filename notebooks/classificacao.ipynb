{
  "nbformat": 4,
  "nbformat_minor": 0,
  "metadata": {
    "colab": {
      "name": "classificacao.ipynb",
      "provenance": []
    },
    "kernelspec": {
      "name": "python3",
      "display_name": "Python 3"
    },
    "language_info": {
      "name": "python"
    }
  },
  "cells": [
    {
      "cell_type": "markdown",
      "metadata": {
        "id": "IedVNVTe47ho"
      },
      "source": [
        "# Importações"
      ]
    },
    {
      "cell_type": "code",
      "metadata": {
        "id": "kjzAL-7B44fy"
      },
      "source": [
        "import os\n",
        "import pandas as pd\n",
        "import numpy as np\n",
        "import matplotlib.pyplot as plt\n",
        "import seaborn as sns\n",
        "from scipy.stats import norm\n",
        "\n",
        "from sklearn.preprocessing import StandardScaler as Scaler\n",
        "from sklearn.preprocessing import OneHotEncoder\n",
        "from sklearn.compose import ColumnTransformer\n",
        "\n",
        "from sklearn.metrics import confusion_matrix\n",
        "from sklearn.metrics import plot_confusion_matrix\n",
        "from sklearn.metrics import accuracy_score\n",
        "\n",
        "%matplotlib inline\n",
        "\n",
        "plt.rcParams[\"figure.figsize\"] = (16,10)"
      ],
      "execution_count": 1,
      "outputs": []
    },
    {
      "cell_type": "markdown",
      "metadata": {
        "id": "ZypnBG_G5Uf-"
      },
      "source": [
        "# Configurar dataset"
      ]
    },
    {
      "cell_type": "markdown",
      "metadata": {
        "id": "iZuroSYK5YTr"
      },
      "source": [
        "### Baixar dados "
      ]
    },
    {
      "cell_type": "code",
      "metadata": {
        "colab": {
          "base_uri": "https://localhost:8080/"
        },
        "id": "xjQ5rVkm5YD0",
        "outputId": "58253621-4d74-4cd5-efbf-d1f57515f805"
      },
      "source": [
        "!wget -O fraud.csv https://www.dropbox.com/s/47hd95t7n8hhlgz/fraude.csv?dl=0"
      ],
      "execution_count": 2,
      "outputs": [
        {
          "output_type": "stream",
          "text": [
            "--2021-08-24 20:54:32--  https://www.dropbox.com/s/47hd95t7n8hhlgz/fraude.csv?dl=0\n",
            "Resolving www.dropbox.com (www.dropbox.com)... 162.125.65.18, 2620:100:6027:18::a27d:4812\n",
            "Connecting to www.dropbox.com (www.dropbox.com)|162.125.65.18|:443... connected.\n",
            "HTTP request sent, awaiting response... 301 Moved Permanently\n",
            "Location: /s/raw/47hd95t7n8hhlgz/fraude.csv [following]\n",
            "--2021-08-24 20:54:32--  https://www.dropbox.com/s/raw/47hd95t7n8hhlgz/fraude.csv\n",
            "Reusing existing connection to www.dropbox.com:443.\n",
            "HTTP request sent, awaiting response... 302 Found\n",
            "Location: https://uc9ddec3ce0f26eda27283c7a946.dl.dropboxusercontent.com/cd/0/inline/BU3Fnk7k7MTG8ynJJUa8nA-sIhJYJB3560ljXcM_8qGs-9Ts_fGmFI1fH2zHj5WW9ooLvacA4_cwAo15M4DM0cds8y20zy6bvOST67xN6GOvxxPyt0EGB0Tk2XOq51XOM66DlUqd8OBqFbQ__rPD68sP/file# [following]\n",
            "--2021-08-24 20:54:33--  https://uc9ddec3ce0f26eda27283c7a946.dl.dropboxusercontent.com/cd/0/inline/BU3Fnk7k7MTG8ynJJUa8nA-sIhJYJB3560ljXcM_8qGs-9Ts_fGmFI1fH2zHj5WW9ooLvacA4_cwAo15M4DM0cds8y20zy6bvOST67xN6GOvxxPyt0EGB0Tk2XOq51XOM66DlUqd8OBqFbQ__rPD68sP/file\n",
            "Resolving uc9ddec3ce0f26eda27283c7a946.dl.dropboxusercontent.com (uc9ddec3ce0f26eda27283c7a946.dl.dropboxusercontent.com)... 162.125.65.15, 2620:100:6027:15::a27d:480f\n",
            "Connecting to uc9ddec3ce0f26eda27283c7a946.dl.dropboxusercontent.com (uc9ddec3ce0f26eda27283c7a946.dl.dropboxusercontent.com)|162.125.65.15|:443... connected.\n",
            "HTTP request sent, awaiting response... 200 OK\n",
            "Length: 493534783 (471M) [text/plain]\n",
            "Saving to: ‘fraud.csv’\n",
            "\n",
            "fraud.csv           100%[===================>] 470.67M  17.0MB/s    in 25s     \n",
            "\n",
            "2021-08-24 20:54:59 (18.5 MB/s) - ‘fraud.csv’ saved [493534783/493534783]\n",
            "\n"
          ],
          "name": "stdout"
        }
      ]
    },
    {
      "cell_type": "code",
      "metadata": {
        "id": "PaRq5cxN5d9l"
      },
      "source": [
        "dataset_path = \"fraud.csv\""
      ],
      "execution_count": 3,
      "outputs": []
    },
    {
      "cell_type": "markdown",
      "metadata": {
        "id": "32oRQVWY5f8C"
      },
      "source": [
        "### Ler CSV"
      ]
    },
    {
      "cell_type": "code",
      "metadata": {
        "id": "NRTN9s-35kQL"
      },
      "source": [
        "df = pd.read_csv(dataset_path) "
      ],
      "execution_count": 4,
      "outputs": []
    },
    {
      "cell_type": "markdown",
      "metadata": {
        "id": "9caXu6q85moC"
      },
      "source": [
        "# 3 - Preparação dos dados"
      ]
    },
    {
      "cell_type": "markdown",
      "metadata": {
        "id": "4hyQ2z5E5uyp"
      },
      "source": [
        "## 3.1 - Normalização logarítimica"
      ]
    },
    {
      "cell_type": "code",
      "metadata": {
        "colab": {
          "base_uri": "https://localhost:8080/"
        },
        "id": "75I_7s5c5rk0",
        "outputId": "1c2eece8-9a45-46fb-e151-f0001469fd02"
      },
      "source": [
        "df['amount'].describe()"
      ],
      "execution_count": 5,
      "outputs": [
        {
          "output_type": "execute_result",
          "data": {
            "text/plain": [
              "count    6.362620e+06\n",
              "mean     1.798619e+05\n",
              "std      6.038582e+05\n",
              "min      0.000000e+00\n",
              "25%      1.338957e+04\n",
              "50%      7.487194e+04\n",
              "75%      2.087215e+05\n",
              "max      9.244552e+07\n",
              "Name: amount, dtype: float64"
            ]
          },
          "metadata": {},
          "execution_count": 5
        }
      ]
    },
    {
      "cell_type": "code",
      "metadata": {
        "colab": {
          "base_uri": "https://localhost:8080/"
        },
        "id": "-lCcNgXf528r",
        "outputId": "6068865b-4a6f-4eb7-e4ae-0530898c2ff9"
      },
      "source": [
        "df['oldbalanceOrg'].describe()"
      ],
      "execution_count": 6,
      "outputs": [
        {
          "output_type": "execute_result",
          "data": {
            "text/plain": [
              "count    6.362620e+06\n",
              "mean     8.338831e+05\n",
              "std      2.888243e+06\n",
              "min      0.000000e+00\n",
              "25%      0.000000e+00\n",
              "50%      1.420800e+04\n",
              "75%      1.073152e+05\n",
              "max      5.958504e+07\n",
              "Name: oldbalanceOrg, dtype: float64"
            ]
          },
          "metadata": {},
          "execution_count": 6
        }
      ]
    },
    {
      "cell_type": "code",
      "metadata": {
        "colab": {
          "base_uri": "https://localhost:8080/"
        },
        "id": "CDKHhesz54WL",
        "outputId": "0ccbfd1f-0b95-4fa8-cb07-72f0f1ff2f1e"
      },
      "source": [
        "df['newbalanceOrig'].describe()"
      ],
      "execution_count": 7,
      "outputs": [
        {
          "output_type": "execute_result",
          "data": {
            "text/plain": [
              "count    6.362620e+06\n",
              "mean     8.551137e+05\n",
              "std      2.924049e+06\n",
              "min      0.000000e+00\n",
              "25%      0.000000e+00\n",
              "50%      0.000000e+00\n",
              "75%      1.442584e+05\n",
              "max      4.958504e+07\n",
              "Name: newbalanceOrig, dtype: float64"
            ]
          },
          "metadata": {},
          "execution_count": 7
        }
      ]
    },
    {
      "cell_type": "code",
      "metadata": {
        "colab": {
          "base_uri": "https://localhost:8080/"
        },
        "id": "CgP01U055508",
        "outputId": "979845d3-c4b3-4ca7-e01b-dba57a00488d"
      },
      "source": [
        "df['oldbalanceDest'].describe()"
      ],
      "execution_count": 8,
      "outputs": [
        {
          "output_type": "execute_result",
          "data": {
            "text/plain": [
              "count    6.362620e+06\n",
              "mean     1.100702e+06\n",
              "std      3.399180e+06\n",
              "min      0.000000e+00\n",
              "25%      0.000000e+00\n",
              "50%      1.327057e+05\n",
              "75%      9.430367e+05\n",
              "max      3.560159e+08\n",
              "Name: oldbalanceDest, dtype: float64"
            ]
          },
          "metadata": {},
          "execution_count": 8
        }
      ]
    },
    {
      "cell_type": "code",
      "metadata": {
        "colab": {
          "base_uri": "https://localhost:8080/"
        },
        "id": "mAXxPtz-57vP",
        "outputId": "e6384072-b401-4728-8314-1b938821655e"
      },
      "source": [
        "df['newbalanceDest'].describe()"
      ],
      "execution_count": 9,
      "outputs": [
        {
          "output_type": "execute_result",
          "data": {
            "text/plain": [
              "count    6.362620e+06\n",
              "mean     1.224996e+06\n",
              "std      3.674129e+06\n",
              "min      0.000000e+00\n",
              "25%      0.000000e+00\n",
              "50%      2.146614e+05\n",
              "75%      1.111909e+06\n",
              "max      3.561793e+08\n",
              "Name: newbalanceDest, dtype: float64"
            ]
          },
          "metadata": {},
          "execution_count": 9
        }
      ]
    },
    {
      "cell_type": "markdown",
      "metadata": {
        "id": "qlSdqziY5-As"
      },
      "source": [
        "Todos tem como valor mínimo 0. log 0 é impossível, logo deve-se mudar os valores para retirar o 0 antes de mudar a escala para logarítmica."
      ]
    },
    {
      "cell_type": "code",
      "metadata": {
        "id": "ZhJg-1S25_Z4"
      },
      "source": [
        "log_list = ['amount', 'oldbalanceOrg', 'newbalanceOrig', 'oldbalanceDest', 'newbalanceDest']\n",
        "\n",
        "for i in log_list:\n",
        "    df[i] = (0.1+df[i])#Como existem valores iguais a 0, é preciso tirá-los para fazer o log\n",
        "    df[i] = np.log(df[i])"
      ],
      "execution_count": 10,
      "outputs": []
    },
    {
      "cell_type": "markdown",
      "metadata": {
        "id": "5-AUnGxd6HgD"
      },
      "source": [
        "## 3.2 - Padronização dos dados\n",
        "Apenas variáveis contínuas e discretas devem ser padronizadas."
      ]
    },
    {
      "cell_type": "code",
      "metadata": {
        "id": "Amj1Ff5a6Iaz"
      },
      "source": [
        "colunas_x_scaler = [\"amount\", \"oldbalanceOrg\", \"newbalanceOrig\", \"oldbalanceDest\", \"newbalanceDest\"]\n",
        "scaler = Scaler()\n",
        "\n",
        "df[colunas_x_scaler] = scaler.fit_transform(df[colunas_x_scaler])"
      ],
      "execution_count": 11,
      "outputs": []
    },
    {
      "cell_type": "code",
      "metadata": {
        "colab": {
          "base_uri": "https://localhost:8080/",
          "height": 359
        },
        "id": "-v2svSUX6MlZ",
        "outputId": "1e1d8f11-1de8-49ff-c189-c4f498d925e7"
      },
      "source": [
        "df.head(10)"
      ],
      "execution_count": 12,
      "outputs": [
        {
          "output_type": "execute_result",
          "data": {
            "text/html": [
              "<div>\n",
              "<style scoped>\n",
              "    .dataframe tbody tr th:only-of-type {\n",
              "        vertical-align: middle;\n",
              "    }\n",
              "\n",
              "    .dataframe tbody tr th {\n",
              "        vertical-align: top;\n",
              "    }\n",
              "\n",
              "    .dataframe thead th {\n",
              "        text-align: right;\n",
              "    }\n",
              "</style>\n",
              "<table border=\"1\" class=\"dataframe\">\n",
              "  <thead>\n",
              "    <tr style=\"text-align: right;\">\n",
              "      <th></th>\n",
              "      <th>step</th>\n",
              "      <th>type</th>\n",
              "      <th>amount</th>\n",
              "      <th>nameOrig</th>\n",
              "      <th>oldbalanceOrg</th>\n",
              "      <th>newbalanceOrig</th>\n",
              "      <th>nameDest</th>\n",
              "      <th>oldbalanceDest</th>\n",
              "      <th>newbalanceDest</th>\n",
              "      <th>isFraud</th>\n",
              "      <th>isFlaggedFraud</th>\n",
              "    </tr>\n",
              "  </thead>\n",
              "  <tbody>\n",
              "    <tr>\n",
              "      <th>0</th>\n",
              "      <td>1</td>\n",
              "      <td>PAYMENT</td>\n",
              "      <td>-0.907025</td>\n",
              "      <td>C1231006815</td>\n",
              "      <td>0.807207</td>\n",
              "      <td>1.064841</td>\n",
              "      <td>M1979787155</td>\n",
              "      <td>-1.149416</td>\n",
              "      <td>-1.253358</td>\n",
              "      <td>0</td>\n",
              "      <td>0</td>\n",
              "    </tr>\n",
              "    <tr>\n",
              "      <th>1</th>\n",
              "      <td>1</td>\n",
              "      <td>PAYMENT</td>\n",
              "      <td>-1.823428</td>\n",
              "      <td>C1666544295</td>\n",
              "      <td>0.495724</td>\n",
              "      <td>0.780990</td>\n",
              "      <td>M2044282225</td>\n",
              "      <td>-1.149416</td>\n",
              "      <td>-1.253358</td>\n",
              "      <td>0</td>\n",
              "      <td>0</td>\n",
              "    </tr>\n",
              "    <tr>\n",
              "      <th>2</th>\n",
              "      <td>1</td>\n",
              "      <td>TRANSFER</td>\n",
              "      <td>-3.107899</td>\n",
              "      <td>C1305486145</td>\n",
              "      <td>-0.217747</td>\n",
              "      <td>-0.854877</td>\n",
              "      <td>C553264065</td>\n",
              "      <td>-1.149416</td>\n",
              "      <td>-1.253358</td>\n",
              "      <td>1</td>\n",
              "      <td>0</td>\n",
              "    </tr>\n",
              "    <tr>\n",
              "      <th>3</th>\n",
              "      <td>1</td>\n",
              "      <td>CASH_OUT</td>\n",
              "      <td>-3.107899</td>\n",
              "      <td>C840083671</td>\n",
              "      <td>-0.217747</td>\n",
              "      <td>-0.854877</td>\n",
              "      <td>C38997010</td>\n",
              "      <td>0.408776</td>\n",
              "      <td>-1.253358</td>\n",
              "      <td>1</td>\n",
              "      <td>0</td>\n",
              "    </tr>\n",
              "    <tr>\n",
              "      <th>4</th>\n",
              "      <td>1</td>\n",
              "      <td>PAYMENT</td>\n",
              "      <td>-0.813131</td>\n",
              "      <td>C2048537720</td>\n",
              "      <td>0.596146</td>\n",
              "      <td>0.839157</td>\n",
              "      <td>M1230701703</td>\n",
              "      <td>-1.149416</td>\n",
              "      <td>-1.253358</td>\n",
              "      <td>0</td>\n",
              "      <td>0</td>\n",
              "    </tr>\n",
              "    <tr>\n",
              "      <th>5</th>\n",
              "      <td>1</td>\n",
              "      <td>PAYMENT</td>\n",
              "      <td>-1.033743</td>\n",
              "      <td>C90045638</td>\n",
              "      <td>0.634985</td>\n",
              "      <td>0.897226</td>\n",
              "      <td>M573487274</td>\n",
              "      <td>-1.149416</td>\n",
              "      <td>-1.253358</td>\n",
              "      <td>0</td>\n",
              "      <td>0</td>\n",
              "    </tr>\n",
              "    <tr>\n",
              "      <th>6</th>\n",
              "      <td>1</td>\n",
              "      <td>PAYMENT</td>\n",
              "      <td>-1.086189</td>\n",
              "      <td>C154988899</td>\n",
              "      <td>0.818280</td>\n",
              "      <td>1.077465</td>\n",
              "      <td>M408069119</td>\n",
              "      <td>-1.149416</td>\n",
              "      <td>-1.253358</td>\n",
              "      <td>0</td>\n",
              "      <td>0</td>\n",
              "    </tr>\n",
              "    <tr>\n",
              "      <th>7</th>\n",
              "      <td>1</td>\n",
              "      <td>PAYMENT</td>\n",
              "      <td>-1.030656</td>\n",
              "      <td>C1912850431</td>\n",
              "      <td>0.812355</td>\n",
              "      <td>1.071328</td>\n",
              "      <td>M633326333</td>\n",
              "      <td>-1.149416</td>\n",
              "      <td>-1.253358</td>\n",
              "      <td>0</td>\n",
              "      <td>0</td>\n",
              "    </tr>\n",
              "    <tr>\n",
              "      <th>8</th>\n",
              "      <td>1</td>\n",
              "      <td>PAYMENT</td>\n",
              "      <td>-1.399541</td>\n",
              "      <td>C1265012928</td>\n",
              "      <td>0.185208</td>\n",
              "      <td>-0.854877</td>\n",
              "      <td>M1176932104</td>\n",
              "      <td>-1.149416</td>\n",
              "      <td>-1.253358</td>\n",
              "      <td>0</td>\n",
              "      <td>0</td>\n",
              "    </tr>\n",
              "    <tr>\n",
              "      <th>9</th>\n",
              "      <td>1</td>\n",
              "      <td>DEBIT</td>\n",
              "      <td>-1.243950</td>\n",
              "      <td>C712410124</td>\n",
              "      <td>0.596743</td>\n",
              "      <td>0.865586</td>\n",
              "      <td>C195600860</td>\n",
              "      <td>0.495441</td>\n",
              "      <td>0.405884</td>\n",
              "      <td>0</td>\n",
              "      <td>0</td>\n",
              "    </tr>\n",
              "  </tbody>\n",
              "</table>\n",
              "</div>"
            ],
            "text/plain": [
              "   step      type    amount  ... newbalanceDest  isFraud  isFlaggedFraud\n",
              "0     1   PAYMENT -0.907025  ...      -1.253358        0               0\n",
              "1     1   PAYMENT -1.823428  ...      -1.253358        0               0\n",
              "2     1  TRANSFER -3.107899  ...      -1.253358        1               0\n",
              "3     1  CASH_OUT -3.107899  ...      -1.253358        1               0\n",
              "4     1   PAYMENT -0.813131  ...      -1.253358        0               0\n",
              "5     1   PAYMENT -1.033743  ...      -1.253358        0               0\n",
              "6     1   PAYMENT -1.086189  ...      -1.253358        0               0\n",
              "7     1   PAYMENT -1.030656  ...      -1.253358        0               0\n",
              "8     1   PAYMENT -1.399541  ...      -1.253358        0               0\n",
              "9     1     DEBIT -1.243950  ...       0.405884        0               0\n",
              "\n",
              "[10 rows x 11 columns]"
            ]
          },
          "metadata": {},
          "execution_count": 12
        }
      ]
    },
    {
      "cell_type": "markdown",
      "metadata": {
        "id": "XqMTrev-6NPh"
      },
      "source": [
        "## 3.3 - Separação dos dados\n",
        "É preciso separar os dados em treino, teste e validação antes de normalizar os dados, caso contrário ocorrerá vazamento de dados.\n",
        "60% dos dados serão usados no grupo de treinamento, 25% no grupo de validação e 15% no grupo de teste."
      ]
    },
    {
      "cell_type": "markdown",
      "metadata": {
        "id": "SfOJmdz47EUe"
      },
      "source": [
        "### 3.3.1 - Separa em treino, teste e validacao"
      ]
    },
    {
      "cell_type": "code",
      "metadata": {
        "id": "XY9Sqq497E_v"
      },
      "source": [
        "tamanho_df = df.shape[0]\n",
        "colunas_y = [\"isFraud\"]\n",
        "colunas_nao_x = [\"isFraud\", \"isFlaggedFraud\"]\n",
        "colunas_x = [coluna for coluna in df.columns if coluna not in colunas_nao_x]\n",
        "\n",
        "# Treino \n",
        "fim_treino = round(tamanho_df * 0.6)\n",
        "\n",
        "treino = df.loc[0:fim_treino,:]\n",
        "fraudes_treino = treino[treino['isFraud'] == 1]\n",
        "legitimo_treino = treino[treino['isFraud'] == 0]\n",
        "legitimo_treino = legitimo_treino.sample(n=fraudes_treino.shape[0], random_state=1)\n",
        "treino_balanceado = pd.concat([legitimo_treino, fraudes_treino], axis= 0)\n",
        "x_treino_balanceado = treino_balanceado.loc[:, colunas_x]\n",
        "y_treino_balanceado = treino_balanceado.loc[:, colunas_y]\n",
        "\n",
        "x_treino = df.loc[0:fim_treino,colunas_x]\n",
        "y_treino = df.loc[0:fim_treino, colunas_y]\n",
        "\n",
        "\n",
        "# Validacao\n",
        "fim_validacao = round(tamanho_df * (0.6 + 0.25))\n",
        "\n",
        "validacao = df.loc[fim_treino:fim_validacao,:]\n",
        "fraudes_validacao = validacao[validacao['isFraud'] == 1]\n",
        "legitimo_validacao = validacao[validacao['isFraud'] == 0]\n",
        "legitimo_validacao = legitimo_validacao.sample(n=fraudes_validacao.shape[0], random_state=1)\n",
        "validacao_balanceado = pd.concat([legitimo_validacao, fraudes_validacao], axis= 0)\n",
        "x_validacao_balanceado = validacao_balanceado.loc[:, colunas_x]\n",
        "y_validacao_balanceado = validacao_balanceado.loc[:, colunas_y]\n",
        "\n",
        "x_validacao = df.loc[fim_treino:fim_validacao, colunas_x]\n",
        "y_validacao =  df.loc[fim_treino:fim_validacao, colunas_y]\n",
        "\n",
        "# Teste\n",
        "\n",
        "teste = df.loc[fim_validacao:tamanho_df,:]\n",
        "fraudes_teste = teste[teste['isFraud'] == 1]\n",
        "legitimo_teste = teste[teste['isFraud'] == 0]\n",
        "legitimo_teste = legitimo_teste.sample(n=fraudes_teste.shape[0], random_state=1)\n",
        "teste_balanceado = pd.concat([legitimo_teste, fraudes_teste], axis= 0)\n",
        "x_teste_balanceado = teste_balanceado.loc[:, colunas_x]\n",
        "y_teste_balanceado = teste_balanceado.loc[:, colunas_y]\n",
        "\n",
        "x_teste =  df.loc[fim_validacao:tamanho_df , colunas_x]\n",
        "y_teste = df.loc[fim_validacao:tamanho_df, colunas_y]"
      ],
      "execution_count": 13,
      "outputs": []
    },
    {
      "cell_type": "code",
      "metadata": {
        "colab": {
          "base_uri": "https://localhost:8080/"
        },
        "id": "LN4yQIzx7H-L",
        "outputId": "0f31e269-c2a4-4835-a692-cf15a1761086"
      },
      "source": [
        "print(x_treino.shape)\n",
        "print(x_validacao.shape)\n",
        "print(x_teste.shape)\n",
        "\n",
        "print(x_treino_balanceado.shape)\n",
        "print(y_treino_balanceado.shape)\n",
        "print(x_validacao_balanceado.shape)\n",
        "print(y_validacao_balanceado.shape)\n",
        "print(x_teste_balanceado.shape)\n",
        "print(y_teste_balanceado.shape)"
      ],
      "execution_count": 14,
      "outputs": [
        {
          "output_type": "stream",
          "text": [
            "(3817573, 9)\n",
            "(1590656, 9)\n",
            "(954393, 9)\n",
            "(6378, 9)\n",
            "(6378, 1)\n",
            "(2032, 9)\n",
            "(2032, 1)\n",
            "(8016, 9)\n",
            "(8016, 1)\n"
          ],
          "name": "stdout"
        }
      ]
    },
    {
      "cell_type": "markdown",
      "metadata": {
        "id": "3Kv0imZF7NIw"
      },
      "source": [
        "## 3.4 - Tratamento de variáveis categóricas"
      ]
    },
    {
      "cell_type": "markdown",
      "metadata": {
        "id": "tKhRzBjd7OmV"
      },
      "source": [
        "### 3.4.1 - Corrigindo variáveis nameOrig e nameDest"
      ]
    },
    {
      "cell_type": "code",
      "metadata": {
        "id": "TnRMdZL07Qwr"
      },
      "source": [
        "x_treino.loc[x_treino['nameDest'].astype(str).str[0] == 'C', 'nameDest'] = 'C'\n",
        "x_treino.loc[x_treino['nameDest'].astype(str).str[0] == 'M', 'nameDest'] = 'M'\n",
        "x_treino_balanceado.loc[x_treino_balanceado['nameDest'].astype(str).str[0] == 'C', 'nameDest'] = 'C'\n",
        "x_treino_balanceado.loc[x_treino_balanceado['nameDest'].astype(str).str[0] == 'M', 'nameDest'] = 'M'\n",
        "\n",
        "x_validacao.loc[x_validacao['nameDest'].astype(str).str[0] == 'C', 'nameDest'] = 'C'\n",
        "x_validacao.loc[x_validacao['nameDest'].astype(str).str[0] == 'M', 'nameDest'] = 'M'\n",
        "x_validacao_balanceado.loc[x_validacao_balanceado['nameDest'].astype(str).str[0] == 'C', 'nameDest'] = 'C'\n",
        "x_validacao_balanceado.loc[x_validacao_balanceado['nameDest'].astype(str).str[0] == 'M', 'nameDest'] = 'M'\n",
        "\n",
        "x_teste.loc[x_teste['nameDest'].astype(str).str[0] == 'C', 'nameDest'] = 'C'\n",
        "x_teste.loc[x_teste['nameDest'].astype(str).str[0] == 'M', 'nameDest'] = 'M'\n",
        "x_teste_balanceado.loc[x_teste_balanceado['nameDest'].astype(str).str[0] == 'C', 'nameDest'] = 'C'\n",
        "x_teste_balanceado.loc[x_teste_balanceado['nameDest'].astype(str).str[0] == 'M', 'nameDest'] = 'M'"
      ],
      "execution_count": 15,
      "outputs": []
    },
    {
      "cell_type": "code",
      "metadata": {
        "id": "OQQ1XYXQ7SkF"
      },
      "source": [
        "x_treino.loc[x_treino['nameOrig'].astype(str).str[0] == 'C', 'nameOrig'] = 'C'\n",
        "x_treino_balanceado.loc[x_treino_balanceado['nameOrig'].astype(str).str[0] == 'C', 'nameOrig'] = 'C'\n",
        "\n",
        "x_validacao.loc[x_validacao['nameOrig'].astype(str).str[0] == 'C', 'nameOrig'] = 'C'\n",
        "x_validacao_balanceado.loc[x_validacao_balanceado['nameOrig'].astype(str).str[0] == 'C', 'nameOrig'] = 'C'\n",
        "\n",
        "x_teste.loc[x_teste['nameOrig'].astype(str).str[0] == 'C', 'nameOrig'] = 'C'\n",
        "x_teste_balanceado.loc[x_teste_balanceado['nameOrig'].astype(str).str[0] == 'C', 'nameOrig'] = 'C'"
      ],
      "execution_count": 16,
      "outputs": []
    },
    {
      "cell_type": "code",
      "metadata": {
        "colab": {
          "base_uri": "https://localhost:8080/",
          "height": 359
        },
        "id": "GFrfxanV7Vrz",
        "outputId": "c6084be8-22bb-4854-ef82-e58dbf413008"
      },
      "source": [
        "x_treino.head(10)"
      ],
      "execution_count": 17,
      "outputs": [
        {
          "output_type": "execute_result",
          "data": {
            "text/html": [
              "<div>\n",
              "<style scoped>\n",
              "    .dataframe tbody tr th:only-of-type {\n",
              "        vertical-align: middle;\n",
              "    }\n",
              "\n",
              "    .dataframe tbody tr th {\n",
              "        vertical-align: top;\n",
              "    }\n",
              "\n",
              "    .dataframe thead th {\n",
              "        text-align: right;\n",
              "    }\n",
              "</style>\n",
              "<table border=\"1\" class=\"dataframe\">\n",
              "  <thead>\n",
              "    <tr style=\"text-align: right;\">\n",
              "      <th></th>\n",
              "      <th>step</th>\n",
              "      <th>type</th>\n",
              "      <th>amount</th>\n",
              "      <th>nameOrig</th>\n",
              "      <th>oldbalanceOrg</th>\n",
              "      <th>newbalanceOrig</th>\n",
              "      <th>nameDest</th>\n",
              "      <th>oldbalanceDest</th>\n",
              "      <th>newbalanceDest</th>\n",
              "    </tr>\n",
              "  </thead>\n",
              "  <tbody>\n",
              "    <tr>\n",
              "      <th>0</th>\n",
              "      <td>1</td>\n",
              "      <td>PAYMENT</td>\n",
              "      <td>-0.907025</td>\n",
              "      <td>C</td>\n",
              "      <td>0.807207</td>\n",
              "      <td>1.064841</td>\n",
              "      <td>M</td>\n",
              "      <td>-1.149416</td>\n",
              "      <td>-1.253358</td>\n",
              "    </tr>\n",
              "    <tr>\n",
              "      <th>1</th>\n",
              "      <td>1</td>\n",
              "      <td>PAYMENT</td>\n",
              "      <td>-1.823428</td>\n",
              "      <td>C</td>\n",
              "      <td>0.495724</td>\n",
              "      <td>0.780990</td>\n",
              "      <td>M</td>\n",
              "      <td>-1.149416</td>\n",
              "      <td>-1.253358</td>\n",
              "    </tr>\n",
              "    <tr>\n",
              "      <th>2</th>\n",
              "      <td>1</td>\n",
              "      <td>TRANSFER</td>\n",
              "      <td>-3.107899</td>\n",
              "      <td>C</td>\n",
              "      <td>-0.217747</td>\n",
              "      <td>-0.854877</td>\n",
              "      <td>C</td>\n",
              "      <td>-1.149416</td>\n",
              "      <td>-1.253358</td>\n",
              "    </tr>\n",
              "    <tr>\n",
              "      <th>3</th>\n",
              "      <td>1</td>\n",
              "      <td>CASH_OUT</td>\n",
              "      <td>-3.107899</td>\n",
              "      <td>C</td>\n",
              "      <td>-0.217747</td>\n",
              "      <td>-0.854877</td>\n",
              "      <td>C</td>\n",
              "      <td>0.408776</td>\n",
              "      <td>-1.253358</td>\n",
              "    </tr>\n",
              "    <tr>\n",
              "      <th>4</th>\n",
              "      <td>1</td>\n",
              "      <td>PAYMENT</td>\n",
              "      <td>-0.813131</td>\n",
              "      <td>C</td>\n",
              "      <td>0.596146</td>\n",
              "      <td>0.839157</td>\n",
              "      <td>M</td>\n",
              "      <td>-1.149416</td>\n",
              "      <td>-1.253358</td>\n",
              "    </tr>\n",
              "    <tr>\n",
              "      <th>5</th>\n",
              "      <td>1</td>\n",
              "      <td>PAYMENT</td>\n",
              "      <td>-1.033743</td>\n",
              "      <td>C</td>\n",
              "      <td>0.634985</td>\n",
              "      <td>0.897226</td>\n",
              "      <td>M</td>\n",
              "      <td>-1.149416</td>\n",
              "      <td>-1.253358</td>\n",
              "    </tr>\n",
              "    <tr>\n",
              "      <th>6</th>\n",
              "      <td>1</td>\n",
              "      <td>PAYMENT</td>\n",
              "      <td>-1.086189</td>\n",
              "      <td>C</td>\n",
              "      <td>0.818280</td>\n",
              "      <td>1.077465</td>\n",
              "      <td>M</td>\n",
              "      <td>-1.149416</td>\n",
              "      <td>-1.253358</td>\n",
              "    </tr>\n",
              "    <tr>\n",
              "      <th>7</th>\n",
              "      <td>1</td>\n",
              "      <td>PAYMENT</td>\n",
              "      <td>-1.030656</td>\n",
              "      <td>C</td>\n",
              "      <td>0.812355</td>\n",
              "      <td>1.071328</td>\n",
              "      <td>M</td>\n",
              "      <td>-1.149416</td>\n",
              "      <td>-1.253358</td>\n",
              "    </tr>\n",
              "    <tr>\n",
              "      <th>8</th>\n",
              "      <td>1</td>\n",
              "      <td>PAYMENT</td>\n",
              "      <td>-1.399541</td>\n",
              "      <td>C</td>\n",
              "      <td>0.185208</td>\n",
              "      <td>-0.854877</td>\n",
              "      <td>M</td>\n",
              "      <td>-1.149416</td>\n",
              "      <td>-1.253358</td>\n",
              "    </tr>\n",
              "    <tr>\n",
              "      <th>9</th>\n",
              "      <td>1</td>\n",
              "      <td>DEBIT</td>\n",
              "      <td>-1.243950</td>\n",
              "      <td>C</td>\n",
              "      <td>0.596743</td>\n",
              "      <td>0.865586</td>\n",
              "      <td>C</td>\n",
              "      <td>0.495441</td>\n",
              "      <td>0.405884</td>\n",
              "    </tr>\n",
              "  </tbody>\n",
              "</table>\n",
              "</div>"
            ],
            "text/plain": [
              "   step      type    amount  ... nameDest  oldbalanceDest  newbalanceDest\n",
              "0     1   PAYMENT -0.907025  ...        M       -1.149416       -1.253358\n",
              "1     1   PAYMENT -1.823428  ...        M       -1.149416       -1.253358\n",
              "2     1  TRANSFER -3.107899  ...        C       -1.149416       -1.253358\n",
              "3     1  CASH_OUT -3.107899  ...        C        0.408776       -1.253358\n",
              "4     1   PAYMENT -0.813131  ...        M       -1.149416       -1.253358\n",
              "5     1   PAYMENT -1.033743  ...        M       -1.149416       -1.253358\n",
              "6     1   PAYMENT -1.086189  ...        M       -1.149416       -1.253358\n",
              "7     1   PAYMENT -1.030656  ...        M       -1.149416       -1.253358\n",
              "8     1   PAYMENT -1.399541  ...        M       -1.149416       -1.253358\n",
              "9     1     DEBIT -1.243950  ...        C        0.495441        0.405884\n",
              "\n",
              "[10 rows x 9 columns]"
            ]
          },
          "metadata": {},
          "execution_count": 17
        }
      ]
    },
    {
      "cell_type": "markdown",
      "metadata": {
        "id": "EMDuJER67Xdb"
      },
      "source": [
        "### 3.4.2 - OneHotEncoder"
      ]
    },
    {
      "cell_type": "code",
      "metadata": {
        "id": "pSmfuhOt7ZK-"
      },
      "source": [
        "onehotencoder_ = ColumnTransformer(transformers=[('OneHot', OneHotEncoder(), [1,3,6])], remainder='passthrough')\n",
        "\n",
        "x_treino = onehotencoder_.fit_transform(x_treino)\n",
        "x_treino_balanceado = onehotencoder_.fit_transform(x_treino_balanceado)\n",
        "x_validacao = onehotencoder_.fit_transform(x_validacao)\n",
        "x_validacao_balanceado = onehotencoder_.fit_transform(x_validacao_balanceado)\n",
        "x_teste = onehotencoder_.fit_transform(x_teste)\n",
        "x_teste_balanceado = onehotencoder_.fit_transform(x_teste_balanceado)"
      ],
      "execution_count": 18,
      "outputs": []
    },
    {
      "cell_type": "code",
      "metadata": {
        "colab": {
          "base_uri": "https://localhost:8080/"
        },
        "id": "LRAsvmTb7b8T",
        "outputId": "38be3f30-ca2e-4e8e-9f4e-700d44ce476d"
      },
      "source": [
        "print(x_treino.shape)\n",
        "print(x_validacao.shape)\n",
        "print(x_teste.shape)\n",
        "\n",
        "print(x_treino_balanceado.shape)\n",
        "print(x_validacao_balanceado.shape)\n",
        "print(x_teste_balanceado.shape)"
      ],
      "execution_count": 19,
      "outputs": [
        {
          "output_type": "stream",
          "text": [
            "(3817573, 14)\n",
            "(1590656, 14)\n",
            "(954393, 14)\n",
            "(6378, 14)\n",
            "(2032, 14)\n",
            "(8016, 14)\n"
          ],
          "name": "stdout"
        }
      ]
    },
    {
      "cell_type": "markdown",
      "metadata": {
        "id": "8YNb_6cw7ecP"
      },
      "source": [
        "### 3.5 - Ajustes finais"
      ]
    },
    {
      "cell_type": "code",
      "metadata": {
        "id": "QVZCvlUd7eEl"
      },
      "source": [
        "y_treino = y_treino.to_numpy()\n",
        "y_treino_balanceado = y_treino_balanceado.to_numpy()\n",
        "\n",
        "y_validacao = y_validacao.to_numpy()\n",
        "y_validacao_balanceado = y_validacao_balanceado.to_numpy()\n",
        "\n",
        "y_teste = y_teste.to_numpy()\n",
        "y_teste_balanceado = y_teste_balanceado.to_numpy()"
      ],
      "execution_count": 20,
      "outputs": []
    },
    {
      "cell_type": "code",
      "metadata": {
        "id": "yOp80fX37ikb"
      },
      "source": [
        "y_treino = y_treino.ravel()\n",
        "y_treino_balanceado = y_treino_balanceado.ravel()\n",
        "\n",
        "y_validacao = y_validacao.ravel()\n",
        "y_validacao_balanceado = y_validacao_balanceado.ravel()\n",
        "\n",
        "y_teste = y_teste.ravel()\n",
        "y_teste_balanceado = y_teste_balanceado.ravel()"
      ],
      "execution_count": 21,
      "outputs": []
    },
    {
      "cell_type": "markdown",
      "metadata": {
        "id": "J6OaPlKf7k5-"
      },
      "source": [
        "# 4 - Classificadores"
      ]
    },
    {
      "cell_type": "markdown",
      "metadata": {
        "id": "8wxFSLvs7mxE"
      },
      "source": [
        "## 4.1 - Regressão Logística"
      ]
    },
    {
      "cell_type": "code",
      "metadata": {
        "id": "5wQBB7lJ7q_d"
      },
      "source": [
        "from sklearn.linear_model import LogisticRegression"
      ],
      "execution_count": 22,
      "outputs": []
    },
    {
      "cell_type": "markdown",
      "metadata": {
        "id": "vkRfXupJ7s9X"
      },
      "source": [
        "### 4.1.1 - Dados não balanceados"
      ]
    },
    {
      "cell_type": "code",
      "metadata": {
        "id": "4j-xe-y47t7d"
      },
      "source": [
        "lr = LogisticRegression()"
      ],
      "execution_count": 23,
      "outputs": []
    },
    {
      "cell_type": "code",
      "metadata": {
        "colab": {
          "base_uri": "https://localhost:8080/"
        },
        "id": "a1Z5NaNg7xHp",
        "outputId": "cca18e55-6f4c-41d9-e9aa-55f67c6ce97a"
      },
      "source": [
        "lr.fit(x_treino,y_treino)"
      ],
      "execution_count": 24,
      "outputs": [
        {
          "output_type": "stream",
          "text": [
            "/usr/local/lib/python3.7/dist-packages/sklearn/linear_model/_logistic.py:940: ConvergenceWarning: lbfgs failed to converge (status=1):\n",
            "STOP: TOTAL NO. of ITERATIONS REACHED LIMIT.\n",
            "\n",
            "Increase the number of iterations (max_iter) or scale the data as shown in:\n",
            "    https://scikit-learn.org/stable/modules/preprocessing.html\n",
            "Please also refer to the documentation for alternative solver options:\n",
            "    https://scikit-learn.org/stable/modules/linear_model.html#logistic-regression\n",
            "  extra_warning_msg=_LOGISTIC_SOLVER_CONVERGENCE_MSG)\n"
          ],
          "name": "stderr"
        },
        {
          "output_type": "execute_result",
          "data": {
            "text/plain": [
              "LogisticRegression(C=1.0, class_weight=None, dual=False, fit_intercept=True,\n",
              "                   intercept_scaling=1, l1_ratio=None, max_iter=100,\n",
              "                   multi_class='auto', n_jobs=None, penalty='l2',\n",
              "                   random_state=None, solver='lbfgs', tol=0.0001, verbose=0,\n",
              "                   warm_start=False)"
            ]
          },
          "metadata": {},
          "execution_count": 24
        }
      ]
    },
    {
      "cell_type": "code",
      "metadata": {
        "colab": {
          "base_uri": "https://localhost:8080/"
        },
        "id": "IBH3yPUT718r",
        "outputId": "4d033c0b-fbb0-4a2e-9ec4-a34307f41343"
      },
      "source": [
        "lr.score(x_treino, y_treino)"
      ],
      "execution_count": 25,
      "outputs": [
        {
          "output_type": "execute_result",
          "data": {
            "text/plain": [
              "0.9994897281597497"
            ]
          },
          "metadata": {},
          "execution_count": 25
        }
      ]
    },
    {
      "cell_type": "code",
      "metadata": {
        "colab": {
          "base_uri": "https://localhost:8080/"
        },
        "id": "TPNw0GOD73is",
        "outputId": "9c9e6db7-53b5-437c-c8a9-7c93d414dad9"
      },
      "source": [
        "lr.score(x_teste, y_teste)"
      ],
      "execution_count": 26,
      "outputs": [
        {
          "output_type": "execute_result",
          "data": {
            "text/plain": [
              "0.9977462114663457"
            ]
          },
          "metadata": {},
          "execution_count": 26
        }
      ]
    },
    {
      "cell_type": "code",
      "metadata": {
        "colab": {
          "base_uri": "https://localhost:8080/",
          "height": 279
        },
        "id": "AlN5Pzwj76Lf",
        "outputId": "f0ed463d-5396-4db7-b9b3-6c1c13af2557"
      },
      "source": [
        "plot_confusion_matrix(lr, x_teste, y_teste, normalize='true')\n",
        "plt.show()"
      ],
      "execution_count": 27,
      "outputs": [
        {
          "output_type": "display_data",
          "data": {
            "image/png": "[encoded data removed]",
            "text/plain": [
              "<Figure size 432x288 with 2 Axes>"
            ]
          },
          "metadata": {
            "needs_background": "light"
          }
        }
      ]
    },
    {
      "cell_type": "markdown",
      "metadata": {
        "id": "72MEPdw_78US"
      },
      "source": [
        "### 4.1.2 - Dados Balanceados"
      ]
    },
    {
      "cell_type": "code",
      "metadata": {
        "id": "cezGnOEy783_"
      },
      "source": [
        "lr = LogisticRegression(max_iter=1500)"
      ],
      "execution_count": 28,
      "outputs": []
    },
    {
      "cell_type": "code",
      "metadata": {
        "colab": {
          "base_uri": "https://localhost:8080/"
        },
        "id": "ibFdvx918Aek",
        "outputId": "2c7ae9dc-bbbd-4566-f678-67f989d16a85"
      },
      "source": [
        "lr.fit(x_treino_balanceado, y_treino_balanceado)"
      ],
      "execution_count": 29,
      "outputs": [
        {
          "output_type": "execute_result",
          "data": {
            "text/plain": [
              "LogisticRegression(C=1.0, class_weight=None, dual=False, fit_intercept=True,\n",
              "                   intercept_scaling=1, l1_ratio=None, max_iter=1500,\n",
              "                   multi_class='auto', n_jobs=None, penalty='l2',\n",
              "                   random_state=None, solver='lbfgs', tol=0.0001, verbose=0,\n",
              "                   warm_start=False)"
            ]
          },
          "metadata": {},
          "execution_count": 29
        }
      ]
    },
    {
      "cell_type": "code",
      "metadata": {
        "colab": {
          "base_uri": "https://localhost:8080/"
        },
        "id": "Rfhti1-h8CPr",
        "outputId": "3e3e9052-6df1-411a-ffbc-e7db5ece8c4b"
      },
      "source": [
        "lr.score(x_treino_balanceado, y_treino_balanceado)"
      ],
      "execution_count": 30,
      "outputs": [
        {
          "output_type": "execute_result",
          "data": {
            "text/plain": [
              "0.9477892756349953"
            ]
          },
          "metadata": {},
          "execution_count": 30
        }
      ]
    },
    {
      "cell_type": "code",
      "metadata": {
        "colab": {
          "base_uri": "https://localhost:8080/"
        },
        "id": "x1QwutuZ8D49",
        "outputId": "750a441c-2193-4255-f687-8f083d7ecf5c"
      },
      "source": [
        "lr.score(x_teste_balanceado, y_teste_balanceado)"
      ],
      "execution_count": 31,
      "outputs": [
        {
          "output_type": "execute_result",
          "data": {
            "text/plain": [
              "0.935503992015968"
            ]
          },
          "metadata": {},
          "execution_count": 31
        }
      ]
    },
    {
      "cell_type": "code",
      "metadata": {
        "colab": {
          "base_uri": "https://localhost:8080/",
          "height": 279
        },
        "id": "a63CijHN8Fxd",
        "outputId": "ad345613-751e-4d99-874b-c537dd638084"
      },
      "source": [
        "plot_confusion_matrix(lr, x_teste_balanceado, y_teste_balanceado, normalize='true')\n",
        "plt.show()"
      ],
      "execution_count": 32,
      "outputs": [
        {
          "output_type": "display_data",
          "data": {
            "image/png": "[encoded data removed]",
            "text/plain": [
              "<Figure size 432x288 with 2 Axes>"
            ]
          },
          "metadata": {
            "needs_background": "light"
          }
        }
      ]
    },
    {
      "cell_type": "code",
      "metadata": {
        "colab": {
          "base_uri": "https://localhost:8080/"
        },
        "id": "tT9RG2gi8Hle",
        "outputId": "71f0bbe3-bbca-461e-d372-c62e0505b9e1"
      },
      "source": [
        "lr.score(x_teste, y_teste)"
      ],
      "execution_count": 33,
      "outputs": [
        {
          "output_type": "execute_result",
          "data": {
            "text/plain": [
              "0.969701160842546"
            ]
          },
          "metadata": {},
          "execution_count": 33
        }
      ]
    },
    {
      "cell_type": "code",
      "metadata": {
        "colab": {
          "base_uri": "https://localhost:8080/",
          "height": 279
        },
        "id": "O0rSQiS18Owx",
        "outputId": "c7db092c-713e-4901-dc0a-bfd41b340907"
      },
      "source": [
        "plot_confusion_matrix(lr, x_teste, y_teste, normalize='true')\n",
        "plt.show()"
      ],
      "execution_count": 34,
      "outputs": [
        {
          "output_type": "display_data",
          "data": {
            "image/png": "[encoded data removed]",
            "text/plain": [
              "<Figure size 432x288 with 2 Axes>"
            ]
          },
          "metadata": {
            "needs_background": "light"
          }
        }
      ]
    }
  ]
}