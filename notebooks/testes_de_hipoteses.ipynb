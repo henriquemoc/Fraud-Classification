{
  "nbformat": 4,
  "nbformat_minor": 0,
  "metadata": {
    "colab": {
      "name": "testes_de_hipoteses.ipynb",
      "provenance": []
    },
    "kernelspec": {
      "name": "python3",
      "display_name": "Python 3"
    },
    "language_info": {
      "name": "python"
    }
  },
  "cells": [
    {
      "cell_type": "markdown",
      "metadata": {
        "id": "O0VdoSZ32OwU"
      },
      "source": [
        "# Importações"
      ]
    },
    {
      "cell_type": "code",
      "metadata": {
        "id": "WQirgJ3c2H1B"
      },
      "source": [
        "import os\n",
        "import pandas as pd\n",
        "import numpy as np\n",
        "import matplotlib.pyplot as plt\n",
        "import seaborn as sns\n",
        "from scipy.stats import norm\n",
        "\n",
        "%matplotlib inline\n",
        "\n",
        "plt.rcParams[\"figure.figsize\"] = (16,10)"
      ],
      "execution_count": 24,
      "outputs": []
    },
    {
      "cell_type": "markdown",
      "metadata": {
        "id": "Hyx5A6jg2TD9"
      },
      "source": [
        "# Configurar dataset"
      ]
    },
    {
      "cell_type": "markdown",
      "metadata": {
        "id": "ntq_gWeB2Y2U"
      },
      "source": [
        "### Baixar dados "
      ]
    },
    {
      "cell_type": "code",
      "metadata": {
        "colab": {
          "base_uri": "https://localhost:8080/"
        },
        "id": "9JkUe_Kd2VWy",
        "outputId": "3072d988-f12d-4066-f8e9-72ea0a3b2694"
      },
      "source": [
        "!wget -O fraud.csv https://www.dropbox.com/s/47hd95t7n8hhlgz/fraude.csv?dl=0"
      ],
      "execution_count": 25,
      "outputs": [
        {
          "output_type": "stream",
          "text": [
            "--2021-08-24 21:01:10--  https://www.dropbox.com/s/47hd95t7n8hhlgz/fraude.csv?dl=0\n",
            "Resolving www.dropbox.com (www.dropbox.com)... 162.125.6.18, 2620:100:601f:18::a27d:912\n",
            "Connecting to www.dropbox.com (www.dropbox.com)|162.125.6.18|:443... connected.\n",
            "HTTP request sent, awaiting response... 301 Moved Permanently\n",
            "Location: /s/raw/47hd95t7n8hhlgz/fraude.csv [following]\n",
            "--2021-08-24 21:01:10--  https://www.dropbox.com/s/raw/47hd95t7n8hhlgz/fraude.csv\n",
            "Reusing existing connection to www.dropbox.com:443.\n",
            "HTTP request sent, awaiting response... 302 Found\n",
            "Location: https://ucbaee481de59b820d4ea8b773ac.dl.dropboxusercontent.com/cd/0/inline/BU1lil3AyQ0enNERdMajxyPgItvxb5S0x47hQxe5tmaVZ7DghD6335R9D3uVrVQpg9_zmw1FR5L2rQ1Ff4t47KcaZWd7lMHw24ygkO062RW8ZlDK2aV0zxvJhXJAre318iBRZrwt25EWdfDiBSMHq4CY/file# [following]\n",
            "--2021-08-24 21:01:10--  https://ucbaee481de59b820d4ea8b773ac.dl.dropboxusercontent.com/cd/0/inline/BU1lil3AyQ0enNERdMajxyPgItvxb5S0x47hQxe5tmaVZ7DghD6335R9D3uVrVQpg9_zmw1FR5L2rQ1Ff4t47KcaZWd7lMHw24ygkO062RW8ZlDK2aV0zxvJhXJAre318iBRZrwt25EWdfDiBSMHq4CY/file\n",
            "Resolving ucbaee481de59b820d4ea8b773ac.dl.dropboxusercontent.com (ucbaee481de59b820d4ea8b773ac.dl.dropboxusercontent.com)... 162.125.6.15, 2620:100:6019:15::a27d:40f\n",
            "Connecting to ucbaee481de59b820d4ea8b773ac.dl.dropboxusercontent.com (ucbaee481de59b820d4ea8b773ac.dl.dropboxusercontent.com)|162.125.6.15|:443... connected.\n",
            "HTTP request sent, awaiting response... 200 OK\n",
            "Length: 493534783 (471M) [text/plain]\n",
            "Saving to: ‘fraud.csv’\n",
            "\n",
            "fraud.csv           100%[===================>] 470.67M  71.0MB/s    in 8.2s    \n",
            "\n",
            "2021-08-24 21:01:19 (57.1 MB/s) - ‘fraud.csv’ saved [493534783/493534783]\n",
            "\n"
          ],
          "name": "stdout"
        }
      ]
    },
    {
      "cell_type": "code",
      "metadata": {
        "id": "ZIxirPG92bmg"
      },
      "source": [
        "dataset_path = \"fraud.csv\""
      ],
      "execution_count": 3,
      "outputs": []
    },
    {
      "cell_type": "markdown",
      "metadata": {
        "id": "FB776z322dWF"
      },
      "source": [
        "### Ler CSV"
      ]
    },
    {
      "cell_type": "code",
      "metadata": {
        "id": "2KkfnEoi2gkA"
      },
      "source": [
        "df = pd.read_csv(dataset_path) "
      ],
      "execution_count": 4,
      "outputs": []
    },
    {
      "cell_type": "markdown",
      "metadata": {
        "id": "f-n2unJo2ksZ"
      },
      "source": [
        "#2 - Testes de Hipótese"
      ]
    },
    {
      "cell_type": "markdown",
      "metadata": {
        "id": "fT3t7SPW2vDe"
      },
      "source": [
        "### 2.1 - TESTE 1:\n",
        "**hipoteste nula**: A diferença das médias de ocorrência de fraudes entre Cash_Out e Transfer pode ser explicados pela variabilidade natural\n",
        "\n",
        "**hipotese alternativa**: A diferença das médias de ocorrência de fraudes entre Cash_Out e Transfer não pode ser explicados pela variabilidade natural"
      ]
    },
    {
      "cell_type": "markdown",
      "metadata": {
        "id": "H71r3j8_2y5O"
      },
      "source": [
        "#### Preparação dos dados"
      ]
    },
    {
      "cell_type": "code",
      "metadata": {
        "id": "O0jw6n6V26T-"
      },
      "source": [
        "data = df.copy()"
      ],
      "execution_count": 5,
      "outputs": []
    },
    {
      "cell_type": "code",
      "metadata": {
        "colab": {
          "base_uri": "https://localhost:8080/"
        },
        "id": "2ufCzRjo2n7D",
        "outputId": "734397be-16aa-4e89-9364-fda4524d3a3d"
      },
      "source": [
        "data[\"type\"].unique()"
      ],
      "execution_count": 6,
      "outputs": [
        {
          "output_type": "execute_result",
          "data": {
            "text/plain": [
              "array(['PAYMENT', 'TRANSFER', 'CASH_OUT', 'DEBIT', 'CASH_IN'],\n",
              "      dtype=object)"
            ]
          },
          "metadata": {},
          "execution_count": 6
        }
      ]
    },
    {
      "cell_type": "code",
      "metadata": {
        "colab": {
          "base_uri": "https://localhost:8080/",
          "height": 235
        },
        "id": "yKmgfWu926uM",
        "outputId": "54bb4a21-cca0-4527-fb4d-aee0d1b69673"
      },
      "source": [
        "data = data[[\"type\", \"isFraud\"]]\n",
        "data_media = data.groupby('type').mean()\n",
        "data_media"
      ],
      "execution_count": 7,
      "outputs": [
        {
          "output_type": "execute_result",
          "data": {
            "text/html": [
              "<div>\n",
              "<style scoped>\n",
              "    .dataframe tbody tr th:only-of-type {\n",
              "        vertical-align: middle;\n",
              "    }\n",
              "\n",
              "    .dataframe tbody tr th {\n",
              "        vertical-align: top;\n",
              "    }\n",
              "\n",
              "    .dataframe thead th {\n",
              "        text-align: right;\n",
              "    }\n",
              "</style>\n",
              "<table border=\"1\" class=\"dataframe\">\n",
              "  <thead>\n",
              "    <tr style=\"text-align: right;\">\n",
              "      <th></th>\n",
              "      <th>isFraud</th>\n",
              "    </tr>\n",
              "    <tr>\n",
              "      <th>type</th>\n",
              "      <th></th>\n",
              "    </tr>\n",
              "  </thead>\n",
              "  <tbody>\n",
              "    <tr>\n",
              "      <th>CASH_IN</th>\n",
              "      <td>0.000000</td>\n",
              "    </tr>\n",
              "    <tr>\n",
              "      <th>CASH_OUT</th>\n",
              "      <td>0.001840</td>\n",
              "    </tr>\n",
              "    <tr>\n",
              "      <th>DEBIT</th>\n",
              "      <td>0.000000</td>\n",
              "    </tr>\n",
              "    <tr>\n",
              "      <th>PAYMENT</th>\n",
              "      <td>0.000000</td>\n",
              "    </tr>\n",
              "    <tr>\n",
              "      <th>TRANSFER</th>\n",
              "      <td>0.007688</td>\n",
              "    </tr>\n",
              "  </tbody>\n",
              "</table>\n",
              "</div>"
            ],
            "text/plain": [
              "           isFraud\n",
              "type              \n",
              "CASH_IN   0.000000\n",
              "CASH_OUT  0.001840\n",
              "DEBIT     0.000000\n",
              "PAYMENT   0.000000\n",
              "TRANSFER  0.007688"
            ]
          },
          "metadata": {},
          "execution_count": 7
        }
      ]
    },
    {
      "cell_type": "markdown",
      "metadata": {
        "id": "RC1RhQ3v295d"
      },
      "source": [
        "Apenas CASH_OUT e TRANSFER possuem fraudes"
      ]
    },
    {
      "cell_type": "code",
      "metadata": {
        "colab": {
          "base_uri": "https://localhost:8080/",
          "height": 142
        },
        "id": "YV9YT6OE3AH6",
        "outputId": "29416cc8-d255-4246-e43b-17ddcfc2aa86"
      },
      "source": [
        "data = data[data['type'].isin(['CASH_OUT', 'TRANSFER'])]\n",
        "data_media = data.groupby('type').mean()\n",
        "data_media"
      ],
      "execution_count": 8,
      "outputs": [
        {
          "output_type": "execute_result",
          "data": {
            "text/html": [
              "<div>\n",
              "<style scoped>\n",
              "    .dataframe tbody tr th:only-of-type {\n",
              "        vertical-align: middle;\n",
              "    }\n",
              "\n",
              "    .dataframe tbody tr th {\n",
              "        vertical-align: top;\n",
              "    }\n",
              "\n",
              "    .dataframe thead th {\n",
              "        text-align: right;\n",
              "    }\n",
              "</style>\n",
              "<table border=\"1\" class=\"dataframe\">\n",
              "  <thead>\n",
              "    <tr style=\"text-align: right;\">\n",
              "      <th></th>\n",
              "      <th>isFraud</th>\n",
              "    </tr>\n",
              "    <tr>\n",
              "      <th>type</th>\n",
              "      <th></th>\n",
              "    </tr>\n",
              "  </thead>\n",
              "  <tbody>\n",
              "    <tr>\n",
              "      <th>CASH_OUT</th>\n",
              "      <td>0.001840</td>\n",
              "    </tr>\n",
              "    <tr>\n",
              "      <th>TRANSFER</th>\n",
              "      <td>0.007688</td>\n",
              "    </tr>\n",
              "  </tbody>\n",
              "</table>\n",
              "</div>"
            ],
            "text/plain": [
              "           isFraud\n",
              "type              \n",
              "CASH_OUT  0.001840\n",
              "TRANSFER  0.007688"
            ]
          },
          "metadata": {},
          "execution_count": 8
        }
      ]
    },
    {
      "cell_type": "markdown",
      "metadata": {
        "id": "gKmoQzJj3H74"
      },
      "source": [
        "**Estatística de teste**:"
      ]
    },
    {
      "cell_type": "code",
      "metadata": {
        "colab": {
          "base_uri": "https://localhost:8080/"
        },
        "id": "NASt9ChV3E0H",
        "outputId": "42c9ab6d-0b06-4109-8ac5-45975409dcac"
      },
      "source": [
        "est_teste = data_media.values[1][0]-data_media.values[0][0]\n",
        "est_teste"
      ],
      "execution_count": 9,
      "outputs": [
        {
          "output_type": "execute_result",
          "data": {
            "text/plain": [
              "0.005848438685817112"
            ]
          },
          "metadata": {},
          "execution_count": 9
        }
      ]
    },
    {
      "cell_type": "markdown",
      "metadata": {
        "id": "ufbjjFCl3JQO"
      },
      "source": [
        "#### Teste por permutação"
      ]
    },
    {
      "cell_type": "code",
      "metadata": {
        "id": "dYP2d0Mw3LsH"
      },
      "source": [
        "N = 100000 #selecionar aleatoriamente 100 mil instâncias, por questão de tempo\n",
        "iteracoes = 2000\n",
        "filtro = data['type'] == 'CASH_OUT'\n",
        "t_obs = data[filtro]['isFraud'].mean() - data[~filtro]['isFraud'].mean()\n",
        "data = data.sample(n=N, random_state=123214)\n",
        "filtro = data['type'] == 'CASH_OUT'\n",
        "diffs = np.zeros(iteracoes)\n",
        "for i in range(iteracoes):\n",
        "    np.random.seed(i)\n",
        "    np.random.shuffle(filtro.values)\n",
        "    diffs[i] = data[filtro]['isFraud'].mean() - data[~filtro]['isFraud'].mean()"
      ],
      "execution_count": 10,
      "outputs": []
    },
    {
      "cell_type": "markdown",
      "metadata": {
        "id": "J2IK41dA3UUy"
      },
      "source": [
        "#### Identificando limites"
      ]
    },
    {
      "cell_type": "code",
      "metadata": {
        "id": "KLixtjkB3U6C"
      },
      "source": [
        "c_inf = np.percentile(diffs, 2.5)\n",
        "c_sup = np.percentile(diffs, 97.5)"
      ],
      "execution_count": 11,
      "outputs": []
    },
    {
      "cell_type": "markdown",
      "metadata": {
        "id": "IakFp9U53ZbB"
      },
      "source": [
        "#### Visualizando resultado"
      ]
    },
    {
      "cell_type": "code",
      "metadata": {
        "colab": {
          "base_uri": "https://localhost:8080/"
        },
        "id": "N-2kA6O13Y8p",
        "outputId": "c2036556-4956-40f8-a293-9e155a59bff4"
      },
      "source": [
        "if t_obs<c_sup and t_obs>c_inf:\n",
        "    print(\"hipotese nula\")\n",
        "else:\n",
        "    print(\"hipotese alternativa\")"
      ],
      "execution_count": 12,
      "outputs": [
        {
          "output_type": "stream",
          "text": [
            "hipotese alternativa\n"
          ],
          "name": "stdout"
        }
      ]
    },
    {
      "cell_type": "code",
      "metadata": {
        "colab": {
          "base_uri": "https://localhost:8080/",
          "height": 610
        },
        "id": "h0meGqC53dzW",
        "outputId": "ce2fdf4e-608c-44ad-c048-338712aaff75"
      },
      "source": [
        "plt.hist(diffs)\n",
        "inf = plt.axvline(x=c_inf, color = \"r\", ls = \":\", label=\"limite inferior 2.5%\")\n",
        "sup = plt.axvline(x=c_sup, color = \"r\", ls = \":\", label=\"limite superior 97.5%\")\n",
        "obs = plt.axvline(x=t_obs, color = \"g\", ls = \"-\", label=\"valor observado\")\n",
        "\n",
        "plt.legend(handles=[inf, sup, obs], loc=2)\n",
        "\n",
        "plt.title(\"Distribuição normal das médias em situações aleatórias\", fontdict={\"fontsize\": 16})\n",
        "plt.show()"
      ],
      "execution_count": 26,
      "outputs": [
        {
          "output_type": "display_data",
          "data": {
            "image/png": "[encoded data removed]",
            "text/plain": [
              "<Figure size 1152x720 with 1 Axes>"
            ]
          },
          "metadata": {
            "needs_background": "light"
          }
        }
      ]
    },
    {
      "cell_type": "markdown",
      "metadata": {
        "id": "xm-glnYT3gzo"
      },
      "source": [
        "### 2.2 - TESTE 2:\n",
        "\n",
        "Fazendo $1$ como a ocorrência de fraude e $0$ como a não ocorrência de fraude, podemos modelar:\n",
        "\n",
        "*   O grupo de transações que esgotam o saldo como $X_1, ..., X_m \\overset{idd}{\\sim} \\text{Ber}(p_{total})$;\n",
        "\n",
        "*   O grupo de transações que não esgotam o saldo como $Y_1, ..., Y_n \\overset{idd}{\\sim} \\text{Ber}(p_{not\\;total})$.\n",
        "\n",
        "Nossa meta é utilizar essas informações para responder a **questão de interesse**: \n",
        "\n",
        "**Uma transação que esgota o saldo de uma conta tem maior probabilidade de ser uma fraude?**\n",
        "\n",
        "Para essa questão, temos respectivamente as hipóteses nula e alternativa:\n",
        "\n",
        "$\\quad \\quad H_{0}: p_{total} = p_{not\\;total},\\quad  H_{1}: p_{total} > p_{not\\;total}$ \n",
        "\n",
        "O teste adotado para essa hipotese está abaixo:\n",
        "\n",
        "$\\quad \\quad \\psi = 1\\Biggr(\\dfrac{2(\\overline{X}_m - \\overline{Y}_n)}{\\sqrt{\\frac{1}{m} + \\frac{1}{n}}} > 1.96\\Biggr)$ \n",
        "\n",
        "*a fórmula para esse teste provém de um intervalo de 95% de confiança conservador utilizando o método conservativo*.\n",
        "\n",
        "Como temos que apenas as transações de saque e de transeferência podem ser consideradas fraudes, vamos aplicar o teste apenas nessas duas ocasiões."
      ]
    },
    {
      "cell_type": "code",
      "metadata": {
        "id": "NcHIKo-p3hy2"
      },
      "source": [
        "test2 = df.copy()\n",
        "test2 = test2[test2[\"type\"].isin([\"CASH_OUT\", \"TRANSFER\"])][[\"amount\", \"oldbalanceOrg\", \"isFraud\"]]\n",
        "test2[\"relativeAmount\"] = (test2[\"amount\"] / test2[\"oldbalanceOrg\"])"
      ],
      "execution_count": 14,
      "outputs": []
    },
    {
      "cell_type": "code",
      "metadata": {
        "colab": {
          "base_uri": "https://localhost:8080/"
        },
        "id": "Lhgh3f873qQ2",
        "outputId": "ff398063-74e8-4310-ba25-ba0187268b03"
      },
      "source": [
        "test2Total = test2.query(\"relativeAmount == 1\")\n",
        "test2TotalFraud = test2Total.query(\"isFraud == 1\")\n",
        "test2TotalMean = test2TotalFraud.size / test2Total.size\n",
        "test2TotalMean"
      ],
      "execution_count": 15,
      "outputs": [
        {
          "output_type": "execute_result",
          "data": {
            "text/plain": [
              "1.0"
            ]
          },
          "metadata": {},
          "execution_count": 15
        }
      ]
    },
    {
      "cell_type": "code",
      "metadata": {
        "colab": {
          "base_uri": "https://localhost:8080/"
        },
        "id": "utPu_t5f3rzz",
        "outputId": "a4489b1b-2389-406b-f94e-926530b4e44c"
      },
      "source": [
        "test2NotTotal = test2.query(\"relativeAmount != 1\")\n",
        "test2NotTotalFraud = test2NotTotal.query(\"isFraud == 1\")\n",
        "test2NotTotalMean = test2NotTotalFraud.size / test2NotTotal.size\n",
        "test2NotTotalMean"
      ],
      "execution_count": 16,
      "outputs": [
        {
          "output_type": "execute_result",
          "data": {
            "text/plain": [
              "7.059102060497591e-05"
            ]
          },
          "metadata": {},
          "execution_count": 16
        }
      ]
    },
    {
      "cell_type": "code",
      "metadata": {
        "colab": {
          "base_uri": "https://localhost:8080/"
        },
        "id": "UBl91H4L3tjH",
        "outputId": "63a5279d-2a72-4ef5-dc46-39a5c64e7fed"
      },
      "source": [
        "test2Result = 2*(test2TotalMean - test2NotTotalMean)/(((1 / test2Total.size) + (1/test2NotTotal.size))**0.5)\n",
        "test2Result"
      ],
      "execution_count": 17,
      "outputs": [
        {
          "output_type": "execute_result",
          "data": {
            "text/plain": [
              "357.62921499306043"
            ]
          },
          "metadata": {},
          "execution_count": 17
        }
      ]
    },
    {
      "cell_type": "code",
      "metadata": {
        "colab": {
          "base_uri": "https://localhost:8080/"
        },
        "id": "i5ZiP3p83wGP",
        "outputId": "e462e138-b193-4402-a077-8976b4253e13"
      },
      "source": [
        "if(test2Result > 1.96):\n",
        "  print(\"Hipotese nula rejeitada.\")\n",
        "else:\n",
        "  print(\"Hipotese nula falhou em ser rejeitada\")"
      ],
      "execution_count": 18,
      "outputs": [
        {
          "output_type": "stream",
          "text": [
            "Hipotese nula rejeitada.\n"
          ],
          "name": "stdout"
        }
      ]
    },
    {
      "cell_type": "markdown",
      "metadata": {
        "id": "vr1fIXcp3yVT"
      },
      "source": [
        "**A hipótese nula foi rejeitada. Portanto uma transação que esgota o saldo de uma conta tem maior probabilidade de ser uma fraude.**"
      ]
    },
    {
      "cell_type": "markdown",
      "metadata": {
        "id": "oV94mDJr30Px"
      },
      "source": [
        "### 2.3 - TESTE 3:\n",
        "\n",
        "Fazendo $1$ a pessoa que cometeu pelo menos uma fraude e $0$ como a pessoa que não cometeu fraudes, podemos modelar:\n",
        "\n",
        "*   O grupo amostral de pessoas como $X_1, ..., X_n \\overset{idd}{\\sim} \\text{Ber}(p_{start})$;\n",
        "\n",
        "\n",
        "Sendo $Y$ o conjunto de pessoas que cometeteram fraudes, faremos agora $1$ para a pessoa que cometeu mais de uma fraude e $0$ para a que apenas cometeu apenas uma. Podemos modelar:\n",
        "\n",
        "*   As pessoas que cometeram pelo menos uma fraude como $Y_1, ..., Y_m \\overset{idd}{\\sim} \\text{Ber}(p_{after})$.\n",
        "\n",
        "sendo que $n \\geq m$.\n",
        "\n",
        "Nossa meta é utilizar essas informações para responder a **questão de interesse**: \n",
        "\n",
        "**Uma pessoa que originou uma fraude tem tendência a originar novas fraudes?**\n",
        "\n",
        "Para essa questão, temos respectivamente as hipóteses nula e alternativa:\n",
        "\n",
        "$\\quad \\quad H_{0}: p_{start} = p_{after},\\quad  H_{1}: p_{start} < p_{after}$ \n",
        "\n",
        "O teste adotado para essa hipotese está abaixo:\n",
        "\n",
        "$\\quad \\quad \\psi = 1\\Biggr(\\dfrac{2(\\overline{Y}_m - \\overline{X}_n)}{\\sqrt{\\frac{1}{m} + \\frac{1}{n}}} > 1.96\\Biggr)$ \n",
        "\n",
        "*a fórmula para esse teste provém de um intervalo de 95% de confiança conservador utilizando o método conservativo*.\n",
        "\n",
        "Como temos que apenas as transações de saque e de transeferência podem ser consideradas fraudes, vamos aplicar o teste apenas nessas duas ocasiões."
      ]
    },
    {
      "cell_type": "code",
      "metadata": {
        "id": "RB6PIFzy33b5"
      },
      "source": [
        "test3Df = df[df[\"type\"].isin([\"CASH_OUT\", \"TRANSFER\"])][[\"nameOrig\", \"isFraud\"]]\n",
        "test3Df = test3Df.groupby(\"nameOrig\").sum()"
      ],
      "execution_count": 19,
      "outputs": []
    },
    {
      "cell_type": "code",
      "metadata": {
        "id": "O1e0MYrQ36_G"
      },
      "source": [
        "def test3(df):\n",
        "  atLeastOne= df.query(\"isFraud > 0\")\n",
        "  pStart = atLeastOne.size / df.size\n",
        "  atLeastTwo = atLeastOne.query(\"isFraud > 1\")\n",
        "  pAfter = atLeastTwo.size / atLeastOne.size\n",
        "  result = 2*(pAfter - pStart)/(((1 / df.size) + (1/atLeastOne.size))**0.5)\n",
        "  return result"
      ],
      "execution_count": 20,
      "outputs": []
    },
    {
      "cell_type": "code",
      "metadata": {
        "colab": {
          "base_uri": "https://localhost:8080/"
        },
        "id": "x_jjUC_s38go",
        "outputId": "80b56bb2-d527-4d9c-af91-010d88125b1d"
      },
      "source": [
        "if(test3(test3Df) > 1.96):\n",
        "  print(\"Hipotese nula rejeitada.\")\n",
        "else:\n",
        "  print(\"Hipotese nula falhou em ser rejeitada\")"
      ],
      "execution_count": 21,
      "outputs": [
        {
          "output_type": "stream",
          "text": [
            "Hipotese nula falhou em ser rejeitada\n"
          ],
          "name": "stdout"
        }
      ]
    },
    {
      "cell_type": "markdown",
      "metadata": {
        "id": "G-MzLbfb3-Wl"
      },
      "source": [
        "**A hipótese nula falhou em ser rejeitada**. Contudo, faremos um teste análogo ao último para contas de destinos."
      ]
    },
    {
      "cell_type": "code",
      "metadata": {
        "id": "9j57tAcS4AVR"
      },
      "source": [
        "test3Df = df[df[\"type\"].isin([\"CASH_OUT\", \"TRANSFER\"])][[\"nameDest\", \"isFraud\"]]\n",
        "test3Df = test3Df.groupby(\"nameDest\").sum()"
      ],
      "execution_count": 22,
      "outputs": []
    },
    {
      "cell_type": "code",
      "metadata": {
        "colab": {
          "base_uri": "https://localhost:8080/"
        },
        "id": "YQ6rkA-x4EHc",
        "outputId": "c8473a0d-060f-4630-d4c9-cffe744155b5"
      },
      "source": [
        "if(test3(test3Df) > 1.96):\n",
        "  print(\"Hipotese nula rejeitada.\")\n",
        "else:\n",
        "  print(\"Hipotese nula falhou em ser rejeitada\")"
      ],
      "execution_count": 23,
      "outputs": [
        {
          "output_type": "stream",
          "text": [
            "Hipotese nula falhou em ser rejeitada\n"
          ],
          "name": "stdout"
        }
      ]
    },
    {
      "cell_type": "markdown",
      "metadata": {
        "id": "5gUcxUEy4GxB"
      },
      "source": [
        "**A hipótese nula falhou em ser rejeitada novamente. Portanto o fato de uma origem ou destino já ter se envolvido em uma fraude não aumenta a probabilidade de ocorrências de novas fraudes.**"
      ]
    }
  ]
}